{
 "cells": [
  {
   "cell_type": "code",
   "execution_count": null,
   "metadata": {},
   "outputs": [],
   "source": [
    "#Max accuracy achieved: 98.4848%"
   ]
  },
  {
   "cell_type": "code",
   "execution_count": 42,
   "metadata": {},
   "outputs": [
    {
     "data": {
      "text/plain": [
       "<Figure size 432x288 with 0 Axes>"
      ]
     },
     "metadata": {},
     "output_type": "display_data"
    },
    {
     "data": {
      "image/png": "[encoded data removed]",
      "text/plain": [
       "<Figure size 288x288 with 1 Axes>"
      ]
     },
     "metadata": {},
     "output_type": "display_data"
    }
   ],
   "source": [
    "\n",
    "\n",
    "from sklearn.datasets import load_digits\n",
    "import matplotlib.pyplot as plt \n",
    "\n",
    "digits = load_digits()\n",
    "\n",
    "plt.gray() \n",
    "plt.matshow(digits.images[10]) \n",
    "plt.show()"
   ]
  },
  {
   "cell_type": "code",
   "execution_count": 43,
   "metadata": {},
   "outputs": [
    {
     "name": "stdout",
     "output_type": "stream",
     "text": [
      "2\n"
     ]
    },
    {
     "data": {
      "image/png": "[encoded data removed]",
      "text/plain": [
       "<Figure size 288x288 with 1 Axes>"
      ]
     },
     "metadata": {},
     "output_type": "display_data"
    },
    {
     "name": "stdout",
     "output_type": "stream",
     "text": [
      "3\n"
     ]
    },
    {
     "data": {
      "image/png": "[encoded data removed]",
      "text/plain": [
       "<Figure size 288x288 with 1 Axes>"
      ]
     },
     "metadata": {},
     "output_type": "display_data"
    }
   ],
   "source": [
    "plt.matshow(digits.images[2])\n",
    "print(2)\n",
    "plt.show()\n",
    "\n",
    "plt.matshow(digits.images[3]) \n",
    "print(3)\n",
    "plt.show()"
   ]
  },
  {
   "cell_type": "code",
   "execution_count": 44,
   "metadata": {},
   "outputs": [
    {
     "data": {
      "text/plain": [
       "array([[ 0.,  0.,  1.,  9., 15., 11.,  0.,  0.],\n",
       "       [ 0.,  0., 11., 16.,  8., 14.,  6.,  0.],\n",
       "       [ 0.,  2., 16., 10.,  0.,  9.,  9.,  0.],\n",
       "       [ 0.,  1., 16.,  4.,  0.,  8.,  8.,  0.],\n",
       "       [ 0.,  4., 16.,  4.,  0.,  8.,  8.,  0.],\n",
       "       [ 0.,  1., 16.,  5.,  1., 11.,  3.,  0.],\n",
       "       [ 0.,  0., 12., 12., 10., 10.,  0.,  0.],\n",
       "       [ 0.,  0.,  1., 10., 13.,  3.,  0.,  0.]])"
      ]
     },
     "execution_count": 44,
     "metadata": {},
     "output_type": "execute_result"
    }
   ],
   "source": [
    "digits.images[10]"
   ]
  },
  {
   "cell_type": "code",
   "execution_count": 45,
   "metadata": {},
   "outputs": [
    {
     "data": {
      "image/png": "[encoded data removed]",
      "text/plain": [
       "<Figure size 288x288 with 1 Axes>"
      ]
     },
     "metadata": {},
     "output_type": "display_data"
    }
   ],
   "source": [
    "n_samples = len(digits.images)\n",
    "X = digits.images.reshape((n_samples, -1))\n",
    "\n",
    "plt.matshow(digits.images[10]) \n",
    "plt.show()\n",
    "\n",
    "y = digits.target"
   ]
  },
  {
   "cell_type": "code",
   "execution_count": 46,
   "metadata": {},
   "outputs": [],
   "source": [
    "from sklearn.model_selection import train_test_split\n",
    "\n",
    "X_train, X_test, y_train, y_test = train_test_split(X, y, test_size=0.33, random_state=42)"
   ]
  },
  {
   "cell_type": "code",
   "execution_count": 47,
   "metadata": {},
   "outputs": [
    {
     "name": "stdout",
     "output_type": "stream",
     "text": [
      "Test set score: 0.956229\n"
     ]
    }
   ],
   "source": [
    "from sklearn.neural_network import MLPClassifier\n",
    "\n",
    "model=MLPClassifier()\n",
    "\n",
    "\n",
    "model.fit(X_train,y_train)\n",
    "\n",
    "\n",
    "x_test=model.predict(X_test)\n",
    "\n",
    "\n",
    "print(\"Test set score: %f\" % model.score(X_test, y_test))"
   ]
  },
  {
   "cell_type": "code",
   "execution_count": 49,
   "metadata": {},
   "outputs": [
    {
     "name": "stdout",
     "output_type": "stream",
     "text": [
      "Test set score: 0.968013\n"
     ]
    }
   ],
   "source": [
    "#trained twice on same network and same dataset\n",
    "from sklearn.neural_network import MLPClassifier\n",
    "\n",
    "\n",
    "model1=MLPClassifier()\n",
    "\n",
    "\n",
    "model1.fit(X_train,y_train)\n",
    "\n",
    "\n",
    "x_test=model1.predict(X_test)\n",
    "\n",
    " \n",
    "print(\"Test set score: %f\" % model1.score(X_test, y_test))"
   ]
  },
  {
   "cell_type": "code",
   "execution_count": 50,
   "metadata": {},
   "outputs": [
    {
     "name": "stdout",
     "output_type": "stream",
     "text": [
      "Test set score: 0.954545\n"
     ]
    }
   ],
   "source": [
    "model2=MLPClassifier(learning_rate_init=0.002,alpha=0.0001,activation='tanh',hidden_layer_sizes=(150,),max_iter=400,solver='sgd')\n",
    "\n",
    "\n",
    "\n",
    "model2.fit(X_train,y_train)\n",
    "\n",
    "\n",
    "\n",
    "x_test=model2.predict(X_test)\n",
    "\n",
    "\n",
    "print(\"Test set score: %f\" % model2.score(X_test, y_test))"
   ]
  },
  {
   "cell_type": "code",
   "execution_count": 57,
   "metadata": {},
   "outputs": [
    {
     "name": "stdout",
     "output_type": "stream",
     "text": [
      "Test set score: 0.962963\n"
     ]
    }
   ],
   "source": [
    "#trained once\n",
    "model2=MLPClassifier(learning_rate_init=0.002,alpha=0.0001,activation='tanh',hidden_layer_sizes=(150,),max_iter=400,solver='sgd')\n",
    "\n",
    "\n",
    "\n",
    "model2.fit(X_train,y_train)\n",
    "\n",
    "\n",
    "\n",
    "x_test=model2.predict(X_test)\n",
    "\n",
    "\n",
    "print(\"Test set score: %f\" % model2.score(X_test, y_test))"
   ]
  },
  {
   "cell_type": "code",
   "execution_count": 58,
   "metadata": {},
   "outputs": [
    {
     "name": "stdout",
     "output_type": "stream",
     "text": [
      "Test set score: 0.964646\n"
     ]
    }
   ],
   "source": [
    "#trained 2 times\n",
    "model2=MLPClassifier(learning_rate_init=0.002,alpha=0.0001,activation='tanh',hidden_layer_sizes=(150,),max_iter=400,solver='sgd')\n",
    "\n",
    "\n",
    "\n",
    "model2.fit(X_train,y_train)\n",
    "\n",
    "\n",
    "\n",
    "x_test=model2.predict(X_test)\n",
    "\n",
    "\n",
    "print(\"Test set score: %f\" % model2.score(X_test, y_test))"
   ]
  },
  {
   "cell_type": "code",
   "execution_count": 51,
   "metadata": {},
   "outputs": [
    {
     "name": "stdout",
     "output_type": "stream",
     "text": [
      "Test set score: 0.974747\n"
     ]
    }
   ],
   "source": [
    "#trained 3 times\n",
    "model3=MLPClassifier(learning_rate_init=0.002,alpha=0.0001,activation='tanh',hidden_layer_sizes=(350,),max_iter=500,solver='sgd')\n",
    "\n",
    "\n",
    "model3.fit(X_train,y_train)\n",
    "\n",
    "\n",
    "\n",
    "x_test=model3.predict(X_test)\n",
    "\n",
    "\n",
    "print(\"Test set score: %f\" % model3.score(X_test, y_test))"
   ]
  },
  {
   "cell_type": "code",
   "execution_count": 59,
   "metadata": {},
   "outputs": [
    {
     "name": "stdout",
     "output_type": "stream",
     "text": [
      "Test set score: 0.962963\n"
     ]
    }
   ],
   "source": [
    "#trained 5 times\n",
    "model2=MLPClassifier(learning_rate_init=0.002,alpha=0.0001,activation='tanh',hidden_layer_sizes=(150,),max_iter=400,solver='sgd')\n",
    "\n",
    "\n",
    "\n",
    "model2.fit(X_train,y_train)\n",
    "\n",
    "\n",
    "\n",
    "x_test=model2.predict(X_test)\n",
    "\n",
    "\n",
    "print(\"Test set score: %f\" % model2.score(X_test, y_test))"
   ]
  },
  {
   "cell_type": "code",
   "execution_count": 60,
   "metadata": {},
   "outputs": [
    {
     "name": "stdout",
     "output_type": "stream",
     "text": [
      "Test set score: 0.952862\n"
     ]
    }
   ],
   "source": [
    "#trained 6 times\n",
    "model2=MLPClassifier(learning_rate_init=0.002,alpha=0.0001,activation='tanh',hidden_layer_sizes=(150,),max_iter=400,solver='sgd')\n",
    "\n",
    "\n",
    "\n",
    "model2.fit(X_train,y_train)\n",
    "\n",
    "\n",
    "\n",
    "x_test=model2.predict(X_test)\n",
    "\n",
    "\n",
    "print(\"Test set score: %f\" % model2.score(X_test, y_test))"
   ]
  },
  {
   "cell_type": "code",
   "execution_count": 52,
   "metadata": {},
   "outputs": [
    {
     "name": "stdout",
     "output_type": "stream",
     "text": [
      "Test set score: 0.969697\n"
     ]
    }
   ],
   "source": [
    "model4=MLPClassifier(learning_rate_init=0.003,alpha=0.0001,activation='tanh',hidden_layer_sizes=(350,),max_iter=500,solver='sgd')\n",
    "\n",
    "\n",
    "model4.fit(X_train,y_train)\n",
    "\n",
    "\n",
    "\n",
    "x_test=model4.predict(X_test)\n",
    "\n",
    "\n",
    "print(\"Test set score: %f\" % model4.score(X_test, y_test))"
   ]
  },
  {
   "cell_type": "code",
   "execution_count": 54,
   "metadata": {},
   "outputs": [
    {
     "name": "stdout",
     "output_type": "stream",
     "text": [
      "Test set score: 0.978114\n"
     ]
    }
   ],
   "source": [
    "#trained twice with same model with 0.003 and 0.002 lr's\n",
    "model5=MLPClassifier(learning_rate_init=0.002,alpha=0.0001,activation='tanh',hidden_layer_sizes=(350,),max_iter=500,solver='sgd')\n",
    "\n",
    "\n",
    "model5.fit(X_train,y_train)\n",
    "\n",
    "\n",
    "\n",
    "x_test=model5.predict(X_test)\n",
    "\n",
    "\n",
    "print(\"Test set score: %f\" % model5.score(X_test, y_test))"
   ]
  },
  {
   "cell_type": "code",
   "execution_count": 61,
   "metadata": {},
   "outputs": [
    {
     "name": "stdout",
     "output_type": "stream",
     "text": [
      "Test set score: 0.973064\n"
     ]
    }
   ],
   "source": [
    "\n",
    "model6=MLPClassifier(learning_rate_init=0.002,alpha=0.0001,activation='tanh',hidden_layer_sizes=(350,),max_iter=600,solver='sgd')\n",
    "\n",
    "\n",
    "model6.fit(X_train,y_train)\n",
    "\n",
    "\n",
    "\n",
    "x_test=model6.predict(X_test)\n",
    "\n",
    "\n",
    "print(\"Test set score: %f\" % model6.score(X_test, y_test))"
   ]
  },
  {
   "cell_type": "code",
   "execution_count": 62,
   "metadata": {},
   "outputs": [
    {
     "name": "stdout",
     "output_type": "stream",
     "text": [
      "Test set score: 0.973064\n"
     ]
    }
   ],
   "source": [
    "\n",
    "model7=MLPClassifier(learning_rate_init=0.002,alpha=0.0001,activation='tanh',hidden_layer_sizes=(500,),max_iter=700,solver='sgd')\n",
    "\n",
    "\n",
    "model7.fit(X_train,y_train)\n",
    "\n",
    "\n",
    "\n",
    "x_test=model7.predict(X_test)\n",
    "\n",
    "\n",
    "print(\"Test set score: %f\" % model7.score(X_test, y_test))"
   ]
  },
  {
   "cell_type": "code",
   "execution_count": 68,
   "metadata": {},
   "outputs": [
    {
     "name": "stdout",
     "output_type": "stream",
     "text": [
      "Test set score: 0.973064\n"
     ]
    }
   ],
   "source": [
    "\n",
    "model9=MLPClassifier(learning_rate_init=0.002,alpha=0.0001,activation='tanh',hidden_layer_sizes=(500,),shuffle=True,max_iter=700,solver='sgd')\n",
    "\n",
    "\n",
    "model9.fit(X_train,y_train)\n",
    "\n",
    "\n",
    "\n",
    "x_test=model9.predict(X_test)\n",
    "\n",
    "\n",
    "print(\"Test set score: %f\" % model9.score(X_test, y_test))"
   ]
  },
  {
   "cell_type": "code",
   "execution_count": 71,
   "metadata": {},
   "outputs": [
    {
     "name": "stdout",
     "output_type": "stream",
     "text": [
      "Test set score: 0.971380\n"
     ]
    }
   ],
   "source": [
    "\n",
    "model10=MLPClassifier(learning_rate_init=0.002,alpha=0.0005,activation='tanh',hidden_layer_sizes=(500,),shuffle=True,max_iter=700,solver='sgd')\n",
    "\n",
    "\n",
    "model10.fit(X_train,y_train)\n",
    "\n",
    "\n",
    "\n",
    "x_test=model10.predict(X_test)\n",
    "\n",
    "\n",
    "print(\"Test set score: %f\" % model10.score(X_test, y_test))"
   ]
  },
  {
   "cell_type": "code",
   "execution_count": 72,
   "metadata": {},
   "outputs": [
    {
     "name": "stdout",
     "output_type": "stream",
     "text": [
      "Test set score: 0.976431\n"
     ]
    }
   ],
   "source": [
    "\n",
    "model11=MLPClassifier(learning_rate_init=0.002,alpha=0.0005,activation='tanh',hidden_layer_sizes=(500,1000,700),shuffle=True,max_iter=700,solver='sgd')\n",
    "\n",
    "\n",
    "model11.fit(X_train,y_train)\n",
    "\n",
    "\n",
    "\n",
    "x_test=model11.predict(X_test)\n",
    "\n",
    "\n",
    "print(\"Test set score: %f\" % model11.score(X_test, y_test))"
   ]
  },
  {
   "cell_type": "code",
   "execution_count": 73,
   "metadata": {},
   "outputs": [
    {
     "name": "stdout",
     "output_type": "stream",
     "text": [
      "Test set score: 0.978114\n"
     ]
    }
   ],
   "source": [
    "\n",
    "model11=MLPClassifier(learning_rate_init=0.0005,alpha=0.0001,activation='tanh',hidden_layer_sizes=(500,1000,700),shuffle=True,max_iter=1000,solver='sgd')\n",
    "\n",
    "\n",
    "model11.fit(X_train,y_train)\n",
    "\n",
    "\n",
    "\n",
    "x_test=model11.predict(X_test)\n",
    "\n",
    "\n",
    "print(\"Test set score: %f\" % model11.score(X_test, y_test))"
   ]
  },
  {
   "cell_type": "code",
   "execution_count": 75,
   "metadata": {},
   "outputs": [
    {
     "name": "stdout",
     "output_type": "stream",
     "text": [
      "Test set score: 0.951178\n"
     ]
    }
   ],
   "source": [
    "\n",
    "#model12=MLPClassifier(learning_rate_init=0.003,alpha=0.001,activation='relu',hidden_layer_sizes=(500,700,700,100,50),shuffle=True,max_iter=1000,solver='sgd')\n",
    "model12=MLPClassifier(hidden_layer_sizes=(100, ), activation='relu', solver='adam', alpha=0.0001, batch_size='auto', learning_rate='constant', learning_rate_init=0.001, power_t=0.5, max_iter=200, shuffle=True, random_state=None, tol=0.0001, verbose=False, warm_start=False, momentum=0.9, nesterovs_momentum=True, early_stopping=False, validation_fraction=0.1, beta_1=0.9, beta_2=0.999, epsilon=1e-08)\n",
    "\n",
    "\n",
    "model12.fit(X_train,y_train)\n",
    "\n",
    "\n",
    "\n",
    "x_test=model12.predict(X_test)\n",
    "\n",
    "\n",
    "print(\"Test set score: %f\" % model12.score(X_test, y_test))"
   ]
  },
  {
   "cell_type": "code",
   "execution_count": 81,
   "metadata": {},
   "outputs": [
    {
     "name": "stdout",
     "output_type": "stream",
     "text": [
      "Test set score: 0.984848\n"
     ]
    }
   ],
   "source": [
    "#trained for 1200 iterations\n",
    "#model12=MLPClassifier(learning_rate_init=0.003,alpha=0.001,activation='relu',hidden_layer_sizes=(500,700,700,100,50),shuffle=True,max_iter=1000,solver='sgd')\n",
    "model13=MLPClassifier(hidden_layer_sizes=(500, ), activation='relu', solver='adam', alpha=0.0001, batch_size='auto', learning_rate='constant', learning_rate_init=0.001, power_t=0.5, max_iter=200, shuffle=True, random_state=None, tol=0.0001, verbose=False, warm_start=False, momentum=0.9, nesterovs_momentum=True, early_stopping=False, validation_fraction=0.1, beta_1=0.9, beta_2=0.999, epsilon=1e-08)\n",
    "\n",
    "\n",
    "model13.fit(X_train,y_train)\n",
    "\n",
    "\n",
    "\n",
    "x_test=model13.predict(X_test)\n",
    "\n",
    "\n",
    "print(\"Test set score: %f\" % model13.score(X_test, y_test))"
   ]
  },
  {
   "cell_type": "code",
   "execution_count": 82,
   "metadata": {},
   "outputs": [
    {
     "name": "stdout",
     "output_type": "stream",
     "text": [
      "Test set score: 0.978114\n"
     ]
    }
   ],
   "source": [
    "#trained for 1400 iterations\n",
    "#model12=MLPClassifier(learning_rate_init=0.003,alpha=0.001,activation='relu',hidden_layer_sizes=(500,700,700,100,50),shuffle=True,max_iter=1000,solver='sgd')\n",
    "model13=MLPClassifier(hidden_layer_sizes=(500, ), activation='relu', solver='adam', alpha=0.0001, batch_size='auto', learning_rate='constant', learning_rate_init=0.001, power_t=0.5, max_iter=200, shuffle=True, random_state=None, tol=0.0001, verbose=False, warm_start=False, momentum=0.9, nesterovs_momentum=True, early_stopping=False, validation_fraction=0.1, beta_1=0.9, beta_2=0.999, epsilon=1e-08)\n",
    "\n",
    "\n",
    "model13.fit(X_train,y_train)\n",
    "\n",
    "\n",
    "\n",
    "x_test=model13.predict(X_test)\n",
    "\n",
    "\n",
    "print(\"Test set score: %f\" % model13.score(X_test, y_test))"
   ]
  },
  {
   "cell_type": "code",
   "execution_count": 86,
   "metadata": {},
   "outputs": [
    {
     "name": "stdout",
     "output_type": "stream",
     "text": [
      "Test set score: 0.974747\n"
     ]
    }
   ],
   "source": [
    "#trained for 1800 iterations\n",
    "#model12=MLPClassifier(learning_rate_init=0.003,alpha=0.001,activation='relu',hidden_layer_sizes=(500,700,700,100,50),shuffle=True,max_iter=1000,solver='sgd')\n",
    "model13=MLPClassifier(hidden_layer_sizes=(500, ), activation='relu', solver='adam', alpha=0.0001, batch_size='auto', learning_rate='constant', learning_rate_init=0.001, power_t=0.5, max_iter=200, shuffle=True, random_state=None, tol=0.0001, verbose=False, warm_start=False, momentum=0.9, nesterovs_momentum=True, early_stopping=False, validation_fraction=0.1, beta_1=0.9, beta_2=0.999, epsilon=1e-08)\n",
    "\n",
    "\n",
    "model13.fit(X_train,y_train)\n",
    "\n",
    "\n",
    "\n",
    "x_test=model13.predict(X_test)\n",
    "\n",
    "\n",
    "print(\"Test set score: %f\" % model13.score(X_test, y_test))"
   ]
  },
  {
   "cell_type": "code",
   "execution_count": 91,
   "metadata": {},
   "outputs": [
    {
     "name": "stdout",
     "output_type": "stream",
     "text": [
      "Test set score: 0.981481\n"
     ]
    }
   ],
   "source": [
    "#trained for 200 iterations\n",
    "#model12=MLPClassifier(learning_rate_init=0.003,alpha=0.001,activation='relu',hidden_layer_sizes=(500,700,700,100,50),shuffle=True,max_iter=1000,solver='sgd')\n",
    "model15=MLPClassifier(hidden_layer_sizes=(500, 700, 100, 50), activation='relu', solver='adam', alpha=0.0001, batch_size='auto', learning_rate='constant', learning_rate_init=0.001, power_t=0.5, max_iter=200, shuffle=True, random_state=None, tol=0.0001, verbose=False, warm_start=False, momentum=0.9, nesterovs_momentum=True, early_stopping=False, validation_fraction=0.1, beta_1=0.9, beta_2=0.999, epsilon=1e-08)\n",
    "\n",
    "\n",
    "model15.fit(X_train,y_train)\n",
    "\n",
    "\n",
    "\n",
    "x_test=model15.predict(X_test)\n",
    "\n",
    "\n",
    "print(\"Test set score: %f\" % model15.score(X_test, y_test))"
   ]
  },
  {
   "cell_type": "code",
   "execution_count": 93,
   "metadata": {},
   "outputs": [
    {
     "name": "stdout",
     "output_type": "stream",
     "text": [
      "Test set score: 0.971380\n"
     ]
    }
   ],
   "source": [
    "#trained for 600 iterations\n",
    "#model12=MLPClassifier(learning_rate_init=0.003,alpha=0.001,activation='relu',hidden_layer_sizes=(500,700,700,100,50),shuffle=True,max_iter=1000,solver='sgd')\n",
    "model15=MLPClassifier(hidden_layer_sizes=(500, 700, 100, 50), activation='relu', solver='adam', alpha=0.0001, batch_size='auto', learning_rate='constant', learning_rate_init=0.001, power_t=0.5, max_iter=200, shuffle=True, random_state=None, tol=0.0001, verbose=False, warm_start=False, momentum=0.9, nesterovs_momentum=True, early_stopping=False, validation_fraction=0.1, beta_1=0.9, beta_2=0.999, epsilon=1e-08)\n",
    "\n",
    "\n",
    "model15.fit(X_train,y_train)\n",
    "\n",
    "\n",
    "\n",
    "x_test=model15.predict(X_test)\n",
    "\n",
    "\n",
    "print(\"Test set score: %f\" % model15.score(X_test, y_test))"
   ]
  },
  {
   "cell_type": "code",
   "execution_count": 94,
   "metadata": {},
   "outputs": [
    {
     "name": "stdout",
     "output_type": "stream",
     "text": [
      "Test set score: 0.984848\n"
     ]
    }
   ],
   "source": [
    "#trained for 1800 iterations\n",
    "#model12=MLPClassifier(learning_rate_init=0.003,alpha=0.001,activation='relu',hidden_layer_sizes=(500,700,700,100,50),shuffle=True,max_iter=1000,solver='sgd')\n",
    "model16=MLPClassifier(hidden_layer_sizes=(300, 500, 1000, 700, 100, 50), activation='tanh', solver='adam', alpha=0.001, batch_size='auto', learning_rate='constant', learning_rate_init=0.001, power_t=0.5, max_iter=200, shuffle=True, random_state=None, tol=0.0001, verbose=False, warm_start=False, momentum=0.9, nesterovs_momentum=True, early_stopping=False, validation_fraction=0.1, beta_1=0.9, beta_2=0.999, epsilon=1e-08)\n",
    "\n",
    "\n",
    "model16.fit(X_train,y_train)\n",
    "\n",
    "\n",
    "\n",
    "x_test=model16.predict(X_test)\n",
    "\n",
    "\n",
    "print(\"Test set score: %f\" % model16.score(X_test, y_test))"
   ]
  },
  {
   "cell_type": "code",
   "execution_count": 95,
   "metadata": {},
   "outputs": [
    {
     "name": "stdout",
     "output_type": "stream",
     "text": [
      "Test set score: 0.983165\n"
     ]
    }
   ],
   "source": [
    "#trained for 1800 iterations\n",
    "#model12=MLPClassifier(learning_rate_init=0.003,alpha=0.001,activation='relu',hidden_layer_sizes=(500,700,700,100,50),shuffle=True,max_iter=1000,solver='sgd')\n",
    "model16=MLPClassifier(hidden_layer_sizes=(300, 500, 1000, 700, 100, 50), activation='tanh', solver='adam', alpha=0.001, batch_size='auto', learning_rate='constant', learning_rate_init=0.001, power_t=0.5, max_iter=200, shuffle=True, random_state=None, tol=0.0001, verbose=False, warm_start=False, momentum=0.9, nesterovs_momentum=True, early_stopping=False, validation_fraction=0.1, beta_1=0.9, beta_2=0.999, epsilon=1e-08)\n",
    "\n",
    "\n",
    "model16.fit(X_train,y_train)\n",
    "\n",
    "\n",
    "\n",
    "x_test=model16.predict(X_test)\n",
    "\n",
    "\n",
    "print(\"Test set score: %f\" % model16.score(X_test, y_test))"
   ]
  },
  {
   "cell_type": "code",
   "execution_count": 96,
   "metadata": {},
   "outputs": [
    {
     "name": "stdout",
     "output_type": "stream",
     "text": [
      "Test set score: 0.981481\n"
     ]
    }
   ],
   "source": [
    "#trained for 1800 iterations\n",
    "#model12=MLPClassifier(learning_rate_init=0.003,alpha=0.001,activation='relu',hidden_layer_sizes=(500,700,700,100,50),shuffle=True,max_iter=1000,solver='sgd')\n",
    "model17=MLPClassifier(hidden_layer_sizes=(300, 500, 1000, 700, 100, 50), activation='tanh', solver='adam', alpha=0.001, batch_size='auto', learning_rate='constant', learning_rate_init=0.001, power_t=0.5, max_iter=400, shuffle=True, random_state=None, tol=0.0001, verbose=False, warm_start=False, momentum=0.9, nesterovs_momentum=True, early_stopping=False, validation_fraction=0.1, beta_1=0.9, beta_2=0.999, epsilon=1e-08)\n",
    "\n",
    "\n",
    "model17.fit(X_train,y_train)\n",
    "\n",
    "\n",
    "\n",
    "x_test=model17.predict(X_test)\n",
    "\n",
    "\n",
    "print(\"Test set score: %f\" % model17.score(X_test, y_test))"
   ]
  },
  {
   "cell_type": "code",
   "execution_count": 104,
   "metadata": {},
   "outputs": [
    {
     "name": "stdout",
     "output_type": "stream",
     "text": [
      "Test set score for 600 iterations: 0.983165\n",
      "Test set score for 1200 iterations: 0.981481\n",
      "Test set score for 1800 iterations: 0.983165\n",
      "Test set score for 2400 iterations: 0.978114\n"
     ]
    }
   ],
   "source": [
    "#trained for 1800 iterations\n",
    "#model12=MLPClassifier(learning_rate_init=0.003,alpha=0.001,activation='relu',hidden_layer_sizes=(500,700,700,100,50),shuffle=True,max_iter=1000,solver='sgd')\n",
    "model19=MLPClassifier(hidden_layer_sizes=(300, 500, 1000, 700, 100, 50), activation='tanh', solver='adam', alpha=0.001, batch_size='auto', learning_rate='constant', learning_rate_init=0.001, power_t=0.5, max_iter=600, shuffle=True, random_state=None, tol=0.0001, verbose=False, warm_start=False, momentum=0.9, nesterovs_momentum=True, early_stopping=False, validation_fraction=0.1, beta_1=0.9, beta_2=0.999, epsilon=1e-08)\n",
    "\n",
    "for i in range(4):\n",
    "\n",
    "    model19.fit(X_train,y_train)\n",
    "\n",
    "\n",
    "\n",
    "    x_test=model19.predict(X_test)\n",
    "\n",
    "\n",
    "    print(\"Test set score for %d iterations: %f\" % ((i+1)*600, model19.score(X_test, y_test)))"
   ]
  },
  {
   "cell_type": "code",
   "execution_count": 106,
   "metadata": {},
   "outputs": [
    {
     "name": "stdout",
     "output_type": "stream",
     "text": [
      "Test set score for 200 iterations: 0.936027\n"
     ]
    }
   ],
   "source": [
    "#trained for 1800 iterations\n",
    "#model12=MLPClassifier(learning_rate_init=0.003,alpha=0.001,activation='relu',hidden_layer_sizes=(500,700,700,100,50),shuffle=True,max_iter=1000,solver='sgd')\n",
    "model21=MLPClassifier(hidden_layer_sizes=(300, 500, 1300, 1000, 700, 100, 50), activation='relu', solver='adam', alpha=0.005, batch_size='auto', learning_rate='constant', learning_rate_init=0.001, power_t=0.5, max_iter=200, shuffle=True, random_state=None, tol=0.0001, verbose=False, warm_start=False, momentum=0.9, nesterovs_momentum=True, early_stopping=False, validation_fraction=0.1, beta_1=0.9, beta_2=0.999, epsilon=1e-08)\n",
    "\n",
    "for i in range(1):\n",
    "\n",
    "    model21.fit(X_train,y_train)\n",
    "\n",
    "\n",
    "\n",
    "    x_test=model21.predict(X_test)\n",
    "\n",
    "\n",
    "    print(\"Test set score for %d iterations: %f\" % ((i+1)*200, model21.score(X_test, y_test)))"
   ]
  },
  {
   "cell_type": "code",
   "execution_count": null,
   "metadata": {},
   "outputs": [],
   "source": []
  },
  {
   "cell_type": "code",
   "execution_count": null,
   "metadata": {},
   "outputs": [],
   "source": []
  },
  {
   "cell_type": "code",
   "execution_count": 89,
   "metadata": {},
   "outputs": [
    {
     "name": "stdout",
     "output_type": "stream",
     "text": [
      "Test set score: 0.974747\n"
     ]
    }
   ],
   "source": [
    "#trained for 400 iterations\n",
    "model14=MLPClassifier(learning_rate_init=0.001,alpha=0.0005,activation='relu',hidden_layer_sizes=(500,700,700,100,50),shuffle=True,max_iter=200,solver='sgd')\n",
    "#model14=MLPClassifier(hidden_layer_sizes=(500, ), activation='relu', solver='adam', alpha=0.0001, batch_size='auto', learning_rate='constant', learning_rate_init=0.001, power_t=0.5, max_iter=200, shuffle=True, random_state=None, tol=0.0001, verbose=False, warm_start=False, momentum=0.9, nesterovs_momentum=True, early_stopping=False, validation_fraction=0.1, beta_1=0.9, beta_2=0.999, epsilon=1e-08)\n",
    "\n",
    "\n",
    "model14.fit(X_train,y_train)\n",
    "\n",
    "\n",
    "\n",
    "x_test=model14.predict(X_test)\n",
    "\n",
    "\n",
    "print(\"Test set score: %f\" % model14.score(X_test, y_test))"
   ]
  },
  {
   "cell_type": "code",
   "execution_count": 90,
   "metadata": {},
   "outputs": [
    {
     "name": "stdout",
     "output_type": "stream",
     "text": [
      "Test set score: 0.962963\n"
     ]
    }
   ],
   "source": [
    "#trained for 600 iterations\n",
    "model14=MLPClassifier(learning_rate_init=0.001,alpha=0.0005,activation='relu',hidden_layer_sizes=(500,700,700,100,50),shuffle=True,max_iter=200,solver='sgd')\n",
    "#model14=MLPClassifier(hidden_layer_sizes=(500, ), activation='relu', solver='adam', alpha=0.0001, batch_size='auto', learning_rate='constant', learning_rate_init=0.001, power_t=0.5, max_iter=200, shuffle=True, random_state=None, tol=0.0001, verbose=False, warm_start=False, momentum=0.9, nesterovs_momentum=True, early_stopping=False, validation_fraction=0.1, beta_1=0.9, beta_2=0.999, epsilon=1e-08)\n",
    "\n",
    "\n",
    "model14.fit(X_train,y_train)\n",
    "\n",
    "\n",
    "\n",
    "x_test=model14.predict(X_test)\n",
    "\n",
    "\n",
    "print(\"Test set score: %f\" % model14.score(X_test, y_test))"
   ]
  },
  {
   "cell_type": "code",
   "execution_count": null,
   "metadata": {},
   "outputs": [],
   "source": [
    "#trained for 1800 iterations\n",
    "#model12=MLPClassifier(learning_rate_init=0.003,alpha=0.001,activation='relu',hidden_layer_sizes=(500,700,700,100,50),shuffle=True,max_iter=1000,solver='sgd')\n",
    "model13=MLPClassifier(hidden_layer_sizes=(500, 700, 100, 50), activation='relu', solver='adam', alpha=0.0001, batch_size='auto', learning_rate='constant', learning_rate_init=0.001, power_t=0.5, max_iter=200, shuffle=True, random_state=None, tol=0.0001, verbose=False, warm_start=False, momentum=0.9, nesterovs_momentum=True, early_stopping=False, validation_fraction=0.1, beta_1=0.9, beta_2=0.999, epsilon=1e-08)\n",
    "\n",
    "\n",
    "model13.fit(X_train,y_train)\n",
    "\n",
    "\n",
    "\n",
    "x_test=model13.predict(X_test)\n",
    "\n",
    "\n",
    "print(\"Test set score: %f\" % model13.score(X_test, y_test))"
   ]
  }
 ],
 "metadata": {
  "kernelspec": {
   "display_name": "Python 3",
   "language": "python",
   "name": "python3"
  },
  "language_info": {
   "codemirror_mode": {
    "name": "ipython",
    "version": 3
   },
   "file_extension": ".py",
   "mimetype": "text/x-python",
   "name": "python",
   "nbconvert_exporter": "python",
   "pygments_lexer": "ipython3",
   "version": "3.5.5"
  }
 },
 "nbformat": 4,
 "nbformat_minor": 2
}
