{
 "cells": [
  {
   "cell_type": "code",
   "execution_count": null,
   "metadata": {},
   "outputs": [],
   "source": [
    "n = 12\n",
    "inf = 2**16\n",
    "a = [inf]*(n+1)\n",
    "\n",
    "for i in range(n,0,-1):\n",
    "    j = 1\n",
    "    while j*j < i:\n",
    "        a[i-j*j] = min(a[i]+1, a[i-j*j])\n",
    "        \n",
    "    j+=1\n",
    "        \n",
    "a[0]        "
   ]
  },
  {
   "cell_type": "code",
   "execution_count": null,
   "metadata": {},
   "outputs": [],
   "source": [
    "n = 99\n",
    "inf = 2**16\n",
    "a = [inf]*(n+1)\n",
    "\n",
    "\n",
    "def ans(i,a):\n",
    "    j = 1\n",
    "    while j*j <= i:\n",
    "        a[i] = min(a[i], ans(i-j*j, a)+1)\n",
    "        \n",
    "        j+=1\n",
    "        \n",
    "    if i == 0:\n",
    "        a[i]=0\n",
    "\n",
    "    return a[i]\n",
    "    \n",
    "print(ans(n,a))\n",
    "print(a)        "
   ]
  },
  {
   "cell_type": "code",
   "execution_count": null,
   "metadata": {},
   "outputs": [],
   "source": []
  }
 ],
 "metadata": {
  "kernelspec": {
   "display_name": "Python 3",
   "language": "python",
   "name": "python3"
  },
  "language_info": {
   "codemirror_mode": {
    "name": "ipython",
    "version": 3
   },
   "file_extension": ".py",
   "mimetype": "text/x-python",
   "name": "python",
   "nbconvert_exporter": "python",
   "pygments_lexer": "ipython3",
   "version": "3.5.5"
  }
 },
 "nbformat": 4,
 "nbformat_minor": 2
}
