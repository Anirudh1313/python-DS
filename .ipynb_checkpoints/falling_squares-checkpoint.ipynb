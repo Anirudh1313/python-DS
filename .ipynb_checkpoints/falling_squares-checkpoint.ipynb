{
 "cells": [
  {
   "cell_type": "code",
   "execution_count": null,
   "metadata": {},
   "outputs": [],
   "source": [
    "#falling squares\n",
    "\n",
    "import heapq\n",
    "\n",
    "inp = [(1,1), (1,1), (1.5,1), (3,5), (2,1)]\n",
    "\n",
    "def emat(p,q):\n",
    "    ql = q[1]\n",
    "    qr = q[1]+q[2]\n",
    "    pl = p[0]\n",
    "    pr = p[0]+p[1]\n",
    "    \n",
    "    if pl==ql or pr==qr:\n",
    "        return True\n",
    "    else:\n",
    "        return False\n",
    "    \n",
    "def match(p,q):\n",
    "    ql = q[1]\n",
    "    qr = q[1]+q[2]\n",
    "    pl = p[0]\n",
    "    pr = p[0]+p[1]\n",
    "    \n",
    "    if ql<pl<qr or pl<ql<pr:\n",
    "        return True\n",
    "    else:\n",
    "        return False\n",
    "    \n",
    "# def equal(p,q):\n",
    "#     ql = q[1]\n",
    "#     qr = q[1]+q[2]\n",
    "#     pl = p[0]\n",
    "#     pr = p[0]+p[1]\n",
    "    \n",
    "#     if pl==qr or ql==pr:\n",
    "#         return True\n",
    "#     else:\n",
    "#         return False\n",
    "    \n",
    "queue = []\n",
    "heapq.heapify(queue)\n",
    "\n",
    "for p in inp:\n",
    "    x = 0\n",
    "    queue.sort()\n",
    "    for q in queue:\n",
    "        print(queue, p)\n",
    "        if match(p,q):\n",
    "            heapq.heappush(queue,(q[0]-p[1], p[0], p[1]))\n",
    "            #print(queue)\n",
    "            x = 1\n",
    "            break\n",
    "#         elif emat(p,q):\n",
    "#             heapq.heappush(queue,(q[0]-p[1], p[0], p[1]))\n",
    "#             queue.remove(q)\n",
    "#             #print(queue)\n",
    "#             x = 1\n",
    "#             break\n",
    "#         elif equal(p,q):\n",
    "#             x = 1\n",
    "#             break\n",
    "    if x == 0:\n",
    "        heapq.heappush(queue,(-p[1], p[0], p[1]))\n",
    "        \n",
    "        \n",
    "print(queue)\n",
    "\n",
    "# queue.sort(key=lambda x:x[1])\n",
    "res = []\n",
    "print(queue)\n",
    "mx = 0\n",
    "for q in queue:\n",
    "    mx = max(mx,-q[0])\n",
    "    res.append(mx)\n",
    "\n",
    "res"
   ]
  },
  {
   "cell_type": "code",
   "execution_count": 39,
   "metadata": {},
   "outputs": [
    {
     "ename": "ValueError",
     "evalue": "math domain error",
     "output_type": "error",
     "traceback": [
      "\u001b[0;31m---------------------------------------------------------------------------\u001b[0m",
      "\u001b[0;31mValueError\u001b[0m                                Traceback (most recent call last)",
      "\u001b[0;32m<ipython-input-39-3b923a1528c1>\u001b[0m in \u001b[0;36m<module>\u001b[0;34m()\u001b[0m\n\u001b[1;32m      1\u001b[0m \u001b[0;32mimport\u001b[0m \u001b[0mmath\u001b[0m\u001b[0;34m\u001b[0m\u001b[0m\n\u001b[0;32m----> 2\u001b[0;31m \u001b[0mmath\u001b[0m\u001b[0;34m.\u001b[0m\u001b[0matanh\u001b[0m\u001b[0;34m(\u001b[0m\u001b[0;36m100\u001b[0m\u001b[0;34m)\u001b[0m\u001b[0;34m\u001b[0m\u001b[0m\n\u001b[0m",
      "\u001b[0;31mValueError\u001b[0m: math domain error"
     ]
    }
   ],
   "source": []
  },
  {
   "cell_type": "code",
   "execution_count": null,
   "metadata": {},
   "outputs": [],
   "source": []
  }
 ],
 "metadata": {
  "kernelspec": {
   "display_name": "Python 3",
   "language": "python",
   "name": "python3"
  },
  "language_info": {
   "codemirror_mode": {
    "name": "ipython",
    "version": 3
   },
   "file_extension": ".py",
   "mimetype": "text/x-python",
   "name": "python",
   "nbconvert_exporter": "python",
   "pygments_lexer": "ipython3",
   "version": "3.5.5"
  }
 },
 "nbformat": 4,
 "nbformat_minor": 2
}
