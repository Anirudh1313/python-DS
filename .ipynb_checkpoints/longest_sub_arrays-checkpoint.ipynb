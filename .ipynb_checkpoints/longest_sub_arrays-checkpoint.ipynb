{
 "cells": [
  {
   "cell_type": "code",
   "execution_count": 5,
   "metadata": {},
   "outputs": [
    {
     "name": "stdout",
     "output_type": "stream",
     "text": [
      "[1, 3, 5] 9\n"
     ]
    }
   ],
   "source": [
    "#longest consecutive subarray with sum = 0\n",
    "l = [1,3,5,-3,-5,4,0,-11]\n",
    "\n",
    "mx = 0\n",
    "f = []\n",
    "for i in range(len(l)-1,-1,-1):\n",
    "    sm = 0\n",
    "    for j in range(i,len(l)):\n",
    "        sm+=l[j]\n",
    "        if mx <= sm:\n",
    "            mx = sm\n",
    "            f = l[i:j+1]\n",
    "            \n",
    "print(f,mx)"
   ]
  },
  {
   "cell_type": "code",
   "execution_count": 11,
   "metadata": {},
   "outputs": [
    {
     "name": "stdout",
     "output_type": "stream",
     "text": [
      "[3, 5, -3, -5] 0\n"
     ]
    }
   ],
   "source": [
    "l = [1,3,5,-3,-5,4,0,-11]\n",
    "k = 0\n",
    "mx = abs(k-l[0])\n",
    "diff = 0\n",
    "f = []\n",
    "for i in range(len(l)-1,-1,-1):\n",
    "    sm = 0\n",
    "    for j in range(i,len(l)):\n",
    "        sm+=l[j]\n",
    "        diff = abs(k-sm)\n",
    "        if diff <= mx:\n",
    "            mx = diff\n",
    "            f = l[i:j+1]\n",
    "            \n",
    "print(f,mx)"
   ]
  },
  {
   "cell_type": "code",
   "execution_count": 8,
   "metadata": {},
   "outputs": [
    {
     "name": "stdout",
     "output_type": "stream",
     "text": [
      "5 0 [(5, 1), (4, 2), (3, 5), (3, 5), (3, 5), (2, 8), (2, 8), (2, 8), (1, None)]\n"
     ]
    },
    {
     "data": {
      "text/plain": [
       "[-5, -4, 3, 4, 5]"
      ]
     },
     "execution_count": 8,
     "metadata": {},
     "output_type": "execute_result"
    }
   ],
   "source": [
    "#longest increasing sub elements\n",
    "\n",
    "a = [-5,-4,3,-3,-5,4,0,-11,5]\n",
    "k = [None]*len(a)\n",
    "k[-1] = (1,None)\n",
    "\n",
    "mx = 0\n",
    "ind = 0\n",
    "for i in range(len(a)-2, -1,-1):\n",
    "    if a[i]<=a[i+1]:\n",
    "        k[i] = (k[i+1][0]+1,i+1)\n",
    "    else:\n",
    "        j = i+2\n",
    "        while j < len(a) and a[j] < a[i]:\n",
    "            j+=1\n",
    "            \n",
    "        if j < len(a):\n",
    "            k[i] = (k[j][0]+1,j)\n",
    "        else:\n",
    "            k[i] = (1,None)\n",
    "            \n",
    "    if mx < k[i][0]:\n",
    "        mx = k[i][0]\n",
    "        ind = i\n",
    "        \n",
    "print(mx,i, k)\n",
    "f = k[i][1]\n",
    "fin = [a[i]]\n",
    "while f != None:\n",
    "    fin.append(a[f])\n",
    "    f = k[f][1]\n",
    "    \n",
    "fin"
   ]
  },
  {
   "cell_type": "code",
   "execution_count": 47,
   "metadata": {},
   "outputs": [
    {
     "data": {
      "text/plain": [
       "[1, 2, 3, 5, 4, 5, 5, 45, 9, 8, 7, 4, 5, 6, 4]"
      ]
     },
     "execution_count": 47,
     "metadata": {},
     "output_type": "execute_result"
    }
   ],
   "source": [
    "a =[[1,2,3,5,4],[4,5,6,4,5],[7,8,9,45,5]]\n",
    "def all_t(visited):\n",
    "    for i in visited:\n",
    "        for c in i:\n",
    "            if c == False:\n",
    "                return False\n",
    "    return True\n",
    "\n",
    "def spiral(a,visited,fin,i=0,j=0):\n",
    "    fin.append(a[i][j])\n",
    "    #print(a[i][j])\n",
    "    \n",
    "    visited[i][j] = True\n",
    "    #print(visited)\n",
    "    \n",
    "    #if all_t(visited):\n",
    "    #   return fin\n",
    "    \n",
    "    if j < len(a[0])-1 and visited[i][j+1] == False and (i==0 or (visited[i-1][j] == True and visited[i][j-1]==True)):\n",
    "        spiral(a,visited,fin,i,j+1)\n",
    "        \n",
    "    if i < len(a)-1 and visited[i+1][j] == False and (j==len(a[0])-1 or (visited[i][j+1] == True and visited[i-1][j] == True)):\n",
    "        spiral(a,visited,fin,i+1,j)\n",
    "        \n",
    "    if j > 0 and visited[i][j-1] == False and (i==len(a)-1 or (visited[i][j+1] == True and visited[i+1][j] == True)):\n",
    "        spiral(a,visited,fin,i,j-1)\n",
    "        \n",
    "    if i > 0 and visited[i-1][j] == False and (j==0 or (visited[i][j-1] == True and visited[i+1][j] == True)):\n",
    "        spiral(a,visited,fin,i-1,j)\n",
    "        \n",
    "    return fin\n",
    "    \n",
    "visited = [[False]*len(a[0]) for j in a]\n",
    "fin = []\n",
    "f = spiral(a,visited,fin)\n",
    "f"
   ]
  },
  {
   "cell_type": "code",
   "execution_count": 48,
   "metadata": {},
   "outputs": [
    {
     "name": "stdout",
     "output_type": "stream",
     "text": [
      "yes\n"
     ]
    }
   ],
   "source": [
    "visited1 = [[False]*len(a[0]) for j in a]\n",
    "#visited1[0][0] = True\n",
    "if any(visited1) == True:\n",
    "    print('yes')"
   ]
  },
  {
   "cell_type": "code",
   "execution_count": 58,
   "metadata": {},
   "outputs": [
    {
     "name": "stdout",
     "output_type": "stream",
     "text": [
      "weight filter:  [[2.14, 1.83, 0.09, -0.9], [1.1, 0.9, -0.45, -1.2], [1.63, -0.03, 1.15, 1.95], [0.18, 0.35, 0.87, 0.63]]\n",
      "\n",
      "map:  {0: [(0.09, 0, 2), (-0.03, 2, 1), (0.18, 3, 0)], 1: [(1.1, 1, 0), (0.9, 1, 1), (1.15, 2, 2), (0.87, 3, 2)], 2: [(2.14, 0, 0), (1.83, 0, 1), (1.95, 2, 3)], -0.5: [(-0.45, 1, 2)], 1.5: [(1.63, 2, 0)], -1: [(-0.9, 0, 3), (-1.2, 1, 3)], 0.5: [(0.35, 3, 1), (0.63, 3, 3)]}\n",
      "\n",
      "converted weights after weight sharing:  [[2, 2, 0, -1], [1, 1, -0.5, -1], [1.5, 0, 1, 2], [0, 0.5, 1, 0.5]]\n"
     ]
    }
   ],
   "source": [
    "#weight clustering to do weight sharing in neural nets\n",
    "#considering a CNN and a matrix filter.\n",
    "import math\n",
    "\n",
    "k = [[2.14,1.83,0.09,-0.9], [1.1,0.9,-0.45,-1.2], [1.63,-0.03,1.15,1.95], [0.18,0.35,0.87,0.63]]\n",
    "\n",
    "c = {}\n",
    "print(\"weight filter: \", k)\n",
    "#clustering all the decimal weights into closest interger or value(interger+0.5)\n",
    "def cluster(c,k,i,j):\n",
    "    x = 0\n",
    "    for i1 in c:\n",
    "        diff = abs(i1-k)\n",
    "        if diff <= 0.25:\n",
    "            c[i1].append((k,i,j))   # value, index1, index2\n",
    "            x = 1\n",
    "            \n",
    "    if x == 0:\n",
    "        intc = math.floor(k)\n",
    "        d = abs(intc-k)\n",
    "        clc = intc\n",
    "        if d > 0.3 and d < 0.7:\n",
    "            clc += 0.5 \n",
    "        elif d >= 0.7 and d < 1:\n",
    "            clc += 1\n",
    "            \n",
    "        c[clc] = [(k,i,j)]\n",
    "        \n",
    "    \n",
    "#using a map to do this clustering  \n",
    "for i in range(len(k)):\n",
    "    for j in range(len(k[0])):\n",
    "        cluster(c,k[i][j],i,j)\n",
    "\n",
    "print(\"\\nmap: \", c)\n",
    "k1 = [[None]*len(k[0]) for j in k]\n",
    "\n",
    "\n",
    "for i in c:\n",
    "    for l in c[i]:\n",
    "        ind1 = l[1]\n",
    "        ind2 = l[2]\n",
    "        #print(ind1,ind2)\n",
    "        k1[ind1][ind2] = i\n",
    "        \n",
    "print(\"\\nconverted weights after weight sharing: \", k1)"
   ]
  },
  {
   "cell_type": "code",
   "execution_count": 78,
   "metadata": {},
   "outputs": [
    {
     "data": {
      "text/plain": [
       "6"
      ]
     },
     "execution_count": 78,
     "metadata": {},
     "output_type": "execute_result"
    }
   ],
   "source": [
    "\n",
    "#longest consecutive sub array in O(n)\n",
    "#solution 1\n",
    "a = [7,100,5,10,8,20,6,30,9]\n",
    "\n",
    "a1 = set(a)\n",
    "mx = 0\n",
    "for i in a:\n",
    "    if i-1 in a1:\n",
    "        c = i-2\n",
    "        count = 1\n",
    "        a1.remove(i-1)\n",
    "        while c in a1:\n",
    "            a1.remove(c)\n",
    "            c-=1\n",
    "            count+=1\n",
    "            \n",
    "        c=i\n",
    "        while c in a1:\n",
    "            a1.remove(c)\n",
    "            c+=1\n",
    "            count+=1\n",
    "            \n",
    "        mx = max(mx,count)\n",
    "        \n",
    "mx"
   ]
  },
  {
   "cell_type": "code",
   "execution_count": 79,
   "metadata": {},
   "outputs": [
    {
     "data": {
      "text/plain": [
       "3"
      ]
     },
     "execution_count": 79,
     "metadata": {},
     "output_type": "execute_result"
    }
   ],
   "source": [
    "#longest consecutive sub array in O(n)\n",
    "#solution 2\n",
    "\n",
    "a = [100,5,10,8,20,6,30,9]\n",
    "a1 = set(a)\n",
    "mx = 0\n",
    "\n",
    "for i in a:\n",
    "    count = 1\n",
    "    if i-1 not in a1:\n",
    "        c = i+1\n",
    "        \n",
    "        while c in a1:\n",
    "            c+=1\n",
    "            count+=1\n",
    "        \n",
    "        mx = max(mx,count)\n",
    "\n",
    "mx"
   ]
  },
  {
   "cell_type": "code",
   "execution_count": 82,
   "metadata": {},
   "outputs": [
    {
     "data": {
      "text/plain": [
       "array([[[1., 1., 1., 1.],\n",
       "        [1., 1., 1., 1.],\n",
       "        [1., 1., 1., 1.]],\n",
       "\n",
       "       [[1., 1., 1., 1.],\n",
       "        [1., 1., 1., 1.],\n",
       "        [1., 1., 1., 1.]],\n",
       "\n",
       "       [[1., 1., 1., 1.],\n",
       "        [1., 1., 1., 1.],\n",
       "        [1., 1., 1., 1.]]])"
      ]
     },
     "execution_count": 82,
     "metadata": {},
     "output_type": "execute_result"
    }
   ],
   "source": [
    "import numpy as np\n",
    "import cv2 as cv\n",
    "\n",
    "img = cv.imread(\"/Users/anirudh/Desktop/dp.png\", cv.IMREAD_COLOR)\n",
    "a = np.ones((3,4,3))\n",
    "np.rollaxis(a,2)"
   ]
  },
  {
   "cell_type": "code",
   "execution_count": null,
   "metadata": {},
   "outputs": [],
   "source": []
  }
 ],
 "metadata": {
  "kernelspec": {
   "display_name": "Python 3",
   "language": "python",
   "name": "python3"
  },
  "language_info": {
   "codemirror_mode": {
    "name": "ipython",
    "version": 3
   },
   "file_extension": ".py",
   "mimetype": "text/x-python",
   "name": "python",
   "nbconvert_exporter": "python",
   "pygments_lexer": "ipython3",
   "version": "3.5.5"
  }
 },
 "nbformat": 4,
 "nbformat_minor": 2
}
