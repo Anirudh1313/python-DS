{
 "cells": [
  {
   "cell_type": "code",
   "execution_count": 1,
   "metadata": {},
   "outputs": [
    {
     "name": "stdout",
     "output_type": "stream",
     "text": [
      "weight filter:  [[2.14, 1.83, 0.09, -0.9], [1.1, 0.9, -0.45, -1.2], [1.63, -0.03, 1.15, 1.95], [0.18, 0.35, 0.87, 0.63]]\n",
      "\n",
      "map:  {0: [(0.09, 0, 2), (-0.03, 2, 1), (0.18, 3, 0)], 1: [(1.1, 1, 0), (0.9, 1, 1), (1.15, 2, 2), (0.87, 3, 2)], 2: [(2.14, 0, 0), (1.83, 0, 1), (1.95, 2, 3)], -0.5: [(-0.45, 1, 2)], 1.5: [(1.63, 2, 0)], -1: [(-0.9, 0, 3), (-1.2, 1, 3)], 0.5: [(0.35, 3, 1), (0.63, 3, 3)]}\n",
      "\n",
      "converted weights after weight sharing:  [[2, 2, 0, -1], [1, 1, -0.5, -1], [1.5, 0, 1, 2], [0, 0.5, 1, 0.5]]\n"
     ]
    }
   ],
   "source": [
    "#weight clustering to do weight sharing in neural nets\n",
    "#considering a CNN and a matrix filter.\n",
    "import math\n",
    "\n",
    "k = [[2.14,1.83,0.09,-0.9], [1.1,0.9,-0.45,-1.2], [1.63,-0.03,1.15,1.95], [0.18,0.35,0.87,0.63]]\n",
    "\n",
    "c = {}\n",
    "print(\"weight filter: \", k)\n",
    "#clustering all the decimal weights into closest interger or value(interger+0.5)\n",
    "def cluster(c,k,i,j):\n",
    "    x = 0\n",
    "    for i1 in c:\n",
    "        diff = abs(i1-k)\n",
    "        if diff <= 0.25:\n",
    "            c[i1].append((k,i,j))   # value, index1, index2\n",
    "            x = 1\n",
    "            \n",
    "    if x == 0:\n",
    "        intc = math.floor(k)\n",
    "        d = abs(intc-k)\n",
    "        clc = intc\n",
    "        if d > 0.3 and d < 0.7:\n",
    "            clc += 0.5 \n",
    "        elif d >= 0.7 and d < 1:\n",
    "            clc += 1\n",
    "            \n",
    "        c[clc] = [(k,i,j)]\n",
    "        \n",
    "    \n",
    "#using a map to do this clustering, can be converted without using one too \n",
    "for i in range(len(k)):\n",
    "    for j in range(len(k[0])):\n",
    "        cluster(c,k[i][j],i,j)\n",
    "\n",
    "print(\"\\nmap: \", c)\n",
    "k1 = [[None]*len(k[0]) for j in k]\n",
    "\n",
    "\n",
    "for i in c:\n",
    "    for l in c[i]:\n",
    "        ind1 = l[1]\n",
    "        ind2 = l[2]\n",
    "        #print(ind1,ind2)\n",
    "        k1[ind1][ind2] = i\n",
    "        \n",
    "print(\"\\nconverted weights after weight sharing: \", k1)"
   ]
  },
  {
   "cell_type": "code",
   "execution_count": 3,
   "metadata": {},
   "outputs": [
    {
     "data": {
      "text/plain": [
       "[[2, 2, 0, -1], [1, 1, -0.5, -1], [1.5, 0, 1, 2], [0, 0.5, 1, 0.5]]"
      ]
     },
     "execution_count": 3,
     "metadata": {},
     "output_type": "execute_result"
    }
   ],
   "source": [
    "k = [[2.14,1.83,0.09,-0.9], [1.1,0.9,-0.45,-1.2], [1.63,-0.03,1.15,1.95], [0.18,0.35,0.87,0.63]]\n",
    "\n",
    "for i in range(len(k)):\n",
    "    for j in range(len(k[0])):\n",
    "        k1 = k[i][j]\n",
    "        intc = math.floor(k1)\n",
    "        d = abs(intc-k1)\n",
    "        clc = intc\n",
    "        if d > 0.3 and d < 0.7:\n",
    "            clc += 0.5 \n",
    "        elif d >= 0.7 and d < 1:\n",
    "            clc += 1\n",
    "            \n",
    "        k[i][j]=clc\n",
    "k"
   ]
  },
  {
   "cell_type": "code",
   "execution_count": null,
   "metadata": {},
   "outputs": [],
   "source": [
    "#Can also use k-means clustering. Which is much efficient to cluster weights, but little expensive"
   ]
  }
 ],
 "metadata": {
  "kernelspec": {
   "display_name": "Python 3",
   "language": "python",
   "name": "python3"
  },
  "language_info": {
   "codemirror_mode": {
    "name": "ipython",
    "version": 3
   },
   "file_extension": ".py",
   "mimetype": "text/x-python",
   "name": "python",
   "nbconvert_exporter": "python",
   "pygments_lexer": "ipython3",
   "version": "3.5.5"
  }
 },
 "nbformat": 4,
 "nbformat_minor": 2
}
