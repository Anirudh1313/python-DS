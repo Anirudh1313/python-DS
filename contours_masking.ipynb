{
 "cells": [
  {
   "cell_type": "code",
   "execution_count": 1,
   "metadata": {},
   "outputs": [],
   "source": [
    "import cv2\n",
    "\n",
    "import numpy as np\n"
   ]
  },
  {
   "cell_type": "code",
   "execution_count": 2,
   "metadata": {},
   "outputs": [
    {
     "name": "stdout",
     "output_type": "stream",
     "text": [
      "3.1.0\n"
     ]
    }
   ],
   "source": [
    "print(cv2.__version__)\n"
   ]
  },
  {
   "cell_type": "code",
   "execution_count": 3,
   "metadata": {},
   "outputs": [
    {
     "name": "stdout",
     "output_type": "stream",
     "text": [
      "contours\n",
      "[[378. 949.]\n",
      " [375. 940.]\n",
      " [368. 934.]\n",
      " [359. 932.]\n",
      " [350. 937.]\n",
      " [345. 955.]\n",
      " [351. 962.]\n",
      " [359. 966.]\n",
      " [368. 964.]\n",
      " [376. 958.]]\n"
     ]
    }
   ],
   "source": [
    "import cv2, numpy\n",
    "contour = numpy.array( [ \n",
    "(378, 949), (375, 940), (368, 934), \n",
    "(359, 932), (350, 937), (345, 955), \n",
    "(351, 962), (359, 966), (368, 964), \n",
    "(376, 958) ], numpy.float32 )\n",
    "cv2.isContourConvex(contour)\n",
    "print ('contours')\n",
    "print (contour)"
   ]
  },
  {
   "cell_type": "code",
   "execution_count": 4,
   "metadata": {
    "scrolled": true
   },
   "outputs": [],
   "source": [
    "from __future__ import print_function\n",
    "\n",
    "import cv2\n",
    "import numpy as np\n",
    "  \n",
    "img = cv2.imread('/Users/anirudh/Desktop/ss.png')  #'0' to read color as gray scale \n",
    "img = cv2.resize(img, (0,0), fx=1, fy=1)\n",
    "\n",
    "img_blr0 = cv2.GaussianBlur(img, (3, 3), 2, 3) #5 by 5 kernel, sigma 3 for x and y\n",
    "img_blr1 = cv2.GaussianBlur(img, (5, 5), 3, 3) #5 by 5 kernel, sigma 3 for x and y\n",
    "img_blr2 = cv2.GaussianBlur(img, (7, 7), 3, 7) \n",
    "img_blr3 = cv2.GaussianBlur(img, (19, 19), 23, 31)\n",
    "img_blr4 = cv2.GaussianBlur(img, (21,21), 36, 47)\n",
    "\n",
    "#cv2.namedWindow('gaussian1',0)\n",
    "#cv2.resizeWindow('gaussian1',256,256)\n",
    "cv2.imshow('gaussian1',img_blr1)\n",
    "cv2.imshow('gaussian2',img_blr2)\n",
    "cv2.imshow('gaussian3',img_blr3)\n",
    "cv2.imshow('gaussian4',img_blr4) \n",
    "\n",
    "#img_diff \n",
    "img_diff1 = img - img_blr1 \n",
    "img_diff2 = img - img_blr2 \n",
    "img_diff3 = img - img_blr3\n",
    "img_diff4 = img - img_blr4\n",
    "\n",
    "cv2.imshow('diff1', img_diff1) \n",
    "cv2.imshow('diff2', img_diff2)\n",
    "cv2.imshow('diff3', img_diff3)\n",
    "cv2.imshow('diff4', img_diff4)\n",
    "\n",
    "#img_gray = cv2.cvtColor(img, cv2.COLOR_BGR2GRAY)\n",
    "img_gray = cv2.cvtColor(img, cv2.COLOR_BGR2GRAY)\n",
    "cv2.imshow('gray image', img_gray)"
   ]
  },
  {
   "cell_type": "code",
   "execution_count": 5,
   "metadata": {},
   "outputs": [],
   "source": [
    "ret,thresh = cv2.threshold(img_gray,200,255,0) #threshold=220\n",
    "cv2.imshow('thresholded binary',thresh)"
   ]
  },
  {
   "cell_type": "code",
   "execution_count": 6,
   "metadata": {},
   "outputs": [
    {
     "name": "stdout",
     "output_type": "stream",
     "text": [
      "contours\n"
     ]
    }
   ],
   "source": [
    "_,contours,hierarchy = cv2.findContours(thresh, cv2.RETR_TREE, cv2.CHAIN_APPROX_SIMPLE)\n",
    "contours = [cv2.approxPolyDP(cnt, 3, True) for cnt in contours]\n",
    "print ('contours')\n",
    "#print (contours) \n",
    "\n",
    "epsilon = 0.001*cv2.arcLength(contours[0],True) \n",
    "approx = cv2.approxPolyDP(contours[0],epsilon,True) "
   ]
  },
  {
   "cell_type": "code",
   "execution_count": 7,
   "metadata": {},
   "outputs": [],
   "source": [
    "#hull = cv2.convexHull(cnt)\n",
    "cv2.drawContours(img, contours, -1, (128,255,255),3) #draw contours on original image\n",
    "#1st argument: source image\n",
    "#2nd argument: contours as a Python list\n",
    "#3rd argument: index of contours for individual contour. \n",
    "#4-5-6:        color,\n",
    "#7th argument: thickness.\n",
    "\n",
    "#cv2.drawContours(img, hull, -1, (0,0,255),3)\n",
    "cv2.imshow('findContours',img) \n",
    "\n"
   ]
  },
  {
   "cell_type": "code",
   "execution_count": null,
   "metadata": {},
   "outputs": [
    {
     "name": "stdout",
     "output_type": "stream",
     "text": [
      "[cnt]\n",
      "number of contours = 2\n",
      "background = [[[  1   1]]\n",
      "\n",
      " [[  1 533]]\n",
      "\n",
      " [[533 533]]\n",
      "\n",
      " [[533   1]]]\n",
      "{'m30': 495164493004.4, 'nu02': 0.1271540087319533, 'm10': 6323073.333333333, 'nu03': -0.020351231777656756, 'm02': 1956632878.6666665, 'nu21': -0.005974825524097533, 'm00': 24120.0, 'm20': 1737951860.6666665, 'm03': 586141899067.0, 'm01': 6738672.666666666, 'mu20': 80354166.6902523, 'mu02': 73974947.13762689, 'm12': 494037617711.3333, 'nu11': -0.06243860863799846, 'm11': 1730222139.3333333, 'mu11': -36325184.07720637, 'nu20': 0.1381191174624602, 'mu12': 1402206097.9410172, 'mu30': -2570483862.9780884, 'mu03': -1838797730.7303467, 'nu30': -0.028449302499093096, 'm21': 465965756651.06665, 'mu21': -539844257.843998, 'nu12': 0.015519173654791782}\n",
      "\n",
      "contours object [array([[[312, 113]],\n",
      "\n",
      "       [[364, 270]],\n",
      "\n",
      "       [[214, 420]],\n",
      "\n",
      "       [[229, 367]],\n",
      "\n",
      "       [[ 96, 270]],\n",
      "\n",
      "       [[260, 269]]], dtype=int32)]\n",
      "\n",
      "pixelpoints  mask\n",
      "[[113 312]\n",
      " [114 312]\n",
      " [115 311]\n",
      " ...\n",
      " [419 214]\n",
      " [419 215]\n",
      " [420 214]]\n",
      "\n",
      "minMaxValLoc\n",
      "minVal = 121.0\n",
      "maxVal = 255.0\n",
      "MinLocation = (306, 135)\n",
      "minLocation = (267, 247)\n",
      "\n",
      "mean = (228.77759204142373, 176.20683328576672, 25.57002487055082, 0.0)\n"
     ]
    }
   ],
   "source": [
    "\n",
    "#ellipse = cv2.fitEllipse(cnt)\n",
    "#cv2.ellipse('EllipsCountours',img) \n",
    "\n",
    "mask = np.zeros(thresh.shape,np.uint8)\n",
    "cv2.drawContours(mask,contours[0],0,255,-1)\n",
    "pixelpoints = np.transpose(np.nonzero(mask))\n",
    "print ('[cnt]')\n",
    "print(\"number of contours =\", len(contours))\n",
    "print (\"background =\", contours[0])\n",
    "\n",
    "cnt = contours[1]\n",
    "M = cv2.moments(cnt)\n",
    "print (M)\n",
    "\n",
    "x,y,w,h = cv2.boundingRect(contours[1])\n",
    "cv2.rectangle(img, (x,y), (x+w, y+h), (0,0,255), 2)\n",
    "\n",
    "\n",
    "\n",
    "cv2.imshow(\"brect\", img)\n",
    "\n",
    "#minized rectangle\n",
    "Rect = cv2.minAreaRect(cnt)\n",
    "box = cv2.boxPoints(Rect)\n",
    "box = np.int0(box)\n",
    "cv2.drawContours(img, [box], 0, (0,255,0), 2)\n",
    "\n",
    "cv2.imshow(\"mArect\", img)\n",
    "\n",
    "#circle\n",
    "(x,y),radius = cv2.minEnclosingCircle(cnt)\n",
    "center = (int(x),int(y))\n",
    "radius = int(radius)\n",
    "cv2.circle(img,center,radius,(0,255,0),2)\n",
    "\n",
    "ellipse = cv2.fitEllipse(cnt)\n",
    "cv2.ellipse(img,ellipse,(0,255,0),2)\n",
    "\n",
    "cv2.imshow(\"circle\", img)\n",
    "\n",
    "#fit line\n",
    "rows,cols = img.shape[:2]\n",
    "[vx,vy,x,y] = cv2.fitLine(cnt, cv2.DIST_L2,0,0.01,0.01)\n",
    "lefty = int((-x*vy/vx) + y)\n",
    "righty = int(((cols-x)*vy/vx)+y)\n",
    "cv2.line(img,(cols-1,righty),(0,lefty),(0,255,0),2)\n",
    "\n",
    "cv2.imshow(\"line\", img)\n",
    "\n",
    "#contour on the masked image\n",
    "mask = np.zeros(img_gray.shape,np.uint8)\n",
    "cv2.drawContours(mask,[cnt],0,255, -1)\n",
    "print(\"\\ncontours object\", [cnt])\n",
    "\n",
    "#pixel points in a contour\n",
    "pixelpoints1 = np.transpose(np.nonzero(mask))\n",
    "print ('\\npixelpoints  mask') \n",
    "print (pixelpoints1)\n",
    "\n",
    "cv2.imshow(\"mask1\", mask)\n",
    "\n",
    "\n",
    "min_val, max_val, min_loc, max_loc = cv2.minMaxLoc(img_gray,mask = mask)\n",
    "print(\"\\nminMaxValLoc\")\n",
    "print(\"minVal =\",min_val)\n",
    "print(\"maxVal =\", max_val)\n",
    "print(\"MinLocation =\", min_loc)\n",
    "print(\"minLocation =\", max_loc)\n",
    "\n",
    "mean_val = cv2.mean(img,mask = mask)\n",
    "\n",
    "print(\"\\nmean =\", mean_val)\n",
    "\n",
    "cv2.circle(img_gray, min_loc, 5, (0,122,0), 2)\n",
    "cv2.circle(img_gray, max_loc, 5, (0,255,0), 2)\n",
    "cv2.imshow(\"min_loc_max_loc_ImgGray\", img_gray)\n",
    "\n",
    "cv2.waitKey(0)\n",
    "cv2.destroyAllWindows()"
   ]
  },
  {
   "cell_type": "code",
   "execution_count": null,
   "metadata": {},
   "outputs": [],
   "source": []
  },
  {
   "cell_type": "code",
   "execution_count": null,
   "metadata": {},
   "outputs": [],
   "source": []
  },
  {
   "cell_type": "code",
   "execution_count": null,
   "metadata": {},
   "outputs": [],
   "source": []
  }
 ],
 "metadata": {
  "kernelspec": {
   "display_name": "Python 3",
   "language": "python",
   "name": "python3"
  },
  "language_info": {
   "codemirror_mode": {
    "name": "ipython",
    "version": 3
   },
   "file_extension": ".py",
   "mimetype": "text/x-python",
   "name": "python",
   "nbconvert_exporter": "python",
   "pygments_lexer": "ipython3",
   "version": "3.5.5"
  }
 },
 "nbformat": 4,
 "nbformat_minor": 2
}
