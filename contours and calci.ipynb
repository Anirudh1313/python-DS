{
 "cells": [
  {
   "cell_type": "code",
   "execution_count": 1,
   "metadata": {},
   "outputs": [
    {
     "ename": "error",
     "evalue": "/Users/jenkins/miniconda/1/x64/conda-bld/conda_1486587097465/work/opencv-3.1.0/modules/imgproc/src/imgwarp.cpp:3229: error: (-215) ssize.area() > 0 in function resize\n",
     "output_type": "error",
     "traceback": [
      "\u001b[0;31m---------------------------------------------------------------------------\u001b[0m",
      "\u001b[0;31merror\u001b[0m                                     Traceback (most recent call last)",
      "\u001b[0;32m<ipython-input-1-9e93c9a292bb>\u001b[0m in \u001b[0;36m<module>\u001b[0;34m()\u001b[0m\n\u001b[1;32m      4\u001b[0m \u001b[0;34m\u001b[0m\u001b[0m\n\u001b[1;32m      5\u001b[0m \u001b[0mimg\u001b[0m \u001b[0;34m=\u001b[0m \u001b[0mcv2\u001b[0m\u001b[0;34m.\u001b[0m\u001b[0mimread\u001b[0m\u001b[0;34m(\u001b[0m\u001b[0;34m'/Users/anirudh/Desktop/1trak.jpg'\u001b[0m\u001b[0;34m)\u001b[0m  \u001b[0;31m#'0' to read color as gray scale \\\u001b[0m\u001b[0;34m\u001b[0m\u001b[0m\n\u001b[0;32m----> 6\u001b[0;31m \u001b[0mimg\u001b[0m \u001b[0;34m=\u001b[0m \u001b[0mcv2\u001b[0m\u001b[0;34m.\u001b[0m\u001b[0mresize\u001b[0m\u001b[0;34m(\u001b[0m\u001b[0mimg\u001b[0m\u001b[0;34m,\u001b[0m \u001b[0;34m(\u001b[0m\u001b[0;36m0\u001b[0m\u001b[0;34m,\u001b[0m\u001b[0;36m0\u001b[0m\u001b[0;34m)\u001b[0m\u001b[0;34m,\u001b[0m \u001b[0mfx\u001b[0m\u001b[0;34m=\u001b[0m\u001b[0;36m1\u001b[0m\u001b[0;34m,\u001b[0m \u001b[0mfy\u001b[0m\u001b[0;34m=\u001b[0m\u001b[0;36m1\u001b[0m\u001b[0;34m)\u001b[0m\u001b[0;34m\u001b[0m\u001b[0m\n\u001b[0m\u001b[1;32m      7\u001b[0m \u001b[0;34m\u001b[0m\u001b[0m\n\u001b[1;32m      8\u001b[0m \u001b[0mimg_blr0\u001b[0m \u001b[0;34m=\u001b[0m \u001b[0mcv2\u001b[0m\u001b[0;34m.\u001b[0m\u001b[0mGaussianBlur\u001b[0m\u001b[0;34m(\u001b[0m\u001b[0mimg\u001b[0m\u001b[0;34m,\u001b[0m \u001b[0;34m(\u001b[0m\u001b[0;36m3\u001b[0m\u001b[0;34m,\u001b[0m \u001b[0;36m3\u001b[0m\u001b[0;34m)\u001b[0m\u001b[0;34m,\u001b[0m \u001b[0;36m2\u001b[0m\u001b[0;34m,\u001b[0m \u001b[0;36m3\u001b[0m\u001b[0;34m)\u001b[0m \u001b[0;31m#5 by 5 kernel, sigma 3 for x and y\\\u001b[0m\u001b[0;34m\u001b[0m\u001b[0m\n",
      "\u001b[0;31merror\u001b[0m: /Users/jenkins/miniconda/1/x64/conda-bld/conda_1486587097465/work/opencv-3.1.0/modules/imgproc/src/imgwarp.cpp:3229: error: (-215) ssize.area() > 0 in function resize\n"
     ]
    }
   ],
   "source": [
    "\n",
    "import cv2\n",
    "import numpy as np\n",
    "\n",
    "img = cv2.imread('/Users/anirudh/Desktop/1trak.jpg')  #'0' to read color as gray scale \\\n",
    "img = cv2.resize(img, (0,0), fx=1, fy=1)\n",
    "\n",
    "img_blr0 = cv2.GaussianBlur(img, (3, 3), 2, 3) #5 by 5 kernel, sigma 3 for x and y\\\n",
    "img_blr1 = cv2.GaussianBlur(img, (5, 5), 3, 3) #5 by 5 kernel, sigma 3 for x and y\\\n",
    "img_blr2 = cv2.GaussianBlur(img, (7, 7), 3, 7) \n",
    "img_blr3 = cv2.GaussianBlur(img, (19, 19), 23, 31)\n",
    "img_blr4 = cv2.GaussianBlur(img, (21,21), 36, 47)\n",
    "\n",
    "#cv2.namedWindow('gaussian1',0)\\\n",
    "#cv2.resizeWindow('gaussian1',256,256)\\\n",
    "cv2.imshow('gaussian1',img_blr1)\n",
    "cv2.imshow('gaussian2',img_blr2)\n",
    "cv2.imshow('gaussian3',img_blr3)\n",
    "cv2.imshow('gaussian4',img_blr4) \n",
    "\n",
    "#img_diff \\\n",
    "img_diff1 = img - img_blr1 \n",
    "img_diff2 = img - img_blr2 \n",
    "img_diff3 = img - img_blr3\n",
    "img_diff4 = img - img_blr4\n",
    "\n",
    "cv2.imshow('diff1', img_diff1) \n",
    "cv2.imshow('diff2', img_diff2)\n",
    "cv2.imshow('diff3', img_diff3)\n",
    "cv2.imshow('diff4', img_diff4)\n",
    "\n",
    "#img_gray = cv2.cvtColor(img, cv2.COLOR_BGR2GRAY)\n",
    "img_gray = cv2.cvtColor(img, cv2.COLOR_BGR2GRAY)\n",
    "cv2.imshow('gray image', img_gray)\n",
    "\n",
    "ret,thresh = cv2.threshold(img_gray,200,255,0) #threshold=220\n",
    "cv2.imshow('thresholded binary',thresh)\n",
    "\n",
    "_,contours,hierarchy = cv2.findContours(thresh, cv2.RETR_TREE, cv2.CHAIN_APPROX_SIMPLE)\n",
    "contours = [cv2.approxPolyDP(cnt, 3, True) for cnt in contours]\n",
    "print ('contours')\n",
    "#print (contours)\n",
    "\n",
    "epsilon = 0.001*cv2.arcLength(contours[0],True) \n",
    "approx = cv2.approxPolyDP(contours[0],epsilon,True) \n",
    "\n",
    "#hull = cv2.convexHull(cnt)\n",
    "cv2.drawContours(img, contours, -1, (128,255,255),3) #draw contours on original image\\\n",
    "#1st argument: source image\n",
    "#2nd argument: contours as a Python list\\\n",
    "#3rd argument: index of contours for individual contour. \\\n",
    "#4-5-6:        color,\\\n",
    "#7th argument: thickness.\\\n",
    "\n",
    "#cv2.drawContours(img, hull, -1, (0,0,255),3)\\\n",
    "cv2.imshow('findContours',img) \n",
    "\n",
    "\n",
    "# new code addition\\\n",
    "\n",
    "\n",
    "#ellipse = cv2.fitEllipse(cnt)\\\n",
    "#cv2.ellipse('EllipsCountours',img) \\\n",
    "\n",
    "mask = np.zeros(thresh.shape,np.uint8)\n",
    "\n",
    "for cnt in contours:\n",
    "    cv2.drawContours(mask,cnt,0,255,-1)\n",
    "    pixelpoints = np.transpose(np.nonzero(mask))\n",
    "    print ('[cnt]')\n",
    "    print(\"number of contours =\", len(contours))\n",
    "    print (\"background =\", cnt)\n",
    "\n",
    "    M = cv2.moments(cnt)\n",
    "    print (M)\n",
    "\n",
    "    x,y,w,h = cv2.boundingRect(cnt)\n",
    "    cv2.rectangle(img, (x,y), (x+w, y+h), (0,0,255), 2)\n",
    "\n",
    "    #minized rectangle\\\n",
    "    Rect = cv2.minAreaRect(cnt)\n",
    "    box = cv2.boxPoints(Rect)\n",
    "    box = np.int0(box)\n",
    "    cv2.drawContours(img, [box], 0, (0,255,0), 2)\n",
    "\n",
    "    #circle\\\n",
    "    (x,y),radius = cv2.minEnclosingCircle(cnt)\n",
    "    center = (int(x),int(y))\n",
    "    radius = int(radius)\n",
    "    cv2.circle(img,center,radius,(0,255,0),2)\n",
    "\n",
    "    #ellipse = cv2.fitEllipse(cnt)\n",
    "    #cv2.ellipse(img,ellipse,(0,255,0),2)\n",
    "\n",
    "\n",
    "    #fit line\\\n",
    "    rows,cols = img.shape[:2]\n",
    "    [vx,vy,x,y] = cv2.fitLine(cnt, cv2.DIST_L2,0,0.01,0.01)\n",
    "    lefty = int((-x*vy/vx) + y)\n",
    "    righty = int(((cols-x)*vy/vx)+y)\n",
    "    cv2.line(img,(cols-1,righty),(0,lefty),(0,255,0),2)\n",
    "\n",
    "\n",
    "#contour on the masked image\\\n",
    "    mask = np.zeros(img_gray.shape,np.uint8)\n",
    "    cv2.drawContours(mask,[cnt],0,255, -1)\n",
    "    print(\"\\\\ncontours object\", [cnt])\n",
    "\n",
    "#pixel points in a contour\\\n",
    "    pixelpoints1 = np.transpose(np.nonzero(mask))\n",
    "    print ('\\\\npixelpoints  mask') \n",
    "    print (pixelpoints1)\n",
    "\n",
    "cv2.imshow(\"line\", img)\n",
    "cv2.imshow(\"mask1\", mask)\n",
    "\n",
    "\n",
    "min_val, max_val, min_loc, max_loc = cv2.minMaxLoc(img_gray,mask = mask)\n",
    "print(\"\\\\nminMaxValLoc\")\n",
    "print(\"minVal =\",min_val)\n",
    "print(\"maxVal =\", max_val)\n",
    "print(\"MinLocation =\", min_loc)\n",
    "print(\"minLocation =\", max_loc)\n",
    "\n",
    "mean_val = cv2.mean(img,mask = mask)\n",
    "\n",
    "print(\"\\\\nmean =\", mean_val)\n",
    "\n",
    "cv2.circle(img_gray, min_loc, 5, (0,122,0), 2)\n",
    "cv2.circle(img_gray, max_loc, 5, (0,255,0), 2)\n",
    "cv2.imshow(\"min_loc_max_loc_ImgGray\", img_gray)\n",
    "\n",
    "cv2.waitKey(0)\n",
    "cv2.destroyAllWindows()\n"
   ]
  },
  {
   "cell_type": "code",
   "execution_count": null,
   "metadata": {},
   "outputs": [
    {
     "name": "stdout",
     "output_type": "stream",
     "text": [
      "contours\n",
      "[cnt]\n",
      "number of contours = 1\n",
      "background = [[[32 32]]\n",
      "\n",
      " [[32 95]]\n",
      "\n",
      " [[96 95]]\n",
      "\n",
      " [[96 74]]\n",
      "\n",
      " [[64 73]]\n",
      "\n",
      " [[65 53]]\n",
      "\n",
      " [[96 53]]\n",
      "\n",
      " [[96 32]]]\n",
      "{'mu03': -130094.8808760643, 'm11': 13098689.333333332, 'nu11': 0.00018486027620330203, 'nu12': 0.005573244017382632, 'm30': 972910093.8000001, 'nu21': -1.2834046981784338e-06, 'mu11': 2119.422327229753, 'm02': 14979900.666666666, 'mu12': 3718137.470973015, 'mu30': 5115236.444013834, 'nu30': 0.007667403675001079, 'm01': 215135.3333333333, 'm21': 868466407.5333333, 'nu02': 0.11433996730874371, 'm10': 206126.0, 'nu20': 0.09738915185525306, 'm00': 3386.0, 'mu21': -856.2114064693451, 'mu02': 1310907.2678348776, 'nu03': -0.0001950036872479839, 'm20': 13664684.333333332, 'm03': 1118225152.4, 'm12': 915903291.0666666, 'mu20': 1116566.236463869}\n",
      "\\ncontours object [array([[[32, 32]],\n",
      "\n",
      "       [[32, 95]],\n",
      "\n",
      "       [[96, 95]],\n",
      "\n",
      "       [[96, 74]],\n",
      "\n",
      "       [[64, 73]],\n",
      "\n",
      "       [[65, 53]],\n",
      "\n",
      "       [[96, 53]],\n",
      "\n",
      "       [[96, 32]]], dtype=int32)]\n",
      "\\npixelpoints  mask\n",
      "[[32 32]\n",
      " [32 33]\n",
      " [32 34]\n",
      " ...\n",
      " [95 94]\n",
      " [95 95]\n",
      " [95 96]]\n",
      "\\nminMaxValLoc\n",
      "minVal = 0.0\n",
      "maxVal = 255.0\n",
      "MinLocation = (65, 54)\n",
      "minLocation = (32, 32)\n",
      "\\nmean = (198.7021156558533, 255.0, 214.21438645980254, 0.0)\n"
     ]
    }
   ],
   "source": [
    "from __future__ import print_function\n",
    "\n",
    "import cv2\n",
    "import numpy as np\n",
    "\n",
    "img = np.zeros((256,256,3), np.uint8)\n",
    "\n",
    "for i in range(22):\n",
    "    img = cv2.line(img,(32,32+i),(96,32+i),(255, 255, 255),1)\n",
    "    \n",
    "for i in range(20):\n",
    "    img = cv2.line(img,(32,54+i),(64,54+i),(255, 255, 255),1)\n",
    "\n",
    "for i in range(22):\n",
    "    img = cv2.line(img,(32,74+i),(96,74+i),(255, 255, 255),1)\n",
    "\n",
    "iimg_blr0 = cv2.GaussianBlur(img, (3, 3), 2, 3) #5 by 5 kernel, sigma 3 for x and y\\\n",
    "img_blr1 = cv2.GaussianBlur(img, (5, 5), 3, 3) #5 by 5 kernel, sigma 3 for x and y\\\n",
    "img_blr2 = cv2.GaussianBlur(img, (7, 7), 3, 7) \n",
    "img_blr3 = cv2.GaussianBlur(img, (19, 19), 23, 31)\n",
    "img_blr4 = cv2.GaussianBlur(img, (21,21), 36, 47)\n",
    "\n",
    "#cv2.namedWindow('gaussian1',0)\\\n",
    "#cv2.resizeWindow('gaussian1',256,256)\\\n",
    "cv2.imshow('gaussian1',img_blr1)\n",
    "cv2.imshow('gaussian2',img_blr2)\n",
    "cv2.imshow('gaussian3',img_blr3)\n",
    "cv2.imshow('gaussian4',img_blr4) \n",
    "\n",
    "#img_diff \\\n",
    "img_diff1 = img - img_blr1 \n",
    "img_diff2 = img - img_blr2 \n",
    "img_diff3 = img - img_blr3\n",
    "img_diff4 = img - img_blr4\n",
    "\n",
    "cv2.imshow('diff1', img_diff1) \n",
    "cv2.imshow('diff2', img_diff2)\n",
    "cv2.imshow('diff3', img_diff3)\n",
    "cv2.imshow('diff4', img_diff4)\n",
    "\n",
    "#img_gray = cv2.cvtColor(img, cv2.COLOR_BGR2GRAY)\n",
    "img_gray = cv2.cvtColor(img, cv2.COLOR_BGR2GRAY)\n",
    "cv2.imshow('gray image', img_gray)\n",
    "\n",
    "ret,thresh = cv2.threshold(img_gray,200,255,0) #threshold=220\n",
    "cv2.imshow('thresholded binary',thresh)\n",
    "\n",
    "_,contours,hierarchy = cv2.findContours(thresh, cv2.RETR_TREE, cv2.CHAIN_APPROX_SIMPLE)\n",
    "contours = [cv2.approxPolyDP(cnt, 3, True) for cnt in contours]\n",
    "print ('contours')\n",
    "#print (contours)\n",
    "\n",
    "epsilon = 0.001*cv2.arcLength(contours[0],True) \n",
    "approx = cv2.approxPolyDP(contours[0],epsilon,True) \n",
    "\n",
    "#hull = cv2.convexHull(cnt)\n",
    "cv2.drawContours(img, contours, -1, (128,255,255),3) #draw contours on original image\\\n",
    "#1st argument: source image\n",
    "#2nd argument: contours as a Python list\\\n",
    "#3rd argument: index of contours for individual contour. \\\n",
    "#4-5-6:        color,\\\n",
    "#7th argument: thickness.\\\n",
    "\n",
    "#cv2.drawContours(img, hull, -1, (0,0,255),3)\\\n",
    "cv2.imshow('findContours',img) \n",
    "\n",
    "\n",
    "\n",
    "# new code addition\\\n",
    "\n",
    "\n",
    "#ellipse = cv2.fitEllipse(cnt)\\\n",
    "#cv2.ellipse('EllipsCountours',img) \\\n",
    "\n",
    "mask = np.zeros(thresh.shape,np.uint8)\n",
    "cv2.drawContours(mask,contours[0],0,255,-1)\n",
    "pixelpoints = np.transpose(np.nonzero(mask))\n",
    "print ('[cnt]')\n",
    "print(\"number of contours =\", len(contours))\n",
    "print (\"background =\", contours[0])\n",
    "\n",
    "cnt = contours[0]\n",
    "M = cv2.moments(cnt)\n",
    "print (M)\n",
    "\n",
    "x,y,w,h = cv2.boundingRect(contours[0])\n",
    "cv2.rectangle(img, (x,y), (x+w, y+h), (0,0,255), 2)\n",
    "\n",
    "\n",
    "\n",
    "cv2.imshow(\"brect\", img)\n",
    "\n",
    "#minized rectangle\\\n",
    "Rect = cv2.minAreaRect(cnt)\n",
    "box = cv2.boxPoints(Rect)\n",
    "box = np.int0(box)\n",
    "cv2.drawContours(img, [box], 0, (0,255,0), 2)\n",
    "\n",
    "cv2.imshow(\"mArect\", img)\n",
    "\n",
    "#circle\\\n",
    "(x,y),radius = cv2.minEnclosingCircle(cnt)\n",
    "center = (int(x),int(y))\n",
    "radius = int(radius)\n",
    "cv2.circle(img,center,radius,(0,255,0),2)\n",
    "\n",
    "ellipse = cv2.fitEllipse(cnt)\n",
    "cv2.ellipse(img,ellipse,(0,255,0),2)\n",
    "\n",
    "cv2.imshow(\"circle\", img)\n",
    "\n",
    "#fit line\\\n",
    "rows,cols = img.shape[:2]\n",
    "[vx,vy,x,y] = cv2.fitLine(cnt, cv2.DIST_L2,0,0.01,0.01)\n",
    "lefty = int((-x*vy/vx) + y)\n",
    "righty = int(((cols-x)*vy/vx)+y)\n",
    "cv2.line(img,(cols-1,righty),(0,lefty),(0,255,0),2)\n",
    "\n",
    "cv2.imshow(\"line\", img)\n",
    "\n",
    "#contour on the masked image\\\n",
    "mask = np.zeros(img_gray.shape,np.uint8)\n",
    "cv2.drawContours(mask,[cnt],0,255, -1)\n",
    "print(\"\\\\ncontours object\", [cnt])\n",
    "\n",
    "#pixel points in a contour\\\n",
    "pixelpoints1 = np.transpose(np.nonzero(mask))\n",
    "print ('\\\\npixelpoints  mask') \n",
    "print (pixelpoints1)\n",
    "\n",
    "cv2.imshow(\"mask1\", mask)\n",
    "\n",
    "\n",
    "min_val, max_val, min_loc, max_loc = cv2.minMaxLoc(img_gray,mask = mask)\n",
    "print(\"\\\\nminMaxValLoc\")\n",
    "print(\"minVal =\",min_val)\n",
    "print(\"maxVal =\", max_val)\n",
    "print(\"MinLocation =\", min_loc)\n",
    "print(\"minLocation =\", max_loc)\n",
    "\n",
    "mean_val = cv2.mean(img,mask = mask)\n",
    "\n",
    "print(\"\\\\nmean =\", mean_val)\n",
    "\n",
    "cv2.circle(img_gray, min_loc, 5, (0,122,0), 2)\n",
    "cv2.circle(img_gray, max_loc, 5, (0,255,0), 2)\n",
    "cv2.imshow(\"min_loc_max_loc_ImgGray\", img_gray)\n",
    "\n",
    "cv2.waitKey(0)\n",
    "cv2.destroyAllWindows()\n",
    "\n"
   ]
  },
  {
   "cell_type": "code",
   "execution_count": 3,
   "metadata": {},
   "outputs": [
    {
     "data": {
      "text/plain": [
       "[3, 3, 2, 1, 2, 4, 3, 2, 1, 3, 2, 1, 0]"
      ]
     },
     "execution_count": 3,
     "metadata": {},
     "output_type": "execute_result"
    }
   ],
   "source": [
    "n = 12\n",
    "inf = 2**16\n",
    "a = [inf]*(n+1)\n",
    "a[-1] = 0\n",
    "for i in range(n,0,-1):\n",
    "    j = 1\n",
    "    while j*j <= i:\n",
    "        a[i-j*j] = min(a[i]+1, a[i-j*j])\n",
    "        \n",
    "        j+=1\n",
    "        \n",
    "a"
   ]
  },
  {
   "cell_type": "code",
   "execution_count": 5,
   "metadata": {},
   "outputs": [
    {
     "data": {
      "text/plain": [
       "'aaa'"
      ]
     },
     "execution_count": 5,
     "metadata": {},
     "output_type": "execute_result"
    }
   ],
   "source": [
    "s = \"aaa\"\n",
    "s[:2]+s[2:]"
   ]
  },
  {
   "cell_type": "code",
   "execution_count": 107,
   "metadata": {},
   "outputs": [
    {
     "name": "stdout",
     "output_type": "stream",
     "text": [
      "[-4, 15] 0\n",
      "[-4, 16] 4\n",
      "[21, 18] 4\n"
     ]
    },
    {
     "data": {
      "text/plain": [
       "[-16, 18]"
      ]
     },
     "execution_count": 107,
     "metadata": {},
     "output_type": "execute_result"
    }
   ],
   "source": [
    "s = '1+4-(15+4-(10-4))'\n",
    "#SMALL ERROR AFTER CLOSING BRACKETS\n",
    "\n",
    "def calc(s, sm = 0, i = 0):\n",
    "    \n",
    "    if i == len(s):\n",
    "        return sm\n",
    "    \n",
    "    if s[i] == '(':\n",
    "        return calc(s,0,i+1)\n",
    "        \n",
    "    elif s[i].isdigit():\n",
    "        if len(s)!=i+1:\n",
    "            if i-1>0 and s[i-1]=='-':\n",
    "                return calc(s,-int(s[i]),i+1)\n",
    "            else:\n",
    "                return calc(s,int(s[i]),i+1)\n",
    "        else:\n",
    "            return [int(s[i]),i]\n",
    "        \n",
    "    elif s[i] == '+':\n",
    "        a = calc(s,0,i+1)\n",
    "        if a[1]+1==len(s):\n",
    "            return [sm+a[0], a[1]]\n",
    "        else:\n",
    "            return calc(s,sm+a[0],a[1]+1)\n",
    "\n",
    "    elif s[i] == '-':\n",
    "        a = calc(s,0,i+1)\n",
    "        print(a, sm)\n",
    "        \n",
    "        if i+1 < len(s) and s[i+1].isdigit():    \n",
    "            if a[1]+1==len(s):\n",
    "                return [sm+a[0], a[1]]\n",
    "            else:\n",
    "                return calc(s,sm+a[0],a[1]+1)\n",
    "        else:\n",
    "            if a[1]+1==len(s):\n",
    "                return [sm-a[0], a[1]]\n",
    "            else:\n",
    "                return calc(s,sm-a[0],a[1]+1)\n",
    "        \n",
    "    elif s[i] == ')':\n",
    "        return [sm,i]\n",
    "    \n",
    "calc(s)"
   ]
  },
  {
   "cell_type": "code",
   "execution_count": 7,
   "metadata": {},
   "outputs": [
    {
     "data": {
      "text/plain": [
       "False"
      ]
     },
     "execution_count": 7,
     "metadata": {},
     "output_type": "execute_result"
    }
   ],
   "source": [
    "k = 'a2'\n",
    "k[0].isdigit()"
   ]
  },
  {
   "cell_type": "code",
   "execution_count": 72,
   "metadata": {},
   "outputs": [
    {
     "data": {
      "text/plain": [
       "-1"
      ]
     },
     "execution_count": 72,
     "metadata": {},
     "output_type": "execute_result"
    }
   ],
   "source": [
    "ss = '-'\n",
    "sig = 1 if ss=='+'else -1\n",
    "sig"
   ]
  },
  {
   "cell_type": "code",
   "execution_count": 91,
   "metadata": {},
   "outputs": [
    {
     "data": {
      "text/plain": [
       "65"
      ]
     },
     "execution_count": 91,
     "metadata": {},
     "output_type": "execute_result"
    }
   ],
   "source": [
    "\n",
    "ord('A')"
   ]
  },
  {
   "cell_type": "code",
   "execution_count": 92,
   "metadata": {},
   "outputs": [
    {
     "data": {
      "text/plain": [
       "-3"
      ]
     },
     "execution_count": 92,
     "metadata": {},
     "output_type": "execute_result"
    }
   ],
   "source": [
    "-5//2"
   ]
  },
  {
   "cell_type": "code",
   "execution_count": 93,
   "metadata": {},
   "outputs": [
    {
     "data": {
      "text/plain": [
       "-2"
      ]
     },
     "execution_count": 93,
     "metadata": {},
     "output_type": "execute_result"
    }
   ],
   "source": [
    "-(-(-5)//2)"
   ]
  },
  {
   "cell_type": "code",
   "execution_count": 117,
   "metadata": {},
   "outputs": [
    {
     "data": {
      "text/plain": [
       "15"
      ]
     },
     "execution_count": 117,
     "metadata": {},
     "output_type": "execute_result"
    }
   ],
   "source": [
    "#calci\n",
    "\n",
    "s = '1+4-(15+4-(10-4))+8+15'\n",
    "\n",
    "sign = 1\n",
    "res = 0\n",
    "num = 0\n",
    "stack = []\n",
    "\n",
    "for i in range(len(s)):\n",
    "    if s[i] == '+' or s[i] == '-':\n",
    "        res+=sign*num\n",
    "        sign = -1 if s[i] == '-' else 1\n",
    "        num = 0\n",
    "    elif s[i].isdigit():\n",
    "        num = num*10+int(s[i])\n",
    "        #print(res)\n",
    "    elif s[i] == '(':\n",
    "        stack.append(res)\n",
    "        stack.append(sign)\n",
    "        sign = 1\n",
    "        res = 0\n",
    "    elif s[i] == ')':\n",
    "        res += sign*num\n",
    "        res *= stack.pop()\n",
    "        res += stack.pop()\n",
    "        num = 0\n",
    "\n",
    "res+sign*num\n",
    "                "
   ]
  },
  {
   "cell_type": "code",
   "execution_count": 118,
   "metadata": {},
   "outputs": [
    {
     "name": "stdout",
     "output_type": "stream",
     "text": [
      "[[2, 10], [3, 15], [7, 12], [12, 0], [15, 10], [20, 8], [24, 0]]\n"
     ]
    }
   ],
   "source": [
    "#skyline partly working code. without scary edge cases\n",
    "\n",
    "\n",
    "import heapq\n",
    "a = [[2, 9 ,10], [3, 7 ,15], [5, 12, 12], [15, 20, 10], [19, 24, 8] ]\n",
    "# a = [ [1,-2], [1,3],  [3,5], [3,-3]]\n",
    "#\n",
    "# a.sort(key = lambda x: (x[0], -1*x[2]))\n",
    "# print(a)\n",
    "\n",
    "dic = {a[0][1]: a[0][2]}\n",
    "\n",
    "que = [a[0][1]]\n",
    "heapq.heapify(que)\n",
    "res = [[a[0][0],a[0][2]]]\n",
    "for i in a[1:]:\n",
    "    while que and i[0] > que[0]:\n",
    "        r = heapq.heappop(que)\n",
    "        mx = 0\n",
    "        prev_mx = max(dic.values())\n",
    "\n",
    "        del dic[r]\n",
    "\n",
    "        if dic:\n",
    "            mx = max(dic.values())\n",
    "\n",
    "        if prev_mx != mx:\n",
    "            res.append([r,mx])\n",
    "\n",
    "    if dic:\n",
    "        if i[2] > max(dic.values()):\n",
    "            res.append([i[0],i[2]])\n",
    "\n",
    "    else:\n",
    "        res.append([i[0],i[2]])\n",
    "\n",
    "    heapq.heappush(que, i[1])\n",
    "    dic[i[1]] = i[2]\n",
    "\n",
    "while que:\n",
    "    r = heapq.heappop(que)\n",
    "    mx = 0\n",
    "    prev_mx = max(dic.values())\n",
    "\n",
    "    del dic[r]\n",
    "\n",
    "    if dic:\n",
    "        mx = max(dic.values())\n",
    "\n",
    "    if prev_mx != mx:\n",
    "        res.append([r, mx])\n",
    "\n",
    "#[2 10], [3 15], [7 12], [12 0], [15 10], [20 8], [24, 0]\n",
    "print(res)"
   ]
  },
  {
   "cell_type": "code",
   "execution_count": null,
   "metadata": {},
   "outputs": [],
   "source": []
  },
  {
   "cell_type": "code",
   "execution_count": 125,
   "metadata": {},
   "outputs": [
    {
     "name": "stdout",
     "output_type": "stream",
     "text": [
      "0 1\n",
      "1 2\n",
      "2 3\n",
      "3 100\n",
      "4 4\n",
      "5 200\n"
     ]
    }
   ],
   "source": [
    "s = [100, 4, 200, 1, 3, 2]\n",
    "s = set(s)\n",
    "for i,c in enumerate(s):\n",
    "    print(i,c)"
   ]
  },
  {
   "cell_type": "code",
   "execution_count": null,
   "metadata": {},
   "outputs": [],
   "source": []
  }
 ],
 "metadata": {
  "kernelspec": {
   "display_name": "Python 3",
   "language": "python",
   "name": "python3"
  },
  "language_info": {
   "codemirror_mode": {
    "name": "ipython",
    "version": 3
   },
   "file_extension": ".py",
   "mimetype": "text/x-python",
   "name": "python",
   "nbconvert_exporter": "python",
   "pygments_lexer": "ipython3",
   "version": "3.5.5"
  }
 },
 "nbformat": 4,
 "nbformat_minor": 2
}
