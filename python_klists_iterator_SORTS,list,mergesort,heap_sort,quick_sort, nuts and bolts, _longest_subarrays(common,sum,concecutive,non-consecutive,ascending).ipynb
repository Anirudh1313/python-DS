{
 "cells": [
  {
   "cell_type": "code",
   "execution_count": 5,
   "metadata": {},
   "outputs": [
    {
     "data": {
      "text/plain": [
       "[[0, 0, 0, 0, 0, 0, 0, 0, 0, 0],\n",
       " [1, 1, 1, 1, 1, 1, 1, 1, 1, 1],\n",
       " [2, 2, 2, 2, 2, 2, 2, 2, 2, 2],\n",
       " [3, 3, 3, 3, 3, 3, 3, 3, 3, 3],\n",
       " [4, 4, 4, 4, 4, 4, 4, 4, 4, 4],\n",
       " [5, 5, 5, 5, 5, 5, 5, 5, 5, 5],\n",
       " [6, 6, 6, 6, 6, 6, 6, 6, 6, 6],\n",
       " [7, 7, 7, 7, 7, 7, 7, 7, 7, 7],\n",
       " [8, 8, 8, 8, 8, 8, 8, 8, 8, 8],\n",
       " [9, 9, 9, 9, 9, 9, 9, 9, 9, 9]]"
      ]
     },
     "execution_count": 5,
     "metadata": {},
     "output_type": "execute_result"
    }
   ],
   "source": [
    "k = 1\n",
    "a = [x for x in range(10)]\n",
    "\n",
    "a2 = [[y for x in range(10)] for y in range(10)]\n",
    "\n",
    "a3 = [[0 for x in a2[y]] for y in range(len(a2))]\n",
    "\n",
    "a2\n"
   ]
  },
  {
   "cell_type": "code",
   "execution_count": 6,
   "metadata": {},
   "outputs": [
    {
     "data": {
      "text/plain": [
       "[[0, 1, 2, 3, 4, 5, 6, 7, 8, 9],\n",
       " [0, 1, 2, 3, 4, 5, 6, 7, 8, 9],\n",
       " [0, 1, 2, 3, 4, 5, 6, 7, 8, 9],\n",
       " [0, 1, 2, 3, 4, 5, 6, 7, 8, 9],\n",
       " [0, 1, 2, 3, 4, 5, 6, 7, 8, 9],\n",
       " [0, 1, 2, 3, 4, 5, 6, 7, 8, 9],\n",
       " [0, 1, 2, 3, 4, 5, 6, 7, 8, 9],\n",
       " [0, 1, 2, 3, 4, 5, 6, 7, 8, 9],\n",
       " [0, 1, 2, 3, 4, 5, 6, 7, 8, 9],\n",
       " [0, 1, 2, 3, 4, 5, 6, 7, 8, 9]]"
      ]
     },
     "execution_count": 6,
     "metadata": {},
     "output_type": "execute_result"
    }
   ],
   "source": [
    "#transpose of a matrix\n",
    "\n",
    "for i in range(len(a3)):\n",
    "    for j in range(len(a3[0])):\n",
    "        a3[i][j] = a2[j][i]\n",
    "\n",
    "a3\n"
   ]
  },
  {
   "cell_type": "code",
   "execution_count": 15,
   "metadata": {},
   "outputs": [
    {
     "data": {
      "text/plain": [
       "[[0, 0, 0, 0, 0, 0, 0, 0, 0, 0],\n",
       " [1, 1, 1, 1, 1, 1, 1, 1, 1, 1],\n",
       " [2, 2, 2, 2, 2, 2, 2, 2, 2, 2],\n",
       " [3, 3, 3, 3, 3, 3, 3, 3, 3, 3],\n",
       " [4, 4, 4, 4, 4, 4, 4, 4, 4, 4],\n",
       " [5, 5, 5, 5, 5, 5, 5, 5, 5, 5],\n",
       " [6, 6, 6, 6, 6, 6, 6, 6, 6, 6],\n",
       " [7, 7, 7, 7, 7, 7, 7, 7, 7, 7],\n",
       " [8, 8, 8, 8, 8, 8, 8, 8, 8, 8],\n",
       " [9, 9, 9, 9, 9, 9, 9, 9, 9, 9]]"
      ]
     },
     "execution_count": 15,
     "metadata": {},
     "output_type": "execute_result"
    }
   ],
   "source": [
    "#rotate a matrix\n",
    "a4 = [[0 for x in a3[y]] for y in range(len(a3))]\n",
    "\n",
    "for i in range(len(a3)):\n",
    "    for j in range(len(a3[0])):\n",
    "        a4[j][len(a3[0])-1-i] = a3[i][j]\n",
    "\n",
    "a4"
   ]
  },
  {
   "cell_type": "code",
   "execution_count": 16,
   "metadata": {},
   "outputs": [
    {
     "data": {
      "text/plain": [
       "[[9, 8, 7, 6, 5, 4, 3, 2, 1, 0],\n",
       " [9, 8, 7, 6, 5, 4, 3, 2, 1, 0],\n",
       " [9, 8, 7, 6, 5, 4, 3, 2, 1, 0],\n",
       " [9, 8, 7, 6, 5, 4, 3, 2, 1, 0],\n",
       " [9, 8, 7, 6, 5, 4, 3, 2, 1, 0],\n",
       " [9, 8, 7, 6, 5, 4, 3, 2, 1, 0],\n",
       " [9, 8, 7, 6, 5, 4, 3, 2, 1, 0],\n",
       " [9, 8, 7, 6, 5, 4, 3, 2, 1, 0],\n",
       " [9, 8, 7, 6, 5, 4, 3, 2, 1, 0],\n",
       " [9, 8, 7, 6, 5, 4, 3, 2, 1, 0]]"
      ]
     },
     "execution_count": 16,
     "metadata": {},
     "output_type": "execute_result"
    }
   ],
   "source": [
    "a5 = [[a4[len(a4)-1-j][i] for j in range(len(a4[0]))] for i in range(len(a4))]\n",
    "a5"
   ]
  },
  {
   "cell_type": "code",
   "execution_count": 17,
   "metadata": {},
   "outputs": [
    {
     "data": {
      "text/plain": [
       "[[1], [1], [1], [1], [1], [1], [1], [1], [1], [1]]"
      ]
     },
     "execution_count": 17,
     "metadata": {},
     "output_type": "execute_result"
    }
   ],
   "source": [
    "a_zero = [[0 for j in range(len(a4[0]))] for i in range(len(a4))]\n",
    "a_zero = [[1 for j in range(len(a4[0])) if i is j] for i in range(len(a4))]\n",
    "a_zero"
   ]
  },
  {
   "cell_type": "code",
   "execution_count": 18,
   "metadata": {},
   "outputs": [
    {
     "data": {
      "text/plain": [
       "[[1, 0, 0, 0, 0, 0, 0, 0, 0, 0],\n",
       " [0, 1, 0, 0, 0, 0, 0, 0, 0, 0],\n",
       " [0, 0, 1, 0, 0, 0, 0, 0, 0, 0],\n",
       " [0, 0, 0, 1, 0, 0, 0, 0, 0, 0],\n",
       " [0, 0, 0, 0, 1, 0, 0, 0, 0, 0],\n",
       " [0, 0, 0, 0, 0, 1, 0, 0, 0, 0],\n",
       " [0, 0, 0, 0, 0, 0, 1, 0, 0, 0],\n",
       " [0, 0, 0, 0, 0, 0, 0, 1, 0, 0],\n",
       " [0, 0, 0, 0, 0, 0, 0, 0, 1, 0],\n",
       " [0, 0, 0, 0, 0, 0, 0, 0, 0, 1]]"
      ]
     },
     "execution_count": 18,
     "metadata": {},
     "output_type": "execute_result"
    }
   ],
   "source": [
    "a_i = [[0 for j in range(len(a4[0]))] for i in range(len(a4))]\n",
    "\n",
    "for i in range(len(a3)):\n",
    "    a_i[i][i] = 1\n",
    "\n",
    "a_i"
   ]
  },
  {
   "cell_type": "code",
   "execution_count": 19,
   "metadata": {},
   "outputs": [
    {
     "data": {
      "text/plain": [
       "[0, 4, 16]"
      ]
     },
     "execution_count": 19,
     "metadata": {},
     "output_type": "execute_result"
    }
   ],
   "source": [
    "nums = [0, 1, 2, 3, 4]\n",
    "even_squares = [x ** 2 for x in nums if x % 2 == 0]\n",
    "even_squares"
   ]
  },
  {
   "cell_type": "code",
   "execution_count": 20,
   "metadata": {},
   "outputs": [
    {
     "data": {
      "text/plain": [
       "[0, 1, 4, 9, 16]"
      ]
     },
     "execution_count": 20,
     "metadata": {},
     "output_type": "execute_result"
    }
   ],
   "source": [
    "squares = [0 for x in range(len(nums))]\n",
    "for i,x in enumerate(nums):\n",
    "    \n",
    "    squares[i] = (x ** 2)\n",
    "    \n",
    "squares"
   ]
  },
  {
   "cell_type": "code",
   "execution_count": 21,
   "metadata": {},
   "outputs": [
    {
     "data": {
      "text/plain": [
       "{10: 100,\n",
       " 11: 121,\n",
       " 12: 144,\n",
       " 13: 169,\n",
       " 14: 196,\n",
       " 15: 225,\n",
       " 16: 256,\n",
       " 17: 289,\n",
       " 18: 324,\n",
       " 19: 361}"
      ]
     },
     "execution_count": 21,
     "metadata": {},
     "output_type": "execute_result"
    }
   ],
   "source": [
    "a4 = [[i*10+j for j in range(10)] for i in range(10)]\n",
    "dict_sq = {a4[i][0]/10:{x:x**2 for x in a4[i]} for i in range(len(a4))}\n",
    "dict_sq[1]"
   ]
  },
  {
   "cell_type": "code",
   "execution_count": 22,
   "metadata": {},
   "outputs": [
    {
     "name": "stdout",
     "output_type": "stream",
     "text": [
      "[100, 81, 64, 49, 36, 25, 16, 9, 4, 1]\n",
      "[1, 3, 16, 9, 4, 25, 64, 100, 49, 81, 36]\n",
      "1\n",
      "3\n",
      "4\n",
      "9\n",
      "16\n",
      "25\n",
      "[36, 49, 64, 100, 81]\n",
      "36\n",
      "[49, 81, 64, 100]\n",
      "49\n",
      "[64, 81, 100]\n",
      "64\n",
      "81\n",
      "100\n"
     ]
    }
   ],
   "source": [
    "import heapq\n",
    "\n",
    "list1 = [x**2 for x in range(10,0,-1)]\n",
    "\n",
    "print(list1)\n",
    "\n",
    "heapq.heapify(list1)\n",
    "\n",
    "heapq.heappush(list1, 3)\n",
    "\n",
    "print(list1)\n",
    "\n",
    "print(heapq.heappop(list1))\n",
    "print(heapq.heappop(list1))\n",
    "print(heapq.heappop(list1))\n",
    "print(heapq.heappop(list1))\n",
    "print(heapq.heappop(list1))\n",
    "print(heapq.heappop(list1))\n",
    "\n",
    "print(list1)\n",
    "\n",
    "print(heapq.heappop(list1))\n",
    "\n",
    "print(list1)\n",
    "\n",
    "print(heapq.heappop(list1))\n",
    "\n",
    "print(list1)\n",
    "\n",
    "print(heapq.heappop(list1))\n",
    "\n",
    "\n",
    "print(heapq.heappop(list1))\n",
    "print(heapq.heappop(list1))\n"
   ]
  },
  {
   "cell_type": "code",
   "execution_count": 71,
   "metadata": {},
   "outputs": [
    {
     "name": "stdout",
     "output_type": "stream",
     "text": [
      "[15, 9, 6, 8, 4, 5, 2, 7, 3, 1, 0]\n",
      "[15, 9, 8, 7, 6, 5, 4, 3, 2, 1, 0]\n"
     ]
    },
    {
     "data": {
      "text/plain": [
       "0"
      ]
     },
     "execution_count": 71,
     "metadata": {},
     "output_type": "execute_result"
    }
   ],
   "source": [
    "import random\n",
    "import heapq\n",
    "\n",
    "random.seed(1234)\n",
    "l2 = [i for i in range(10)]\n",
    "\n",
    "heapq.heapify(l2)\n",
    "heapq.heappush(l2,15)\n",
    "heapq._heapify_max(l2)\n",
    "print(l2)\n",
    "#heapq._heappush_max(l2, 4)\n",
    "l3 = [heapq._heappop_max(l2) for i in range(len(l2))]\n",
    "print(l3)\n",
    "\n",
    "heapq.heappop(l3)\n",
    "heapq.heappop(l3)\n",
    "heapq.heappop(l3)\n",
    "heapq.heappop(l3)\n",
    "heapq.heappop(l3)\n",
    "heapq.heappop(l3)\n",
    "heapq.heappop(l3)\n",
    "heapq.heappop(l3)\n",
    "heapq.heappop(l3)\n",
    "heapq.heappop(l3)\n",
    "heapq.heappop(l3)\n",
    "len(l3)"
   ]
  },
  {
   "cell_type": "code",
   "execution_count": 24,
   "metadata": {},
   "outputs": [
    {
     "name": "stdout",
     "output_type": "stream",
     "text": [
      "[0, 1, 2, 3, 4, 5, 6, 7, 8, 9, 10]\n",
      "[10, 1, 2, 3, 4, 5, 6, 7, 8, 9, 0]\n",
      "[10, 9, 2, 3, 4, 5, 6, 7, 8, 1, 0]\n",
      "[10, 9, 8, 3, 4, 5, 6, 7, 2, 1, 0]\n",
      "[10, 9, 8, 7, 4, 5, 6, 3, 2, 1, 0]\n",
      "[10, 9, 8, 7, 6, 5, 4, 3, 2, 1, 0]\n"
     ]
    }
   ],
   "source": [
    "list1 = [i for i in range(11)]\n",
    "print(list1)\n",
    "\n",
    "for i in range(len(list1)//2):\n",
    "    list1[len(list1)-i-1], list1[i] = list1[i], list1[len(list1)-i-1]\n",
    "    \n",
    "    print(list1)"
   ]
  },
  {
   "cell_type": "code",
   "execution_count": 25,
   "metadata": {},
   "outputs": [
    {
     "name": "stdout",
     "output_type": "stream",
     "text": [
      "[0, 1, 2, 3, 4, 5, 6, 7, 8, 9]\n",
      "[10, 9, 8, 7, 6, 5, 4, 3, 2, 1, 0]\n",
      "[0, 1, 2, 3, 4, 5, 6, 7, 8, 9, 10, 9, 8, 7, 6, 5, 4, 3, 2, 1, 0]\n"
     ]
    }
   ],
   "source": [
    "l1 = [i for i in range(10)]\n",
    "l2 = [i for i in range(10,-1,-1)]\n",
    "print(l1)\n",
    "print(l2)\n",
    "l1 += l2\n",
    "print(l1)\n",
    "def ispalindrome(l1):\n",
    "    for i in range(len(l1)//2):\n",
    "        if l1[i] is not l1[len(l1)-1-i]:\n",
    "            return False\n",
    "        \n",
    "    return True"
   ]
  },
  {
   "cell_type": "code",
   "execution_count": 26,
   "metadata": {},
   "outputs": [
    {
     "name": "stdout",
     "output_type": "stream",
     "text": [
      "yes\n"
     ]
    }
   ],
   "source": [
    "if ispalindrome(l1):\n",
    "    print('yes')\n",
    "else:\n",
    "    print('no')"
   ]
  },
  {
   "cell_type": "code",
   "execution_count": 27,
   "metadata": {},
   "outputs": [
    {
     "name": "stdout",
     "output_type": "stream",
     "text": [
      "[0, 1, 2, 3, 4, 5, 6, 7, 8, 9, 10]\n"
     ]
    }
   ],
   "source": [
    "l2.reverse()\n",
    "print(l2)"
   ]
  },
  {
   "cell_type": "code",
   "execution_count": 28,
   "metadata": {},
   "outputs": [
    {
     "data": {
      "text/plain": [
       "[0, 1, 2, 3, 4, 6, 7, 8, 9, 10]"
      ]
     },
     "execution_count": 28,
     "metadata": {},
     "output_type": "execute_result"
    }
   ],
   "source": [
    "del l2[5]\n",
    "l2"
   ]
  },
  {
   "cell_type": "code",
   "execution_count": 29,
   "metadata": {},
   "outputs": [
    {
     "data": {
      "text/plain": [
       "[0, 1, 2, 3, 4, 5, 6, 7, 8, 9, 10]"
      ]
     },
     "execution_count": 29,
     "metadata": {},
     "output_type": "execute_result"
    }
   ],
   "source": [
    "l2.insert(5,5)\n",
    "l2"
   ]
  },
  {
   "cell_type": "code",
   "execution_count": 30,
   "metadata": {},
   "outputs": [
    {
     "data": {
      "text/plain": [
       "[[0, 1, 2, 2, 3, 3, 11, 18],\n",
       " [0, 0, 0, 11],\n",
       " [0, 2, 3, 4, 5, 14, 15, 15, 16, 19],\n",
       " [2, 2, 14, 17],\n",
       " [1, 2, 2, 8, 9, 15, 16, 17, 18, 20],\n",
       " [6, 7, 8, 14, 16, 20],\n",
       " [16],\n",
       " [0, 10],\n",
       " [5, 12, 15],\n",
       " [2]]"
      ]
     },
     "execution_count": 30,
     "metadata": {},
     "output_type": "execute_result"
    }
   ],
   "source": [
    "a = [[random.randint(0,20) for i in range(random.randint(1,10))] for j in range(10)]\n",
    "for i in range(len(a)):\n",
    "    a[i].sort()\n",
    "a\n"
   ]
  },
  {
   "cell_type": "code",
   "execution_count": 31,
   "metadata": {},
   "outputs": [
    {
     "data": {
      "text/plain": [
       "[[0, 2, 3, 4, 5, 6, 11, 15, 17],\n",
       " [1, 1, 4, 5, 8, 9, 13, 14],\n",
       " [4, 4, 9, 14],\n",
       " [],\n",
       " [1, 10, 11, 12, 14, 15, 15, 15, 18],\n",
       " [3, 5, 5, 8, 9, 13, 14, 14, 16],\n",
       " [3, 3, 8, 12, 15, 16],\n",
       " [2, 3, 4, 5, 6, 8, 10, 11, 14, 18],\n",
       " [12],\n",
       " [1, 1, 9]]"
      ]
     },
     "execution_count": 31,
     "metadata": {},
     "output_type": "execute_result"
    }
   ],
   "source": [
    "a1 = []\n",
    "for j in range(10):\n",
    "    a1.append([])\n",
    "    for i in range(random.randint(0,10)):\n",
    "        a1[j].append(random.randint(0,20))\n",
    "    a1[j].sort()\n",
    "\n",
    "a1"
   ]
  },
  {
   "cell_type": "code",
   "execution_count": 32,
   "metadata": {},
   "outputs": [
    {
     "name": "stdout",
     "output_type": "stream",
     "text": [
      "[0, 0, 0, 1, 0, 1, 2, 4, 2, 3, 0, 2, 2, 2, 3, 15, 5, 6, 7, 14, 16, 0, 2, 2, 14, 17, 3, 11, 2, 8, 9, 18, 16, 17, 18, 20, 14, 15, 8, 15, 16, 20, 16, 19, 10, 5, 12, 15, 11]\n",
      "[0, 0, 0, 0, 0, 0, 1, 1, 2, 2, 2, 2, 2, 2, 2, 2, 3, 3, 3, 4, 5, 5, 6, 7, 8, 8, 9, 10, 11, 11, 12, 14, 14, 14, 15, 15, 15, 15, 16, 16, 16, 16, 17, 17, 18, 18, 19, 20, 20]\n"
     ]
    }
   ],
   "source": [
    "l1 = []\n",
    "heapq.heapify(l1)\n",
    "for i in range(len(a)):\n",
    "    for j in range(len(a[i])):\n",
    "        heapq.heappush(l1,a[i][j])\n",
    "\n",
    "print(l1)\n",
    "\n",
    "l2 = [heapq.heappop(l1) for i in range(len(l1))] \n",
    "\n",
    "print(l2)"
   ]
  },
  {
   "cell_type": "code",
   "execution_count": 33,
   "metadata": {},
   "outputs": [
    {
     "data": {
      "text/plain": [
       "[[0, 1, 2, 2, 3, 3, 11, 18],\n",
       " [0, 0, 0, 11],\n",
       " [0, 2, 3, 4, 5, 14, 15, 15, 16, 19],\n",
       " [2, 2, 14, 17],\n",
       " [1, 2, 2, 8, 9, 15, 16, 17, 18, 20],\n",
       " [6, 7, 8, 14, 16, 20],\n",
       " [16],\n",
       " [0, 10],\n",
       " [5, 12, 15],\n",
       " [2]]"
      ]
     },
     "execution_count": 33,
     "metadata": {},
     "output_type": "execute_result"
    }
   ],
   "source": [
    "a"
   ]
  },
  {
   "cell_type": "code",
   "execution_count": 34,
   "metadata": {},
   "outputs": [
    {
     "data": {
      "text/plain": [
       "[0, 0, 0, 2, 1, 6, 16, 0, 5, 2]"
      ]
     },
     "execution_count": 34,
     "metadata": {},
     "output_type": "execute_result"
    }
   ],
   "source": [
    "l1 = [a[i][0] for i in range(len(a))]\n",
    "l1"
   ]
  },
  {
   "cell_type": "code",
   "execution_count": 35,
   "metadata": {},
   "outputs": [
    {
     "data": {
      "text/plain": [
       "[[0, 1, 2, 2, 3, 3, 11, 18],\n",
       " [0, 0, 0, 11],\n",
       " [0, 2, 3, 4, 5, 14, 15, 15, 16, 19],\n",
       " [2, 2, 14, 17],\n",
       " [1, 2, 2, 8, 9, 15, 16, 17, 18, 20],\n",
       " [6, 7, 8, 14, 16, 20],\n",
       " [16],\n",
       " [0, 10],\n",
       " [5, 12, 15],\n",
       " [2]]"
      ]
     },
     "execution_count": 35,
     "metadata": {},
     "output_type": "execute_result"
    }
   ],
   "source": [
    "index = [0 for i in range(len(a))]\n",
    "index\n",
    "a"
   ]
  },
  {
   "cell_type": "code",
   "execution_count": 36,
   "metadata": {},
   "outputs": [
    {
     "data": {
      "text/plain": [
       "[[0, 1, 2, 2, 3, 3, 11, 18],\n",
       " [0, 0, 0, 11],\n",
       " [0, 2, 3, 4, 5, 14, 15, 15, 16, 19],\n",
       " [2, 2, 14, 17],\n",
       " [1, 2, 2, 8, 9, 15, 16, 17, 18, 20],\n",
       " [6, 7, 8, 14, 16, 20],\n",
       " [16],\n",
       " [0, 10],\n",
       " [5, 12, 15],\n",
       " [2]]"
      ]
     },
     "execution_count": 36,
     "metadata": {},
     "output_type": "execute_result"
    }
   ],
   "source": [
    "a"
   ]
  },
  {
   "cell_type": "code",
   "execution_count": 72,
   "metadata": {},
   "outputs": [
    {
     "name": "stdout",
     "output_type": "stream",
     "text": [
      "0\n"
     ]
    }
   ],
   "source": [
    "import heapq\n",
    "\n",
    "class klist(object):\n",
    "    def __init__(self, a):\n",
    "        self.a = a\n",
    "        self.s = [0]*len(a)\n",
    "        \n",
    "        first = []\n",
    "        for ind, i in enumerate(a):\n",
    "            first.append((i[0], ind))\n",
    "        \n",
    "        heapq.heapify(first)\n",
    "        self.queue = first\n",
    "        \n",
    "    def iter(self):\n",
    "        if self.queue != None:\n",
    "            if len(self.queue):\n",
    "                top = heapq.heappop(self.queue)\n",
    "                val = top[0]\n",
    "                ind = top[1]\n",
    "\n",
    "                if len(self.a[ind]) > self.s[ind]+1:\n",
    "                    self.s[ind] += 1\n",
    "                    nid = self.s[ind]\n",
    "                    next_val = a[ind][nid]\n",
    "                    heapq.heappush(self.queue, (self.a[ind][nid], ind) )\n",
    "\n",
    "                return val\n",
    "            else:\n",
    "                return None\n",
    "\n",
    "        else:\n",
    "            return None\n",
    "        \n",
    "        \n",
    "    \n",
    "klis = klist(a)\n",
    "print(klis.iter())"
   ]
  },
  {
   "cell_type": "code",
   "execution_count": 73,
   "metadata": {},
   "outputs": [
    {
     "name": "stdout",
     "output_type": "stream",
     "text": [
      "0\n"
     ]
    }
   ],
   "source": [
    "print(klis.iter())"
   ]
  },
  {
   "cell_type": "code",
   "execution_count": 74,
   "metadata": {},
   "outputs": [
    {
     "name": "stdout",
     "output_type": "stream",
     "text": [
      "0\n",
      "0\n",
      "0\n",
      "0\n",
      "1\n",
      "1\n",
      "2\n",
      "2\n",
      "2\n",
      "2\n",
      "2\n",
      "2\n",
      "2\n",
      "2\n",
      "3\n",
      "3\n",
      "3\n",
      "4\n",
      "5\n",
      "5\n",
      "6\n",
      "7\n",
      "8\n",
      "8\n",
      "9\n",
      "10\n",
      "11\n",
      "11\n",
      "12\n",
      "14\n",
      "14\n",
      "14\n",
      "15\n",
      "15\n",
      "15\n",
      "15\n",
      "16\n",
      "16\n",
      "16\n",
      "16\n",
      "17\n",
      "17\n",
      "18\n",
      "18\n",
      "19\n",
      "20\n",
      "20\n",
      "None\n"
     ]
    }
   ],
   "source": [
    "print(klis.iter())\n",
    "k = -1\n",
    "while k != None:\n",
    "    k = klis.iter()\n",
    "    print(k)"
   ]
  },
  {
   "cell_type": "code",
   "execution_count": null,
   "metadata": {},
   "outputs": [],
   "source": []
  },
  {
   "cell_type": "code",
   "execution_count": null,
   "metadata": {},
   "outputs": [],
   "source": []
  },
  {
   "cell_type": "code",
   "execution_count": null,
   "metadata": {},
   "outputs": [],
   "source": []
  },
  {
   "cell_type": "code",
   "execution_count": 193,
   "metadata": {},
   "outputs": [
    {
     "name": "stdout",
     "output_type": "stream",
     "text": [
      "0\n",
      "0\n",
      "0\n",
      "0\n",
      "0\n",
      "1\n",
      "1\n",
      "3\n",
      "3\n",
      "3\n"
     ]
    }
   ],
   "source": [
    "a = [[random.randint(0,20) for i in range(random.randint(1,10))] for j in range(10)]\n",
    "for i in range(len(a)):\n",
    "    a[i].sort()\n",
    "    \n",
    "highest = 999999\n",
    "l1 = [a[i][0] for i in range(len(a))]\n",
    "\n",
    "index = [0 for i in range(len(a))]\n",
    "\n",
    "for i in range(10):\n",
    "    small_index = l1.index(min(l1))\n",
    "    min_value = min(l1)\n",
    "    index[small_index] += 1\n",
    "    if index[small_index] < len(a[small_index]):\n",
    "        l1[small_index] = a[small_index][index[small_index]]\n",
    "    elif index[small_index] >= len(a[small_index]):\n",
    "        l1[small_index] = highest\n",
    "    print(min_value)\n",
    "    #print(small_index)\n",
    "    #print(l1)\n",
    "    \n"
   ]
  },
  {
   "cell_type": "code",
   "execution_count": 44,
   "metadata": {},
   "outputs": [
    {
     "name": "stdout",
     "output_type": "stream",
     "text": [
      "True\n",
      "True\n",
      "True\n",
      "True\n",
      "True\n",
      "True\n",
      "True\n",
      "True\n",
      "True\n",
      "True\n",
      "True\n",
      "True\n",
      "True\n",
      "True\n",
      "True\n",
      "True\n",
      "True\n",
      "True\n",
      "True\n",
      "True\n",
      "True\n",
      "True\n",
      "True\n",
      "True\n",
      "True\n",
      "True\n",
      "True\n",
      "True\n",
      "True\n",
      "True\n",
      "True\n",
      "True\n",
      "True\n",
      "True\n",
      "True\n",
      "True\n",
      "True\n",
      "True\n",
      "True\n",
      "True\n",
      "True\n",
      "True\n",
      "True\n",
      "True\n",
      "True\n",
      "True\n",
      "True\n",
      "True\n",
      "True\n",
      "True\n",
      "True\n",
      "True\n",
      "True\n",
      "True\n",
      "True\n",
      "True\n",
      "True\n",
      "True\n",
      "True\n",
      "True\n",
      "True\n",
      "True\n",
      "True\n",
      "True\n",
      "True\n",
      "True\n",
      "True\n",
      "True\n",
      "True\n",
      "True\n",
      "True\n",
      "True\n",
      "True\n",
      "True\n",
      "True\n",
      "True\n",
      "True\n",
      "True\n",
      "True\n",
      "True\n",
      "True\n",
      "True\n",
      "True\n",
      "True\n",
      "True\n",
      "True\n",
      "True\n",
      "True\n",
      "True\n",
      "True\n",
      "True\n",
      "True\n",
      "True\n",
      "True\n",
      "True\n",
      "True\n",
      "True\n",
      "True\n",
      "True\n",
      "True\n"
     ]
    }
   ],
   "source": [
    "import random\n",
    "a = [random.randint(0,10) for i in range(1000)]\n",
    "\n",
    "def quick(a,l,r):\n",
    "    if l < r:\n",
    "        ind = partition(a,l,r)\n",
    "        quick(a,l,ind-1)\n",
    "        quick(a,ind+1,r)\n",
    "    \n",
    "def partition(a,l,r):\n",
    "    pivot = a[r]\n",
    "    i = l\n",
    "    j = l\n",
    "    \n",
    "#     while i < j:\n",
    "        \n",
    "#         while i < r and a[i] <= pivot:\n",
    "#             i+=1\n",
    "            \n",
    "#         while j > l and a[j] >= pivot:\n",
    "#             j-=1\n",
    "            \n",
    "#         if i < j:\n",
    "#             a[i],a[j] = a[j],a[i]\n",
    "        \n",
    "    while j < r:\n",
    "        if a[j] < pivot:\n",
    "            a[j],a[i] = a[i], a[j]\n",
    "            i+=1   \n",
    "        j+=1\n",
    "        \n",
    "    a[i], a[r] = a[r], a[i]\n",
    "    return i\n",
    "\n",
    "\n",
    "def issorted(a):\n",
    "    i = 0\n",
    "    while i < len(a)-1:\n",
    "        if a[i]>a[i+1]:\n",
    "            #print(i, a[i], a[i+1])\n",
    "            return False\n",
    "        i+=1\n",
    "        \n",
    "    return True\n",
    "\n",
    "for i in range(100):\n",
    "    a = [random.randint(0,10) for i in range(1000)]\n",
    "    quick(a,0,len(a)-1)\n",
    "    #print(a)\n",
    "    print(issorted(a))\n"
   ]
  },
  {
   "cell_type": "code",
   "execution_count": 18,
   "metadata": {},
   "outputs": [
    {
     "name": "stdout",
     "output_type": "stream",
     "text": [
      "[1, 2, 3, 5, 6, 7] [1, 2, 3, 5, 6, 7]\n"
     ]
    }
   ],
   "source": [
    "#nuts and bolts\n",
    "\n",
    "a = [1,3,5,2,6,7]\n",
    "b = [5,1,6,3,7,2]\n",
    "\n",
    "def quick(a,b,l,h):\n",
    "    if l<h:\n",
    "        p = partition(a,l,h,b[h])       \n",
    "        partition(b,l,h,a[p])\n",
    "        quick(a,b,l,p-1)\n",
    "        quick(a,b,p+1,h)\n",
    "        \n",
    "def partition(a,l,h,pivot):\n",
    "    i = l\n",
    "    j = l\n",
    "    \n",
    "#     while i < j:\n",
    "#         while i < h and a[i]<=pivot:\n",
    "#             if a[i] == pivot:\n",
    "#                 a[h],a[i] = a[i],a[h]\n",
    "#             else:\n",
    "#                 i+=1\n",
    "\n",
    "#         while j > l and a[j]>=pivot:\n",
    "#             if a[j] == pivot:\n",
    "#                 a[h],a[j] = a[j],a[h]\n",
    "#                 j+=1\n",
    "#             j-=1\n",
    "            \n",
    "#         if i < j:\n",
    "#             a[i], a[j] = a[j], a[i]\n",
    "            \n",
    "    while j < h:\n",
    "        if a[j] < pivot:\n",
    "            a[j],a[i] = a[i], a[j]\n",
    "            i+=1\n",
    "        elif a[j] == pivot:\n",
    "            a[j],a[h] = a[h],a[j]\n",
    "            j-=1\n",
    "        j+=1  \n",
    "\n",
    "    a[i], a[h] = a[h], a[i]\n",
    "    return i\n",
    "    \n",
    "quick(a,b,0,len(a)-1)\n",
    "print(a,b)"
   ]
  },
  {
   "cell_type": "code",
   "execution_count": 35,
   "metadata": {},
   "outputs": [
    {
     "name": "stdout",
     "output_type": "stream",
     "text": [
      "3 ['a', 'b', 'c']\n"
     ]
    }
   ],
   "source": [
    "s1 = ['a', 'b', 'e', 'd', 'c']\n",
    "s2 = ['a', 'e', 'c', 'b', 'a']\n",
    "mx = 0\n",
    "l = []\n",
    "prev = -1\n",
    "a = [[0]*len(s1) for j in s2]\n",
    "for i in range(len(s1)):\n",
    "    for j in range(len(s2)):\n",
    "        if s1[i] == s2[j]:\n",
    "            if i == 0 or j==0:\n",
    "                a[i][j] = 1\n",
    "            else:\n",
    "                a[i][j] = a[i-1][j-1]+1\n",
    "                \n",
    "            if mx < a[i][j]:\n",
    "                mx = a[i][j]\n",
    "#                 if prev != i:\n",
    "#                     l.append(s1[i])\n",
    "#                 prev = i\n",
    "                \n",
    "        else:\n",
    "            a[i][j] = max(a[i-1][j], a[i][j-1])\n",
    "            \n",
    "print(mx,l)"
   ]
  },
  {
   "cell_type": "code",
   "execution_count": 30,
   "metadata": {},
   "outputs": [
    {
     "data": {
      "text/plain": [
       "[4, -1, -2, 1, 5]"
      ]
     },
     "execution_count": 30,
     "metadata": {},
     "output_type": "execute_result"
    }
   ],
   "source": [
    "#maximum subarray: subarray with max sum\n",
    "a = [-2,-3,4,-1,-2,1,5,-3]\n",
    "sa = []\n",
    "j = 0\n",
    "mx = 0\n",
    "f = []\n",
    "while j < len(a):\n",
    "    temp = []\n",
    "    sm = 0\n",
    "    i = j\n",
    "    while i < len(a):\n",
    "        sm += a[i]\n",
    "        temp.append(a[i])\n",
    "        if mx < sm:\n",
    "            mx = sm\n",
    "            f = list(temp)\n",
    "        i+=1\n",
    "    j+=1\n",
    "f"
   ]
  },
  {
   "cell_type": "code",
   "execution_count": 152,
   "metadata": {},
   "outputs": [
    {
     "data": {
      "text/plain": [
       "[-2, -3, 4, -1, -2]"
      ]
     },
     "execution_count": 152,
     "metadata": {},
     "output_type": "execute_result"
    }
   ],
   "source": [
    "#maximum subarray: max subarray with sum closest to k value\n",
    "a = [-2,-3,4,-1,-2,1,5,-3]\n",
    "k = -4\n",
    "sa = []\n",
    "j = 0\n",
    "mn_diff = abs(k-a[0])\n",
    "f = []\n",
    "diff = 0\n",
    "while j < len(a):\n",
    "    temp = []\n",
    "    sm = 0\n",
    "    i = j\n",
    "    while i < len(a):\n",
    "        sm += a[i]\n",
    "        temp.append(a[i])\n",
    "        diff = abs(k-sm)\n",
    "        if diff <= mn_diff:\n",
    "            mn_diff = diff\n",
    "            f = list(temp)\n",
    "        i+=1\n",
    "    j+=1\n",
    "f"
   ]
  },
  {
   "cell_type": "code",
   "execution_count": 56,
   "metadata": {},
   "outputs": [
    {
     "data": {
      "text/plain": [
       "1"
      ]
     },
     "execution_count": 56,
     "metadata": {},
     "output_type": "execute_result"
    }
   ],
   "source": [
    "3//2"
   ]
  },
  {
   "cell_type": "code",
   "execution_count": 90,
   "metadata": {},
   "outputs": [
    {
     "name": "stdout",
     "output_type": "stream",
     "text": [
      "True\n",
      "True\n",
      "True\n",
      "True\n",
      "True\n",
      "True\n",
      "True\n",
      "True\n",
      "True\n",
      "True\n",
      "True\n",
      "True\n",
      "True\n",
      "True\n",
      "True\n",
      "True\n",
      "True\n",
      "True\n",
      "True\n",
      "True\n",
      "True\n",
      "True\n",
      "True\n",
      "True\n",
      "True\n",
      "True\n",
      "True\n",
      "True\n",
      "True\n",
      "True\n",
      "True\n",
      "True\n",
      "True\n",
      "True\n",
      "True\n",
      "True\n",
      "True\n",
      "True\n",
      "True\n",
      "True\n",
      "True\n",
      "True\n",
      "True\n",
      "True\n",
      "True\n",
      "True\n",
      "True\n",
      "True\n",
      "True\n",
      "True\n",
      "True\n",
      "True\n",
      "True\n",
      "True\n",
      "True\n",
      "True\n",
      "True\n",
      "True\n",
      "True\n",
      "True\n",
      "True\n",
      "True\n",
      "True\n",
      "True\n",
      "True\n",
      "True\n",
      "True\n",
      "True\n",
      "True\n",
      "True\n",
      "True\n",
      "True\n",
      "True\n",
      "True\n",
      "True\n",
      "True\n",
      "True\n",
      "True\n",
      "True\n",
      "True\n",
      "True\n",
      "True\n",
      "True\n",
      "True\n",
      "True\n",
      "True\n",
      "True\n",
      "True\n",
      "True\n",
      "True\n",
      "True\n",
      "True\n",
      "True\n",
      "True\n",
      "True\n",
      "True\n",
      "True\n",
      "True\n",
      "True\n",
      "True\n"
     ]
    }
   ],
   "source": [
    "import random\n",
    "\n",
    "def insertion(a):\n",
    "    for i in range(len(a)-1):\n",
    "        j = i+1\n",
    "        while j > 0 and a[i+1] < a[j-1]:\n",
    "            j-=1\n",
    "        if j != i+1: \n",
    "            a.insert(j,a[i+1])\n",
    "            del a[i+2]\n",
    "\n",
    "def issorted(a):\n",
    "    i = 0\n",
    "    while i < len(a)-1:\n",
    "        if a[i]>a[i+1]:\n",
    "            #print(i, a[i], a[i+1])\n",
    "            return False\n",
    "        i+=1\n",
    "        \n",
    "    return True\n",
    "\n",
    "\n",
    "for i in range(100):\n",
    "    a = [random.randint(0,10) for i in range(1000)]\n",
    "    insertion(a)\n",
    "    #print(a)\n",
    "    print(issorted(a))"
   ]
  },
  {
   "cell_type": "code",
   "execution_count": 64,
   "metadata": {},
   "outputs": [
    {
     "name": "stdout",
     "output_type": "stream",
     "text": [
      "[1, 2, 2, 5, 5, 7, 7, 9, None, None]\n",
      "[1, 2, 5, 5, 2, 7, 7, 9]\n"
     ]
    },
    {
     "data": {
      "text/plain": [
       "[None, None, None, None, None, None, None, None, None, None]"
      ]
     },
     "execution_count": 64,
     "metadata": {},
     "output_type": "execute_result"
    }
   ],
   "source": [
    "a = [1,53,6,3,9,7]\n",
    "\n",
    "left = (lambda x:2*x+1)\n",
    "right = (lambda x:2*x+2)\n",
    "parent = (lambda x:(x-1)//2)\n",
    "heap_size = [0]\n",
    "mx = 10\n",
    "heq = [None]*mx\n",
    "def heapify(a,i,n):\n",
    "    l = left(i)\n",
    "    r = right(i)\n",
    "    smallest = i\n",
    "    if l < n[0] and a[l] < a[i]:\n",
    "        smallest = l\n",
    "    elif r < n[0] and a[r] < a[smallest]:\n",
    "        smallest = r\n",
    "    \n",
    "    if smallest != i:\n",
    "        a[smallest],a[i] = a[i],a[smallest] \n",
    "        heapify(a,smallest,n)\n",
    "\n",
    "def insert(heap, i,heap_size):\n",
    "    heap_size[0]+=1\n",
    "    heap[heap_size[0]-1] = i\n",
    "    k = heap_size[0]-1\n",
    "    while k > 0 and heap[k] < heap[(k-1)//2]:\n",
    "        heap[k],heap[(k-1)//2] = heap[(k-1)//2],heap[k]\n",
    "        k=(k-1)//2\n",
    "    \n",
    "def pop_first(a,heap_size):\n",
    "    k = a[0]\n",
    "    a[0]=a[heap_size[0]-1]\n",
    "    heap_size[0]-=1\n",
    "    a[heap_size[0]] = None\n",
    "    return k\n",
    "\n",
    "b = []\n",
    "\n",
    "insert(heq,5,heap_size)\n",
    "insert(heq,1,heap_size)\n",
    "insert(heq,7,heap_size)\n",
    "insert(heq,2,heap_size)\n",
    "insert(heq,5,heap_size)\n",
    "insert(heq,2,heap_size)\n",
    "insert(heq,7,heap_size)\n",
    "insert(heq,9,heap_size)\n",
    "\n",
    "print(heq)\n",
    "f = heap_size[0]\n",
    "while f>0:\n",
    "    k = pop_first(heq,heap_size)\n",
    "    heapify(heq,0,heap_size)\n",
    "    b.append(k)\n",
    "    f-=1\n",
    "print(b)\n",
    "heq"
   ]
  },
  {
   "cell_type": "code",
   "execution_count": 88,
   "metadata": {},
   "outputs": [
    {
     "name": "stdout",
     "output_type": "stream",
     "text": [
      "[1, 5, 2, 5, 7, 7, 2, 9]\n",
      "[1, 2, 2, 5, 5, 7, 7, 9]\n"
     ]
    }
   ],
   "source": [
    "a = [5, 7, 7, 9, 1, 2, 2, 5]\n",
    "\n",
    "def heapify_min1(a,n,i):\n",
    "    l = 2*i+1\n",
    "    r = 2*i+2\n",
    "    smallest = i\n",
    "    \n",
    "    #print(l,r)\n",
    "    if l < n and a[l] < a[smallest]:\n",
    "        smallest = l\n",
    "    if r < n and a[r] < a[smallest]:\n",
    "        smallest = r\n",
    "    \n",
    "    if smallest != i:\n",
    "        a[smallest],a[i] = a[i],a[smallest] \n",
    "        heapify_min1(a,n,smallest)\n",
    "        \n",
    "def heapify_max(a,n,i):\n",
    "    largest = i\n",
    "    l = 2*i+1\n",
    "    r = 2*i+2\n",
    "    \n",
    "    if l<n and a[largest]<a[l]:\n",
    "        largest = l\n",
    "    if r<n and a[largest]<a[r]:\n",
    "        largest = r\n",
    "        \n",
    "    if largest!=i:\n",
    "        a[largest],a[i]=a[i],a[largest]\n",
    "        heapify_max(a,n,largest)\n",
    "\n",
    "def heapsort1(a):\n",
    "    n = len(a)\n",
    "    \n",
    "    for i in range((n-1)//2,-1,-1):\n",
    "        heapify_min1(a,n,i)\n",
    "      \n",
    "    print(a)\n",
    "    n = len(a)\n",
    "    b = []\n",
    "    \n",
    "    while a:\n",
    "        #a[0],a[i] = a[i],a[0]\n",
    "        b.append(a[0])\n",
    "        a[0], a[-1] = a[-1], a[0]\n",
    "        a=a[:-1]\n",
    "        heapify_min1(a,len(a),0)\n",
    "\n",
    "#     for i in range(n-1,-1,-1):\n",
    "#         #a[0],a[i] = a[i],a[0]\n",
    "#         b.append(a[0])\n",
    "#         a[0], a[-1] = a[-1], a[0]\n",
    "#         a.pop()\n",
    "#         heapify_min1(a,len(a),0)\n",
    "\n",
    "    \n",
    "        #print(a)\n",
    "        #a[i],a[i-1]\n",
    "    print(b)\n",
    "        \n",
    "heapsort1(a)"
   ]
  },
  {
   "cell_type": "code",
   "execution_count": 153,
   "metadata": {},
   "outputs": [
    {
     "name": "stdout",
     "output_type": "stream",
     "text": [
      "[113, 32, 54, 5, 1, 2]\n"
     ]
    },
    {
     "data": {
      "text/plain": [
       "[1, 2, 5, 32, 54, 113]"
      ]
     },
     "execution_count": 153,
     "metadata": {},
     "output_type": "execute_result"
    }
   ],
   "source": [
    "#heapsort using max heap\n",
    "\n",
    "a = [1,5,2,113,32,54]\n",
    "\n",
    "def heapify_max(a,n,i):\n",
    "    largest = i\n",
    "    l = 2*i+1\n",
    "    r = 2*i+2\n",
    "    \n",
    "    if l<n and a[largest]<a[l]:\n",
    "        largest = l\n",
    "    if r<n and a[largest]<a[r]:\n",
    "        largest = r\n",
    "        \n",
    "    if largest!=i:\n",
    "        a[largest],a[i]=a[i],a[largest]\n",
    "        heapify_max(a,n,largest)\n",
    "\n",
    "def heapsort(a):\n",
    "    n = len(a)\n",
    "    for i in range(n-1,-1,-1):\n",
    "        heapify_max(a,n,i)\n",
    "      \n",
    "    print(a)\n",
    "    n = len(a)\n",
    "    for i in range(n-1,0,-1):\n",
    "        a[0],a[i] = a[i],a[0]\n",
    "        heapify_max(a,i,0)\n",
    "        \n",
    "heapsort(a)\n",
    "a"
   ]
  },
  {
   "cell_type": "code",
   "execution_count": 112,
   "metadata": {},
   "outputs": [
    {
     "name": "stdout",
     "output_type": "stream",
     "text": [
      "[13, 11, 12, 5, 6, 7]\n"
     ]
    },
    {
     "data": {
      "text/plain": [
       "[5, 6, 7, 11, 12, 13]"
      ]
     },
     "execution_count": 112,
     "metadata": {},
     "output_type": "execute_result"
    }
   ],
   "source": [
    "\n",
    "\n",
    "# To heapify subtree rooted at index i. \n",
    "# n is size of heap \n",
    "def heapify(arr, n, i): \n",
    "    largest = i \n",
    "    l = 2 * i + 1 \n",
    "    r = 2 * i + 2  \n",
    "  \n",
    "\n",
    "    if l < n and arr[i] < arr[l]: \n",
    "        largest = l \n",
    "  \n",
    "  \n",
    "    if r < n and arr[largest] < arr[r]: \n",
    "        largest = r \n",
    "  \n",
    "\n",
    "    if largest != i: \n",
    "        arr[i],arr[largest] = arr[largest],arr[i] \n",
    " \n",
    "        heapify(arr, n, largest) \n",
    "\n",
    "        \n",
    "def heapSort(arr): \n",
    "    n = len(arr) \n",
    "\n",
    "    for i in range(n, -1, -1): \n",
    "        heapify(arr, n, i) \n",
    "        \n",
    "    print(arr)\n",
    "\n",
    "    for i in range(n-1, 0, -1): \n",
    "        arr[i], arr[0] = arr[0], arr[i] \n",
    "        heapify(arr, i, 0) \n",
    "  \n",
    "\n",
    "arr = [ 12, 11, 13, 5, 6, 7] \n",
    "heapSort(arr) \n",
    "arr"
   ]
  },
  {
   "cell_type": "code",
   "execution_count": null,
   "metadata": {},
   "outputs": [],
   "source": []
  },
  {
   "cell_type": "code",
   "execution_count": null,
   "metadata": {},
   "outputs": [],
   "source": []
  },
  {
   "cell_type": "code",
   "execution_count": null,
   "metadata": {},
   "outputs": [],
   "source": []
  },
  {
   "cell_type": "code",
   "execution_count": null,
   "metadata": {},
   "outputs": [],
   "source": []
  },
  {
   "cell_type": "code",
   "execution_count": null,
   "metadata": {},
   "outputs": [],
   "source": []
  },
  {
   "cell_type": "code",
   "execution_count": 1,
   "metadata": {},
   "outputs": [
    {
     "data": {
      "text/plain": [
       "['r0', 'r1', 'r2', 'r3']"
      ]
     },
     "execution_count": 1,
     "metadata": {},
     "output_type": "execute_result"
    }
   ],
   "source": [
    "s = list('aaaa')\n",
    "for i in range(len(s)):\n",
    "    s[i] = 'r'+str(i)\n",
    "\n",
    "s"
   ]
  },
  {
   "cell_type": "code",
   "execution_count": 2,
   "metadata": {},
   "outputs": [
    {
     "data": {
      "text/plain": [
       "['r1', 'r3']"
      ]
     },
     "execution_count": 2,
     "metadata": {},
     "output_type": "execute_result"
    }
   ],
   "source": [
    "s[1::2]"
   ]
  },
  {
   "cell_type": "code",
   "execution_count": 203,
   "metadata": {},
   "outputs": [
    {
     "name": "stdout",
     "output_type": "stream",
     "text": [
      "[3, 4, 3, 1, 5, 18, 0, 1]\n"
     ]
    }
   ],
   "source": [
    "a = [3,4,3,1,5,18,0,1]\n",
    "\n",
    "while i < len(a)-1:\n",
    "    j=i+1\n",
    "    while j > 0 and a[j] < a[j-1]:\n",
    "        a[j],a[j-1] = a[j-1],a[j]\n",
    "        j-=1\n",
    "        \n",
    "    print(i)\n",
    "    i+=1\n",
    "        \n",
    "print(a)\n",
    "        "
   ]
  },
  {
   "cell_type": "code",
   "execution_count": 150,
   "metadata": {},
   "outputs": [
    {
     "data": {
      "text/plain": [
       "[1, 1, 2, 2, 3, 3, 3, 4, 4, 5, 8, 8, 10]"
      ]
     },
     "execution_count": 150,
     "metadata": {},
     "output_type": "execute_result"
    }
   ],
   "source": [
    "#insertion sort: way 2\n",
    "\n",
    "first = [1,5,3,8,3,8,3,2,4,10,1,2,4]\n",
    "\n",
    "for i in range(len(first)-1):\n",
    "    j = i+1\n",
    "    while j > 0:\n",
    "        if first[j] < first[j-1]:\n",
    "            first[j], first[j-1] = first[j-1], first[j]\n",
    "        else:\n",
    "            break\n",
    "        j-=1\n",
    "        \n",
    "first\n",
    "           "
   ]
  },
  {
   "cell_type": "code",
   "execution_count": 206,
   "metadata": {},
   "outputs": [
    {
     "name": "stdout",
     "output_type": "stream",
     "text": [
      "[0, 1, 1, 3, 3, 4, 5, 18]\n"
     ]
    }
   ],
   "source": []
  },
  {
   "cell_type": "code",
   "execution_count": 233,
   "metadata": {},
   "outputs": [
    {
     "name": "stdout",
     "output_type": "stream",
     "text": [
      "[0, 1, 1, 2, 3, 3, 5, 18]\n"
     ]
    }
   ],
   "source": [
    "a = [3,2,3,1,5,18,0,1]\n",
    "\n",
    "for i in range(len(a)-1):\n",
    "    k = 0\n",
    "    for j in range(i+1, 0, -1):\n",
    "        if a[i+1]<a[j-1]:\n",
    "            k+=1\n",
    "        else:\n",
    "            break\n",
    "    if k>0:\n",
    "        a.insert(i+1-k,a[i+1])\n",
    "        del a[i+2]\n",
    "        \n",
    "print(a)"
   ]
  },
  {
   "cell_type": "code",
   "execution_count": 235,
   "metadata": {},
   "outputs": [
    {
     "data": {
      "text/plain": [
       "[0, 1, 1, 2, 3, 3, 5, 4, 18]"
      ]
     },
     "execution_count": 235,
     "metadata": {},
     "output_type": "execute_result"
    }
   ],
   "source": [
    "a.insert(-1,4)\n",
    "a"
   ]
  },
  {
   "cell_type": "code",
   "execution_count": 239,
   "metadata": {},
   "outputs": [
    {
     "data": {
      "text/plain": [
       "[0, 1, 1, 2, 3, 3, 5, 18]"
      ]
     },
     "execution_count": 239,
     "metadata": {},
     "output_type": "execute_result"
    }
   ],
   "source": [
    "a = [3,2,3,1,5,18,0,1]\n",
    "for i in range(0,len(a)-1):\n",
    "    for j in range(i+1, 0, -1):\n",
    "        if a[j] < a[j-1]:\n",
    "            a[j], a[j-1] = a[j-1],a[j]\n",
    "        else:\n",
    "            break\n",
    "a"
   ]
  },
  {
   "cell_type": "code",
   "execution_count": 306,
   "metadata": {},
   "outputs": [
    {
     "name": "stdout",
     "output_type": "stream",
     "text": [
      "4\n",
      "3\n",
      "2\n",
      "1\n",
      "16\n",
      "12\n",
      "13\n",
      "2\n",
      "9\n",
      "17\n",
      "5\n",
      "15\n",
      "17\n",
      "1\n",
      "15\n",
      "8\n",
      "18\n",
      "15\n",
      "15\n",
      "12\n",
      "8\n",
      "19\n",
      "7\n",
      "12\n",
      "16\n",
      "19\n",
      "5\n",
      "9\n",
      "19\n",
      "11\n",
      "1\n",
      "3\n",
      "9\n",
      "7\n"
     ]
    }
   ],
   "source": [
    "#linkedList CLASS\n",
    "a = [3,2,3,1,5,18,0,1]\n",
    "\n",
    "class list_node(object):\n",
    "    def __init__(self, val):\n",
    "        self.val = val\n",
    "        self.next = None\n",
    "        \n",
    "class link_list(object):\n",
    "    def __init__(self, list_node):\n",
    "        self.head = list_node\n",
    "        self.tail = list_node\n",
    "        self.len = 1\n",
    "    \n",
    "    def __init__(self):\n",
    "        self.head = None\n",
    "        self.tail = None\n",
    "        self.len = 0\n",
    "        \n",
    "    def add_node(self, list_node):\n",
    "        if self.head == None:\n",
    "            self.head = list_node\n",
    "            self.tail = list_node\n",
    "        else:\n",
    "            self.tail.next = list_node\n",
    "            self.tail = list_node\n",
    "        self.len += 1\n",
    "            \n",
    "    def pop_front(self):\n",
    "        if self.head != None:\n",
    "            h = self.head\n",
    "            self.head = self.head.next\n",
    "            if self.head == None:\n",
    "                self.tail = None\n",
    "                \n",
    "            self.len -= 1\n",
    "            return h\n",
    "        else:\n",
    "            return None\n",
    "        \n",
    "    def print(self):\n",
    "        k = self.head\n",
    "        while k != None:\n",
    "            print(k.val)\n",
    "            k = k.next\n",
    "            \n",
    "    def split(self,l1, l2):\n",
    "        k1 = self.head\n",
    "        k2 = self.head\n",
    "        len1 = 1\n",
    "        while k2.next != None and k2.next.next != None:\n",
    "            len1+=1\n",
    "            k1 = k1.next\n",
    "            k2 = k2.next.next\n",
    "\n",
    "        l1.head = self.head\n",
    "        l1.tail = k1\n",
    "        \n",
    "        l2.head = k1.next\n",
    "        l2.tail = k2 if k2.next == None else k2.next\n",
    "        \n",
    "        l1.tail.next = None\n",
    "        \n",
    "        l1.len = len1\n",
    "        l2.len = self.len - len1\n",
    "        \n",
    "        self.head = None\n",
    "        self.tail = None\n",
    "        self.len = 0\n",
    "        \n",
    "    def concatenate(self, l1, l2):\n",
    "        self.head = l1.head\n",
    "        self.tail = l2.tail\n",
    "        \n",
    "        l1.tail.next = l2.head\n",
    "        \n",
    "        self.len = l1.len+l2.len\n",
    "        l1.head = None\n",
    "        l2.head = None\n",
    "        \n",
    "    def sort_concatenate(self, l1, l2):\n",
    "        while l1.head != None and l2.head != None:\n",
    "            if l1.head.val < l2.head.val:\n",
    "                self.add_node(l1.pop_front())\n",
    "            else:\n",
    "                self.add_node(l2.pop_front())\n",
    "                \n",
    "        while l1.head != None:\n",
    "            self.add_node(l1.pop_front())\n",
    "        while l2.head != None:\n",
    "            self.add_node(l2.pop_front())\n",
    "        \n",
    "    def length(self):\n",
    "        le = 0\n",
    "        h = self.head\n",
    "        while h != None:\n",
    "            le+=1\n",
    "            h = h.next\n",
    "        \n",
    "        return le\n",
    "    \n",
    "    def issorted(self):\n",
    "        h = self.head\n",
    "        while h.next != None:\n",
    "            if h.val > h.next.val:\n",
    "                return False\n",
    "            h = h.next\n",
    "            \n",
    "        return True\n",
    "        \n",
    "la = list_node(4)\n",
    "la1 = list_node(3)\n",
    "la2 = list_node(2)\n",
    "la3 = list_node(1)\n",
    "l = link_list()\n",
    "l.add_node(list_node(4))\n",
    "l.add_node(list_node(3))\n",
    "l.add_node(list_node(2))\n",
    "l.add_node(list_node(1))\n",
    "for i in range(30):\n",
    "    l.add_node(list_node(random.randint(0,20)))\n",
    "#l.print()\n",
    "l1 = link_list()\n",
    "l2 = link_list()\n",
    "l.split(l1,l2)\n",
    "#l1.print()\n",
    "# l2.print()\n",
    "l.concatenate(l1,l2)\n",
    "l.len\n",
    "\n",
    "l.print()"
   ]
  },
  {
   "cell_type": "code",
   "execution_count": 326,
   "metadata": {},
   "outputs": [
    {
     "name": "stdout",
     "output_type": "stream",
     "text": [
      "True\n",
      "True\n",
      "True\n",
      "True\n",
      "True\n",
      "True\n",
      "True\n",
      "True\n",
      "True\n",
      "True\n",
      "True\n",
      "True\n",
      "True\n",
      "True\n",
      "True\n",
      "True\n",
      "True\n",
      "True\n",
      "True\n",
      "True\n",
      "True\n",
      "True\n",
      "True\n",
      "True\n",
      "True\n",
      "True\n",
      "True\n",
      "True\n",
      "True\n",
      "True\n",
      "True\n",
      "True\n",
      "True\n",
      "True\n",
      "True\n",
      "True\n",
      "True\n",
      "True\n",
      "True\n",
      "True\n",
      "True\n",
      "True\n",
      "True\n",
      "True\n",
      "True\n",
      "True\n",
      "True\n",
      "True\n",
      "True\n",
      "True\n",
      "True\n",
      "True\n",
      "True\n",
      "True\n",
      "True\n",
      "True\n",
      "True\n",
      "True\n",
      "True\n",
      "True\n",
      "True\n",
      "True\n",
      "True\n",
      "True\n",
      "True\n",
      "True\n",
      "True\n",
      "True\n",
      "True\n",
      "True\n",
      "True\n",
      "True\n",
      "True\n",
      "True\n",
      "True\n",
      "True\n",
      "True\n",
      "True\n",
      "True\n",
      "True\n",
      "True\n",
      "True\n",
      "True\n",
      "True\n",
      "True\n",
      "True\n",
      "True\n",
      "True\n",
      "True\n",
      "True\n",
      "True\n",
      "True\n",
      "True\n",
      "True\n",
      "True\n",
      "True\n",
      "True\n",
      "True\n",
      "True\n",
      "True\n"
     ]
    }
   ],
   "source": [
    "def merge_sort(l):\n",
    "    k = l.len\n",
    "    if k>1:#l.length() > 1:\n",
    "        l1 = link_list()\n",
    "        l2 = link_list()\n",
    "        l.split(l1,l2)\n",
    "        merge_sort(l1)\n",
    "        merge_sort(l2)\n",
    "        l.sort_concatenate(l1,l2)\n",
    "        #merge(l,l1,l2)\n",
    "        del l1,l2\n",
    "\n",
    "def merge(l,l1,l2):\n",
    "    \n",
    "    while l1.head != None and l2.head != None:\n",
    "        if l1.head.val < l2.head.val:\n",
    "            l.add_node(l1.pop_front())\n",
    "        else:\n",
    "            l.add_node(l2.pop_front())\n",
    "    \n",
    "    while l1.head != None:\n",
    "        l.add_node(l1.pop_front())\n",
    "    \n",
    "    while l2.head != None:\n",
    "        l.add_node(l2.pop_front())\n",
    "\n",
    "for i in range(100):\n",
    "    l = link_list()\n",
    "    for i in range(10):\n",
    "        l.add_node(list_node(random.randint(0,20)))\n",
    "    #print(id(l), l.len)\n",
    "    merge_sort(l)\n",
    "    #l.print()\n",
    "    print(l.issorted())"
   ]
  },
  {
   "cell_type": "code",
   "execution_count": 51,
   "metadata": {},
   "outputs": [
    {
     "data": {
      "text/plain": [
       "[1, 3, 2]"
      ]
     },
     "execution_count": 51,
     "metadata": {},
     "output_type": "execute_result"
    }
   ],
   "source": [
    "def permute(nums,j,sm,t_sm,temp=[],ind=[]):\n",
    "    if j == len(nums):\n",
    "        if t_sm[0] > sm:\n",
    "            return temp\n",
    "        return\n",
    "\n",
    "    for i in range(len(nums)):\n",
    "        if i not in ind: \n",
    "            temp.append(nums[i])\n",
    "            ind.append(i)\n",
    "            t_sm[0] = t_sm[0]*10+nums[i]\n",
    "\n",
    "            \n",
    "            permute(nums,j+1,sm,t_sm,temp,ind)\n",
    "            if t_sm[0] > sm:\n",
    "                return temp\n",
    "\n",
    "            temp.pop()\n",
    "            ind.pop()\n",
    "            t_sm[0] = t_sm[0]//10\n",
    "\n",
    "\n",
    "def nextPermutation(nums):\n",
    "    \"\"\"\n",
    "    :type nums: List[int]\n",
    "    :rtype: void Do not return anything, modify nums in-place instead.\n",
    "    \"\"\"\n",
    "    sm = 0\n",
    "    for i in nums:\n",
    "        sm=sm*10+i\n",
    "\n",
    "    t_sm=[0]\n",
    "    t = permute(nums,0,sm,t_sm)\n",
    "\n",
    "    if t == None:\n",
    "        nums.sort()\n",
    "    else:\n",
    "        nums = t\n",
    "        \n",
    "    return nums\n",
    "\n",
    "nums = [1,2,3]\n",
    "nextPermutation(nums)"
   ]
  },
  {
   "cell_type": "code",
   "execution_count": null,
   "metadata": {},
   "outputs": [],
   "source": [
    "#next permutation to give next time. Doest workout by using permutations\n",
    "\n",
    "def permute(nums,j,sm,t_sm,temp=[],ind=[]):\n",
    "    if j == len(nums):\n",
    "        print(t_sm)\n",
    "        if t_sm[0] > sm:\n",
    "            return temp\n",
    "        return\n",
    "\n",
    "    for i in range(len(nums)):\n",
    "        if i not in ind: \n",
    "            temp.append(nums[i])\n",
    "            ind.append(i)\n",
    "            t_sm[0] = t_sm[0]*10+nums[i]\n",
    "            \n",
    "            if temp[0] < 3:\n",
    "                \n",
    "                y = 0\n",
    "                if len(temp) > 1 and temp[0] == 2:\n",
    "                    y = 1\n",
    "                \n",
    "                x = 0\n",
    "                if len(temp) > 2:\n",
    "                    x = 1\n",
    "\n",
    "                if (y==0 or (y==1 and temp[1] < 4)) and (x == 0 or (x == 1 and temp[2] < 6)):\n",
    "                    \n",
    "                    permute(nums,j+1,sm,t_sm,temp,ind)\n",
    "                    if t_sm[0] > sm:\n",
    "                        return temp\n",
    "                    \n",
    "\n",
    "            temp.pop()\n",
    "            ind.pop()\n",
    "            t_sm[0] = t_sm[0]//10\n",
    "\n",
    "\n",
    "def nextPermutation(nums):\n",
    "    \"\"\"\n",
    "    :type nums: List[int]\n",
    "    :rtype: void Do not return anything, modify nums in-place instead.\n",
    "    \"\"\"\n",
    "    sm = 0\n",
    "    for i in nums:\n",
    "        sm=sm*10+i\n",
    "\n",
    "    t_sm=[0]\n",
    "    t = permute(nums,0,sm,t_sm)\n",
    "\n",
    "    if t != None:\n",
    "        nums = t\n",
    "        \n",
    "    return nums\n",
    "\n",
    "nums = [1,3,5,4]\n",
    "nextPermutation(nums)"
   ]
  },
  {
   "cell_type": "code",
   "execution_count": 49,
   "metadata": {},
   "outputs": [
    {
     "data": {
      "text/plain": [
       "[1, 4, 3, 5]"
      ]
     },
     "execution_count": 49,
     "metadata": {},
     "output_type": "execute_result"
    }
   ],
   "source": [
    "nums = [1,3,5,4]\n",
    "sm = 0\n",
    "\n",
    "def lenint(num):\n",
    "    l = 0\n",
    "    while num > 0:\n",
    "        num = num//10\n",
    "        l+=1\n",
    "        \n",
    "    return l\n",
    "      \n",
    "\n",
    "for i in nums:   \n",
    "    sm = sm*10**(lenint(i)) + i\n",
    "    \n",
    "sm\n",
    "\n",
    "s1 = set(nums)\n",
    "while True:\n",
    "       \n",
    "    nums[3]+=1\n",
    "    \n",
    "    if nums[3] >= 10:\n",
    "        nums[3] = 0\n",
    "        nums[2] += 1\n",
    "        if nums[2] >= 6:\n",
    "            nums[2] = 0\n",
    "            nums[1] += 1\n",
    "            if nums[1] >= 10:\n",
    "                nums[1] = 0\n",
    "                nums[0] += 1\n",
    "        \n",
    "#     if nums[2] >= 6:\n",
    "#         nums[2] = 0\n",
    "#         nums[1] += 1\n",
    "#         if nums[1] == 10:\n",
    "#             nums[1] = 0\n",
    "#             nums[0] += 1\n",
    "\n",
    "    \n",
    "#     if nums[1] >= 10:\n",
    "#         nums[1] = 0\n",
    "#         nums[0] += 1\n",
    "    \n",
    "    \n",
    "    if nums[0]>=2 and nums[1] >= 4:\n",
    "        break\n",
    "    else:\n",
    "        if s1 == set(nums):\n",
    "            break\n",
    "    \n",
    "    \n",
    "nums"
   ]
  },
  {
   "cell_type": "code",
   "execution_count": null,
   "metadata": {},
   "outputs": [],
   "source": []
  },
  {
   "cell_type": "code",
   "execution_count": null,
   "metadata": {},
   "outputs": [],
   "source": [
    "l = [2,4,5,17,5,7,9]\n",
    "\n",
    "def "
   ]
  },
  {
   "cell_type": "code",
   "execution_count": 5,
   "metadata": {},
   "outputs": [
    {
     "name": "stdout",
     "output_type": "stream",
     "text": [
      "yes\n"
     ]
    }
   ],
   "source": [
    "k1 = set([1,100,4,200,2,3])\n",
    "k2 = set([3,200,100,4,2,1])\n",
    "if k1 == k2:\n",
    "    print('yes')"
   ]
  },
  {
   "cell_type": "code",
   "execution_count": 62,
   "metadata": {},
   "outputs": [
    {
     "data": {
      "text/plain": [
       "[1, 2, 3, 4, 8, 12, 16, 15, 14, 13, 9, 5]"
      ]
     },
     "execution_count": 62,
     "metadata": {},
     "output_type": "execute_result"
    }
   ],
   "source": [
    "matrix = [[1,2,3,4],[5,6,7,8],[9,10,11,12],[13,14,15,16]]\n",
    "\n",
    "dr = [0, 1, 0, -1]\n",
    "dc = [1, 0, -1, 0]\n",
    "\n",
    "\n",
    "def spiral(matrix, r, c, dr, dc, visited, count=1, temp=[], i1=0):\n",
    "    #print(r,c)\n",
    "\n",
    "    visited[r][c] = True\n",
    "\n",
    "    temp.append(matrix[r][c])\n",
    "    #print(count)\n",
    "\n",
    "    if count == len(matrix)*len(matrix[r]):\n",
    "        return temp\n",
    "\n",
    "\n",
    "    for i in range(i1,4):\n",
    "        nr = r+dr[i]\n",
    "        nc = c+dc[i]\n",
    "        i1 = i\n",
    "        if 0 <= nr < len(matrix) and 0 <= nc < len(matrix[0]) and not visited[nr][nc]:\n",
    "            t = spiral(matrix, nr, nc, dr, dc, visited, count+1, temp, i1)\n",
    "            return t\n",
    "\n",
    "    return temp\n",
    "ans = []\n",
    "if matrix:\n",
    "\n",
    "    visited = [ [False]*len(matrix[0]) for _ in matrix]\n",
    "\n",
    "    ans = spiral(matrix, 0, 0, dr, dc, visited)\n",
    "\n",
    "ans"
   ]
  },
  {
   "cell_type": "code",
   "execution_count": null,
   "metadata": {},
   "outputs": [],
   "source": []
  }
 ],
 "metadata": {
  "kernelspec": {
   "display_name": "Python 3",
   "language": "python",
   "name": "python3"
  },
  "language_info": {
   "codemirror_mode": {
    "name": "ipython",
    "version": 3
   },
   "file_extension": ".py",
   "mimetype": "text/x-python",
   "name": "python",
   "nbconvert_exporter": "python",
   "pygments_lexer": "ipython3",
   "version": "3.5.5"
  }
 },
 "nbformat": 4,
 "nbformat_minor": 2
}
