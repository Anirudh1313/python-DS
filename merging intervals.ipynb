{
 "cells": [
  {
   "cell_type": "code",
   "execution_count": 3,
   "metadata": {},
   "outputs": [
    {
     "data": {
      "text/plain": [
       "[[0, 5], [10, 14]]"
      ]
     },
     "execution_count": 3,
     "metadata": {},
     "output_type": "execute_result"
    }
   ],
   "source": [
    "#merging intervals\n",
    "\n",
    "intervals = [[3,4],[0,5],[1,0],[10,14]]\n",
    "\n",
    "intervals.sort(key=lambda x: x[0])\n",
    "\n",
    "i = 0\n",
    "while i < len(intervals)-1:\n",
    "    j = i+1\n",
    "    if intervals[i][1] >= intervals[j][0]:\n",
    "        intervals[i][1] = max(intervals[j][1], intervals[i][1])\n",
    "        i-=1\n",
    "        del intervals[j]\n",
    "    i+=1\n",
    "\n",
    "intervals"
   ]
  },
  {
   "cell_type": "code",
   "execution_count": null,
   "metadata": {},
   "outputs": [],
   "source": []
  }
 ],
 "metadata": {
  "kernelspec": {
   "display_name": "Python 3",
   "language": "python",
   "name": "python3"
  },
  "language_info": {
   "codemirror_mode": {
    "name": "ipython",
    "version": 3
   },
   "file_extension": ".py",
   "mimetype": "text/x-python",
   "name": "python",
   "nbconvert_exporter": "python",
   "pygments_lexer": "ipython3",
   "version": "3.5.5"
  }
 },
 "nbformat": 4,
 "nbformat_minor": 2
}
