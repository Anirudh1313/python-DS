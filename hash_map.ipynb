{
 "cells": [
  {
   "cell_type": "code",
   "execution_count": 4,
   "metadata": {},
   "outputs": [],
   "source": [
    "class HashMap:\n",
    "    def __init__(self):\n",
    "        self.store = [None for _ in range(16)]\n",
    "        self.size = 0\n",
    "\n",
    "    def get(self, key):\n",
    "        \n",
    "        key_hash = self._hash(key)\n",
    "        \n",
    "        index = self._position(key_hash)\n",
    "        \n",
    "        if not self.store[index]:\n",
    "            return None\n",
    "        else:\n",
    "            \n",
    "            list_at_index = self.store[index]\n",
    "            \n",
    "            for i in list_at_index:\n",
    "                if i.key == key:\n",
    "                    return i.value\n",
    "                \n",
    "            return None\n",
    "\n",
    "    def put(self, key, value):\n",
    "        \n",
    "        p = Node(key, value)\n",
    "        \n",
    "        key_hash = self._hash(key)\n",
    "        index = self._position(key_hash)\n",
    "        \n",
    "        if not self.store[index]:\n",
    "            self.store[index] = [p]\n",
    "            self.size += 1\n",
    "        else:\n",
    "            list_at_index = self.store[index]\n",
    "            if p not in list_at_index:\n",
    "                list_at_index.append(p)\n",
    "                self.size += 1\n",
    "            else:\n",
    "                for i in list_at_index:\n",
    "                    if i == p:\n",
    "                        i.value = value\n",
    "                        break\n",
    "\n",
    "    def __len__(self):\n",
    "        return self.size\n",
    "\n",
    "    def _hash(self, key):\n",
    "        if isinstance(key, int):\n",
    "            return key\n",
    "        result = 5381\n",
    "        for char in key:\n",
    "            result = 33 * result + ord(char)\n",
    "        return result\n",
    "\n",
    "    def _position(self, key_hash):\n",
    "        return key_hash % 15\n",
    "\n",
    "\n",
    "class Node:\n",
    "    def __init__(self, key, value):\n",
    "        self.key = key\n",
    "        self.value = value\n",
    "\n",
    "    def __eq__(self, other):\n",
    "        return self.key == other.key\n",
    "\n"
   ]
  },
  {
   "cell_type": "code",
   "execution_count": 6,
   "metadata": {},
   "outputs": [
    {
     "name": "stdout",
     "output_type": "stream",
     "text": [
      "11\n",
      "hi\n",
      "None\n"
     ]
    }
   ],
   "source": [
    "if __name__ == '__main__':\n",
    "    hashmap = HashMap()\n",
    "    hashmap.put(2, 12)\n",
    "    hashmap.put('asd', \"hi\")\n",
    "    hashmap.put(2, 11)\n",
    "    print(hashmap.get(2))\n",
    "    print(hashmap.get('asd'))\n",
    "    print(hashmap.get('ade'))"
   ]
  },
  {
   "cell_type": "code",
   "execution_count": null,
   "metadata": {},
   "outputs": [],
   "source": []
  },
  {
   "cell_type": "code",
   "execution_count": null,
   "metadata": {},
   "outputs": [],
   "source": []
  },
  {
   "cell_type": "code",
   "execution_count": null,
   "metadata": {},
   "outputs": [],
   "source": []
  },
  {
   "cell_type": "code",
   "execution_count": null,
   "metadata": {},
   "outputs": [],
   "source": []
  },
  {
   "cell_type": "code",
   "execution_count": null,
   "metadata": {},
   "outputs": [],
   "source": []
  },
  {
   "cell_type": "code",
   "execution_count": null,
   "metadata": {},
   "outputs": [],
   "source": []
  },
  {
   "cell_type": "code",
   "execution_count": null,
   "metadata": {},
   "outputs": [],
   "source": []
  }
 ],
 "metadata": {
  "kernelspec": {
   "display_name": "Python 3",
   "language": "python",
   "name": "python3"
  },
  "language_info": {
   "codemirror_mode": {
    "name": "ipython",
    "version": 3
   },
   "file_extension": ".py",
   "mimetype": "text/x-python",
   "name": "python",
   "nbconvert_exporter": "python",
   "pygments_lexer": "ipython3",
   "version": "3.5.5"
  }
 },
 "nbformat": 4,
 "nbformat_minor": 2
}
