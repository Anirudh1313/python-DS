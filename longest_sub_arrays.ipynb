{
 "cells": [
  {
   "cell_type": "code",
   "execution_count": 5,
   "metadata": {},
   "outputs": [
    {
     "name": "stdout",
     "output_type": "stream",
     "text": [
      "[1, 3, 5] 9\n"
     ]
    }
   ],
   "source": [
    "#longest consecutive subarray with sum = 0\n",
    "l = [1,3,5,-3,-5,4,0,-11]\n",
    "\n",
    "mx = 0\n",
    "f = []\n",
    "for i in range(len(l)-1,-1,-1):\n",
    "    sm = 0\n",
    "    for j in range(i,len(l)):\n",
    "        sm+=l[j]\n",
    "        if mx <= sm:\n",
    "            mx = sm\n",
    "            f = l[i:j+1]\n",
    "            \n",
    "print(f,mx)"
   ]
  },
  {
   "cell_type": "code",
   "execution_count": 11,
   "metadata": {},
   "outputs": [
    {
     "name": "stdout",
     "output_type": "stream",
     "text": [
      "[3, 5, -3, -5] 0\n"
     ]
    }
   ],
   "source": [
    "l = [1,3,5,-3,-5,4,0,-11]\n",
    "k = 0\n",
    "mx = abs(k-l[0])\n",
    "diff = 0\n",
    "f = []\n",
    "for i in range(len(l)-1,-1,-1):\n",
    "    sm = 0\n",
    "    for j in range(i,len(l)):\n",
    "        sm+=l[j]\n",
    "        diff = abs(k-sm)\n",
    "        if diff <= mx:\n",
    "            mx = diff\n",
    "            f = l[i:j+1]\n",
    "            \n",
    "print(f,mx)"
   ]
  },
  {
   "cell_type": "code",
   "execution_count": 8,
   "metadata": {},
   "outputs": [
    {
     "name": "stdout",
     "output_type": "stream",
     "text": [
      "5 0 [(5, 1), (4, 2), (3, 5), (3, 5), (3, 5), (2, 8), (2, 8), (2, 8), (1, None)]\n"
     ]
    },
    {
     "data": {
      "text/plain": [
       "[-5, -4, 3, 4, 5]"
      ]
     },
     "execution_count": 8,
     "metadata": {},
     "output_type": "execute_result"
    }
   ],
   "source": [
    "#longest increasing sub elements\n",
    "\n",
    "a = [-5,-4,3,-3,-5,4,0,-11,5]\n",
    "k = [None]*len(a)\n",
    "k[-1] = (1,None)\n",
    "\n",
    "mx = 0\n",
    "ind = 0\n",
    "for i in range(len(a)-2, -1,-1):\n",
    "    if a[i]<=a[i+1]:\n",
    "        k[i] = (k[i+1][0]+1,i+1)\n",
    "    else:\n",
    "        j = i+2\n",
    "        while j < len(a) and a[j] < a[i]:\n",
    "            j+=1\n",
    "            \n",
    "        if j < len(a):\n",
    "            k[i] = (k[j][0]+1,j)\n",
    "        else:\n",
    "            k[i] = (1,None)\n",
    "            \n",
    "    if mx < k[i][0]:\n",
    "        mx = k[i][0]\n",
    "        ind = i\n",
    "        \n",
    "print(mx,i, k)\n",
    "f = k[i][1]\n",
    "fin = [a[i]]\n",
    "while f != None:\n",
    "    fin.append(a[f])\n",
    "    f = k[f][1]\n",
    "    \n",
    "fin"
   ]
  },
  {
   "cell_type": "code",
   "execution_count": null,
   "metadata": {},
   "outputs": [],
   "source": []
  }
 ],
 "metadata": {
  "kernelspec": {
   "display_name": "Python 3",
   "language": "python",
   "name": "python3"
  },
  "language_info": {
   "codemirror_mode": {
    "name": "ipython",
    "version": 3
   },
   "file_extension": ".py",
   "mimetype": "text/x-python",
   "name": "python",
   "nbconvert_exporter": "python",
   "pygments_lexer": "ipython3",
   "version": "3.5.5"
  }
 },
 "nbformat": 4,
 "nbformat_minor": 2
}
