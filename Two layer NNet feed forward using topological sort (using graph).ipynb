{
 "cells": [
  {
   "cell_type": "code",
   "execution_count": 8,
   "metadata": {},
   "outputs": [
    {
     "data": {
      "text/plain": [
       "{0: [<__main__.neuron at 0x111e08860>,\n",
       "  <__main__.neuron at 0x111e08898>,\n",
       "  <__main__.neuron at 0x111e41438>,\n",
       "  <__main__.neuron at 0x111e41358>,\n",
       "  <__main__.neuron at 0x111e415f8>],\n",
       " 1: [<__main__.neuron at 0x111e414e0>,\n",
       "  <__main__.neuron at 0x111e41c88>,\n",
       "  <__main__.neuron at 0x111e41d68>,\n",
       "  <__main__.neuron at 0x111e41da0>,\n",
       "  <__main__.neuron at 0x111e41d30>],\n",
       " 2: [<__main__.neuron at 0x111e41be0>,\n",
       "  <__main__.neuron at 0x111e41f28>,\n",
       "  <__main__.neuron at 0x111e41898>,\n",
       "  <__main__.neuron at 0x111e41908>,\n",
       "  <__main__.neuron at 0x111e410f0>],\n",
       " 3: [<__main__.neuron at 0x111e419e8>,\n",
       "  <__main__.neuron at 0x111e41080>,\n",
       "  <__main__.neuron at 0x111e419b0>,\n",
       "  <__main__.neuron at 0x111e41b70>,\n",
       "  <__main__.neuron at 0x111e41e10>],\n",
       " 4: [<__main__.neuron at 0x111e08048>],\n",
       " 5: [<__main__.neuron at 0x111e41c18>],\n",
       " 6: [<__main__.neuron at 0x111e41f60>],\n",
       " 7: [<__main__.neuron at 0x111e41ba8>],\n",
       " 8: [<__main__.neuron at 0x111e41a90>],\n",
       " 9: []}"
      ]
     },
     "execution_count": 8,
     "metadata": {},
     "output_type": "execute_result"
    }
   ],
   "source": [
    "#neural networking feed forward using topological sort\n",
    "\n",
    "import random\n",
    "\n",
    "class neuron(object):\n",
    "    def __init__(self, ind, weight, act):\n",
    "        self.index = ind\n",
    "        self.weight = weight\n",
    "        self.act = act\n",
    "\n",
    "        \n",
    "random.seed()\n",
    "        \n",
    "    \n",
    "# network with two layers, one input, one hidden, one output. 6 neurons in total network apart from inputs\n",
    "\n",
    "#fully connected network\n",
    "\n",
    "#inp    neuron1(relu) \n",
    "#inp    neuron2(relu)     output6(sigmoid)\n",
    "#inp    neuron3(relu)\n",
    "#inp    neuron4(relu)\n",
    "#       neuron5(relu)\n",
    "\n",
    "#creating a graph(adjacency list) to represent neural network\n",
    "\n",
    "net = {}\n",
    "inp = [10,10,10,10]\n",
    "actfns = [\"no\",\"no\",\"no\",\"no\",\"relu\",\"relu\",\"relu\",\"relu\",\"relu\",\"sig\"]\n",
    "\n",
    "#initialization of random weights\n",
    "inputs = [neuron(i,random.randint(1,10),1) for i in range(4)]\n",
    "\n",
    "#hidden_layer_1 = [neuron(i,random.rand(0.1,1),\"relu\") for i in range(4,9)]\n",
    "#layer_2 = [neuron(9, ,\"sig\")]\n",
    "\n",
    "hidden_layer_1 = []\n",
    "for i in inputs:\n",
    "    hidden_layer_1 = []\n",
    "    for j in range(4,9):\n",
    "        r = 0.1*random.random()\n",
    "        hidden_layer_1.append(neuron(j,r,\"relu\"))\n",
    "        \n",
    "    net[i.index] = hidden_layer_1\n",
    "\n",
    "for i in hidden_layer_1:\n",
    "    layer_2 = []\n",
    "    layer_2.append(neuron(9,random.random(),\"sig\"))\n",
    "    net[i.index] = layer_2\n",
    "\n",
    "net[9] = []\n",
    "    \n",
    "net"
   ]
  },
  {
   "cell_type": "code",
   "execution_count": 1,
   "metadata": {},
   "outputs": [
    {
     "data": {
      "text/plain": [
       "'  '"
      ]
     },
     "execution_count": 1,
     "metadata": {},
     "output_type": "execute_result"
    }
   ],
   "source": [
    "s = {1,3,4,3,1,4,4,1002,3}"
   ]
  },
  {
   "cell_type": "code",
   "execution_count": 10,
   "metadata": {},
   "outputs": [
    {
     "name": "stdout",
     "output_type": "stream",
     "text": [
      "output of each neuron: \n",
      "\n",
      "First four inputs:  [10, 10, 10, 10]\n",
      "\n",
      "Five hidden layer neurons with Relu:\n",
      " [2.469374406991477, 1.3168962960139283, 2.251723140204315, 2.2236051096081035, 2.4619596694263906]\n",
      "\n",
      "last one after Sigmoid:  0.9986450721443104\n"
     ]
    },
    {
     "data": {
      "text/plain": [
       "[10,\n",
       " 10,\n",
       " 10,\n",
       " 10,\n",
       " 2.469374406991477,\n",
       " 1.3168962960139283,\n",
       " 2.251723140204315,\n",
       " 2.2236051096081035,\n",
       " 2.4619596694263906,\n",
       " 0.9986450721443104]"
      ]
     },
     "execution_count": 10,
     "metadata": {},
     "output_type": "execute_result"
    }
   ],
   "source": [
    "import math\n",
    "#using topological sort to do forward propagation and printing output at each neuron \n",
    "\n",
    "def indegree(net):\n",
    "    indeg = [0]*len(net)\n",
    "    for node in net:\n",
    "        for otnode in net:\n",
    "            if node is not otnode:\n",
    "                for neu in net[otnode]:\n",
    "                    if neu.index == node:\n",
    "                        indeg[node]+=1\n",
    "      \n",
    "    return indeg\n",
    "\n",
    "\n",
    "def calculate_output(net, sumn, indeg):\n",
    "    #activation functions\n",
    "    act = {\"relu\": lambda x: max(0,x), \n",
    "           \"sig\": lambda x: 1/(1+math.exp(-x)), \n",
    "           \"no\": lambda x:x,\n",
    "           \"tanh\": lambda x: math.tanh(x), \n",
    "           \"Elu\": lambda x: max(0.01*x,x)\n",
    "          }\n",
    "\n",
    "    queue = [i for i in range(len(indeg)) if indeg[i] == 0]\n",
    "    \n",
    "    count = 0\n",
    "    \n",
    "    while queue:\n",
    "        \n",
    "        top = queue.pop(0)\n",
    "        \n",
    "        count+=1\n",
    "        \n",
    "        #using activations to get a nonlinear output from neuron\n",
    "        sm_top = act[actfns[top]](sumn[top])\n",
    "                                  \n",
    "        for neu in net[top]:\n",
    "            sumn[neu.index] += sm_top*neu.weight\n",
    "            \n",
    "            indeg[neu.index] -= 1\n",
    "            if indeg[neu.index] == 0:\n",
    "                queue.append(neu.index)\n",
    "            \n",
    "    if count != len(net):\n",
    "        print(\"found circle\")\n",
    "        return\n",
    "    \n",
    "    sumn[-1] = act[neu.act](sumn[-1])\n",
    "    return sumn\n",
    "    \n",
    "    \n",
    "    \n",
    "sumn = [0]*len(net)\n",
    "for i in range(len(inp)):\n",
    "    sumn[i] = inp[i]\n",
    "    \n",
    "indeg = indegree(net)\n",
    "su = calculate_output(net, sumn, indeg)\n",
    "print(\"output of each neuron: \")\n",
    "print(\"\\nFirst four inputs: \" , su[:4])\n",
    "print(\"\\nFive hidden layer neurons with Relu:\\n\",su[4:9])\n",
    "print(\"\\nlast one after Sigmoid: \", su[9])\n",
    "sumn"
   ]
  },
  {
   "cell_type": "code",
   "execution_count": 11,
   "metadata": {},
   "outputs": [
    {
     "data": {
      "text/plain": [
       "[(1, 1)]"
      ]
     },
     "execution_count": 11,
     "metadata": {},
     "output_type": "execute_result"
    }
   ],
   "source": [
    "[(x, y) for x in [1,2] for y in [1, 4] if x == y]"
   ]
  },
  {
   "cell_type": "code",
   "execution_count": 12,
   "metadata": {},
   "outputs": [
    {
     "data": {
      "text/plain": [
       "[(1, 5), (2, 6), (3, 7)]"
      ]
     },
     "execution_count": 12,
     "metadata": {},
     "output_type": "execute_result"
    }
   ],
   "source": [
    "matrix = [\n",
    "        [1, 2, 3],\n",
    "        [5, 6, 7],\n",
    "    ]\n",
    "list(zip(*matrix))"
   ]
  },
  {
   "cell_type": "code",
   "execution_count": 13,
   "metadata": {},
   "outputs": [
    {
     "name": "stdout",
     "output_type": "stream",
     "text": [
      "Alg\n"
     ]
    }
   ],
   "source": [
    "MM = {'Alg': 'MLP'}\n",
    "for k in MM.keys():\n",
    "    print(k)\n"
   ]
  },
  {
   "cell_type": "code",
   "execution_count": 15,
   "metadata": {},
   "outputs": [
    {
     "data": {
      "text/plain": [
       "'canine'"
      ]
     },
     "execution_count": 15,
     "metadata": {},
     "output_type": "execute_result"
    }
   ],
   "source": [
    "class Dog:\n",
    "\n",
    "        kind = 'canine' # class variable shared by all instances\n",
    "\n",
    "        def __init__(self, name):\n",
    "            self.name = name \n",
    "\n",
    "d = Dog('Fido')\n",
    "e = Dog('Sersem')\n",
    "e.kind"
   ]
  },
  {
   "cell_type": "code",
   "execution_count": 20,
   "metadata": {},
   "outputs": [
    {
     "name": "stdout",
     "output_type": "stream",
     "text": [
      "Object `code` not found.\n"
     ]
    },
    {
     "data": {
      "text/plain": [
       "1"
      ]
     },
     "execution_count": 20,
     "metadata": {},
     "output_type": "execute_result"
    }
   ],
   "source": [
    "What is the result of the following python code?\n",
    "\n",
    "def f1(self, x = 1, y = 2):\n",
    "    return min(x, x+y)\n",
    "\n",
    "class CC:\n",
    "     f = f1\n",
    "\n",
    "     def g(self):\n",
    "        return 'hello world'\n",
    "\n",
    "myClass = CC()\n",
    "myClass.f()"
   ]
  },
  {
   "cell_type": "code",
   "execution_count": null,
   "metadata": {},
   "outputs": [],
   "source": [
    "What is the result of the following python code"
   ]
  },
  {
   "cell_type": "code",
   "execution_count": null,
   "metadata": {},
   "outputs": [],
   "source": [
    "What is the result of the following python code"
   ]
  },
  {
   "cell_type": "code",
   "execution_count": null,
   "metadata": {},
   "outputs": [],
   "source": []
  }
 ],
 "metadata": {
  "kernelspec": {
   "display_name": "Python 3",
   "language": "python",
   "name": "python3"
  },
  "language_info": {
   "codemirror_mode": {
    "name": "ipython",
    "version": 3
   },
   "file_extension": ".py",
   "mimetype": "text/x-python",
   "name": "python",
   "nbconvert_exporter": "python",
   "pygments_lexer": "ipython3",
   "version": "3.5.5"
  }
 },
 "nbformat": 4,
 "nbformat_minor": 2
}
