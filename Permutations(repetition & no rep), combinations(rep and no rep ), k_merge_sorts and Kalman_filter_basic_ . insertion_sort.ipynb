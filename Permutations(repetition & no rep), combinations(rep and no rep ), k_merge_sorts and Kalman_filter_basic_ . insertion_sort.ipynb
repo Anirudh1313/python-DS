{
 "cells": [
  {
   "cell_type": "code",
   "execution_count": 93,
   "metadata": {},
   "outputs": [],
   "source": [
    "# Definition for singly-linked list.\n",
    "# class ListNode(object):\n",
    "#     def __init__(self, x):\n",
    "#         self.val = x\n",
    "#         self.next = None\n",
    "\n",
    "class Solution(object):\n",
    "    def mergeKLists(self, lists):\n",
    "        \"\"\"\n",
    "        :type lists: List[ListNode]\n",
    "        :rtype: ListNode\n",
    "        \"\"\"\n",
    "        temp_ptr = list(lists)\n",
    "   \n",
    "        if not len(lists):\n",
    "            return []\n",
    "        \n",
    "        k = ListNode(None)\n",
    "        k1 = k\n",
    "        \n",
    "        while len(temp_ptr):\n",
    "            mn = 9999\n",
    "            index = -1\n",
    "\n",
    "            i = 0\n",
    "            while i < len(temp_ptr):\n",
    "                if temp_ptr[i] != None:\n",
    "                    if mn > temp_ptr[i].val:\n",
    "                        mn = temp_ptr[i].val\n",
    "                        index = i\n",
    "                else:\n",
    "                    del temp_ptr[i]\n",
    "                    i -=1\n",
    "                i+=1\n",
    "\n",
    "            if index != -1:\n",
    "                if k.val == None:\n",
    "                    k.val = mn\n",
    "                else:\n",
    "                    k.next = ListNode(mn)\n",
    "                    k = k.next\n",
    "\n",
    "                if temp_ptr[index].next != None:\n",
    "                    temp_ptr[index] = temp_ptr[index].next\n",
    "                else:\n",
    "                    del temp_ptr[index]\n",
    "            else:\n",
    "                break\n",
    "                \n",
    "        if k1.val != None:\n",
    "            return k1\n",
    "        else:\n",
    "            return []\n",
    "\n",
    "                "
   ]
  },
  {
   "cell_type": "code",
   "execution_count": 2,
   "metadata": {},
   "outputs": [
    {
     "ename": "TypeError",
     "evalue": "'str' object does not support item assignment",
     "output_type": "error",
     "traceback": [
      "\u001b[0;31m---------------------------------------------------------------------------\u001b[0m",
      "\u001b[0;31mTypeError\u001b[0m                                 Traceback (most recent call last)",
      "\u001b[0;32m<ipython-input-2-ab9224aa9dc0>\u001b[0m in \u001b[0;36m<module>\u001b[0;34m()\u001b[0m\n\u001b[1;32m      1\u001b[0m \u001b[0ms\u001b[0m \u001b[0;34m=\u001b[0m \u001b[0;34m'abc'\u001b[0m\u001b[0;34m\u001b[0m\u001b[0m\n\u001b[0;32m----> 2\u001b[0;31m \u001b[0ms\u001b[0m\u001b[0;34m[\u001b[0m\u001b[0;36m0\u001b[0m\u001b[0;34m]\u001b[0m \u001b[0;34m=\u001b[0m \u001b[0;34m'b'\u001b[0m\u001b[0;34m\u001b[0m\u001b[0m\n\u001b[0m\u001b[1;32m      3\u001b[0m \u001b[0ms\u001b[0m\u001b[0;34m\u001b[0m\u001b[0m\n",
      "\u001b[0;31mTypeError\u001b[0m: 'str' object does not support item assignment"
     ]
    }
   ],
   "source": []
  },
  {
   "cell_type": "code",
   "execution_count": 7,
   "metadata": {},
   "outputs": [
    {
     "name": "stdout",
     "output_type": "stream",
     "text": [
      "(1, 1)\n",
      "(2, 6)\n",
      "(3, 2)\n",
      "(4, 0)\n",
      "(5, 5)\n",
      "(7, 4)\n",
      "(8, 3)\n"
     ]
    }
   ],
   "source": [
    "import heapq\n",
    "\n",
    "k = [(4,0), (1,1), (3,2), (8,3), (7,4), (5,5), (2,6)]\n",
    "\n",
    "heapq.heapify(k)\n",
    "\n",
    "\n",
    "while len(k):\n",
    "    print(heapq.heappop(k))\n",
    "    \n"
   ]
  },
  {
   "cell_type": "code",
   "execution_count": 14,
   "metadata": {},
   "outputs": [
    {
     "data": {
      "text/plain": [
       "{'0': 3, '400-234-089': 3, '400-234-090': 1, '701-080-080': 3}"
      ]
     },
     "execution_count": 14,
     "metadata": {},
     "output_type": "execute_result"
    }
   ],
   "source": [
    "dic = {}\n",
    "dic['400-234-090'] = 1\n",
    "dic['701-080-080'] = 3\n",
    "dic['400-234-089'] = 3\n",
    "dic['0'] = 3\n",
    "dic"
   ]
  },
  {
   "cell_type": "code",
   "execution_count": 15,
   "metadata": {},
   "outputs": [
    {
     "data": {
      "text/plain": [
       "[2, 4]"
      ]
     },
     "execution_count": 15,
     "metadata": {},
     "output_type": "execute_result"
    }
   ],
   "source": [
    "s = [1,2,4,5]\n",
    "s[1:3]"
   ]
  },
  {
   "cell_type": "code",
   "execution_count": 22,
   "metadata": {},
   "outputs": [
    {
     "data": {
      "text/plain": [
       "[-4, -3, 9]"
      ]
     },
     "execution_count": 22,
     "metadata": {},
     "output_type": "execute_result"
    }
   ],
   "source": [
    "import bisect\n",
    "k = [-3,9]\n",
    "bisect.insort(k, -4)\n",
    "k"
   ]
  },
  {
   "cell_type": "code",
   "execution_count": 27,
   "metadata": {},
   "outputs": [],
   "source": [
    "from collections import OrderedDict\n"
   ]
  },
  {
   "cell_type": "code",
   "execution_count": 28,
   "metadata": {},
   "outputs": [],
   "source": [
    "from collections import defaultdict"
   ]
  },
  {
   "cell_type": "code",
   "execution_count": 38,
   "metadata": {},
   "outputs": [
    {
     "ename": "TypeError",
     "evalue": "'dict' object is not an iterator",
     "output_type": "error",
     "traceback": [
      "\u001b[0;31m---------------------------------------------------------------------------\u001b[0m",
      "\u001b[0;31mTypeError\u001b[0m                                 Traceback (most recent call last)",
      "\u001b[0;32m<ipython-input-38-2d88bca093c4>\u001b[0m in \u001b[0;36m<module>\u001b[0;34m()\u001b[0m\n\u001b[1;32m      1\u001b[0m \u001b[0mdic\u001b[0m \u001b[0;34m=\u001b[0m \u001b[0;34m{\u001b[0m\u001b[0;36m1\u001b[0m\u001b[0;34m:\u001b[0m\u001b[0;36m23\u001b[0m\u001b[0;34m,\u001b[0m\u001b[0;36m2\u001b[0m\u001b[0;34m:\u001b[0m\u001b[0;36m33\u001b[0m\u001b[0;34m}\u001b[0m\u001b[0;34m\u001b[0m\u001b[0m\n\u001b[0;32m----> 2\u001b[0;31m \u001b[0mreversed\u001b[0m\u001b[0;34m(\u001b[0m\u001b[0mnext\u001b[0m\u001b[0;34m(\u001b[0m\u001b[0mdic\u001b[0m\u001b[0;34m)\u001b[0m\u001b[0;34m)\u001b[0m\u001b[0;34m\u001b[0m\u001b[0m\n\u001b[0m",
      "\u001b[0;31mTypeError\u001b[0m: 'dict' object is not an iterator"
     ]
    }
   ],
   "source": [
    "dic = {1:23,2:33}\n",
    "reversed(next(dic))"
   ]
  },
  {
   "cell_type": "code",
   "execution_count": null,
   "metadata": {},
   "outputs": [],
   "source": []
  },
  {
   "cell_type": "code",
   "execution_count": 10,
   "metadata": {},
   "outputs": [
    {
     "name": "stdout",
     "output_type": "stream",
     "text": [
      "75 74.66666666666667 68 0.9523809523809523\n",
      "70 72.39024390243902 74.66666666666667 0.48780487804878075\n",
      "71 71.93442622950819 72.39024390243902 0.32786885245901654\n",
      "74 72.44444444444444 71.93442622950819 0.24691358024691368\n",
      "72.44444444444444 72.44444444444444 72.44444444444444 0.19801980198019806\n",
      "72.44444444444444 72.44444444444444 72.44444444444444 0.16528925619834717\n",
      "72.44444444444444 72.44444444444444 72.44444444444444 0.1418439716312057\n",
      "72.44444444444444 72.44444444444444 72.44444444444444 0.12422360248447206\n",
      "72.44444444444444 72.44444444444444 72.44444444444444 0.1104972375690608\n",
      "72.44444444444444 72.44444444444444 72.44444444444444 0.09950248756218906\n"
     ]
    },
    {
     "data": {
      "text/plain": [
       "72.44444444444444"
      ]
     },
     "execution_count": 10,
     "metadata": {},
     "output_type": "execute_result"
    }
   ],
   "source": [
    "#kalman filter\n",
    "\n",
    "import random\n",
    "\n",
    "err_meas = 0.1\n",
    "est_curr = 68\n",
    "est_prev= 0\n",
    "err_est = 2\n",
    "meas = [75,70,71,74]\n",
    "i=0\n",
    "\n",
    "while i < 10:\n",
    "    \n",
    "    est_prev = est_curr\n",
    "    \n",
    "    kg = err_est/(err_est+err_meas)\n",
    "    \n",
    "    if i > 3:\n",
    "        ms = est_curr\n",
    "    else:\n",
    "        ms = meas[i]\n",
    "    \n",
    "    \n",
    "    est_curr = est_prev + kg*(ms - est_prev)\n",
    "    \n",
    "    err_est = (1-kg)*err_est\n",
    "    \n",
    "    print(ms, est_curr, est_prev, kg)\n",
    "    \n",
    "    i+=1\n",
    "    \n",
    "est_curr"
   ]
  },
  {
   "cell_type": "code",
   "execution_count": 88,
   "metadata": {},
   "outputs": [
    {
     "data": {
      "text/plain": [
       "[1, 1, 2, 2, 3, 3, 3, 4, 4, 5, 8, 8, 10]"
      ]
     },
     "execution_count": 88,
     "metadata": {},
     "output_type": "execute_result"
    }
   ],
   "source": [
    "#insertion sort: way 1\n",
    "\n",
    "first = [1,5,3,8,3,8,3,2,4,10,1,2,4]\n",
    "\n",
    "for i in range(len(first)-1):\n",
    "    j = i+1\n",
    "    k = 0\n",
    "    while j > 0:\n",
    "        if first[i+1] < first[j-1]:\n",
    "            k+=1\n",
    "            #first[j], first[j-1] = first[j-1], first[j]\n",
    "          \n",
    "        j-=1\n",
    "        \n",
    "    if k > 0:\n",
    "        val = first[i+1]\n",
    "        del first[i+1]\n",
    "        first.insert(i+1-k, val)\n",
    "        \n",
    "        \n",
    "first\n",
    "            "
   ]
  },
  {
   "cell_type": "code",
   "execution_count": 89,
   "metadata": {},
   "outputs": [
    {
     "data": {
      "text/plain": [
       "[1, 2, 3, 4]"
      ]
     },
     "execution_count": 89,
     "metadata": {},
     "output_type": "execute_result"
    }
   ],
   "source": [
    "k = [1,3,4]\n",
    "k.insert(1,2)\n",
    "k"
   ]
  },
  {
   "cell_type": "code",
   "execution_count": 87,
   "metadata": {},
   "outputs": [
    {
     "data": {
      "text/plain": [
       "[1, 1, 2, 2, 3, 3, 3, 4, 4, 5, 8, 8, 10]"
      ]
     },
     "execution_count": 87,
     "metadata": {},
     "output_type": "execute_result"
    }
   ],
   "source": [
    "#insertion sort: way 2\n",
    "\n",
    "first = [1,5,3,8,3,8,3,2,4,10,1,2,4]\n",
    "\n",
    "for i in range(len(first)-1):\n",
    "    j = i+1\n",
    "    while j > 0:\n",
    "        if first[j] < first[j-1]:\n",
    "            first[j], first[j-1] = first[j-1], first[j]\n",
    "            \n",
    "        j-=1\n",
    "        \n",
    "first\n",
    "           "
   ]
  },
  {
   "cell_type": "code",
   "execution_count": 13,
   "metadata": {},
   "outputs": [
    {
     "data": {
      "text/plain": [
       "array([[0., 2.],\n",
       "       [0., 0.]])"
      ]
     },
     "execution_count": 13,
     "metadata": {},
     "output_type": "execute_result"
    }
   ],
   "source": [
    "import random\n",
    "import numpy as np\n",
    "p = 0.5\n",
    "H1 = np.random.random((2,2))\n",
    "k = (np.random.rand(*H1.shape)<p)/p\n",
    "k"
   ]
  },
  {
   "cell_type": "code",
   "execution_count": 28,
   "metadata": {},
   "outputs": [
    {
     "name": "stdout",
     "output_type": "stream",
     "text": [
      "10\n",
      "9\n",
      "8\n",
      "7\n",
      "6\n",
      "5\n"
     ]
    }
   ],
   "source": [
    "for t1 in range(10, 4, -1):\n",
    "    print(t1)\n",
    "    "
   ]
  },
  {
   "cell_type": "code",
   "execution_count": 89,
   "metadata": {},
   "outputs": [
    {
     "name": "stdout",
     "output_type": "stream",
     "text": [
      "[0, 0, 0, 0, 0]\n",
      "[0, 0, 0, 0, 1]\n",
      "[0, 0, 0, 0, 2]\n",
      "[0, 0, 0, 1, 0]\n",
      "[0, 0, 0, 1, 1]\n",
      "[0, 0, 0, 2, 0]\n",
      "[0, 0, 1, 0, 0]\n",
      "[0, 0, 1, 0, 1]\n",
      "[0, 0, 1, 1, 0]\n",
      "[0, 0, 2, 0, 0]\n",
      "[0, 1, 0, 0, 0]\n",
      "[0, 1, 0, 0, 1]\n",
      "[0, 1, 0, 0, 2]\n",
      "[0, 1, 0, 1, 0]\n",
      "[0, 1, 0, 1, 1]\n",
      "[0, 1, 1, 0, 0]\n",
      "[0, 1, 1, 0, 1]\n",
      "[0, 2, 0, 0, 0]\n",
      "[0, 2, 0, 0, 1]\n",
      "[0, 2, 0, 0, 2]\n",
      "[1, 0, 0, 0, 0]\n",
      "[1, 0, 0, 0, 1]\n",
      "[1, 0, 0, 0, 2]\n",
      "[1, 0, 0, 1, 0]\n",
      "[1, 0, 0, 1, 1]\n",
      "[1, 0, 0, 2, 0]\n",
      "[1, 0, 1, 0, 0]\n",
      "[1, 0, 1, 0, 1]\n",
      "[1, 0, 1, 1, 0]\n",
      "[1, 1, 0, 0, 0]\n",
      "[1, 1, 0, 0, 1]\n",
      "[1, 1, 0, 0, 2]\n",
      "[1, 1, 0, 1, 0]\n",
      "[1, 1, 0, 1, 1]\n",
      "[2, 0, 0, 0, 0]\n",
      "[2, 0, 0, 0, 1]\n",
      "[2, 0, 0, 0, 2]\n",
      "[2, 0, 0, 1, 0]\n",
      "[2, 0, 0, 1, 1]\n",
      "[2, 0, 0, 2, 0]\n"
     ]
    }
   ],
   "source": [
    "#number of repeatative permutation N^k and T concecutive number of choices sum shouldn't cross T.\n",
    "\n",
    "def tv(temp, T):\n",
    "    for t in range(len(temp)):\n",
    "        tsum = 0\n",
    "        for t1 in range(t,min(t+T, len(temp))):\n",
    "            tsum += temp[t1]\n",
    "        if tsum > T:\n",
    "            return False\n",
    "        \n",
    "    return True\n",
    "            \n",
    "def func(temp, j, N, K, T):\n",
    "    if j == K:\n",
    "        print(temp)\n",
    "        return\n",
    "    \n",
    "    for i in range(N):\n",
    "        tsum = i\n",
    "        \n",
    "        for t in range( max(0,len(temp)-T) , len(temp)):\n",
    "        #for t in range(len(temp)-1, max(-1,len(temp)-2-T), -1):\n",
    "            tsum += temp[t]\n",
    "            \n",
    "        if tsum <= T:\n",
    "            temp.append(i)\n",
    "\n",
    "            func(temp,j+1,N,K, T)\n",
    "\n",
    "            temp.pop()\n",
    "\n",
    "    \n",
    "N = 4\n",
    "K = 5\n",
    "T = 2\n",
    "func([], 0, N, K, T)"
   ]
  },
  {
   "cell_type": "code",
   "execution_count": 149,
   "metadata": {},
   "outputs": [
    {
     "name": "stdout",
     "output_type": "stream",
     "text": [
      "[[0, 1, 2], [0, 1, 3], [0, 1, 4], [0, 2, 1], [0, 2, 3], [0, 2, 4], [0, 3, 1], [0, 3, 2], [0, 3, 4], [0, 4, 1], [0, 4, 2], [0, 4, 3], [1, 0, 2], [1, 0, 3], [1, 0, 4], [1, 2, 0], [1, 2, 3], [1, 2, 4], [1, 3, 0], [1, 3, 2], [1, 3, 4], [1, 4, 0], [1, 4, 2], [1, 4, 3], [2, 0, 1], [2, 0, 3], [2, 0, 4], [2, 1, 0], [2, 1, 3], [2, 1, 4], [2, 3, 0], [2, 3, 1], [2, 3, 4], [2, 4, 0], [2, 4, 1], [2, 4, 3], [3, 0, 1], [3, 0, 2], [3, 0, 4], [3, 1, 0], [3, 1, 2], [3, 1, 4], [3, 2, 0], [3, 2, 1], [3, 2, 4], [3, 4, 0], [3, 4, 1], [3, 4, 2], [4, 0, 1], [4, 0, 2], [4, 0, 3], [4, 1, 0], [4, 1, 2], [4, 1, 3], [4, 2, 0], [4, 2, 1], [4, 2, 3], [4, 3, 0], [4, 3, 1], [4, 3, 2]]\n"
     ]
    }
   ],
   "source": [
    "#number of non repeatative permutation N^k and T concecutive number of choices sum shouldn't cross T.\n",
    "\n",
    "def valid(temp):\n",
    "    for t in range(len(temp)-1):\n",
    "        if temp[t] >= temp[t+1]:\n",
    "            return False\n",
    "    return True\n",
    "            \n",
    "def func(temp, j, N, K, T, final):\n",
    "    if j == K:\n",
    "        #print(temp)\n",
    "        final.append(list(temp))\n",
    "        return\n",
    "    \n",
    "    for i in range(N):\n",
    "        if i not in temp:\n",
    "            temp.append(i)\n",
    " \n",
    "            func(temp,j+1,N,K, T, final)\n",
    "            \n",
    "            temp.pop()\n",
    "        \n",
    "    \n",
    "N = 5\n",
    "K = 3\n",
    "T = 2\n",
    "final = []\n",
    "func([], 0, N, K, T, final)\n",
    "print(final)"
   ]
  },
  {
   "cell_type": "code",
   "execution_count": 99,
   "metadata": {},
   "outputs": [
    {
     "name": "stdout",
     "output_type": "stream",
     "text": [
      "[[1, 1, 2], [1, 2, 1], [1, 1, 2], [1, 2, 1], [2, 1, 1], [2, 1, 1]]\n",
      "6\n"
     ]
    }
   ],
   "source": [
    "#number of non permutation N^k without dubs\n",
    "\n",
    "def tv(temp, T):\n",
    "    for t in range(len(temp)):\n",
    "        tsum = 0\n",
    "        for t1 in range(t,min(t+T, len(temp))):\n",
    "            tsum += temp[t1]\n",
    "        if tsum > T:\n",
    "            return False\n",
    "        \n",
    "    return True\n",
    "            \n",
    "\n",
    "def func(temp, j, N, K, final, ind=[]):\n",
    "    if j == len(N):\n",
    "        #print(temp)\n",
    "        final.append(list(temp))\n",
    "        return\n",
    "    \n",
    "    for i in range(len(N)):\n",
    "        if i not in ind: \n",
    "            temp.append(N[i])\n",
    "            ind.append(i)\n",
    "            func(temp,j+1,,K, final,ind)\n",
    "            ind.pop()\n",
    "            temp.pop()\n",
    "        \n",
    "\n",
    "N = [1,1,2]\n",
    "K = 3\n",
    "final = []\n",
    "func([], 0, N, K, final)\n",
    "print(final)\n",
    "print(len(final))"
   ]
  },
  {
   "cell_type": "code",
   "execution_count": 81,
   "metadata": {},
   "outputs": [
    {
     "name": "stdout",
     "output_type": "stream",
     "text": [
      "y\n"
     ]
    }
   ],
   "source": [
    "print('y')"
   ]
  },
  {
   "cell_type": "code",
   "execution_count": 18,
   "metadata": {},
   "outputs": [
    {
     "name": "stdout",
     "output_type": "stream",
     "text": [
      "[0, 1, 2]\n",
      "[0, 1, 3]\n",
      "[0, 1, 4]\n",
      "[0, 2, 3]\n",
      "[0, 2, 4]\n",
      "[0, 3, 4]\n",
      "[1, 2, 3]\n",
      "[1, 2, 4]\n",
      "[1, 3, 4]\n",
      "[2, 3, 4]\n"
     ]
    }
   ],
   "source": [
    "#number of non repeatative combination N^k\n",
    "\n",
    "def valid(temp):\n",
    "    for t in range(len(temp)-1):\n",
    "        if temp[t] >= temp[t+1]:\n",
    "            return False\n",
    "    return True\n",
    "            \n",
    "def func(temp, j, N, K, T):\n",
    "    if j == K:\n",
    "        print(temp)\n",
    "        \n",
    "        return\n",
    "    \n",
    "    for i in range(N):\n",
    "        if len(temp) == 0 or i > temp[-1]:\n",
    "            temp.append(i)\n",
    "        \n",
    "        #if valid(temp):\n",
    "            func(temp,j+1,N,K, T)\n",
    "            \n",
    "            temp.pop()\n",
    "        \n",
    "    \n",
    "N = 5\n",
    "K = 3\n",
    "T = 2\n",
    "func([], 0, N, K, T)"
   ]
  },
  {
   "cell_type": "code",
   "execution_count": 35,
   "metadata": {},
   "outputs": [
    {
     "name": "stdout",
     "output_type": "stream",
     "text": [
      "[0, 0, 0]\n",
      "[0, 0, 1]\n",
      "[0, 0, 2]\n",
      "[0, 1, 1]\n",
      "[0, 1, 2]\n",
      "[0, 2, 2]\n",
      "[1, 1, 1]\n",
      "[1, 1, 2]\n",
      "[1, 2, 2]\n",
      "[2, 2, 2]\n"
     ]
    }
   ],
   "source": [
    "#number of repeatative combination N^k and T concecutive number of choices sum shouldn't cross T.\n",
    "\n",
    "def func(temp, j, N, K, T):\n",
    "    if j == K:\n",
    "        print(temp)\n",
    "        \n",
    "        return\n",
    "    \n",
    "    for i in range(N):\n",
    "        if len(temp) == 0 or i >= temp[-1]:\n",
    "            temp.append(i)\n",
    "\n",
    "            func(temp,j+1,N,K, T)\n",
    "            \n",
    "            temp.pop()\n",
    "        \n",
    "    \n",
    "N = 3\n",
    "K = 3\n",
    "T = 2\n",
    "func([], 0, N, K, T)"
   ]
  },
  {
   "cell_type": "code",
   "execution_count": 113,
   "metadata": {},
   "outputs": [
    {
     "name": "stdout",
     "output_type": "stream",
     "text": [
      "[3, 0, 10, 4]\n",
      "[3, 0, 10] 3\n",
      "[3, 0, 4] 4\n",
      "[3, 10, 4] 4\n",
      "[0, 10, 4] 4\n",
      "4\n"
     ]
    }
   ],
   "source": [
    "#number of non repeatative combination N^k and from an array\n",
    "import random\n",
    "\n",
    "a = [random.randint(1, 100) for i in range(100)]\n",
    "a = [3,0,10,4]\n",
    "print(a)\n",
    "\n",
    "def func(temp, j, N, K, T, i1 = 0):\n",
    "    if j == K:\n",
    "        print(temp, i1)\n",
    "        T[0]+=1\n",
    "        return\n",
    "    \n",
    "    for i in range(i1,len(N)):\n",
    "        #if len(temp) == 0 or N[i] > temp[-1][0]:\n",
    "        temp.append(N[i])\n",
    "        #print(temp)\n",
    "\n",
    "        func(temp,j+1,N,K, T, i+1)\n",
    "\n",
    "        temp.pop()\n",
    "        \n",
    "    \n",
    "\n",
    "N = a\n",
    "K = 3\n",
    "T = [0]\n",
    "func([], 0, N, K, T)\n",
    "print(T[0])"
   ]
  },
  {
   "cell_type": "code",
   "execution_count": 13,
   "metadata": {},
   "outputs": [
    {
     "name": "stdout",
     "output_type": "stream",
     "text": [
      "[3, 0, 10, 4]\n",
      "[(0, 3), (0, 3), (0, 3)]\n",
      "[(0, 3), (0, 3), (1, 0)]\n",
      "[(0, 3), (0, 3), (2, 10)]\n",
      "[(0, 3), (0, 3), (3, 4)]\n",
      "[(0, 3), (1, 0), (1, 0)]\n",
      "[(0, 3), (1, 0), (2, 10)]\n",
      "[(0, 3), (1, 0), (3, 4)]\n",
      "[(0, 3), (2, 10), (2, 10)]\n",
      "[(0, 3), (2, 10), (3, 4)]\n",
      "[(0, 3), (3, 4), (3, 4)]\n",
      "[(1, 0), (1, 0), (1, 0)]\n",
      "[(1, 0), (1, 0), (2, 10)]\n",
      "[(1, 0), (1, 0), (3, 4)]\n",
      "[(1, 0), (2, 10), (2, 10)]\n",
      "[(1, 0), (2, 10), (3, 4)]\n",
      "[(1, 0), (3, 4), (3, 4)]\n",
      "[(2, 10), (2, 10), (2, 10)]\n",
      "[(2, 10), (2, 10), (3, 4)]\n",
      "[(2, 10), (3, 4), (3, 4)]\n",
      "[(3, 4), (3, 4), (3, 4)]\n",
      "20\n"
     ]
    }
   ],
   "source": [
    "#number of repeatative combination N^k and T concecutive number of choices sum shouldn't cross T.\n",
    "import random\n",
    "\n",
    "a = [random.randint(1, 100) for i in range(100)]\n",
    "a = [3,0,10,4]\n",
    "print(a)\n",
    "\n",
    "def func(temp, j, N, K, T):\n",
    "    if j == K:\n",
    "        print(temp)\n",
    "        T[0]+=1\n",
    "        return\n",
    "    \n",
    "    for i in range(0 if not temp else temp[-1][0], len(N)):\n",
    "        #if len(temp) == 0 or i > temp[-1][0]:\n",
    "        temp.append((i,N[i]))\n",
    "        #print(temp)\n",
    "\n",
    "        func(temp,j+1,N,K, T)\n",
    "\n",
    "        temp.pop()\n",
    "        \n",
    "    \n",
    "\n",
    "N = a\n",
    "K = 3\n",
    "T = [0]\n",
    "func([], 0, N, K, T)\n",
    "print(T[0])"
   ]
  },
  {
   "cell_type": "code",
   "execution_count": 22,
   "metadata": {},
   "outputs": [
    {
     "name": "stdout",
     "output_type": "stream",
     "text": [
      "[3, 0, 10, 4]\n",
      "[3, 0, 10]\n",
      "[3, 0, 4]\n",
      "[3, 10, 4]\n",
      "[0, 10, 4]\n",
      "4\n"
     ]
    }
   ],
   "source": [
    "#number of non repeatative combination N^k and T concecutive number of choices sum shouldn't cross T.\n",
    "import random\n",
    "\n",
    "a = [random.randint(1, 100) for i in range(100)]\n",
    "a = [3,0,10,4]\n",
    "print(a)\n",
    "\n",
    "#i1 should be kept to zero if i1 is used in for loop instead of i1-1\n",
    "def func(temp, j, N, K, T, i1 = 0):\n",
    "    if j == K:\n",
    "        print(temp)\n",
    "        T[0]+=1\n",
    "        return\n",
    "    \n",
    "    for i in range(i1, len(N)):\n",
    "        #if len(temp) == 0 or i >= temp[-1][0]:\n",
    "        temp.append(N[i])\n",
    "        #print(temp)\n",
    "\n",
    "        func(temp,j+1,N,K, T, i+1)\n",
    "\n",
    "        temp.pop()\n",
    "        \n",
    "    \n",
    "\n",
    "N = a\n",
    "K = 3\n",
    "T = [0]\n",
    "func([], 0, N, K, T)\n",
    "print(T[0])"
   ]
  },
  {
   "cell_type": "code",
   "execution_count": 15,
   "metadata": {},
   "outputs": [
    {
     "name": "stdout",
     "output_type": "stream",
     "text": [
      "[3, 0, 10, 4]\n",
      "[(0, 3), (0, 3), (0, 3)]\n",
      "[(0, 3), (0, 3), (1, 0)]\n",
      "[(0, 3), (0, 3), (2, 10)]\n",
      "[(0, 3), (0, 3), (3, 4)]\n",
      "[(0, 3), (1, 0), (1, 0)]\n",
      "[(0, 3), (1, 0), (2, 10)]\n",
      "[(0, 3), (1, 0), (3, 4)]\n",
      "[(0, 3), (2, 10), (2, 10)]\n",
      "[(0, 3), (2, 10), (3, 4)]\n",
      "[(0, 3), (3, 4), (3, 4)]\n",
      "[(1, 0), (1, 0), (1, 0)]\n",
      "[(1, 0), (1, 0), (2, 10)]\n",
      "[(1, 0), (1, 0), (3, 4)]\n",
      "[(1, 0), (2, 10), (2, 10)]\n",
      "[(1, 0), (2, 10), (3, 4)]\n",
      "[(1, 0), (3, 4), (3, 4)]\n",
      "[(2, 10), (2, 10), (2, 10)]\n",
      "[(2, 10), (2, 10), (3, 4)]\n",
      "[(2, 10), (3, 4), (3, 4)]\n",
      "[(3, 4), (3, 4), (3, 4)]\n",
      "20\n"
     ]
    }
   ],
   "source": [
    "#number of repeatative combination N^k and T concecutive number of choices sum shouldn't cross T.\n",
    "import random\n",
    "\n",
    "a = [random.randint(1, 100) for i in range(100)]\n",
    "a = [3,0,10,4]\n",
    "print(a)\n",
    "\n",
    "def func(temp, j, N, K, T):\n",
    "    if j == K:\n",
    "        print(temp)\n",
    "        T[0]+=1\n",
    "        return\n",
    "    \n",
    "    for i in range(len(N)):\n",
    "        if len(temp) == 0 or i >= temp[-1][0]:\n",
    "            temp.append((i,N[i]))\n",
    "        #print(temp)\n",
    "\n",
    "            func(temp,j+1,N,K, T)\n",
    "\n",
    "            temp.pop()\n",
    "        \n",
    "    \n",
    "\n",
    "N = a\n",
    "K = 3\n",
    "T = [0]\n",
    "func([], 0, N, K, T)\n",
    "print(T[0])"
   ]
  },
  {
   "cell_type": "code",
   "execution_count": 23,
   "metadata": {},
   "outputs": [
    {
     "data": {
      "text/plain": [
       "'a b c'"
      ]
     },
     "execution_count": 23,
     "metadata": {},
     "output_type": "execute_result"
    }
   ],
   "source": [
    "a = ['a','b','c']\n",
    "a1 = \" \".join(a)\n",
    "a1"
   ]
  },
  {
   "cell_type": "code",
   "execution_count": 39,
   "metadata": {},
   "outputs": [
    {
     "name": "stdout",
     "output_type": "stream",
     "text": [
      "[1, 1, 1, 1, 1, 1, 1, 1, 1, 1, 1, 1, 1]\n",
      "[1, 1, 1, 1, 1, 1, 1, 1, 1, 4]\n",
      "[1, 1, 1, 1, 1, 4, 4]\n",
      "[1, 1, 1, 1, 9]\n",
      "[1, 4, 4, 4]\n",
      "[4, 9]\n"
     ]
    },
    {
     "data": {
      "text/plain": [
       "[[4, 9]]"
      ]
     },
     "execution_count": 39,
     "metadata": {},
     "output_type": "execute_result"
    }
   ],
   "source": [
    "#sum perfect squares equal to n given n value (min count) \n",
    "\n",
    "def ispsq(n):\n",
    "    if n == 1:\n",
    "        return True\n",
    "    elif n < 1:\n",
    "        return False\n",
    "    \n",
    "    i = 0\n",
    "    while i <= n//2:\n",
    "        if i*i == n:\n",
    "            return True\n",
    "        i+=1\n",
    "        \n",
    "    return False\n",
    "\n",
    "def per_sq(n,j,mn,fin,cost=0,temp=[],i1=0):\n",
    "    if j >= n:\n",
    "        if j == n:\n",
    "            print(temp)\n",
    "            if mn[0] > cost:\n",
    "                mn[0] = cost\n",
    "                fin[0] = list(temp)\n",
    "    \n",
    "        return \n",
    "    \n",
    "    \n",
    "    for i in range(0 if i1 == 0 else i1-1, n):\n",
    "        if ispsq(i):\n",
    "            j+=i\n",
    "            temp.append(i)\n",
    "            per_sq(n,j,mn,fin,cost+1,temp,i+1)\n",
    "            j-=i\n",
    "            temp.pop()\n",
    "            \n",
    "\n",
    "n = 13\n",
    "j = 0\n",
    "mn = [n]\n",
    "fin = [0]\n",
    "per_sq(n,j,mn,fin)   \n",
    "fin"
   ]
  },
  {
   "cell_type": "code",
   "execution_count": 255,
   "metadata": {},
   "outputs": [
    {
     "data": {
      "text/plain": [
       "[3, 3, 2, 1, 2, 4, 3, 2, 1, 3, 2, 1, 0]"
      ]
     },
     "execution_count": 255,
     "metadata": {},
     "output_type": "execute_result"
    }
   ],
   "source": [
    "#sum of perfect squares\n",
    "import math\n",
    "\n",
    "a = 12\n",
    "inf = 2**16\n",
    "arr = [None]*(a+1)\n",
    "arr[-1] = 0\n",
    "dlist = [[]]*(a+1)\n",
    "dlist[-1] = [0]\n",
    "\n",
    "for i in range(a,0,-1):\n",
    "    for j in range(1,int(math.sqrt(i))+1):\n",
    "            if arr[i-j*j] == None:\n",
    "                arr[i-j*j] = arr[i]+1\n",
    "                lis.append(i)\n",
    "\n",
    "            elif arr[i-j*j] != None:\n",
    "                arr[i-j*j] = min(arr[i]+1, arr[i-j*j])\n",
    "        \n",
    "arr"
   ]
  },
  {
   "cell_type": "code",
   "execution_count": 38,
   "metadata": {},
   "outputs": [
    {
     "data": {
      "text/plain": [
       "1.4142135623730951"
      ]
     },
     "execution_count": 38,
     "metadata": {},
     "output_type": "execute_result"
    }
   ],
   "source": [
    "import math\n",
    "math.sqrt(2)"
   ]
  },
  {
   "cell_type": "code",
   "execution_count": 69,
   "metadata": {},
   "outputs": [
    {
     "name": "stdout",
     "output_type": "stream",
     "text": [
      "[[2, 10], [3, 15], [5, 15], [7, 15], [9, 12], [12, 12], [15, 10], [19, 10], [20, 10], [24, 8]]\n"
     ]
    },
    {
     "data": {
      "text/plain": [
       "[[2, 10], [3, 15], [7, 12], [12, 10], [20, 8]]"
      ]
     },
     "execution_count": 69,
     "metadata": {},
     "output_type": "execute_result"
    }
   ],
   "source": [
    "#skyline\n",
    "sk = [ [2, 9, 10], [5, 12, 12], [15, 20, 10], [3, 7, 15], [19, 24, 8] ]\n",
    "        \n",
    "mx = 0  \n",
    "fin = []\n",
    "for i in range(len(sk)):\n",
    "    tmx1 = sk[i][2]\n",
    "    tmx2 = sk[i][2]\n",
    "    for j in range(len(sk)):\n",
    "        if i!=j:\n",
    "            if sk[i][0] >= sk[j][0] and sk[i][0] <= sk[j][1]:\n",
    "                if tmx1 < sk[j][2]:\n",
    "                    tmx1 = sk[j][2]\n",
    "                    \n",
    "            if sk[i][1] >= sk[j][0] and sk[i][1] <= sk[j][1]:\n",
    "                if tmx2 < sk[j][2]:\n",
    "                    tmx2 = sk[j][2]\n",
    "        \n",
    "    fin.append([sk[i][0], tmx1])\n",
    "    fin.append([sk[i][1], tmx2])\n",
    "\n",
    "fin.sort(key = lambda x:x[0])\n",
    "f = []\n",
    "f.append(fin[0])\n",
    "for i in range(0,len(fin)-1):\n",
    "    if fin[i][1] < fin[i+1][1]:\n",
    "        f.append(fin[i+1])\n",
    "    elif fin[i][1] > fin[i+1][1]:\n",
    "        f.append([fin[i][0], fin[i+1][1]])\n",
    "print(fin)\n",
    "f\n"
   ]
  },
  {
   "cell_type": "code",
   "execution_count": 96,
   "metadata": {},
   "outputs": [
    {
     "name": "stdout",
     "output_type": "stream",
     "text": [
      "0\n",
      "1\n",
      "2\n",
      "3\n",
      "4\n",
      "5\n",
      "6\n",
      "8\n"
     ]
    }
   ],
   "source": [
    "k = 2\n",
    "for i in range(10):\n",
    "    k -=1\n",
    "    if k == 0:\n",
    "        k+=2\n",
    "        continue\n",
    "    print(i)\n",
    "    if i == 6 or i == 8:\n",
    "        i+=1\n",
    "        k-=1\n",
    "    k+=1"
   ]
  },
  {
   "cell_type": "code",
   "execution_count": 70,
   "metadata": {},
   "outputs": [
    {
     "data": {
      "text/plain": [
       "[[19, 24, 8], [15, 20, 10], [5, 12, 12], [2, 9, 10], [3, 7, 15]]"
      ]
     },
     "execution_count": 70,
     "metadata": {},
     "output_type": "execute_result"
    }
   ],
   "source": [
    "sk = [ [2, 9, 10], [3, 7, 15], [5, 12, 12], [15, 20, 10], [19, 24, 8] ]\n",
    "sk.sort(key=lambda x: x[0])\n",
    "sk.sort(key=lambda x: -x[1])\n",
    "sk"
   ]
  },
  {
   "cell_type": "code",
   "execution_count": 68,
   "metadata": {},
   "outputs": [
    {
     "name": "stdout",
     "output_type": "stream",
     "text": [
      "23\n",
      "[10, 15, 15, 15, 15, 15, 12, 12, 12, 12, 12, 0, 0, 10, 10, 10, 10, 10, 10, 8, 8, 8, 8]\n"
     ]
    },
    {
     "data": {
      "text/plain": [
       "[[2, 10], [3, 15], [7, 12], [12, 0], [15, 10], [20, 8], [24, 0]]"
      ]
     },
     "execution_count": 68,
     "metadata": {},
     "output_type": "execute_result"
    }
   ],
   "source": [
    "#skyline \n",
    "min_l = sk[0][0]\n",
    "max_r = sk[0][1]\n",
    "sk = [ [2, 9, 10], [5, 12, 12], [15, 20, 10], [3, 7, 15], [19, 24, 8] ]\n",
    "for i in sk:\n",
    "    if min_l > i[0]:\n",
    "        min_l = i[0]\n",
    "    if max_r < i[1]:\n",
    "        max_r = i[1]\n",
    "        \n",
    "heights = [0]*(max_r-min_l+1)\n",
    "print(len(heights))\n",
    "\n",
    "for b in sk:\n",
    "    for i in range(b[0]-min_l, b[1]+1-min_l):\n",
    "        if heights[i] < b[2]:\n",
    "            heights[i] = b[2]\n",
    "\n",
    "fin = [[min_l,heights[0]]] if heights[0] != 0 else []\n",
    "\n",
    "for i in range(len(heights)-1):\n",
    "    if heights[i] < heights[i+1]:\n",
    "        fin.append([min_l+i+1, heights[i+1]])\n",
    "    elif heights[i] > heights[i+1]:\n",
    "        fin.append([min_l+i, heights[i+1]])\n",
    "        \n",
    "fin.append([max_r, 0])\n",
    "print(heights)\n",
    "fin\n"
   ]
  },
  {
   "cell_type": "code",
   "execution_count": 72,
   "metadata": {},
   "outputs": [
    {
     "data": {
      "text/plain": [
       "[[2, 9, 10], [3, 7, 15], [5, 12, 12], [15, 20, 10], [19, 24, 8]]"
      ]
     },
     "execution_count": 72,
     "metadata": {},
     "output_type": "execute_result"
    }
   ],
   "source": [
    "sk = [ [2, 9, 10], [5, 12, 12], [15, 20, 10], [3, 7, 15], [19, 24, 8] ]\n",
    "sk.sort(key=lambda x: x[0])\n",
    "sk"
   ]
  },
  {
   "cell_type": "code",
   "execution_count": 88,
   "metadata": {},
   "outputs": [
    {
     "data": {
      "text/plain": [
       "[[2, 10], [3, 15], [15, 10]]"
      ]
     },
     "execution_count": 88,
     "metadata": {},
     "output_type": "execute_result"
    }
   ],
   "source": [
    "for i in sk:\n",
    "    if min_l > i[0]:\n",
    "        min_l = i[0]\n",
    "    if max_r < i[1]:\n",
    "        max_r = i[1]\n",
    "        \n",
    "\n",
    "def islr(sk, i):\n",
    "    h1 = [0] \n",
    "    h2 = [0]\n",
    "    \n",
    "    for s in sk:\n",
    "        if i == s[0]:\n",
    "            h1 = s\n",
    "        elif i == s[1]:\n",
    "            h2 = s\n",
    "        \n",
    "#     if h1[0]!=0 and h2[0]!=0:\n",
    "#         if h1[2]>h2[2]:\n",
    "#             return [h1,'l']\n",
    "#         elif h2[2]>h1[2]:\n",
    "#             return [h2,'r']\n",
    "#         else:\n",
    "#             return [0,'n']\n",
    "        \n",
    "    if h1[0]!=0:\n",
    "        return [h1,'l']\n",
    "    elif h2[0]!=0:\n",
    "        return [h2,'r']\n",
    "    else:\n",
    "        return [0,'n']\n",
    "        \n",
    "l = []\n",
    "fin = []\n",
    "for i in range(min_l, max_r+1):\n",
    "    h = islr(sk,i)\n",
    "    \n",
    "    mx = 0\n",
    "    for l1 in l:\n",
    "        mx = max(mx,l1[2])\n",
    "        \n",
    "    if h[1] == 'l':\n",
    "        if h[0][2] > mx:\n",
    "            fin.append([h[0][0],h[0][2]])\n",
    "            \n",
    "        l.append(h[0])\n",
    "        \n",
    "    elif h[1] == 'r':\n",
    "        if h[0][2] > mx:\n",
    "            fin.append([h[0][1], mx])\n",
    "    \n",
    "        l.remove(h[0])\n",
    "\n",
    "fin"
   ]
  },
  {
   "cell_type": "code",
   "execution_count": 109,
   "metadata": {},
   "outputs": [
    {
     "name": "stdout",
     "output_type": "stream",
     "text": [
      "4 2\n",
      "16 8\n",
      "256 128\n"
     ]
    },
    {
     "data": {
      "text/plain": [
       "128"
      ]
     },
     "execution_count": 109,
     "metadata": {},
     "output_type": "execute_result"
    }
   ],
   "source": [
    "sm = 1\n",
    "#return x**n\n",
    "n = 7\n",
    "x = 2\n",
    "if n < 0:\n",
    "    n = -n\n",
    "    x = 1/x\n",
    "\n",
    "i = n\n",
    "while i >= 1:\n",
    "    if i % 2 == 1:\n",
    "        sm *= x\n",
    "    x = x*x\n",
    "    print(x,sm)\n",
    "    i//=2\n",
    "    \n",
    "sm"
   ]
  },
  {
   "cell_type": "code",
   "execution_count": 114,
   "metadata": {},
   "outputs": [
    {
     "name": "stdout",
     "output_type": "stream",
     "text": [
      "0 100\n",
      "1 50\n",
      "2 25\n",
      "3 12\n",
      "4 6\n",
      "5 3\n",
      "6 1\n"
     ]
    }
   ],
   "source": [
    "i = 100\n",
    "count = 0\n",
    "while i > 0:\n",
    "    print(count, i)\n",
    "    count +=1\n",
    "    i//=2\n",
    "    "
   ]
  },
  {
   "cell_type": "code",
   "execution_count": 117,
   "metadata": {},
   "outputs": [
    {
     "data": {
      "text/plain": [
       "[['a', 'd', 'g'],\n",
       " ['a', 'd', 'h'],\n",
       " ['a', 'd', 'i'],\n",
       " ['a', 'd', 'j'],\n",
       " ['a', 'e', 'g'],\n",
       " ['a', 'e', 'h'],\n",
       " ['a', 'e', 'i'],\n",
       " ['a', 'e', 'j'],\n",
       " ['a', 'f', 'g'],\n",
       " ['a', 'f', 'h'],\n",
       " ['a', 'f', 'i'],\n",
       " ['a', 'f', 'j'],\n",
       " ['b', 'd', 'g'],\n",
       " ['b', 'd', 'h'],\n",
       " ['b', 'd', 'i'],\n",
       " ['b', 'd', 'j'],\n",
       " ['b', 'e', 'g'],\n",
       " ['b', 'e', 'h'],\n",
       " ['b', 'e', 'i'],\n",
       " ['b', 'e', 'j'],\n",
       " ['b', 'f', 'g'],\n",
       " ['b', 'f', 'h'],\n",
       " ['b', 'f', 'i'],\n",
       " ['b', 'f', 'j'],\n",
       " ['c', 'd', 'g'],\n",
       " ['c', 'd', 'h'],\n",
       " ['c', 'd', 'i'],\n",
       " ['c', 'd', 'j'],\n",
       " ['c', 'e', 'g'],\n",
       " ['c', 'e', 'h'],\n",
       " ['c', 'e', 'i'],\n",
       " ['c', 'e', 'j'],\n",
       " ['c', 'f', 'g'],\n",
       " ['c', 'f', 'h'],\n",
       " ['c', 'f', 'i'],\n",
       " ['c', 'f', 'j']]"
      ]
     },
     "execution_count": 117,
     "metadata": {},
     "output_type": "execute_result"
    }
   ],
   "source": [
    "g = {}\n",
    "\n",
    "g = {'2':['a','b','c'], '3':['d','e','f'], '4':['g','h','i','j']}\n",
    "l = '234'\n",
    "def func(l,g, fin, j=0, temp=[]):\n",
    "    if j == len(l):\n",
    "        fin.append(list(temp))\n",
    "        return\n",
    "    \n",
    "    for i in g[l[j]]:\n",
    "        temp.append(i)\n",
    "        func(l,g,fin,j+1,temp)\n",
    "        temp.pop()\n",
    "        \n",
    "        \n",
    "fin = []\n",
    "func(l,g,fin)\n",
    "fin"
   ]
  },
  {
   "cell_type": "code",
   "execution_count": 19,
   "metadata": {},
   "outputs": [
    {
     "data": {
      "text/plain": [
       "[[1, 3, 5]]"
      ]
     },
     "execution_count": 19,
     "metadata": {},
     "output_type": "execute_result"
    }
   ],
   "source": [
    "def func(l, fin, j=0, temp=[], i1=0):\n",
    "    if j == len(l):\n",
    "        fin.append(list(temp))\n",
    "        return\n",
    "    \n",
    "    for i in range(i1,len(l)):\n",
    "        temp.append(l[i])\n",
    "        func(l,fin,j+1,temp,i+1)\n",
    "        temp.pop()\n",
    "\n",
    "l = [1,3,5]\n",
    "fin = []\n",
    "func(l,fin)\n",
    "fin"
   ]
  },
  {
   "cell_type": "code",
   "execution_count": 119,
   "metadata": {},
   "outputs": [
    {
     "name": "stdout",
     "output_type": "stream",
     "text": [
      "[0, 1, 2, 3, 4, 5] 20\n"
     ]
    }
   ],
   "source": [
    "a = [2,4,8,16,32,64]\n",
    "l = [0]*len(a)\n",
    "\n",
    "ans = 0\n",
    "for i in range(1,len(a)):\n",
    "    for j in range(0,i):\n",
    "        if a[i]%a[j]==0:\n",
    "            l[i]+=1\n",
    "            ans += l[j]\n",
    "            \n",
    "print(l,ans)"
   ]
  },
  {
   "cell_type": "code",
   "execution_count": 131,
   "metadata": {},
   "outputs": [
    {
     "name": "stdout",
     "output_type": "stream",
     "text": [
      "[0, 1, 2, 3, 4, 0]\n",
      "[5, 4, 3, 2, 1, 0]\n"
     ]
    },
    {
     "data": {
      "text/plain": [
       "20"
      ]
     },
     "execution_count": 131,
     "metadata": {},
     "output_type": "execute_result"
    }
   ],
   "source": [
    "dp = [0]*len(a)\n",
    "for i in range(0, len(a)-2):\n",
    "    for j in range(i+1,len(a)-1):\n",
    "        if a[j]%a[i] == 0:\n",
    "            dp[j] +=1\n",
    "ans = 0\n",
    "print(dp)\n",
    "for j in range(1,len(a)-1):\n",
    "    for k in range(j+1,len(a)):\n",
    "        if a[k]%a[j] == 0:\n",
    "            ans+=dp[j]\n",
    "\n"
   ]
  },
  {
   "cell_type": "code",
   "execution_count": 138,
   "metadata": {},
   "outputs": [
    {
     "name": "stdout",
     "output_type": "stream",
     "text": [
      "[0, 0, 3, 4, 3, 0]\n"
     ]
    },
    {
     "data": {
      "text/plain": [
       "12"
      ]
     },
     "execution_count": 138,
     "metadata": {},
     "output_type": "execute_result"
    }
   ],
   "source": [
    "# a = [2,4,8,16,32,64]\n",
    "# dp1 = [0]*len(a)\n",
    "# ans1=0\n",
    "# a = [2,4,8,16,32,64]\n",
    "\n",
    "\n",
    "# for i in range(len(a)-3,h,-1):\n",
    "#     for j in range(len(a)-2,i,-1):\n",
    "#         if a[j] % a[i] == 0:\n",
    "#             for k in range(len(a)-1,j,-1):\n",
    "#                 if a[k]%a[j] == 0:\n",
    "#                     dp1[j]+=1\n",
    "#                     ans1+=dp1[k]\n",
    "    \n",
    "# print(dp1)\n",
    "# ans1"
   ]
  },
  {
   "cell_type": "code",
   "execution_count": 168,
   "metadata": {},
   "outputs": [
    {
     "name": "stdout",
     "output_type": "stream",
     "text": [
      "[2, 4, 8]\n",
      "[2, 4, 16]\n",
      "[2, 4, 32]\n",
      "[2, 4, 64]\n",
      "[2, 8, 16]\n",
      "[2, 8, 32]\n",
      "[2, 8, 64]\n",
      "[2, 16, 32]\n",
      "[2, 16, 64]\n",
      "[2, 32, 64]\n",
      "[4, 8, 16]\n",
      "[4, 8, 32]\n",
      "[4, 8, 64]\n",
      "[4, 16, 32]\n",
      "[4, 16, 64]\n",
      "[4, 32, 64]\n",
      "[8, 16, 32]\n",
      "[8, 16, 64]\n",
      "[8, 32, 64]\n",
      "[16, 32, 64]\n"
     ]
    },
    {
     "data": {
      "text/plain": [
       "20"
      ]
     },
     "execution_count": 168,
     "metadata": {},
     "output_type": "execute_result"
    }
   ],
   "source": [
    "\n",
    "\n",
    "def func_count(a,x,p,count,temp,f,i1):\n",
    "    if p == f:\n",
    "        print(temp)\n",
    "        count[0]+=1\n",
    "        return\n",
    "\n",
    "    for j in range(i1,len(a)):\n",
    "        if a[j]%x == 0:\n",
    "            temp.append(a[j])\n",
    "            func_count(a,a[j],p+1,count,temp,f,j+1)\n",
    "            temp.pop()\n",
    "                \n",
    "                \n",
    "count = [0]\n",
    "a = [2,4,8,16,32,64]\n",
    "f = 3\n",
    "p = 0\n",
    "temp = []\n",
    "for i in range(len(a)):\n",
    "    temp.append(a[i])\n",
    "    func_count(a,a[i],p+1,count,temp,f,i+1)\n",
    "    temp.pop()\n",
    "    \n",
    "count[0]"
   ]
  },
  {
   "cell_type": "code",
   "execution_count": 6,
   "metadata": {},
   "outputs": [
    {
     "name": "stdout",
     "output_type": "stream",
     "text": [
      "[[1, 1, 1, 9], [4, 4, 4], [1, 1, 1, 1, 4, 4], [1, 1, 1, 4, 1, 4], [1, 1, 4, 1, 1, 4], [1, 4, 1, 1, 1, 4], [4, 1, 1, 1, 1, 4], [1, 1, 1, 1, 1, 1, 1, 1, 4], [1, 1, 9, 1], [1, 1, 1, 4, 4, 1], [1, 1, 4, 1, 4, 1], [1, 4, 1, 1, 4, 1], [4, 1, 1, 1, 4, 1], [1, 1, 1, 1, 1, 1, 1, 4, 1], [1, 9, 1, 1], [1, 1, 4, 4, 1, 1], [1, 4, 1, 4, 1, 1], [4, 1, 1, 4, 1, 1], [1, 1, 1, 1, 1, 1, 4, 1, 1], [9, 1, 1, 1], [1, 4, 4, 1, 1, 1], [4, 1, 4, 1, 1, 1], [1, 1, 1, 1, 1, 4, 1, 1, 1], [4, 4, 1, 1, 1, 1], [1, 1, 1, 1, 4, 1, 1, 1, 1], [1, 1, 1, 4, 1, 1, 1, 1, 1], [1, 1, 4, 1, 1, 1, 1, 1, 1], [1, 4, 1, 1, 1, 1, 1, 1, 1], [4, 1, 1, 1, 1, 1, 1, 1, 1], [1, 1, 1, 1, 1, 1, 1, 1, 1, 1, 1, 1]]\n"
     ]
    },
    {
     "data": {
      "text/plain": [
       "3"
      ]
     },
     "execution_count": 6,
     "metadata": {},
     "output_type": "execute_result"
    }
   ],
   "source": [
    "#dynamic programming\n",
    "\n",
    "import math\n",
    "n = 12\n",
    "\n",
    "vis = [None]*(n+1)\n",
    "vis[0] = 0\n",
    "vlis = [[]]*(n+1)\n",
    "vlis[0] = [0]\n",
    "\n",
    "for i in range(1,13):\n",
    "    lis = []\n",
    "    for j in range(0,i):\n",
    "        if vis[j] != None and math.sqrt(i-j)%1==0:\n",
    "            if vis[i] == None:\n",
    "                vis[i] = vis[j]+1\n",
    "            else:\n",
    "                vis[i] = min(vis[i], vis[j]+1)\n",
    "                \n",
    "        if len(vlis[j]) and math.sqrt(i-j)%1==0:\n",
    "            for vl in vlis[j]:\n",
    "                if vl != 0:\n",
    "                    lis.append(vl + [i-j])\n",
    "                else:\n",
    "                    lis.append([i-j])\n",
    "    vlis[i] = lis\n",
    "    \n",
    "    \n",
    "print(vlis[-1])         \n",
    "vis[-1]\n",
    "            "
   ]
  },
  {
   "cell_type": "code",
   "execution_count": 176,
   "metadata": {},
   "outputs": [
    {
     "data": {
      "text/plain": [
       "'11001'"
      ]
     },
     "execution_count": 176,
     "metadata": {},
     "output_type": "execute_result"
    }
   ],
   "source": [
    "\"{0:b}\".format(25)"
   ]
  },
  {
   "cell_type": "code",
   "execution_count": 188,
   "metadata": {},
   "outputs": [
    {
     "name": "stdout",
     "output_type": "stream",
     "text": [
      "101 11001\n",
      "11100\n"
     ]
    },
    {
     "data": {
      "text/plain": [
       "28"
      ]
     },
     "execution_count": 188,
     "metadata": {},
     "output_type": "execute_result"
    }
   ],
   "source": [
    "def xor(n1, n2):\n",
    "    b1 = \"{0:b}\".format(n1)\n",
    "    b2 = \"{0:b}\".format(n2)\n",
    "\n",
    "    i = len(b1)-1\n",
    "    j = len(b2)-1\n",
    "    s = \"\"\n",
    "    while i >= 0 and j>=0:\n",
    "        s=str(abs(int(b1[i],2)-int(b2[j],2)))+s\n",
    "        i-=1\n",
    "        j-=1\n",
    "\n",
    "    while i >= 0:\n",
    "        s='1'+s\n",
    "        i-=1\n",
    "        \n",
    "    while j >=0:\n",
    "        if b2[j] == '1':\n",
    "            s='1'+s\n",
    "        else:\n",
    "            s='0'+s\n",
    "        j-=1\n",
    "        \n",
    "\n",
    "    return int(s,2)\n",
    "\n",
    "xor(5,25)"
   ]
  },
  {
   "cell_type": "code",
   "execution_count": 191,
   "metadata": {},
   "outputs": [],
   "source": [
    "for n in range(4, 4, 2):\n",
    "        for x in range(2, n):\n",
    "            if n % x == 0:\n",
    "                print(n, 'equals', x, '*', n//x)\n",
    "                break"
   ]
  },
  {
   "cell_type": "code",
   "execution_count": 192,
   "metadata": {},
   "outputs": [
    {
     "name": "stdout",
     "output_type": "stream",
     "text": [
      "[1]\n"
     ]
    }
   ],
   "source": [
    "def f(a):\n",
    "    L = []\n",
    "    L.append(a)\n",
    "    return L\n",
    "\n",
    "f(5)\n",
    "f(1)\n",
    "print(f(1))"
   ]
  },
  {
   "cell_type": "code",
   "execution_count": 196,
   "metadata": {},
   "outputs": [
    {
     "data": {
      "text/plain": [
       "31"
      ]
     },
     "execution_count": 196,
     "metadata": {},
     "output_type": "execute_result"
    }
   ],
   "source": [
    "max((10,20,30,13,15,6,31))"
   ]
  },
  {
   "cell_type": "code",
   "execution_count": 204,
   "metadata": {},
   "outputs": [
    {
     "data": {
      "text/plain": [
       "[3, 3, 5, 5, 6, 7]"
      ]
     },
     "execution_count": 204,
     "metadata": {},
     "output_type": "execute_result"
    }
   ],
   "source": [
    "n = [1,3,-1,-3,5,3,6,7]\n",
    "k = 3\n",
    "\n",
    "if k > 0:\n",
    "    mx = []\n",
    "    for i in range(len(n)-k+1):\n",
    "        mx.append(max(n[i:i+k]))\n",
    "        \n",
    "mx"
   ]
  },
  {
   "cell_type": "code",
   "execution_count": 1,
   "metadata": {},
   "outputs": [
    {
     "data": {
      "text/plain": [
       "[[1, 1, 1, 1, 1, 1, 1, 1],\n",
       " [4, 1, 1, 1, 1],\n",
       " [1, 4, 1, 1, 1],\n",
       " [1, 1, 4, 1, 1],\n",
       " [1, 1, 1, 4, 1],\n",
       " [1, 1, 1, 1, 4],\n",
       " [4, 4]]"
      ]
     },
     "execution_count": 1,
     "metadata": {},
     "output_type": "execute_result"
    }
   ],
   "source": [
    "a = 8\n",
    "di = [[[]]]*(a+1)\n",
    "di[0] = [[0]]\n",
    "d = [None]*(a+1)\n",
    "d[0] = 0\n",
    "for i in range(1,a+1):\n",
    "    j = 1\n",
    "    lis=[]\n",
    "    while j*j <= i:\n",
    "        if d[i-j*j] != None:\n",
    "            if d[i]==None:\n",
    "                d[i]=d[i-j*j]+1\n",
    "            else:\n",
    "                d[i] = min(d[i-j*j]+1,d[i])\n",
    "                \n",
    "        for df in di[i-j*j]:\n",
    "            if df != [0]:\n",
    "                lis.append(df+[j*j])\n",
    "            else:\n",
    "                lis.append([j*j])\n",
    "            \n",
    "        j+=1\n",
    "    di[i] = lis\n",
    "    \n",
    "di[-1]"
   ]
  },
  {
   "cell_type": "code",
   "execution_count": null,
   "metadata": {},
   "outputs": [],
   "source": [
    "j = 1\n",
    "while j*j<5:\n",
    "    print(j)\n",
    "    j+=1"
   ]
  },
  {
   "cell_type": "code",
   "execution_count": null,
   "metadata": {},
   "outputs": [],
   "source": []
  },
  {
   "cell_type": "code",
   "execution_count": 4,
   "metadata": {},
   "outputs": [
    {
     "name": "stdout",
     "output_type": "stream",
     "text": [
      "1\n"
     ]
    }
   ],
   "source": [
    "print(\"1\")"
   ]
  },
  {
   "cell_type": "code",
   "execution_count": 61,
   "metadata": {},
   "outputs": [
    {
     "name": "stdout",
     "output_type": "stream",
     "text": [
      "[[115], [1, 15], [11, 5], [1, 1, 5]]\n",
      "['115']\n",
      "['1', '+15']\n",
      "['1', '-15']\n",
      "['1', '*15']\n",
      "['1', '/15']\n",
      "['11', '+5']\n",
      "['11', '-5']\n",
      "['11', '*5']\n",
      "['11', '/5']\n",
      "['1', '+1', '+5']\n",
      "['1', '+1', '-5']\n",
      "['1', '+1', '*5']\n",
      "['1', '+1', '/5']\n",
      "['1', '-1', '+5']\n",
      "['1', '-1', '-5']\n",
      "['1', '-1', '*5']\n",
      "['1', '-1', '/5']\n",
      "['1', '*1', '+5']\n",
      "['1', '*1', '-5']\n",
      "['1', '*1', '*5']\n",
      "['1', '*1', '/5']\n",
      "['1', '/1', '+5']\n",
      "['1', '/1', '-5']\n",
      "['1', '/1', '*5']\n",
      "['1', '/1', '/5']\n"
     ]
    },
    {
     "data": {
      "text/plain": [
       "[['1-1+5', '1*1*5', '1/1*5']]"
      ]
     },
     "execution_count": 61,
     "metadata": {},
     "output_type": "execute_result"
    }
   ],
   "source": [
    "a = \"115\"\n",
    "a = list(a)\n",
    "n = len(a)\n",
    "vis = [None]*(n+1)\n",
    "vis[0] = 0\n",
    "vlis = [[]]*(n+1)\n",
    "vlis[0] = [0]\n",
    "\n",
    "for i in range(1,len(a)+1):\n",
    "    lis = []\n",
    "    for j in range(0,i):\n",
    "#         if vis[j] != None and math.sqrt(i-j)%1==0:\n",
    "#             if vis[i] == None:\n",
    "#                 vis[i] = vis[j]+1\n",
    "#             else:\n",
    "#                 vis[i] = min(vis[i], vis[j]+1)\n",
    "                \n",
    "        if len(vlis[j]):\n",
    "            for vl in vlis[j]:\n",
    "                if vl != 0:\n",
    "                    lis.append(vl + [a[j:i]])\n",
    "                else:\n",
    "                    lis.append([a[j:i]])\n",
    "    vlis[i] = lis\n",
    "    \n",
    "    \n",
    "kl = vlis[-1]\n",
    "kl\n",
    "#vis[-1]\n",
    "out= []\n",
    "for i in kl:\n",
    "    l = []\n",
    "    for j in i:\n",
    "        l.append(int(\"\".join(j)))\n",
    "    out.append(l)\n",
    "print(out)\n",
    "\n",
    "op = ['+', '-', '*', '/']\n",
    "\n",
    "#sm = first number in your array\n",
    "def comb(l, op, j, f, final, sm, temp):\n",
    "    if j == len(l):\n",
    "        print(temp)\n",
    "        if sum(sm) == f:\n",
    "            final.append(\"\".join(temp))\n",
    "        return\n",
    "        \n",
    "    for i in range(len(op)):\n",
    "        sm_temp = list(sm)\n",
    "        if op[i] == '+':\n",
    "            sm.append(l[j])\n",
    "        elif op[i] == '-':\n",
    "            sm.append(-l[j])\n",
    "        elif op[i] == '*':\n",
    "            sm[-1]*=l[j]\n",
    "        elif op[i]=='/':\n",
    "            if l[j] != 0:\n",
    "                sm[-1] = sm[-1]//l[j] if sm[-1] > 0 else -(-(sm[-1])//l[j])\n",
    "            else:\n",
    "                return\n",
    "            \n",
    "        temp.append(op[i]+str(l[j]))\n",
    "        comb(l,op,j+1,f,final,sm,temp)\n",
    "        temp.pop()\n",
    "        \n",
    "        sm = list(sm_temp)\n",
    "        del sm_temp\n",
    "        \n",
    "fin = []\n",
    "f = 5\n",
    "\n",
    "for ou in out:\n",
    "    final = []\n",
    "    sm = [ou[0]]\n",
    "    temp = [str(ou[0])]\n",
    "    comb(ou, op, 1, f, final, sm, temp)\n",
    "    if final:  \n",
    "        fin.append(final)\n",
    "fin"
   ]
  },
  {
   "cell_type": "code",
   "execution_count": null,
   "metadata": {},
   "outputs": [],
   "source": [
    "\n"
   ]
  },
  {
   "cell_type": "code",
   "execution_count": 105,
   "metadata": {},
   "outputs": [
    {
     "name": "stdout",
     "output_type": "stream",
     "text": [
      "y\n"
     ]
    }
   ],
   "source": [
    "if 7-4:\n",
    "    print('y')\n",
    "    "
   ]
  },
  {
   "cell_type": "code",
   "execution_count": 114,
   "metadata": {},
   "outputs": [
    {
     "name": "stdout",
     "output_type": "stream",
     "text": [
      "yes\n"
     ]
    }
   ],
   "source": [
    "#print all([int(i)>0 for i in n]) and \n",
    "n = [1,2,3,2,1]\n",
    "# if n == n[::-1]:\n",
    "#     print('yes')\n",
    "    \n",
    "x = 0\n",
    "for i in range(len(n)):\n",
    "    if n[i] != n[len(n)-1-i]:\n",
    "        print('no')\n",
    "        x = 1\n",
    "if x == 0:\n",
    "    print('yes')"
   ]
  },
  {
   "cell_type": "code",
   "execution_count": 118,
   "metadata": {},
   "outputs": [
    {
     "data": {
      "text/plain": [
       "[[0, 0], [0, 0], [1, 1], [2, 2], [3, 3]]"
      ]
     },
     "execution_count": 118,
     "metadata": {},
     "output_type": "execute_result"
    }
   ],
   "source": [
    "a = [[0,0]]\n",
    "\n",
    "for i in range(4):\n",
    "    a += [i,i]\n",
    "    \n",
    "a"
   ]
  },
  {
   "cell_type": "code",
   "execution_count": 128,
   "metadata": {},
   "outputs": [
    {
     "data": {
      "text/plain": [
       "[1, 0, 0, 1, 2, 0, 3, 0, 2, 0, 0, 5]"
      ]
     },
     "execution_count": 128,
     "metadata": {},
     "output_type": "execute_result"
    }
   ],
   "source": [
    "#total number different combinations of using string in set as substrings to get an array\n",
    "\n",
    "a = 'hatsonlying'\n",
    "s = {'hat', 's', 'only', 'on', 'lying', 'ing', 'hats', 'son'}\n",
    "n = len(a)\n",
    "d = [0]*(n+1)\n",
    "d[0] =1\n",
    "for i in range(1, n+1):\n",
    "    for j in range(0, i):\n",
    "        if a[j:i] in s:\n",
    "            d[i] += d[j]\n",
    "            \n",
    "d"
   ]
  },
  {
   "cell_type": "code",
   "execution_count": null,
   "metadata": {},
   "outputs": [],
   "source": [
    "#stairs sum min 2 should be in ascending order\n",
    "\n",
    "n = 40\n",
    "di = [0]*(n)\n",
    "for i in range(1,  n+1):\n",
    "    for j in range(i-1, (i-1)//2, -1):\n",
    "        if i-j<j:\n",
    "            di[i-1]+=di[i-j-1]+1\n",
    "        elif i-j==j:\n",
    "            di[i-1]+=di[i-j-1]\n",
    "            \n",
    "di"
   ]
  },
  {
   "cell_type": "code",
   "execution_count": 136,
   "metadata": {},
   "outputs": [
    {
     "ename": "TypeError",
     "evalue": "'map' object is not subscriptable",
     "output_type": "error",
     "traceback": [
      "\u001b[0;31m---------------------------------------------------------------------------\u001b[0m",
      "\u001b[0;31mTypeError\u001b[0m                                 Traceback (most recent call last)",
      "\u001b[0;32m<ipython-input-136-7fc59a3dfbc1>\u001b[0m in \u001b[0;36m<module>\u001b[0;34m()\u001b[0m\n\u001b[1;32m      1\u001b[0m \u001b[0mk\u001b[0m \u001b[0;34m=\u001b[0m \u001b[0mmap\u001b[0m\u001b[0;34m(\u001b[0m\u001b[0mchr\u001b[0m\u001b[0;34m,\u001b[0m \u001b[0mrange\u001b[0m\u001b[0;34m(\u001b[0m\u001b[0mord\u001b[0m\u001b[0;34m(\u001b[0m\u001b[0;34m'a'\u001b[0m\u001b[0;34m)\u001b[0m\u001b[0;34m,\u001b[0m \u001b[0mord\u001b[0m\u001b[0;34m(\u001b[0m\u001b[0;34m'z'\u001b[0m\u001b[0;34m)\u001b[0m \u001b[0;34m+\u001b[0m \u001b[0;36m1\u001b[0m\u001b[0;34m)\u001b[0m\u001b[0;34m)\u001b[0m\u001b[0;34m\u001b[0m\u001b[0m\n\u001b[0;32m----> 2\u001b[0;31m \u001b[0mprint\u001b[0m\u001b[0;34m(\u001b[0m\u001b[0mk\u001b[0m\u001b[0;34m[\u001b[0m\u001b[0;36m0\u001b[0m\u001b[0;34m]\u001b[0m\u001b[0;34m)\u001b[0m\u001b[0;34m\u001b[0m\u001b[0m\n\u001b[0m",
      "\u001b[0;31mTypeError\u001b[0m: 'map' object is not subscriptable"
     ]
    }
   ],
   "source": [
    "k = map(chr, range(ord('a'), ord('z') + 1))"
   ]
  },
  {
   "cell_type": "code",
   "execution_count": 147,
   "metadata": {},
   "outputs": [
    {
     "name": "stdout",
     "output_type": "stream",
     "text": [
      "c\n",
      "-1 -1\n"
     ]
    }
   ],
   "source": [
    "s = 'ab'\n",
    "i = 99\n",
    "print(chr(i))\n",
    "l = s.find(chr(i))\n",
    "r = s.rfind(chr(i))\n",
    "print(l,r)"
   ]
  },
  {
   "cell_type": "code",
   "execution_count": 152,
   "metadata": {},
   "outputs": [
    {
     "name": "stdout",
     "output_type": "stream",
     "text": [
      "yes\n"
     ]
    }
   ],
   "source": [
    "l = [set([1,1,3])]\n",
    "if set([1,3,1]) in l:\n",
    "    print('yes')"
   ]
  },
  {
   "cell_type": "code",
   "execution_count": 160,
   "metadata": {},
   "outputs": [
    {
     "data": {
      "text/plain": [
       "defaultdict(int, {1: 1, 2: 1, 3: 4, 5: 2, 6: 1, 45: 1})"
      ]
     },
     "execution_count": 160,
     "metadata": {},
     "output_type": "execute_result"
    }
   ],
   "source": [
    "from collections import defaultdict\n",
    "\n",
    "nums = [1,3,2,3,5,45,3,5,3,6]\n",
    "\n",
    "d=defaultdict(int)\n",
    "for i in nums:\n",
    "    d[i]+=1\n",
    "    \n",
    "d"
   ]
  },
  {
   "cell_type": "code",
   "execution_count": null,
   "metadata": {},
   "outputs": [],
   "source": [
    "for i in range(5):\n",
    "    for j in range(5):\n",
    "        print(i,j)\n",
    "        if j > 3:\n",
    "            break\n",
    "\n",
    "            "
   ]
  },
  {
   "cell_type": "code",
   "execution_count": null,
   "metadata": {},
   "outputs": [],
   "source": [
    "import random\n",
    "\n",
    "bucket = ['g','b','g','g','b','w','w']\n",
    "\n",
    "print(bucket[random.randint%len(bucket)]\n"
   ]
  },
  {
   "cell_type": "code",
   "execution_count": null,
   "metadata": {},
   "outputs": [],
   "source": [
    "from __future__ import division, print_function, absolute_import\n",
    "\n",
    "import tflearn\n",
    "from tflearn.layers.core import *\n",
    "from tflearn.layers.conv import *\n",
    "from tflearn.data_utils import *\n",
    "from tflearn.layers.estimator import *\n",
    "\n",
    "# Load CIFAR-10 Dataset\n",
    "from tflearn.datasets import cifar10\n",
    "(X, Y), (X_test, Y_test) = cifar10.load_data()\n",
    "Y = to_categorical(Y)\n",
    "Y_test = to_categorical(Y_test)\n",
    "\n",
    "# Create DASK array using numpy arrays\n",
    "# (Note that it can work with HDF5 Dataset too)\n",
    "import dask.array as da\n",
    "X = da.from_array(np.asarray(X), chunks=(1000, 1000, 1000, 1000))\n",
    "Y = da.from_array(np.asarray(Y), chunks=(1000, 1000, 1000, 1000))\n",
    "X_test = da.from_array(np.asarray(X_test), chunks=(1000, 1000, 1000, 1000))\n",
    "Y_test = da.from_array(np.asarray(Y_test), chunks=(1000, 1000, 1000, 1000))\n",
    "\n",
    "# Build network\n",
    "network = input_data(shape=[None, 32, 32, 3])\n",
    "network = conv_2d(network, 32, 3, activation='relu')\n",
    "network = max_pool_2d(network, 2)\n",
    "network = dropout(network, 0.75)\n",
    "network = conv_2d(network, 64, 3, activation='relu')\n",
    "network = conv_2d(network, 64, 3, activation='relu')\n",
    "network = max_pool_2d(network, 2)\n",
    "network = dropout(network, 0.5)\n",
    "network = fully_connected(network, 512, activation='relu')\n",
    "network = dropout(network, 0.5)\n",
    "network = fully_connected(network, 10, activation='softmax')\n",
    "network = regression(network, optimizer='adam',\n",
    "                     loss='categorical_crossentropy',\n",
    "                     learning_rate=0.001)\n",
    "\n",
    "# Training\n",
    "model = tflearn.DNN(network, tensorboard_verbose=0)\n",
    "model.fit(X, Y, n_epoch=50, shuffle=True, validation_set=(X_test, Y_test),\n",
    "          show_metric=True, batch_size=96, run_id='cifar10_cnn')"
   ]
  },
  {
   "cell_type": "code",
   "execution_count": null,
   "metadata": {},
   "outputs": [],
   "source": []
  },
  {
   "cell_type": "code",
   "execution_count": null,
   "metadata": {},
   "outputs": [],
   "source": []
  }
 ],
 "metadata": {
  "kernelspec": {
   "display_name": "Python 3",
   "language": "python",
   "name": "python3"
  },
  "language_info": {
   "codemirror_mode": {
    "name": "ipython",
    "version": 3
   },
   "file_extension": ".py",
   "mimetype": "text/x-python",
   "name": "python",
   "nbconvert_exporter": "python",
   "pygments_lexer": "ipython3",
   "version": "3.5.5"
  }
 },
 "nbformat": 4,
 "nbformat_minor": 2
}
