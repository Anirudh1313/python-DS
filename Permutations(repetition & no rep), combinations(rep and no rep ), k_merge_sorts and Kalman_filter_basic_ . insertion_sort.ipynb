{
 "cells": [
  {
   "cell_type": "code",
   "execution_count": 93,
   "metadata": {},
   "outputs": [],
   "source": [
    "# Definition for singly-linked list.\n",
    "# class ListNode(object):\n",
    "#     def __init__(self, x):\n",
    "#         self.val = x\n",
    "#         self.next = None\n",
    "\n",
    "class Solution(object):\n",
    "    def mergeKLists(self, lists):\n",
    "        \"\"\"\n",
    "        :type lists: List[ListNode]\n",
    "        :rtype: ListNode\n",
    "        \"\"\"\n",
    "        temp_ptr = list(lists)\n",
    "   \n",
    "        if not len(lists):\n",
    "            return []\n",
    "        \n",
    "        k = ListNode(None)\n",
    "        k1 = k\n",
    "        \n",
    "        while len(temp_ptr):\n",
    "            mn = 9999\n",
    "            index = -1\n",
    "\n",
    "            i = 0\n",
    "            while i < len(temp_ptr):\n",
    "                if temp_ptr[i] != None:\n",
    "                    if mn > temp_ptr[i].val:\n",
    "                        mn = temp_ptr[i].val\n",
    "                        index = i\n",
    "                else:\n",
    "                    del temp_ptr[i]\n",
    "                    i -=1\n",
    "                i+=1\n",
    "\n",
    "            if index != -1:\n",
    "                if k.val == None:\n",
    "                    k.val = mn\n",
    "                else:\n",
    "                    k.next = ListNode(mn)\n",
    "                    k = k.next\n",
    "\n",
    "                if temp_ptr[index].next != None:\n",
    "                    temp_ptr[index] = temp_ptr[index].next\n",
    "                else:\n",
    "                    del temp_ptr[index]\n",
    "            else:\n",
    "                break\n",
    "                \n",
    "        if k1.val != None:\n",
    "            return k1\n",
    "        else:\n",
    "            return []\n",
    "\n",
    "                "
   ]
  },
  {
   "cell_type": "code",
   "execution_count": 2,
   "metadata": {},
   "outputs": [
    {
     "ename": "TypeError",
     "evalue": "'str' object does not support item assignment",
     "output_type": "error",
     "traceback": [
      "\u001b[0;31m---------------------------------------------------------------------------\u001b[0m",
      "\u001b[0;31mTypeError\u001b[0m                                 Traceback (most recent call last)",
      "\u001b[0;32m<ipython-input-2-ab9224aa9dc0>\u001b[0m in \u001b[0;36m<module>\u001b[0;34m()\u001b[0m\n\u001b[1;32m      1\u001b[0m \u001b[0ms\u001b[0m \u001b[0;34m=\u001b[0m \u001b[0;34m'abc'\u001b[0m\u001b[0;34m\u001b[0m\u001b[0m\n\u001b[0;32m----> 2\u001b[0;31m \u001b[0ms\u001b[0m\u001b[0;34m[\u001b[0m\u001b[0;36m0\u001b[0m\u001b[0;34m]\u001b[0m \u001b[0;34m=\u001b[0m \u001b[0;34m'b'\u001b[0m\u001b[0;34m\u001b[0m\u001b[0m\n\u001b[0m\u001b[1;32m      3\u001b[0m \u001b[0ms\u001b[0m\u001b[0;34m\u001b[0m\u001b[0m\n",
      "\u001b[0;31mTypeError\u001b[0m: 'str' object does not support item assignment"
     ]
    }
   ],
   "source": []
  },
  {
   "cell_type": "code",
   "execution_count": 7,
   "metadata": {},
   "outputs": [
    {
     "name": "stdout",
     "output_type": "stream",
     "text": [
      "(1, 1)\n",
      "(2, 6)\n",
      "(3, 2)\n",
      "(4, 0)\n",
      "(5, 5)\n",
      "(7, 4)\n",
      "(8, 3)\n"
     ]
    }
   ],
   "source": [
    "import heapq\n",
    "\n",
    "k = [(4,0), (1,1), (3,2), (8,3), (7,4), (5,5), (2,6)]\n",
    "\n",
    "heapq.heapify(k)\n",
    "\n",
    "\n",
    "while len(k):\n",
    "    print(heapq.heappop(k))\n",
    "    \n"
   ]
  },
  {
   "cell_type": "code",
   "execution_count": 14,
   "metadata": {},
   "outputs": [
    {
     "data": {
      "text/plain": [
       "{'0': 3, '400-234-089': 3, '400-234-090': 1, '701-080-080': 3}"
      ]
     },
     "execution_count": 14,
     "metadata": {},
     "output_type": "execute_result"
    }
   ],
   "source": [
    "dic = {}\n",
    "dic['400-234-090'] = 1\n",
    "dic['701-080-080'] = 3\n",
    "dic['400-234-089'] = 3\n",
    "dic['0'] = 3\n",
    "dic"
   ]
  },
  {
   "cell_type": "code",
   "execution_count": 15,
   "metadata": {},
   "outputs": [
    {
     "data": {
      "text/plain": [
       "[2, 4]"
      ]
     },
     "execution_count": 15,
     "metadata": {},
     "output_type": "execute_result"
    }
   ],
   "source": [
    "s = [1,2,4,5]\n",
    "s[1:3]"
   ]
  },
  {
   "cell_type": "code",
   "execution_count": null,
   "metadata": {},
   "outputs": [],
   "source": []
  },
  {
   "cell_type": "code",
   "execution_count": null,
   "metadata": {},
   "outputs": [],
   "source": []
  },
  {
   "cell_type": "code",
   "execution_count": 63,
   "metadata": {},
   "outputs": [
    {
     "name": "stdout",
     "output_type": "stream",
     "text": [
      "72 69.33333333333333 68 0.3333333333333333 1.3333333333333335\n",
      "70 69.5 69.33333333333333 0.25 1.0\n",
      "74 70.4 69.5 0.2 0.8\n",
      "74 71.0 70.4 0.16666666666666669 0.6666666666666666\n",
      "71 71.0 71.0 0.14285714285714285 0.5714285714285714\n",
      "71 71.0 71.0 0.125 0.5\n",
      "76 71.55555555555556 71.0 0.1111111111111111 0.4444444444444444\n",
      "73 71.7 71.55555555555556 0.09999999999999999 0.39999999999999997\n",
      "72 71.72727272727273 71.7 0.0909090909090909 0.3636363636363636\n",
      "68 71.41666666666667 71.72727272727273 0.08333333333333333 0.33333333333333326\n",
      "73 71.53846153846155 71.41666666666667 0.07692307692307691 0.30769230769230765\n",
      "75 71.78571428571429 71.53846153846155 0.07142857142857142 0.2857142857142857\n",
      "69 71.60000000000001 71.78571428571429 0.06666666666666667 0.26666666666666666\n",
      "70 71.50000000000001 71.60000000000001 0.0625 0.25\n",
      "74 71.64705882352942 71.50000000000001 0.058823529411764705 0.23529411764705882\n",
      "70 71.55555555555556 71.64705882352942 0.05555555555555555 0.2222222222222222\n",
      "72 71.57894736842105 71.55555555555556 0.05263157894736842 0.21052631578947367\n",
      "75 71.75 71.57894736842105 0.05 0.19999999999999998\n",
      "72 71.76190476190476 71.75 0.047619047619047616 0.19047619047619044\n",
      "69 71.63636363636364 71.76190476190476 0.04545454545454544 0.1818181818181818\n",
      "74 71.73913043478261 71.63636363636364 0.043478260869565216 0.17391304347826086\n",
      "70 71.66666666666667 71.73913043478261 0.041666666666666664 0.16666666666666666\n",
      "76 71.84 71.66666666666667 0.039999999999999994 0.15999999999999998\n",
      "72 71.84615384615385 71.84 0.03846153846153846 0.15384615384615383\n",
      "70 71.77777777777779 71.84615384615385 0.03703703703703703 0.14814814814814814\n",
      "73 71.82142857142858 71.77777777777779 0.03571428571428571 0.14285714285714285\n",
      "76 71.96551724137932 71.82142857142858 0.03448275862068965 0.13793103448275862\n",
      "70 71.9 71.96551724137932 0.03333333333333333 0.13333333333333333\n",
      "76 72.03225806451613 71.9 0.03225806451612903 0.12903225806451613\n",
      "70 71.96875 72.03225806451613 0.03125 0.125\n",
      "69 71.87878787878788 71.96875 0.030303030303030304 0.12121212121212122\n",
      "69 71.79411764705883 71.87878787878788 0.029411764705882356 0.11764705882352941\n",
      "76 71.91428571428571 71.79411764705883 0.028571428571428574 0.11428571428571428\n",
      "68 71.80555555555556 71.91428571428571 0.02777777777777778 0.1111111111111111\n",
      "72 71.8108108108108 71.80555555555556 0.02702702702702703 0.10810810810810811\n",
      "72 71.8157894736842 71.8108108108108 0.026315789473684213 0.10526315789473685\n",
      "72 71.82051282051282 71.8157894736842 0.02564102564102564 0.10256410256410257\n",
      "75 71.89999999999999 71.82051282051282 0.025000000000000005 0.1\n",
      "70 71.85365853658536 71.89999999999999 0.02439024390243903 0.0975609756097561\n",
      "72 71.85714285714285 71.85365853658536 0.023809523809523808 0.09523809523809523\n",
      "71 71.83720930232558 71.85714285714285 0.023255813953488372 0.09302325581395347\n",
      "70 71.79545454545455 71.83720930232558 0.02272727272727272 0.0909090909090909\n",
      "70 71.75555555555556 71.79545454545455 0.02222222222222222 0.08888888888888888\n",
      "74 71.80434782608697 71.75555555555556 0.021739130434782608 0.08695652173913043\n",
      "70 71.76595744680853 71.80434782608697 0.021276595744680847 0.0851063829787234\n",
      "75 71.83333333333336 71.76595744680853 0.020833333333333336 0.08333333333333333\n",
      "72 71.83673469387757 71.83333333333336 0.020408163265306124 0.08163265306122448\n",
      "71 71.82000000000002 71.83673469387757 0.019999999999999997 0.07999999999999999\n",
      "72 71.82352941176472 71.82000000000002 0.019607843137254898 0.07843137254901959\n",
      "72 71.8269230769231 71.82352941176472 0.01923076923076923 0.0769230769230769\n",
      "71 71.811320754717 71.8269230769231 0.018867924528301883 0.07547169811320753\n",
      "70 71.7777777777778 71.811320754717 0.018518518518518514 0.07407407407407406\n",
      "68 71.70909090909093 71.7777777777778 0.018181818181818177 0.07272727272727271\n",
      "71 71.6964285714286 71.70909090909093 0.017857142857142856 0.07142857142857141\n",
      "68 71.63157894736845 71.6964285714286 0.017543859649122803 0.07017543859649121\n",
      "74 71.67241379310347 71.63157894736845 0.017241379310344824 0.0689655172413793\n",
      "76 71.74576271186443 71.67241379310347 0.016949152542372878 0.06779661016949151\n",
      "74 71.78333333333336 71.74576271186443 0.016666666666666663 0.06666666666666665\n",
      "69 71.73770491803282 71.78333333333336 0.016393442622950817 0.06557377049180327\n",
      "71 71.72580645161294 71.73770491803282 0.016129032258064512 0.06451612903225805\n",
      "68 71.6666666666667 71.72580645161294 0.01587301587301587 0.06349206349206347\n",
      "72 71.67187500000003 71.6666666666667 0.015624999999999997 0.062499999999999986\n",
      "68 71.61538461538464 71.67187500000003 0.015384615384615382 0.06153846153846153\n",
      "72 71.62121212121215 71.61538461538464 0.01515151515151515 0.060606060606060594\n",
      "74 71.65671641791047 71.62121212121215 0.014925373134328356 0.05970149253731342\n",
      "68 71.60294117647061 71.65671641791047 0.014705882352941173 0.05882352941176469\n",
      "74 71.63768115942031 71.60294117647061 0.014492753623188403 0.05797101449275361\n",
      "68 71.5857142857143 71.63768115942031 0.014285714285714282 0.057142857142857134\n",
      "70 71.56338028169016 71.5857142857143 0.01408450704225352 0.05633802816901408\n",
      "75 71.61111111111113 71.56338028169016 0.013888888888888888 0.05555555555555555\n",
      "73 71.63013698630138 71.61111111111113 0.0136986301369863 0.0547945205479452\n",
      "71 71.62162162162163 71.63013698630138 0.013513513513513513 0.05405405405405405\n",
      "68 71.57333333333334 71.62162162162163 0.01333333333333333 0.05333333333333333\n",
      "68 71.52631578947368 71.57333333333334 0.013157894736842103 0.05263157894736842\n",
      "75 71.57142857142857 71.52631578947368 0.012987012987012988 0.051948051948051945\n",
      "68 71.52564102564102 71.57142857142857 0.012820512820512822 0.05128205128205128\n",
      "68 71.48101265822784 71.52564102564102 0.012658227848101266 0.05063291139240506\n",
      "68 71.43749999999999 71.48101265822784 0.012499999999999999 0.05\n",
      "74 71.46913580246913 71.43749999999999 0.01234567901234568 0.04938271604938271\n",
      "68 71.42682926829268 71.46913580246913 0.012195121951219511 0.048780487804878044\n",
      "71 71.42168674698794 71.42682926829268 0.012048192771084336 0.048192771084337345\n",
      "74 71.45238095238095 71.42168674698794 0.011904761904761904 0.047619047619047616\n",
      "69 71.4235294117647 71.45238095238095 0.011764705882352941 0.047058823529411764\n",
      "76 71.47674418604652 71.4235294117647 0.011627906976744186 0.046511627906976744\n",
      "69 71.44827586206897 71.47674418604652 0.011494252873563218 0.04597701149425287\n",
      "74 71.47727272727273 71.44827586206897 0.011363636363636362 0.045454545454545456\n",
      "74 71.50561797752809 71.47727272727273 0.011235955056179775 0.0449438202247191\n",
      "72 71.5111111111111 71.50561797752809 0.01111111111111111 0.044444444444444446\n",
      "73 71.52747252747253 71.5111111111111 0.01098901098901099 0.04395604395604396\n",
      "72 71.53260869565217 71.52747252747253 0.010869565217391306 0.043478260869565216\n",
      "71 71.52688172043011 71.53260869565217 0.01075268817204301 0.04301075268817204\n",
      "74 71.55319148936171 71.52688172043011 0.010638297872340425 0.0425531914893617\n",
      "76 71.60000000000001 71.55319148936171 0.010526315789473684 0.042105263157894736\n",
      "76 71.64583333333334 71.60000000000001 0.010416666666666666 0.041666666666666664\n",
      "76 71.69072164948454 71.64583333333334 0.010309278350515462 0.041237113402061855\n",
      "76 71.73469387755102 71.69072164948454 0.010204081632653062 0.04081632653061224\n",
      "76 71.77777777777779 71.73469387755102 0.010101010101010102 0.0404040404040404\n",
      "73 71.79 71.77777777777779 0.009999999999999998 0.039999999999999994\n",
      "74 71.81188118811882 71.79 0.0099009900990099 0.0396039603960396\n",
      "71 71.80392156862746 71.81188118811882 0.009803921568627449 0.039215686274509796\n"
     ]
    },
    {
     "data": {
      "text/plain": [
       "71.80392156862746"
      ]
     },
     "execution_count": 63,
     "metadata": {},
     "output_type": "execute_result"
    }
   ],
   "source": [
    "#kalman filter\n",
    "\n",
    "import random\n",
    "\n",
    "err_meas = 4\n",
    "est_curr = 68\n",
    "est_prev= 0\n",
    "err_est = 2\n",
    "meas = [75,70,71,74]\n",
    "i=0\n",
    "while i < 100:\n",
    "    est_prev = est_curr\n",
    "    kg = err_est/(err_est+err_meas)\n",
    "    meas = random.randint(68,76)\n",
    "    est_curr = est_prev + kg*(meas - est_prev)\n",
    "    err_est = (1-kg)*err_est\n",
    "    print(meas, est_curr, est_prev, kg, err_est)\n",
    "    i+=1\n",
    "    \n",
    "est_curr"
   ]
  },
  {
   "cell_type": "code",
   "execution_count": 88,
   "metadata": {},
   "outputs": [
    {
     "data": {
      "text/plain": [
       "[1, 1, 2, 2, 3, 3, 3, 4, 4, 5, 8, 8, 10]"
      ]
     },
     "execution_count": 88,
     "metadata": {},
     "output_type": "execute_result"
    }
   ],
   "source": [
    "#insertion sort: way 1\n",
    "\n",
    "first = [1,5,3,8,3,8,3,2,4,10,1,2,4]\n",
    "\n",
    "for i in range(len(first)-1):\n",
    "    j = i+1\n",
    "    k = 0\n",
    "    while j > 0:\n",
    "        if first[i+1] < first[j-1]:\n",
    "            k+=1\n",
    "            #first[j], first[j-1] = first[j-1], first[j]\n",
    "          \n",
    "        j-=1\n",
    "        \n",
    "    if k > 0:\n",
    "        val = first[i+1]\n",
    "        del first[i+1]\n",
    "        first.insert(i+1-k, val)\n",
    "        \n",
    "        \n",
    "first\n",
    "            "
   ]
  },
  {
   "cell_type": "code",
   "execution_count": 89,
   "metadata": {},
   "outputs": [
    {
     "data": {
      "text/plain": [
       "[1, 2, 3, 4]"
      ]
     },
     "execution_count": 89,
     "metadata": {},
     "output_type": "execute_result"
    }
   ],
   "source": [
    "k = [1,3,4]\n",
    "k.insert(1,2)\n",
    "k"
   ]
  },
  {
   "cell_type": "code",
   "execution_count": 87,
   "metadata": {},
   "outputs": [
    {
     "data": {
      "text/plain": [
       "[1, 1, 2, 2, 3, 3, 3, 4, 4, 5, 8, 8, 10]"
      ]
     },
     "execution_count": 87,
     "metadata": {},
     "output_type": "execute_result"
    }
   ],
   "source": [
    "#insertion sort: way 2\n",
    "\n",
    "first = [1,5,3,8,3,8,3,2,4,10,1,2,4]\n",
    "\n",
    "for i in range(len(first)-1):\n",
    "    j = i+1\n",
    "    while j > 0:\n",
    "        if first[j] < first[j-1]:\n",
    "            first[j], first[j-1] = first[j-1], first[j]\n",
    "            \n",
    "        j-=1\n",
    "        \n",
    "first\n",
    "           "
   ]
  },
  {
   "cell_type": "code",
   "execution_count": 13,
   "metadata": {},
   "outputs": [
    {
     "data": {
      "text/plain": [
       "array([[0., 2.],\n",
       "       [0., 0.]])"
      ]
     },
     "execution_count": 13,
     "metadata": {},
     "output_type": "execute_result"
    }
   ],
   "source": [
    "import random\n",
    "import numpy as np\n",
    "p = 0.5\n",
    "H1 = np.random.random((2,2))\n",
    "k = (np.random.rand(*H1.shape)<p)/p\n",
    "k"
   ]
  },
  {
   "cell_type": "code",
   "execution_count": 28,
   "metadata": {},
   "outputs": [
    {
     "name": "stdout",
     "output_type": "stream",
     "text": [
      "10\n",
      "9\n",
      "8\n",
      "7\n",
      "6\n",
      "5\n"
     ]
    }
   ],
   "source": [
    "for t1 in range(10, 4, -1):\n",
    "    print(t1)\n",
    "    "
   ]
  },
  {
   "cell_type": "code",
   "execution_count": 89,
   "metadata": {},
   "outputs": [
    {
     "name": "stdout",
     "output_type": "stream",
     "text": [
      "[0, 0, 0, 0, 0]\n",
      "[0, 0, 0, 0, 1]\n",
      "[0, 0, 0, 0, 2]\n",
      "[0, 0, 0, 1, 0]\n",
      "[0, 0, 0, 1, 1]\n",
      "[0, 0, 0, 2, 0]\n",
      "[0, 0, 1, 0, 0]\n",
      "[0, 0, 1, 0, 1]\n",
      "[0, 0, 1, 1, 0]\n",
      "[0, 0, 2, 0, 0]\n",
      "[0, 1, 0, 0, 0]\n",
      "[0, 1, 0, 0, 1]\n",
      "[0, 1, 0, 0, 2]\n",
      "[0, 1, 0, 1, 0]\n",
      "[0, 1, 0, 1, 1]\n",
      "[0, 1, 1, 0, 0]\n",
      "[0, 1, 1, 0, 1]\n",
      "[0, 2, 0, 0, 0]\n",
      "[0, 2, 0, 0, 1]\n",
      "[0, 2, 0, 0, 2]\n",
      "[1, 0, 0, 0, 0]\n",
      "[1, 0, 0, 0, 1]\n",
      "[1, 0, 0, 0, 2]\n",
      "[1, 0, 0, 1, 0]\n",
      "[1, 0, 0, 1, 1]\n",
      "[1, 0, 0, 2, 0]\n",
      "[1, 0, 1, 0, 0]\n",
      "[1, 0, 1, 0, 1]\n",
      "[1, 0, 1, 1, 0]\n",
      "[1, 1, 0, 0, 0]\n",
      "[1, 1, 0, 0, 1]\n",
      "[1, 1, 0, 0, 2]\n",
      "[1, 1, 0, 1, 0]\n",
      "[1, 1, 0, 1, 1]\n",
      "[2, 0, 0, 0, 0]\n",
      "[2, 0, 0, 0, 1]\n",
      "[2, 0, 0, 0, 2]\n",
      "[2, 0, 0, 1, 0]\n",
      "[2, 0, 0, 1, 1]\n",
      "[2, 0, 0, 2, 0]\n"
     ]
    }
   ],
   "source": [
    "#number of repeatative permutation N^k and T concecutive number of choices sum shouldn't cross T.\n",
    "\n",
    "def tv(temp, T):\n",
    "    for t in range(len(temp)):\n",
    "        tsum = 0\n",
    "        for t1 in range(t,min(t+T, len(temp))):\n",
    "            tsum += temp[t1]\n",
    "        if tsum > T:\n",
    "            return False\n",
    "        \n",
    "    return True\n",
    "            \n",
    "def func(temp, j, N, K, T):\n",
    "    if j == K:\n",
    "        print(temp)\n",
    "        return\n",
    "    \n",
    "    for i in range(N):\n",
    "        tsum = i\n",
    "        \n",
    "        for t in range( max(0,len(temp)-T) , len(temp)):\n",
    "        #for t in range(len(temp)-1, max(-1,len(temp)-2-T), -1):\n",
    "            tsum += temp[t]\n",
    "            \n",
    "        if tsum <= T:\n",
    "            temp.append(i)\n",
    "\n",
    "            func(temp,j+1,N,K, T)\n",
    "\n",
    "            temp.pop()\n",
    "\n",
    "    \n",
    "N = 4\n",
    "K = 5\n",
    "T = 2\n",
    "func([], 0, N, K, T)"
   ]
  },
  {
   "cell_type": "code",
   "execution_count": 149,
   "metadata": {},
   "outputs": [
    {
     "name": "stdout",
     "output_type": "stream",
     "text": [
      "[[0, 1, 2], [0, 1, 3], [0, 1, 4], [0, 2, 1], [0, 2, 3], [0, 2, 4], [0, 3, 1], [0, 3, 2], [0, 3, 4], [0, 4, 1], [0, 4, 2], [0, 4, 3], [1, 0, 2], [1, 0, 3], [1, 0, 4], [1, 2, 0], [1, 2, 3], [1, 2, 4], [1, 3, 0], [1, 3, 2], [1, 3, 4], [1, 4, 0], [1, 4, 2], [1, 4, 3], [2, 0, 1], [2, 0, 3], [2, 0, 4], [2, 1, 0], [2, 1, 3], [2, 1, 4], [2, 3, 0], [2, 3, 1], [2, 3, 4], [2, 4, 0], [2, 4, 1], [2, 4, 3], [3, 0, 1], [3, 0, 2], [3, 0, 4], [3, 1, 0], [3, 1, 2], [3, 1, 4], [3, 2, 0], [3, 2, 1], [3, 2, 4], [3, 4, 0], [3, 4, 1], [3, 4, 2], [4, 0, 1], [4, 0, 2], [4, 0, 3], [4, 1, 0], [4, 1, 2], [4, 1, 3], [4, 2, 0], [4, 2, 1], [4, 2, 3], [4, 3, 0], [4, 3, 1], [4, 3, 2]]\n"
     ]
    }
   ],
   "source": [
    "#number of non repeatative permutation N^k and T concecutive number of choices sum shouldn't cross T.\n",
    "\n",
    "def valid(temp):\n",
    "    for t in range(len(temp)-1):\n",
    "        if temp[t] >= temp[t+1]:\n",
    "            return False\n",
    "    return True\n",
    "            \n",
    "def func(temp, j, N, K, T, final):\n",
    "    if j == K:\n",
    "        #print(temp)\n",
    "        final.append(list(temp))\n",
    "        return\n",
    "    \n",
    "    for i in range(N):\n",
    "        if i not in temp:\n",
    "            temp.append(i)\n",
    " \n",
    "            func(temp,j+1,N,K, T, final)\n",
    "            \n",
    "            temp.pop()\n",
    "        \n",
    "    \n",
    "N = 5\n",
    "K = 3\n",
    "T = 2\n",
    "final = []\n",
    "func([], 0, N, K, T, final)\n",
    "print(final)"
   ]
  },
  {
   "cell_type": "code",
   "execution_count": 99,
   "metadata": {},
   "outputs": [
    {
     "name": "stdout",
     "output_type": "stream",
     "text": [
      "[[1, 1, 2], [1, 2, 1], [1, 1, 2], [1, 2, 1], [2, 1, 1], [2, 1, 1]]\n",
      "6\n"
     ]
    }
   ],
   "source": [
    "#number of non permutation N^k without dubs\n",
    "\n",
    "def tv(temp, T):\n",
    "    for t in range(len(temp)):\n",
    "        tsum = 0\n",
    "        for t1 in range(t,min(t+T, len(temp))):\n",
    "            tsum += temp[t1]\n",
    "        if tsum > T:\n",
    "            return False\n",
    "        \n",
    "    return True\n",
    "            \n",
    "\n",
    "def func(temp, j, N, K, final, ind=[]):\n",
    "    if j == len(N):\n",
    "        #print(temp)\n",
    "        final.append(list(temp))\n",
    "        return\n",
    "    \n",
    "    for i in range(len(N)):\n",
    "        if i not in ind: \n",
    "            temp.append(N[i])\n",
    "            ind.append(i)\n",
    "            func(temp,j+1,,K, final,ind)\n",
    "            ind.pop()\n",
    "            temp.pop()\n",
    "        \n",
    "\n",
    "N = [1,1,2]\n",
    "K = 3\n",
    "final = []\n",
    "func([], 0, N, K, final)\n",
    "print(final)\n",
    "print(len(final))"
   ]
  },
  {
   "cell_type": "code",
   "execution_count": 81,
   "metadata": {},
   "outputs": [
    {
     "name": "stdout",
     "output_type": "stream",
     "text": [
      "y\n"
     ]
    }
   ],
   "source": [
    "print('y')"
   ]
  },
  {
   "cell_type": "code",
   "execution_count": 18,
   "metadata": {},
   "outputs": [
    {
     "name": "stdout",
     "output_type": "stream",
     "text": [
      "[0, 1, 2]\n",
      "[0, 1, 3]\n",
      "[0, 1, 4]\n",
      "[0, 2, 3]\n",
      "[0, 2, 4]\n",
      "[0, 3, 4]\n",
      "[1, 2, 3]\n",
      "[1, 2, 4]\n",
      "[1, 3, 4]\n",
      "[2, 3, 4]\n"
     ]
    }
   ],
   "source": [
    "#number of non repeatative combination N^k\n",
    "\n",
    "def valid(temp):\n",
    "    for t in range(len(temp)-1):\n",
    "        if temp[t] >= temp[t+1]:\n",
    "            return False\n",
    "    return True\n",
    "            \n",
    "def func(temp, j, N, K, T):\n",
    "    if j == K:\n",
    "        print(temp)\n",
    "        \n",
    "        return\n",
    "    \n",
    "    for i in range(N):\n",
    "        if len(temp) == 0 or i > temp[-1]:\n",
    "            temp.append(i)\n",
    "        \n",
    "        #if valid(temp):\n",
    "            func(temp,j+1,N,K, T)\n",
    "            \n",
    "            temp.pop()\n",
    "        \n",
    "    \n",
    "N = 5\n",
    "K = 3\n",
    "T = 2\n",
    "func([], 0, N, K, T)"
   ]
  },
  {
   "cell_type": "code",
   "execution_count": 35,
   "metadata": {},
   "outputs": [
    {
     "name": "stdout",
     "output_type": "stream",
     "text": [
      "[0, 0, 0]\n",
      "[0, 0, 1]\n",
      "[0, 0, 2]\n",
      "[0, 1, 1]\n",
      "[0, 1, 2]\n",
      "[0, 2, 2]\n",
      "[1, 1, 1]\n",
      "[1, 1, 2]\n",
      "[1, 2, 2]\n",
      "[2, 2, 2]\n"
     ]
    }
   ],
   "source": [
    "#number of repeatative combination N^k and T concecutive number of choices sum shouldn't cross T.\n",
    "\n",
    "def func(temp, j, N, K, T):\n",
    "    if j == K:\n",
    "        print(temp)\n",
    "        \n",
    "        return\n",
    "    \n",
    "    for i in range(N):\n",
    "        if len(temp) == 0 or i >= temp[-1]:\n",
    "            temp.append(i)\n",
    "\n",
    "            func(temp,j+1,N,K, T)\n",
    "            \n",
    "            temp.pop()\n",
    "        \n",
    "    \n",
    "N = 3\n",
    "K = 3\n",
    "T = 2\n",
    "func([], 0, N, K, T)"
   ]
  },
  {
   "cell_type": "code",
   "execution_count": 113,
   "metadata": {},
   "outputs": [
    {
     "name": "stdout",
     "output_type": "stream",
     "text": [
      "[3, 0, 10, 4]\n",
      "[3, 0, 10] 3\n",
      "[3, 0, 4] 4\n",
      "[3, 10, 4] 4\n",
      "[0, 10, 4] 4\n",
      "4\n"
     ]
    }
   ],
   "source": [
    "#number of non repeatative combination N^k and from an array\n",
    "import random\n",
    "\n",
    "a = [random.randint(1, 100) for i in range(100)]\n",
    "a = [3,0,10,4]\n",
    "print(a)\n",
    "\n",
    "def func(temp, j, N, K, T, i1 = 0):\n",
    "    if j == K:\n",
    "        print(temp, i1)\n",
    "        T[0]+=1\n",
    "        return\n",
    "    \n",
    "    for i in range(i1,len(N)):\n",
    "        #if len(temp) == 0 or N[i] > temp[-1][0]:\n",
    "        temp.append(N[i])\n",
    "        #print(temp)\n",
    "\n",
    "        func(temp,j+1,N,K, T, i+1)\n",
    "\n",
    "        temp.pop()\n",
    "        \n",
    "    \n",
    "\n",
    "N = a\n",
    "K = 3\n",
    "T = [0]\n",
    "func([], 0, N, K, T)\n",
    "print(T[0])"
   ]
  },
  {
   "cell_type": "code",
   "execution_count": 13,
   "metadata": {},
   "outputs": [
    {
     "name": "stdout",
     "output_type": "stream",
     "text": [
      "[3, 0, 10, 4]\n",
      "[(0, 3), (0, 3), (0, 3)]\n",
      "[(0, 3), (0, 3), (1, 0)]\n",
      "[(0, 3), (0, 3), (2, 10)]\n",
      "[(0, 3), (0, 3), (3, 4)]\n",
      "[(0, 3), (1, 0), (1, 0)]\n",
      "[(0, 3), (1, 0), (2, 10)]\n",
      "[(0, 3), (1, 0), (3, 4)]\n",
      "[(0, 3), (2, 10), (2, 10)]\n",
      "[(0, 3), (2, 10), (3, 4)]\n",
      "[(0, 3), (3, 4), (3, 4)]\n",
      "[(1, 0), (1, 0), (1, 0)]\n",
      "[(1, 0), (1, 0), (2, 10)]\n",
      "[(1, 0), (1, 0), (3, 4)]\n",
      "[(1, 0), (2, 10), (2, 10)]\n",
      "[(1, 0), (2, 10), (3, 4)]\n",
      "[(1, 0), (3, 4), (3, 4)]\n",
      "[(2, 10), (2, 10), (2, 10)]\n",
      "[(2, 10), (2, 10), (3, 4)]\n",
      "[(2, 10), (3, 4), (3, 4)]\n",
      "[(3, 4), (3, 4), (3, 4)]\n",
      "20\n"
     ]
    }
   ],
   "source": [
    "#number of repeatative combination N^k and T concecutive number of choices sum shouldn't cross T.\n",
    "import random\n",
    "\n",
    "a = [random.randint(1, 100) for i in range(100)]\n",
    "a = [3,0,10,4]\n",
    "print(a)\n",
    "\n",
    "def func(temp, j, N, K, T):\n",
    "    if j == K:\n",
    "        print(temp)\n",
    "        T[0]+=1\n",
    "        return\n",
    "    \n",
    "    for i in range(0 if not temp else temp[-1][0], len(N)):\n",
    "        #if len(temp) == 0 or i > temp[-1][0]:\n",
    "        temp.append((i,N[i]))\n",
    "        #print(temp)\n",
    "\n",
    "        func(temp,j+1,N,K, T)\n",
    "\n",
    "        temp.pop()\n",
    "        \n",
    "    \n",
    "\n",
    "N = a\n",
    "K = 3\n",
    "T = [0]\n",
    "func([], 0, N, K, T)\n",
    "print(T[0])"
   ]
  },
  {
   "cell_type": "code",
   "execution_count": 22,
   "metadata": {},
   "outputs": [
    {
     "name": "stdout",
     "output_type": "stream",
     "text": [
      "[3, 0, 10, 4]\n",
      "[3, 0, 10]\n",
      "[3, 0, 4]\n",
      "[3, 10, 4]\n",
      "[0, 10, 4]\n",
      "4\n"
     ]
    }
   ],
   "source": [
    "#number of non repeatative combination N^k and T concecutive number of choices sum shouldn't cross T.\n",
    "import random\n",
    "\n",
    "a = [random.randint(1, 100) for i in range(100)]\n",
    "a = [3,0,10,4]\n",
    "print(a)\n",
    "\n",
    "#i1 should be kept to zero if i1 is used in for loop instead of i1-1\n",
    "def func(temp, j, N, K, T, i1 = 0):\n",
    "    if j == K:\n",
    "        print(temp)\n",
    "        T[0]+=1\n",
    "        return\n",
    "    \n",
    "    for i in range(i1, len(N)):\n",
    "        #if len(temp) == 0 or i >= temp[-1][0]:\n",
    "        temp.append(N[i])\n",
    "        #print(temp)\n",
    "\n",
    "        func(temp,j+1,N,K, T, i+1)\n",
    "\n",
    "        temp.pop()\n",
    "        \n",
    "    \n",
    "\n",
    "N = a\n",
    "K = 3\n",
    "T = [0]\n",
    "func([], 0, N, K, T)\n",
    "print(T[0])"
   ]
  },
  {
   "cell_type": "code",
   "execution_count": 15,
   "metadata": {},
   "outputs": [
    {
     "name": "stdout",
     "output_type": "stream",
     "text": [
      "[3, 0, 10, 4]\n",
      "[(0, 3), (0, 3), (0, 3)]\n",
      "[(0, 3), (0, 3), (1, 0)]\n",
      "[(0, 3), (0, 3), (2, 10)]\n",
      "[(0, 3), (0, 3), (3, 4)]\n",
      "[(0, 3), (1, 0), (1, 0)]\n",
      "[(0, 3), (1, 0), (2, 10)]\n",
      "[(0, 3), (1, 0), (3, 4)]\n",
      "[(0, 3), (2, 10), (2, 10)]\n",
      "[(0, 3), (2, 10), (3, 4)]\n",
      "[(0, 3), (3, 4), (3, 4)]\n",
      "[(1, 0), (1, 0), (1, 0)]\n",
      "[(1, 0), (1, 0), (2, 10)]\n",
      "[(1, 0), (1, 0), (3, 4)]\n",
      "[(1, 0), (2, 10), (2, 10)]\n",
      "[(1, 0), (2, 10), (3, 4)]\n",
      "[(1, 0), (3, 4), (3, 4)]\n",
      "[(2, 10), (2, 10), (2, 10)]\n",
      "[(2, 10), (2, 10), (3, 4)]\n",
      "[(2, 10), (3, 4), (3, 4)]\n",
      "[(3, 4), (3, 4), (3, 4)]\n",
      "20\n"
     ]
    }
   ],
   "source": [
    "#number of repeatative combination N^k and T concecutive number of choices sum shouldn't cross T.\n",
    "import random\n",
    "\n",
    "a = [random.randint(1, 100) for i in range(100)]\n",
    "a = [3,0,10,4]\n",
    "print(a)\n",
    "\n",
    "def func(temp, j, N, K, T):\n",
    "    if j == K:\n",
    "        print(temp)\n",
    "        T[0]+=1\n",
    "        return\n",
    "    \n",
    "    for i in range(len(N)):\n",
    "        if len(temp) == 0 or i >= temp[-1][0]:\n",
    "            temp.append((i,N[i]))\n",
    "        #print(temp)\n",
    "\n",
    "            func(temp,j+1,N,K, T)\n",
    "\n",
    "            temp.pop()\n",
    "        \n",
    "    \n",
    "\n",
    "N = a\n",
    "K = 3\n",
    "T = [0]\n",
    "func([], 0, N, K, T)\n",
    "print(T[0])"
   ]
  },
  {
   "cell_type": "code",
   "execution_count": 23,
   "metadata": {},
   "outputs": [
    {
     "data": {
      "text/plain": [
       "'a b c'"
      ]
     },
     "execution_count": 23,
     "metadata": {},
     "output_type": "execute_result"
    }
   ],
   "source": [
    "a = ['a','b','c']\n",
    "a1 = \" \".join(a)\n",
    "a1"
   ]
  },
  {
   "cell_type": "code",
   "execution_count": 39,
   "metadata": {},
   "outputs": [
    {
     "name": "stdout",
     "output_type": "stream",
     "text": [
      "[1, 1, 1, 1, 1, 1, 1, 1, 1, 1, 1, 1, 1]\n",
      "[1, 1, 1, 1, 1, 1, 1, 1, 1, 4]\n",
      "[1, 1, 1, 1, 1, 4, 4]\n",
      "[1, 1, 1, 1, 9]\n",
      "[1, 4, 4, 4]\n",
      "[4, 9]\n"
     ]
    },
    {
     "data": {
      "text/plain": [
       "[[4, 9]]"
      ]
     },
     "execution_count": 39,
     "metadata": {},
     "output_type": "execute_result"
    }
   ],
   "source": [
    "#sum perfect squares equal to n given n value (min count) \n",
    "\n",
    "def ispsq(n):\n",
    "    if n == 1:\n",
    "        return True\n",
    "    elif n < 1:\n",
    "        return False\n",
    "    \n",
    "    i = 0\n",
    "    while i <= n//2:\n",
    "        if i*i == n:\n",
    "            return True\n",
    "        i+=1\n",
    "        \n",
    "    return False\n",
    "\n",
    "def per_sq(n,j,mn,fin,cost=0,temp=[],i1=0):\n",
    "    if j >= n:\n",
    "        if j == n:\n",
    "            print(temp)\n",
    "            if mn[0] > cost:\n",
    "                mn[0] = cost\n",
    "                fin[0] = list(temp)\n",
    "    \n",
    "        return \n",
    "    \n",
    "    \n",
    "    for i in range(0 if i1 == 0 else i1-1, n):\n",
    "        if ispsq(i):\n",
    "            j+=i\n",
    "            temp.append(i)\n",
    "            per_sq(n,j,mn,fin,cost+1,temp,i+1)\n",
    "            j-=i\n",
    "            temp.pop()\n",
    "            \n",
    "\n",
    "n = 13\n",
    "j = 0\n",
    "mn = [n]\n",
    "fin = [0]\n",
    "per_sq(n,j,mn,fin)   \n",
    "fin"
   ]
  },
  {
   "cell_type": "code",
   "execution_count": 255,
   "metadata": {},
   "outputs": [
    {
     "data": {
      "text/plain": [
       "[3, 3, 2, 1, 2, 4, 3, 2, 1, 3, 2, 1, 0]"
      ]
     },
     "execution_count": 255,
     "metadata": {},
     "output_type": "execute_result"
    }
   ],
   "source": [
    "#sum of perfect squares\n",
    "import math\n",
    "\n",
    "a = 12\n",
    "inf = 2**16\n",
    "arr = [None]*(a+1)\n",
    "arr[-1] = 0\n",
    "dlist = [[]]*(a+1)\n",
    "dlist[-1] = [0]\n",
    "\n",
    "for i in range(a,0,-1):\n",
    "    for j in range(1,int(math.sqrt(i))+1):\n",
    "            if arr[i-j*j] == None:\n",
    "                arr[i-j*j] = arr[i]+1\n",
    "                lis.append(i)\n",
    "\n",
    "            elif arr[i-j*j] != None:\n",
    "                arr[i-j*j] = min(arr[i]+1, arr[i-j*j])\n",
    "        \n",
    "arr"
   ]
  },
  {
   "cell_type": "code",
   "execution_count": 38,
   "metadata": {},
   "outputs": [
    {
     "data": {
      "text/plain": [
       "1.4142135623730951"
      ]
     },
     "execution_count": 38,
     "metadata": {},
     "output_type": "execute_result"
    }
   ],
   "source": [
    "import math\n",
    "math.sqrt(2)"
   ]
  },
  {
   "cell_type": "code",
   "execution_count": 69,
   "metadata": {},
   "outputs": [
    {
     "name": "stdout",
     "output_type": "stream",
     "text": [
      "[[2, 10], [3, 15], [5, 15], [7, 15], [9, 12], [12, 12], [15, 10], [19, 10], [20, 10], [24, 8]]\n"
     ]
    },
    {
     "data": {
      "text/plain": [
       "[[2, 10], [3, 15], [7, 12], [12, 10], [20, 8]]"
      ]
     },
     "execution_count": 69,
     "metadata": {},
     "output_type": "execute_result"
    }
   ],
   "source": [
    "#skyline\n",
    "sk = [ [2, 9, 10], [5, 12, 12], [15, 20, 10], [3, 7, 15], [19, 24, 8] ]\n",
    "        \n",
    "mx = 0  \n",
    "fin = []\n",
    "for i in range(len(sk)):\n",
    "    tmx1 = sk[i][2]\n",
    "    tmx2 = sk[i][2]\n",
    "    for j in range(len(sk)):\n",
    "        if i!=j:\n",
    "            if sk[i][0] >= sk[j][0] and sk[i][0] <= sk[j][1]:\n",
    "                if tmx1 < sk[j][2]:\n",
    "                    tmx1 = sk[j][2]\n",
    "                    \n",
    "            if sk[i][1] >= sk[j][0] and sk[i][1] <= sk[j][1]:\n",
    "                if tmx2 < sk[j][2]:\n",
    "                    tmx2 = sk[j][2]\n",
    "        \n",
    "    fin.append([sk[i][0], tmx1])\n",
    "    fin.append([sk[i][1], tmx2])\n",
    "\n",
    "fin.sort(key = lambda x:x[0])\n",
    "f = []\n",
    "f.append(fin[0])\n",
    "for i in range(0,len(fin)-1):\n",
    "    if fin[i][1] < fin[i+1][1]:\n",
    "        f.append(fin[i+1])\n",
    "    elif fin[i][1] > fin[i+1][1]:\n",
    "        f.append([fin[i][0], fin[i+1][1]])\n",
    "print(fin)\n",
    "f\n"
   ]
  },
  {
   "cell_type": "code",
   "execution_count": 96,
   "metadata": {},
   "outputs": [
    {
     "name": "stdout",
     "output_type": "stream",
     "text": [
      "0\n",
      "1\n",
      "2\n",
      "3\n",
      "4\n",
      "5\n",
      "6\n",
      "8\n"
     ]
    }
   ],
   "source": [
    "k = 2\n",
    "for i in range(10):\n",
    "    k -=1\n",
    "    if k == 0:\n",
    "        k+=2\n",
    "        continue\n",
    "    print(i)\n",
    "    if i == 6 or i == 8:\n",
    "        i+=1\n",
    "        k-=1\n",
    "    k+=1"
   ]
  },
  {
   "cell_type": "code",
   "execution_count": 70,
   "metadata": {},
   "outputs": [
    {
     "data": {
      "text/plain": [
       "[[19, 24, 8], [15, 20, 10], [5, 12, 12], [2, 9, 10], [3, 7, 15]]"
      ]
     },
     "execution_count": 70,
     "metadata": {},
     "output_type": "execute_result"
    }
   ],
   "source": [
    "sk = [ [2, 9, 10], [3, 7, 15], [5, 12, 12], [15, 20, 10], [19, 24, 8] ]\n",
    "sk.sort(key=lambda x: x[0])\n",
    "sk.sort(key=lambda x: -x[1])\n",
    "sk"
   ]
  },
  {
   "cell_type": "code",
   "execution_count": 68,
   "metadata": {},
   "outputs": [
    {
     "name": "stdout",
     "output_type": "stream",
     "text": [
      "23\n",
      "[10, 15, 15, 15, 15, 15, 12, 12, 12, 12, 12, 0, 0, 10, 10, 10, 10, 10, 10, 8, 8, 8, 8]\n"
     ]
    },
    {
     "data": {
      "text/plain": [
       "[[2, 10], [3, 15], [7, 12], [12, 0], [15, 10], [20, 8], [24, 0]]"
      ]
     },
     "execution_count": 68,
     "metadata": {},
     "output_type": "execute_result"
    }
   ],
   "source": [
    "#skyline \n",
    "min_l = sk[0][0]\n",
    "max_r = sk[0][1]\n",
    "sk = [ [2, 9, 10], [5, 12, 12], [15, 20, 10], [3, 7, 15], [19, 24, 8] ]\n",
    "for i in sk:\n",
    "    if min_l > i[0]:\n",
    "        min_l = i[0]\n",
    "    if max_r < i[1]:\n",
    "        max_r = i[1]\n",
    "        \n",
    "heights = [0]*(max_r-min_l+1)\n",
    "print(len(heights))\n",
    "\n",
    "for b in sk:\n",
    "    for i in range(b[0]-min_l, b[1]+1-min_l):\n",
    "        if heights[i] < b[2]:\n",
    "            heights[i] = b[2]\n",
    "\n",
    "fin = [[min_l,heights[0]]] if heights[0] != 0 else []\n",
    "\n",
    "for i in range(len(heights)-1):\n",
    "    if heights[i] < heights[i+1]:\n",
    "        fin.append([min_l+i+1, heights[i+1]])\n",
    "    elif heights[i] > heights[i+1]:\n",
    "        fin.append([min_l+i, heights[i+1]])\n",
    "        \n",
    "fin.append([max_r, 0])\n",
    "print(heights)\n",
    "fin\n"
   ]
  },
  {
   "cell_type": "code",
   "execution_count": 72,
   "metadata": {},
   "outputs": [
    {
     "data": {
      "text/plain": [
       "[[2, 9, 10], [3, 7, 15], [5, 12, 12], [15, 20, 10], [19, 24, 8]]"
      ]
     },
     "execution_count": 72,
     "metadata": {},
     "output_type": "execute_result"
    }
   ],
   "source": [
    "sk = [ [2, 9, 10], [5, 12, 12], [15, 20, 10], [3, 7, 15], [19, 24, 8] ]\n",
    "sk.sort(key=lambda x: x[0])\n",
    "sk"
   ]
  },
  {
   "cell_type": "code",
   "execution_count": 88,
   "metadata": {},
   "outputs": [
    {
     "data": {
      "text/plain": [
       "[[2, 10], [3, 15], [15, 10]]"
      ]
     },
     "execution_count": 88,
     "metadata": {},
     "output_type": "execute_result"
    }
   ],
   "source": [
    "for i in sk:\n",
    "    if min_l > i[0]:\n",
    "        min_l = i[0]\n",
    "    if max_r < i[1]:\n",
    "        max_r = i[1]\n",
    "        \n",
    "\n",
    "def islr(sk, i):\n",
    "    h1 = [0] \n",
    "    h2 = [0]\n",
    "    \n",
    "    for s in sk:\n",
    "        if i == s[0]:\n",
    "            h1 = s\n",
    "        elif i == s[1]:\n",
    "            h2 = s\n",
    "        \n",
    "#     if h1[0]!=0 and h2[0]!=0:\n",
    "#         if h1[2]>h2[2]:\n",
    "#             return [h1,'l']\n",
    "#         elif h2[2]>h1[2]:\n",
    "#             return [h2,'r']\n",
    "#         else:\n",
    "#             return [0,'n']\n",
    "        \n",
    "    if h1[0]!=0:\n",
    "        return [h1,'l']\n",
    "    elif h2[0]!=0:\n",
    "        return [h2,'r']\n",
    "    else:\n",
    "        return [0,'n']\n",
    "        \n",
    "l = []\n",
    "fin = []\n",
    "for i in range(min_l, max_r+1):\n",
    "    h = islr(sk,i)\n",
    "    \n",
    "    mx = 0\n",
    "    for l1 in l:\n",
    "        mx = max(mx,l1[2])\n",
    "        \n",
    "    if h[1] == 'l':\n",
    "        if h[0][2] > mx:\n",
    "            fin.append([h[0][0],h[0][2]])\n",
    "            \n",
    "        l.append(h[0])\n",
    "        \n",
    "    elif h[1] == 'r':\n",
    "        if h[0][2] > mx:\n",
    "            fin.append([h[0][1], mx])\n",
    "    \n",
    "        l.remove(h[0])\n",
    "\n",
    "fin"
   ]
  },
  {
   "cell_type": "code",
   "execution_count": 109,
   "metadata": {},
   "outputs": [
    {
     "name": "stdout",
     "output_type": "stream",
     "text": [
      "4 2\n",
      "16 8\n",
      "256 128\n"
     ]
    },
    {
     "data": {
      "text/plain": [
       "128"
      ]
     },
     "execution_count": 109,
     "metadata": {},
     "output_type": "execute_result"
    }
   ],
   "source": [
    "sm = 1\n",
    "#return x**n\n",
    "n = 7\n",
    "x = 2\n",
    "if n < 0:\n",
    "    n = -n\n",
    "    x = 1/x\n",
    "\n",
    "i = n\n",
    "while i >= 1:\n",
    "    if i % 2 == 1:\n",
    "        sm *= x\n",
    "    x = x*x\n",
    "    print(x,sm)\n",
    "    i//=2\n",
    "    \n",
    "sm"
   ]
  },
  {
   "cell_type": "code",
   "execution_count": 114,
   "metadata": {},
   "outputs": [
    {
     "name": "stdout",
     "output_type": "stream",
     "text": [
      "0 100\n",
      "1 50\n",
      "2 25\n",
      "3 12\n",
      "4 6\n",
      "5 3\n",
      "6 1\n"
     ]
    }
   ],
   "source": [
    "i = 100\n",
    "count = 0\n",
    "while i > 0:\n",
    "    print(count, i)\n",
    "    count +=1\n",
    "    i//=2\n",
    "    "
   ]
  },
  {
   "cell_type": "code",
   "execution_count": 117,
   "metadata": {},
   "outputs": [
    {
     "data": {
      "text/plain": [
       "[['a', 'd', 'g'],\n",
       " ['a', 'd', 'h'],\n",
       " ['a', 'd', 'i'],\n",
       " ['a', 'd', 'j'],\n",
       " ['a', 'e', 'g'],\n",
       " ['a', 'e', 'h'],\n",
       " ['a', 'e', 'i'],\n",
       " ['a', 'e', 'j'],\n",
       " ['a', 'f', 'g'],\n",
       " ['a', 'f', 'h'],\n",
       " ['a', 'f', 'i'],\n",
       " ['a', 'f', 'j'],\n",
       " ['b', 'd', 'g'],\n",
       " ['b', 'd', 'h'],\n",
       " ['b', 'd', 'i'],\n",
       " ['b', 'd', 'j'],\n",
       " ['b', 'e', 'g'],\n",
       " ['b', 'e', 'h'],\n",
       " ['b', 'e', 'i'],\n",
       " ['b', 'e', 'j'],\n",
       " ['b', 'f', 'g'],\n",
       " ['b', 'f', 'h'],\n",
       " ['b', 'f', 'i'],\n",
       " ['b', 'f', 'j'],\n",
       " ['c', 'd', 'g'],\n",
       " ['c', 'd', 'h'],\n",
       " ['c', 'd', 'i'],\n",
       " ['c', 'd', 'j'],\n",
       " ['c', 'e', 'g'],\n",
       " ['c', 'e', 'h'],\n",
       " ['c', 'e', 'i'],\n",
       " ['c', 'e', 'j'],\n",
       " ['c', 'f', 'g'],\n",
       " ['c', 'f', 'h'],\n",
       " ['c', 'f', 'i'],\n",
       " ['c', 'f', 'j']]"
      ]
     },
     "execution_count": 117,
     "metadata": {},
     "output_type": "execute_result"
    }
   ],
   "source": [
    "g = {}\n",
    "\n",
    "g = {'2':['a','b','c'], '3':['d','e','f'], '4':['g','h','i','j']}\n",
    "l = '234'\n",
    "def func(l,g, fin, j=0, temp=[]):\n",
    "    if j == len(l):\n",
    "        fin.append(list(temp))\n",
    "        return\n",
    "    \n",
    "    for i in g[l[j]]:\n",
    "        temp.append(i)\n",
    "        func(l,g,fin,j+1,temp)\n",
    "        temp.pop()\n",
    "        \n",
    "        \n",
    "fin = []\n",
    "func(l,g,fin)\n",
    "fin"
   ]
  },
  {
   "cell_type": "code",
   "execution_count": 19,
   "metadata": {},
   "outputs": [
    {
     "data": {
      "text/plain": [
       "[[1, 3, 5]]"
      ]
     },
     "execution_count": 19,
     "metadata": {},
     "output_type": "execute_result"
    }
   ],
   "source": [
    "def func(l, fin, j=0, temp=[], i1=0):\n",
    "    if j == len(l):\n",
    "        fin.append(list(temp))\n",
    "        return\n",
    "    \n",
    "    for i in range(i1,len(l)):\n",
    "        temp.append(l[i])\n",
    "        func(l,fin,j+1,temp,i+1)\n",
    "        temp.pop()\n",
    "\n",
    "l = [1,3,5]\n",
    "fin = []\n",
    "func(l,fin)\n",
    "fin"
   ]
  },
  {
   "cell_type": "code",
   "execution_count": 119,
   "metadata": {},
   "outputs": [
    {
     "name": "stdout",
     "output_type": "stream",
     "text": [
      "[0, 1, 2, 3, 4, 5] 20\n"
     ]
    }
   ],
   "source": [
    "a = [2,4,8,16,32,64]\n",
    "l = [0]*len(a)\n",
    "\n",
    "ans = 0\n",
    "for i in range(1,len(a)):\n",
    "    for j in range(0,i):\n",
    "        if a[i]%a[j]==0:\n",
    "            l[i]+=1\n",
    "            ans += l[j]\n",
    "            \n",
    "print(l,ans)"
   ]
  },
  {
   "cell_type": "code",
   "execution_count": 131,
   "metadata": {},
   "outputs": [
    {
     "name": "stdout",
     "output_type": "stream",
     "text": [
      "[0, 1, 2, 3, 4, 0]\n",
      "[5, 4, 3, 2, 1, 0]\n"
     ]
    },
    {
     "data": {
      "text/plain": [
       "20"
      ]
     },
     "execution_count": 131,
     "metadata": {},
     "output_type": "execute_result"
    }
   ],
   "source": [
    "dp = [0]*len(a)\n",
    "for i in range(0, len(a)-2):\n",
    "    for j in range(i+1,len(a)-1):\n",
    "        if a[j]%a[i] == 0:\n",
    "            dp[j] +=1\n",
    "ans = 0\n",
    "print(dp)\n",
    "for j in range(1,len(a)-1):\n",
    "    for k in range(j+1,len(a)):\n",
    "        if a[k]%a[j] == 0:\n",
    "            ans+=dp[j]\n",
    "\n"
   ]
  },
  {
   "cell_type": "code",
   "execution_count": 138,
   "metadata": {},
   "outputs": [
    {
     "name": "stdout",
     "output_type": "stream",
     "text": [
      "[0, 0, 3, 4, 3, 0]\n"
     ]
    },
    {
     "data": {
      "text/plain": [
       "12"
      ]
     },
     "execution_count": 138,
     "metadata": {},
     "output_type": "execute_result"
    }
   ],
   "source": [
    "# a = [2,4,8,16,32,64]\n",
    "# dp1 = [0]*len(a)\n",
    "# ans1=0\n",
    "# a = [2,4,8,16,32,64]\n",
    "\n",
    "\n",
    "# for i in range(len(a)-3,h,-1):\n",
    "#     for j in range(len(a)-2,i,-1):\n",
    "#         if a[j] % a[i] == 0:\n",
    "#             for k in range(len(a)-1,j,-1):\n",
    "#                 if a[k]%a[j] == 0:\n",
    "#                     dp1[j]+=1\n",
    "#                     ans1+=dp1[k]\n",
    "    \n",
    "# print(dp1)\n",
    "# ans1"
   ]
  },
  {
   "cell_type": "code",
   "execution_count": 168,
   "metadata": {},
   "outputs": [
    {
     "name": "stdout",
     "output_type": "stream",
     "text": [
      "[2, 4, 8]\n",
      "[2, 4, 16]\n",
      "[2, 4, 32]\n",
      "[2, 4, 64]\n",
      "[2, 8, 16]\n",
      "[2, 8, 32]\n",
      "[2, 8, 64]\n",
      "[2, 16, 32]\n",
      "[2, 16, 64]\n",
      "[2, 32, 64]\n",
      "[4, 8, 16]\n",
      "[4, 8, 32]\n",
      "[4, 8, 64]\n",
      "[4, 16, 32]\n",
      "[4, 16, 64]\n",
      "[4, 32, 64]\n",
      "[8, 16, 32]\n",
      "[8, 16, 64]\n",
      "[8, 32, 64]\n",
      "[16, 32, 64]\n"
     ]
    },
    {
     "data": {
      "text/plain": [
       "20"
      ]
     },
     "execution_count": 168,
     "metadata": {},
     "output_type": "execute_result"
    }
   ],
   "source": [
    "\n",
    "\n",
    "def func_count(a,x,p,count,temp,f,i1):\n",
    "    if p == f:\n",
    "        print(temp)\n",
    "        count[0]+=1\n",
    "        return\n",
    "\n",
    "    for j in range(i1,len(a)):\n",
    "        if a[j]%x == 0:\n",
    "            temp.append(a[j])\n",
    "            func_count(a,a[j],p+1,count,temp,f,j+1)\n",
    "            temp.pop()\n",
    "                \n",
    "                \n",
    "count = [0]\n",
    "a = [2,4,8,16,32,64]\n",
    "f = 3\n",
    "p = 0\n",
    "temp = []\n",
    "for i in range(len(a)):\n",
    "    temp.append(a[i])\n",
    "    func_count(a,a[i],p+1,count,temp,f,i+1)\n",
    "    temp.pop()\n",
    "    \n",
    "count[0]"
   ]
  },
  {
   "cell_type": "code",
   "execution_count": 6,
   "metadata": {},
   "outputs": [
    {
     "name": "stdout",
     "output_type": "stream",
     "text": [
      "[[1, 1, 1, 9], [4, 4, 4], [1, 1, 1, 1, 4, 4], [1, 1, 1, 4, 1, 4], [1, 1, 4, 1, 1, 4], [1, 4, 1, 1, 1, 4], [4, 1, 1, 1, 1, 4], [1, 1, 1, 1, 1, 1, 1, 1, 4], [1, 1, 9, 1], [1, 1, 1, 4, 4, 1], [1, 1, 4, 1, 4, 1], [1, 4, 1, 1, 4, 1], [4, 1, 1, 1, 4, 1], [1, 1, 1, 1, 1, 1, 1, 4, 1], [1, 9, 1, 1], [1, 1, 4, 4, 1, 1], [1, 4, 1, 4, 1, 1], [4, 1, 1, 4, 1, 1], [1, 1, 1, 1, 1, 1, 4, 1, 1], [9, 1, 1, 1], [1, 4, 4, 1, 1, 1], [4, 1, 4, 1, 1, 1], [1, 1, 1, 1, 1, 4, 1, 1, 1], [4, 4, 1, 1, 1, 1], [1, 1, 1, 1, 4, 1, 1, 1, 1], [1, 1, 1, 4, 1, 1, 1, 1, 1], [1, 1, 4, 1, 1, 1, 1, 1, 1], [1, 4, 1, 1, 1, 1, 1, 1, 1], [4, 1, 1, 1, 1, 1, 1, 1, 1], [1, 1, 1, 1, 1, 1, 1, 1, 1, 1, 1, 1]]\n"
     ]
    },
    {
     "data": {
      "text/plain": [
       "3"
      ]
     },
     "execution_count": 6,
     "metadata": {},
     "output_type": "execute_result"
    }
   ],
   "source": [
    "#dynamic programming\n",
    "\n",
    "import math\n",
    "n = 12\n",
    "\n",
    "vis = [None]*(n+1)\n",
    "vis[0] = 0\n",
    "vlis = [[]]*(n+1)\n",
    "vlis[0] = [0]\n",
    "\n",
    "for i in range(1,13):\n",
    "    lis = []\n",
    "    for j in range(0,i):\n",
    "        if vis[j] != None and math.sqrt(i-j)%1==0:\n",
    "            if vis[i] == None:\n",
    "                vis[i] = vis[j]+1\n",
    "            else:\n",
    "                vis[i] = min(vis[i], vis[j]+1)\n",
    "                \n",
    "        if len(vlis[j]) and math.sqrt(i-j)%1==0:\n",
    "            for vl in vlis[j]:\n",
    "                if vl != 0:\n",
    "                    lis.append(vl + [i-j])\n",
    "                else:\n",
    "                    lis.append([i-j])\n",
    "    vlis[i] = lis\n",
    "    \n",
    "    \n",
    "print(vlis[-1])         \n",
    "vis[-1]\n",
    "            "
   ]
  },
  {
   "cell_type": "code",
   "execution_count": 176,
   "metadata": {},
   "outputs": [
    {
     "data": {
      "text/plain": [
       "'11001'"
      ]
     },
     "execution_count": 176,
     "metadata": {},
     "output_type": "execute_result"
    }
   ],
   "source": [
    "\"{0:b}\".format(25)"
   ]
  },
  {
   "cell_type": "code",
   "execution_count": 188,
   "metadata": {},
   "outputs": [
    {
     "name": "stdout",
     "output_type": "stream",
     "text": [
      "101 11001\n",
      "11100\n"
     ]
    },
    {
     "data": {
      "text/plain": [
       "28"
      ]
     },
     "execution_count": 188,
     "metadata": {},
     "output_type": "execute_result"
    }
   ],
   "source": [
    "def xor(n1, n2):\n",
    "    b1 = \"{0:b}\".format(n1)\n",
    "    b2 = \"{0:b}\".format(n2)\n",
    "\n",
    "    i = len(b1)-1\n",
    "    j = len(b2)-1\n",
    "    s = \"\"\n",
    "    while i >= 0 and j>=0:\n",
    "        s=str(abs(int(b1[i],2)-int(b2[j],2)))+s\n",
    "        i-=1\n",
    "        j-=1\n",
    "\n",
    "    while i >= 0:\n",
    "        s='1'+s\n",
    "        i-=1\n",
    "        \n",
    "    while j >=0:\n",
    "        if b2[j] == '1':\n",
    "            s='1'+s\n",
    "        else:\n",
    "            s='0'+s\n",
    "        j-=1\n",
    "        \n",
    "\n",
    "    return int(s,2)\n",
    "\n",
    "xor(5,25)"
   ]
  },
  {
   "cell_type": "code",
   "execution_count": 191,
   "metadata": {},
   "outputs": [],
   "source": [
    "for n in range(4, 4, 2):\n",
    "        for x in range(2, n):\n",
    "            if n % x == 0:\n",
    "                print(n, 'equals', x, '*', n//x)\n",
    "                break"
   ]
  },
  {
   "cell_type": "code",
   "execution_count": 192,
   "metadata": {},
   "outputs": [
    {
     "name": "stdout",
     "output_type": "stream",
     "text": [
      "[1]\n"
     ]
    }
   ],
   "source": [
    "def f(a):\n",
    "    L = []\n",
    "    L.append(a)\n",
    "    return L\n",
    "\n",
    "f(5)\n",
    "f(1)\n",
    "print(f(1))"
   ]
  },
  {
   "cell_type": "code",
   "execution_count": 196,
   "metadata": {},
   "outputs": [
    {
     "data": {
      "text/plain": [
       "31"
      ]
     },
     "execution_count": 196,
     "metadata": {},
     "output_type": "execute_result"
    }
   ],
   "source": [
    "max((10,20,30,13,15,6,31))"
   ]
  },
  {
   "cell_type": "code",
   "execution_count": 204,
   "metadata": {},
   "outputs": [
    {
     "data": {
      "text/plain": [
       "[3, 3, 5, 5, 6, 7]"
      ]
     },
     "execution_count": 204,
     "metadata": {},
     "output_type": "execute_result"
    }
   ],
   "source": [
    "n = [1,3,-1,-3,5,3,6,7]\n",
    "k = 3\n",
    "\n",
    "if k > 0:\n",
    "    mx = []\n",
    "    for i in range(len(n)-k+1):\n",
    "        mx.append(max(n[i:i+k]))\n",
    "        \n",
    "mx"
   ]
  },
  {
   "cell_type": "code",
   "execution_count": 1,
   "metadata": {},
   "outputs": [
    {
     "data": {
      "text/plain": [
       "[[1, 1, 1, 1, 1, 1, 1, 1],\n",
       " [4, 1, 1, 1, 1],\n",
       " [1, 4, 1, 1, 1],\n",
       " [1, 1, 4, 1, 1],\n",
       " [1, 1, 1, 4, 1],\n",
       " [1, 1, 1, 1, 4],\n",
       " [4, 4]]"
      ]
     },
     "execution_count": 1,
     "metadata": {},
     "output_type": "execute_result"
    }
   ],
   "source": [
    "a = 8\n",
    "di = [[[]]]*(a+1)\n",
    "di[0] = [[0]]\n",
    "d = [None]*(a+1)\n",
    "d[0] = 0\n",
    "for i in range(1,a+1):\n",
    "    j = 1\n",
    "    lis=[]\n",
    "    while j*j <= i:\n",
    "        if d[i-j*j] != None:\n",
    "            if d[i]==None:\n",
    "                d[i]=d[i-j*j]+1\n",
    "            else:\n",
    "                d[i] = min(d[i-j*j]+1,d[i])\n",
    "                \n",
    "        for df in di[i-j*j]:\n",
    "            if df != [0]:\n",
    "                lis.append(df+[j*j])\n",
    "            else:\n",
    "                lis.append([j*j])\n",
    "            \n",
    "        j+=1\n",
    "    di[i] = lis\n",
    "    \n",
    "di[-1]"
   ]
  },
  {
   "cell_type": "code",
   "execution_count": null,
   "metadata": {},
   "outputs": [],
   "source": [
    "j = 1\n",
    "while j*j<5:\n",
    "    print(j)\n",
    "    j+=1"
   ]
  },
  {
   "cell_type": "code",
   "execution_count": null,
   "metadata": {},
   "outputs": [],
   "source": []
  },
  {
   "cell_type": "code",
   "execution_count": 4,
   "metadata": {},
   "outputs": [
    {
     "name": "stdout",
     "output_type": "stream",
     "text": [
      "1\n"
     ]
    }
   ],
   "source": [
    "print(\"1\")"
   ]
  },
  {
   "cell_type": "code",
   "execution_count": 61,
   "metadata": {},
   "outputs": [
    {
     "name": "stdout",
     "output_type": "stream",
     "text": [
      "[[115], [1, 15], [11, 5], [1, 1, 5]]\n",
      "['115']\n",
      "['1', '+15']\n",
      "['1', '-15']\n",
      "['1', '*15']\n",
      "['1', '/15']\n",
      "['11', '+5']\n",
      "['11', '-5']\n",
      "['11', '*5']\n",
      "['11', '/5']\n",
      "['1', '+1', '+5']\n",
      "['1', '+1', '-5']\n",
      "['1', '+1', '*5']\n",
      "['1', '+1', '/5']\n",
      "['1', '-1', '+5']\n",
      "['1', '-1', '-5']\n",
      "['1', '-1', '*5']\n",
      "['1', '-1', '/5']\n",
      "['1', '*1', '+5']\n",
      "['1', '*1', '-5']\n",
      "['1', '*1', '*5']\n",
      "['1', '*1', '/5']\n",
      "['1', '/1', '+5']\n",
      "['1', '/1', '-5']\n",
      "['1', '/1', '*5']\n",
      "['1', '/1', '/5']\n"
     ]
    },
    {
     "data": {
      "text/plain": [
       "[['1-1+5', '1*1*5', '1/1*5']]"
      ]
     },
     "execution_count": 61,
     "metadata": {},
     "output_type": "execute_result"
    }
   ],
   "source": [
    "a = \"115\"\n",
    "a = list(a)\n",
    "n = len(a)\n",
    "vis = [None]*(n+1)\n",
    "vis[0] = 0\n",
    "vlis = [[]]*(n+1)\n",
    "vlis[0] = [0]\n",
    "\n",
    "for i in range(1,len(a)+1):\n",
    "    lis = []\n",
    "    for j in range(0,i):\n",
    "#         if vis[j] != None and math.sqrt(i-j)%1==0:\n",
    "#             if vis[i] == None:\n",
    "#                 vis[i] = vis[j]+1\n",
    "#             else:\n",
    "#                 vis[i] = min(vis[i], vis[j]+1)\n",
    "                \n",
    "        if len(vlis[j]):\n",
    "            for vl in vlis[j]:\n",
    "                if vl != 0:\n",
    "                    lis.append(vl + [a[j:i]])\n",
    "                else:\n",
    "                    lis.append([a[j:i]])\n",
    "    vlis[i] = lis\n",
    "    \n",
    "    \n",
    "kl = vlis[-1]\n",
    "kl\n",
    "#vis[-1]\n",
    "out= []\n",
    "for i in kl:\n",
    "    l = []\n",
    "    for j in i:\n",
    "        l.append(int(\"\".join(j)))\n",
    "    out.append(l)\n",
    "print(out)\n",
    "\n",
    "op = ['+', '-', '*', '/']\n",
    "\n",
    "#sm = first number in your array\n",
    "def comb(l, op, j, f, final, sm, temp):\n",
    "    if j == len(l):\n",
    "        print(temp)\n",
    "        if sum(sm) == f:\n",
    "            final.append(\"\".join(temp))\n",
    "        return\n",
    "        \n",
    "    for i in range(len(op)):\n",
    "        sm_temp = list(sm)\n",
    "        if op[i] == '+':\n",
    "            sm.append(l[j])\n",
    "        elif op[i] == '-':\n",
    "            sm.append(-l[j])\n",
    "        elif op[i] == '*':\n",
    "            sm[-1]*=l[j]\n",
    "        elif op[i]=='/':\n",
    "            if l[j] != 0:\n",
    "                sm[-1] = sm[-1]//l[j] if sm[-1] > 0 else -(-(sm[-1])//l[j])\n",
    "            else:\n",
    "                return\n",
    "            \n",
    "        temp.append(op[i]+str(l[j]))\n",
    "        comb(l,op,j+1,f,final,sm,temp)\n",
    "        temp.pop()\n",
    "        \n",
    "        sm = list(sm_temp)\n",
    "        del sm_temp\n",
    "        \n",
    "fin = []\n",
    "f = 5\n",
    "\n",
    "for ou in out:\n",
    "    final = []\n",
    "    sm = [ou[0]]\n",
    "    temp = [str(ou[0])]\n",
    "    comb(ou, op, 1, f, final, sm, temp)\n",
    "    if final:  \n",
    "        fin.append(final)\n",
    "fin"
   ]
  },
  {
   "cell_type": "code",
   "execution_count": null,
   "metadata": {},
   "outputs": [],
   "source": [
    "\n"
   ]
  },
  {
   "cell_type": "code",
   "execution_count": 105,
   "metadata": {},
   "outputs": [
    {
     "name": "stdout",
     "output_type": "stream",
     "text": [
      "y\n"
     ]
    }
   ],
   "source": [
    "if 7-4:\n",
    "    print('y')\n",
    "    "
   ]
  },
  {
   "cell_type": "code",
   "execution_count": 114,
   "metadata": {},
   "outputs": [
    {
     "name": "stdout",
     "output_type": "stream",
     "text": [
      "yes\n"
     ]
    }
   ],
   "source": [
    "#print all([int(i)>0 for i in n]) and \n",
    "n = [1,2,3,2,1]\n",
    "# if n == n[::-1]:\n",
    "#     print('yes')\n",
    "    \n",
    "x = 0\n",
    "for i in range(len(n)):\n",
    "    if n[i] != n[len(n)-1-i]:\n",
    "        print('no')\n",
    "        x = 1\n",
    "if x == 0:\n",
    "    print('yes')"
   ]
  },
  {
   "cell_type": "code",
   "execution_count": 118,
   "metadata": {},
   "outputs": [
    {
     "data": {
      "text/plain": [
       "[[0, 0], [0, 0], [1, 1], [2, 2], [3, 3]]"
      ]
     },
     "execution_count": 118,
     "metadata": {},
     "output_type": "execute_result"
    }
   ],
   "source": [
    "a = [[0,0]]\n",
    "\n",
    "for i in range(4):\n",
    "    a += [i,i]\n",
    "    \n",
    "a"
   ]
  },
  {
   "cell_type": "code",
   "execution_count": 128,
   "metadata": {},
   "outputs": [
    {
     "data": {
      "text/plain": [
       "[1, 0, 0, 1, 2, 0, 3, 0, 2, 0, 0, 5]"
      ]
     },
     "execution_count": 128,
     "metadata": {},
     "output_type": "execute_result"
    }
   ],
   "source": [
    "#total number different combinations of using string in set as substrings to get an array\n",
    "a = 'hatsonlying'\n",
    "s = {'hat', 's', 'only', 'on', 'lying', 'ing', 'hats', 'son'}\n",
    "n = len(a)\n",
    "d = [0]*(n+1)\n",
    "d[0] =1\n",
    "for i in range(1, n+1):\n",
    "    for j in range(0, i):\n",
    "        if a[j:i] in s:\n",
    "            d[i] += d[j]\n",
    "            \n",
    "d"
   ]
  },
  {
   "cell_type": "code",
   "execution_count": 129,
   "metadata": {},
   "outputs": [
    {
     "data": {
      "text/plain": [
       "[0, 0, 1, 1, 2, 3, 4, 5, 6, 8]"
      ]
     },
     "execution_count": 129,
     "metadata": {},
     "output_type": "execute_result"
    }
   ],
   "source": [
    "#stairs sum min 2 should be in ascending order\n",
    "\n",
    "n = 10\n",
    "di = [0]*(n)\n",
    "for i in range(1,  n+1):\n",
    "    for j in range(i-1, (i-1)//2, -1):\n",
    "        if i-j<j:\n",
    "            di[i-1]+=di[i-j-1]+1\n",
    "        elif i-j==j:\n",
    "            di[i-1]+=di[i-j-1]\n",
    "            \n",
    "di"
   ]
  },
  {
   "cell_type": "code",
   "execution_count": 136,
   "metadata": {},
   "outputs": [
    {
     "ename": "TypeError",
     "evalue": "'map' object is not subscriptable",
     "output_type": "error",
     "traceback": [
      "\u001b[0;31m---------------------------------------------------------------------------\u001b[0m",
      "\u001b[0;31mTypeError\u001b[0m                                 Traceback (most recent call last)",
      "\u001b[0;32m<ipython-input-136-7fc59a3dfbc1>\u001b[0m in \u001b[0;36m<module>\u001b[0;34m()\u001b[0m\n\u001b[1;32m      1\u001b[0m \u001b[0mk\u001b[0m \u001b[0;34m=\u001b[0m \u001b[0mmap\u001b[0m\u001b[0;34m(\u001b[0m\u001b[0mchr\u001b[0m\u001b[0;34m,\u001b[0m \u001b[0mrange\u001b[0m\u001b[0;34m(\u001b[0m\u001b[0mord\u001b[0m\u001b[0;34m(\u001b[0m\u001b[0;34m'a'\u001b[0m\u001b[0;34m)\u001b[0m\u001b[0;34m,\u001b[0m \u001b[0mord\u001b[0m\u001b[0;34m(\u001b[0m\u001b[0;34m'z'\u001b[0m\u001b[0;34m)\u001b[0m \u001b[0;34m+\u001b[0m \u001b[0;36m1\u001b[0m\u001b[0;34m)\u001b[0m\u001b[0;34m)\u001b[0m\u001b[0;34m\u001b[0m\u001b[0m\n\u001b[0;32m----> 2\u001b[0;31m \u001b[0mprint\u001b[0m\u001b[0;34m(\u001b[0m\u001b[0mk\u001b[0m\u001b[0;34m[\u001b[0m\u001b[0;36m0\u001b[0m\u001b[0;34m]\u001b[0m\u001b[0;34m)\u001b[0m\u001b[0;34m\u001b[0m\u001b[0m\n\u001b[0m",
      "\u001b[0;31mTypeError\u001b[0m: 'map' object is not subscriptable"
     ]
    }
   ],
   "source": [
    "k = map(chr, range(ord('a'), ord('z') + 1))"
   ]
  },
  {
   "cell_type": "code",
   "execution_count": 147,
   "metadata": {},
   "outputs": [
    {
     "name": "stdout",
     "output_type": "stream",
     "text": [
      "c\n",
      "-1 -1\n"
     ]
    }
   ],
   "source": [
    "s = 'ab'\n",
    "i = 99\n",
    "print(chr(i))\n",
    "l = s.find(chr(i))\n",
    "r = s.rfind(chr(i))\n",
    "print(l,r)"
   ]
  },
  {
   "cell_type": "code",
   "execution_count": 152,
   "metadata": {},
   "outputs": [
    {
     "name": "stdout",
     "output_type": "stream",
     "text": [
      "yes\n"
     ]
    }
   ],
   "source": [
    "l = [set([1,1,3])]\n",
    "if set([1,3,1]) in l:\n",
    "    print('yes')"
   ]
  },
  {
   "cell_type": "code",
   "execution_count": 160,
   "metadata": {},
   "outputs": [
    {
     "data": {
      "text/plain": [
       "defaultdict(int, {1: 1, 2: 1, 3: 4, 5: 2, 6: 1, 45: 1})"
      ]
     },
     "execution_count": 160,
     "metadata": {},
     "output_type": "execute_result"
    }
   ],
   "source": [
    "from collections import defaultdict\n",
    "\n",
    "nums = [1,3,2,3,5,45,3,5,3,6]\n",
    "\n",
    "d=defaultdict(int)\n",
    "for i in nums:\n",
    "    d[i]+=1\n",
    "    \n",
    "d"
   ]
  },
  {
   "cell_type": "code",
   "execution_count": null,
   "metadata": {},
   "outputs": [],
   "source": []
  }
 ],
 "metadata": {
  "kernelspec": {
   "display_name": "Python 3",
   "language": "python",
   "name": "python3"
  },
  "language_info": {
   "codemirror_mode": {
    "name": "ipython",
    "version": 3
   },
   "file_extension": ".py",
   "mimetype": "text/x-python",
   "name": "python",
   "nbconvert_exporter": "python",
   "pygments_lexer": "ipython3",
   "version": "3.5.5"
  }
 },
 "nbformat": 4,
 "nbformat_minor": 2
}
