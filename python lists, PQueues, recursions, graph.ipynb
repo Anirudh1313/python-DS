{
 "cells": [
  {
   "cell_type": "code",
   "execution_count": 1,
   "metadata": {},
   "outputs": [
    {
     "data": {
      "text/plain": [
       "[[0, 0, 0, 0, 0, 0, 0, 0, 0, 0],\n",
       " [1, 1, 1, 1, 1, 1, 1, 1, 1, 1],\n",
       " [2, 2, 2, 2, 2, 2, 2, 2, 2, 2],\n",
       " [3, 3, 3, 3, 3, 3, 3, 3, 3, 3],\n",
       " [4, 4, 4, 4, 4, 4, 4, 4, 4, 4],\n",
       " [5, 5, 5, 5, 5, 5, 5, 5, 5, 5],\n",
       " [6, 6, 6, 6, 6, 6, 6, 6, 6, 6],\n",
       " [7, 7, 7, 7, 7, 7, 7, 7, 7, 7],\n",
       " [8, 8, 8, 8, 8, 8, 8, 8, 8, 8],\n",
       " [9, 9, 9, 9, 9, 9, 9, 9, 9, 9]]"
      ]
     },
     "execution_count": 1,
     "metadata": {},
     "output_type": "execute_result"
    }
   ],
   "source": [
    "k = 1\n",
    "a = [x for x in range(10)]\n",
    "\n",
    "a2 = [[y for x in range(10)] for y in range(10)]\n",
    "\n",
    "a3 = [[0 for x in a2[y]] for y in range(len(a2))]\n",
    "\n",
    "a2\n"
   ]
  },
  {
   "cell_type": "code",
   "execution_count": 2,
   "metadata": {},
   "outputs": [
    {
     "data": {
      "text/plain": [
       "[[0, 1, 2, 3, 4, 5, 6, 7, 8, 9],\n",
       " [0, 1, 2, 3, 4, 5, 6, 7, 8, 9],\n",
       " [0, 1, 2, 3, 4, 5, 6, 7, 8, 9],\n",
       " [0, 1, 2, 3, 4, 5, 6, 7, 8, 9],\n",
       " [0, 1, 2, 3, 4, 5, 6, 7, 8, 9],\n",
       " [0, 1, 2, 3, 4, 5, 6, 7, 8, 9],\n",
       " [0, 1, 2, 3, 4, 5, 6, 7, 8, 9],\n",
       " [0, 1, 2, 3, 4, 5, 6, 7, 8, 9],\n",
       " [0, 1, 2, 3, 4, 5, 6, 7, 8, 9],\n",
       " [0, 1, 2, 3, 4, 5, 6, 7, 8, 9]]"
      ]
     },
     "execution_count": 2,
     "metadata": {},
     "output_type": "execute_result"
    }
   ],
   "source": [
    "#transpose of a matrix\n",
    "\n",
    "for i in range(len(a3)):\n",
    "    for j in range(len(a3[0])):\n",
    "        a3[i][j] = a2[j][i]\n",
    "\n",
    "a3\n"
   ]
  },
  {
   "cell_type": "code",
   "execution_count": 3,
   "metadata": {},
   "outputs": [
    {
     "data": {
      "text/plain": [
       "[[0, 0, 0, 0, 0, 0, 0, 0, 0, 0],\n",
       " [1, 1, 1, 1, 1, 1, 1, 1, 1, 1],\n",
       " [2, 2, 2, 2, 2, 2, 2, 2, 2, 2],\n",
       " [3, 3, 3, 3, 3, 3, 3, 3, 3, 3],\n",
       " [4, 4, 4, 4, 4, 4, 4, 4, 4, 4],\n",
       " [5, 5, 5, 5, 5, 5, 5, 5, 5, 5],\n",
       " [6, 6, 6, 6, 6, 6, 6, 6, 6, 6],\n",
       " [7, 7, 7, 7, 7, 7, 7, 7, 7, 7],\n",
       " [8, 8, 8, 8, 8, 8, 8, 8, 8, 8],\n",
       " [9, 9, 9, 9, 9, 9, 9, 9, 9, 9]]"
      ]
     },
     "execution_count": 3,
     "metadata": {},
     "output_type": "execute_result"
    }
   ],
   "source": [
    "#rotate a matrix\n",
    "a4 = [[0 for x in a3[y]] for y in range(len(a3))]\n",
    "\n",
    "for i in range(len(a3)):\n",
    "    for j in range(len(a3[0])):\n",
    "        a4[j][len(a3[0])-1-i] = a3[i][j]\n",
    "\n",
    "a4"
   ]
  },
  {
   "cell_type": "code",
   "execution_count": 4,
   "metadata": {},
   "outputs": [
    {
     "data": {
      "text/plain": [
       "[[9, 8, 7, 6, 5, 4, 3, 2, 1, 0],\n",
       " [9, 8, 7, 6, 5, 4, 3, 2, 1, 0],\n",
       " [9, 8, 7, 6, 5, 4, 3, 2, 1, 0],\n",
       " [9, 8, 7, 6, 5, 4, 3, 2, 1, 0],\n",
       " [9, 8, 7, 6, 5, 4, 3, 2, 1, 0],\n",
       " [9, 8, 7, 6, 5, 4, 3, 2, 1, 0],\n",
       " [9, 8, 7, 6, 5, 4, 3, 2, 1, 0],\n",
       " [9, 8, 7, 6, 5, 4, 3, 2, 1, 0],\n",
       " [9, 8, 7, 6, 5, 4, 3, 2, 1, 0],\n",
       " [9, 8, 7, 6, 5, 4, 3, 2, 1, 0]]"
      ]
     },
     "execution_count": 4,
     "metadata": {},
     "output_type": "execute_result"
    }
   ],
   "source": [
    "a5 = [[a4[len(a4)-1-j][i] for j in range(len(a4[0]))] for i in range(len(a4))]\n",
    "a5"
   ]
  },
  {
   "cell_type": "code",
   "execution_count": 5,
   "metadata": {},
   "outputs": [
    {
     "data": {
      "text/plain": [
       "[[1], [1], [1], [1], [1], [1], [1], [1], [1], [1]]"
      ]
     },
     "execution_count": 5,
     "metadata": {},
     "output_type": "execute_result"
    }
   ],
   "source": [
    "a_zero = [[0 for j in range(len(a4[0]))] for i in range(len(a4))]\n",
    "a_zero = [[1 for j in range(len(a4[0])) if i is j] for i in range(len(a4))]\n",
    "a_zero"
   ]
  },
  {
   "cell_type": "code",
   "execution_count": 6,
   "metadata": {},
   "outputs": [
    {
     "data": {
      "text/plain": [
       "[[1, 0, 0, 0, 0, 0, 0, 0, 0, 0],\n",
       " [0, 1, 0, 0, 0, 0, 0, 0, 0, 0],\n",
       " [0, 0, 1, 0, 0, 0, 0, 0, 0, 0],\n",
       " [0, 0, 0, 1, 0, 0, 0, 0, 0, 0],\n",
       " [0, 0, 0, 0, 1, 0, 0, 0, 0, 0],\n",
       " [0, 0, 0, 0, 0, 1, 0, 0, 0, 0],\n",
       " [0, 0, 0, 0, 0, 0, 1, 0, 0, 0],\n",
       " [0, 0, 0, 0, 0, 0, 0, 1, 0, 0],\n",
       " [0, 0, 0, 0, 0, 0, 0, 0, 1, 0],\n",
       " [0, 0, 0, 0, 0, 0, 0, 0, 0, 1]]"
      ]
     },
     "execution_count": 6,
     "metadata": {},
     "output_type": "execute_result"
    }
   ],
   "source": [
    "a_i = [[0 for j in range(len(a4[0]))] for i in range(len(a4))]\n",
    "\n",
    "for i in range(len(a3)):\n",
    "    a_i[i][i] = 1\n",
    "\n",
    "a_i"
   ]
  },
  {
   "cell_type": "code",
   "execution_count": 7,
   "metadata": {},
   "outputs": [
    {
     "data": {
      "text/plain": [
       "[0, 4, 16]"
      ]
     },
     "execution_count": 7,
     "metadata": {},
     "output_type": "execute_result"
    }
   ],
   "source": [
    "nums = [0, 1, 2, 3, 4]\n",
    "even_squares = [x ** 2 for x in nums if x % 2 == 0]\n",
    "even_squares"
   ]
  },
  {
   "cell_type": "code",
   "execution_count": 8,
   "metadata": {},
   "outputs": [
    {
     "data": {
      "text/plain": [
       "[0, 1, 4, 9, 16]"
      ]
     },
     "execution_count": 8,
     "metadata": {},
     "output_type": "execute_result"
    }
   ],
   "source": [
    "squares = [0 for x in range(len(nums))]\n",
    "for i,x in enumerate(nums):\n",
    "    \n",
    "    squares[i] = (x ** 2)\n",
    "    \n",
    "squares"
   ]
  },
  {
   "cell_type": "code",
   "execution_count": 9,
   "metadata": {},
   "outputs": [
    {
     "data": {
      "text/plain": [
       "{10: 100,\n",
       " 11: 121,\n",
       " 12: 144,\n",
       " 13: 169,\n",
       " 14: 196,\n",
       " 15: 225,\n",
       " 16: 256,\n",
       " 17: 289,\n",
       " 18: 324,\n",
       " 19: 361}"
      ]
     },
     "execution_count": 9,
     "metadata": {},
     "output_type": "execute_result"
    }
   ],
   "source": [
    "a4 = [[i*10+j for j in range(10)] for i in range(10)]\n",
    "dict_sq = {a4[i][0]/10:{x:x**2 for x in a4[i]} for i in range(len(a4))}\n",
    "dict_sq[1]"
   ]
  },
  {
   "cell_type": "code",
   "execution_count": 10,
   "metadata": {},
   "outputs": [
    {
     "name": "stdout",
     "output_type": "stream",
     "text": [
      "[100, 81, 64, 49, 36, 25, 16, 9, 4, 1]\n",
      "[1, 3, 16, 9, 4, 25, 64, 100, 49, 81, 36]\n",
      "1\n",
      "3\n",
      "4\n",
      "9\n",
      "16\n",
      "25\n",
      "[36, 49, 64, 100, 81]\n",
      "36\n",
      "[49, 81, 64, 100]\n",
      "49\n",
      "[64, 81, 100]\n",
      "64\n",
      "81\n",
      "100\n"
     ]
    }
   ],
   "source": [
    "import heapq\n",
    "\n",
    "list1 = [x**2 for x in range(10,0,-1)]\n",
    "\n",
    "print(list1)\n",
    "\n",
    "heapq.heapify(list1)\n",
    "\n",
    "heapq.heappush(list1, 3)\n",
    "\n",
    "print(list1)\n",
    "\n",
    "print(heapq.heappop(list1))\n",
    "print(heapq.heappop(list1))\n",
    "print(heapq.heappop(list1))\n",
    "print(heapq.heappop(list1))\n",
    "print(heapq.heappop(list1))\n",
    "print(heapq.heappop(list1))\n",
    "\n",
    "print(list1)\n",
    "\n",
    "print(heapq.heappop(list1))\n",
    "\n",
    "print(list1)\n",
    "\n",
    "print(heapq.heappop(list1))\n",
    "\n",
    "print(list1)\n",
    "\n",
    "print(heapq.heappop(list1))\n",
    "\n",
    "\n",
    "print(heapq.heappop(list1))\n",
    "print(heapq.heappop(list1))\n"
   ]
  },
  {
   "cell_type": "code",
   "execution_count": 11,
   "metadata": {},
   "outputs": [
    {
     "name": "stdout",
     "output_type": "stream",
     "text": [
      "[15, 9, 6, 8, 4, 5, 2, 7, 3, 1, 0]\n",
      "[15, 9, 8, 7, 6, 5, 4, 3, 2, 1, 0]\n"
     ]
    }
   ],
   "source": [
    "import random\n",
    "import heapq\n",
    "\n",
    "random.seed(1234)\n",
    "l2 = [i for i in range(10)]\n",
    "\n",
    "heapq.heapify(l2)\n",
    "heapq.heappush(l2,15)\n",
    "heapq._heapify_max(l2)\n",
    "print(l2)\n",
    "#heapq._heappush_max(l2, 4)\n",
    "l3 = [heapq._heappop_max(l2) for i in range(len(l2))]\n",
    "print(l3)\n"
   ]
  },
  {
   "cell_type": "code",
   "execution_count": 12,
   "metadata": {},
   "outputs": [
    {
     "name": "stdout",
     "output_type": "stream",
     "text": [
      "[0, 1, 2, 3, 4, 5, 6, 7, 8, 9, 10]\n",
      "[10, 1, 2, 3, 4, 5, 6, 7, 8, 9, 0]\n",
      "[10, 9, 2, 3, 4, 5, 6, 7, 8, 1, 0]\n",
      "[10, 9, 8, 3, 4, 5, 6, 7, 2, 1, 0]\n",
      "[10, 9, 8, 7, 4, 5, 6, 3, 2, 1, 0]\n",
      "[10, 9, 8, 7, 6, 5, 4, 3, 2, 1, 0]\n"
     ]
    }
   ],
   "source": [
    "list1 = [i for i in range(11)]\n",
    "print(list1)\n",
    "\n",
    "for i in range(len(list1)//2):\n",
    "    list1[len(list1)-i-1], list1[i] = list1[i], list1[len(list1)-i-1]\n",
    "    \n",
    "    print(list1)"
   ]
  },
  {
   "cell_type": "code",
   "execution_count": 13,
   "metadata": {},
   "outputs": [
    {
     "name": "stdout",
     "output_type": "stream",
     "text": [
      "[0, 1, 2, 3, 4, 5, 6, 7, 8, 9]\n",
      "[10, 9, 8, 7, 6, 5, 4, 3, 2, 1, 0]\n",
      "[0, 1, 2, 3, 4, 5, 6, 7, 8, 9, 10, 9, 8, 7, 6, 5, 4, 3, 2, 1, 0]\n"
     ]
    }
   ],
   "source": [
    "l1 = [i for i in range(10)]\n",
    "l2 = [i for i in range(10,-1,-1)]\n",
    "print(l1)\n",
    "print(l2)\n",
    "l1 += l2\n",
    "print(l1)\n",
    "def ispalindrome(l1):\n",
    "    for i in range(len(l1)//2):\n",
    "        if l1[i] is not l1[len(l1)-1-i]:\n",
    "            return False\n",
    "        \n",
    "    return True"
   ]
  },
  {
   "cell_type": "code",
   "execution_count": 14,
   "metadata": {},
   "outputs": [
    {
     "name": "stdout",
     "output_type": "stream",
     "text": [
      "yes\n"
     ]
    }
   ],
   "source": [
    "if ispalindrome(l1):\n",
    "    print('yes')\n",
    "else:\n",
    "    print('no')"
   ]
  },
  {
   "cell_type": "code",
   "execution_count": 15,
   "metadata": {},
   "outputs": [
    {
     "name": "stdout",
     "output_type": "stream",
     "text": [
      "[0, 1, 2, 3, 4, 5, 6, 7, 8, 9, 10]\n"
     ]
    }
   ],
   "source": [
    "l2.reverse()\n",
    "print(l2)"
   ]
  },
  {
   "cell_type": "code",
   "execution_count": 16,
   "metadata": {},
   "outputs": [
    {
     "data": {
      "text/plain": [
       "[0, 1, 2, 3, 4, 6, 7, 8, 9, 10]"
      ]
     },
     "execution_count": 16,
     "metadata": {},
     "output_type": "execute_result"
    }
   ],
   "source": [
    "del l2[5]\n",
    "l2"
   ]
  },
  {
   "cell_type": "code",
   "execution_count": 17,
   "metadata": {},
   "outputs": [
    {
     "data": {
      "text/plain": [
       "[0, 1, 2, 3, 4, 5, 6, 7, 8, 9, 10]"
      ]
     },
     "execution_count": 17,
     "metadata": {},
     "output_type": "execute_result"
    }
   ],
   "source": [
    "l2.insert(5,5)\n",
    "l2"
   ]
  },
  {
   "cell_type": "code",
   "execution_count": 18,
   "metadata": {},
   "outputs": [
    {
     "data": {
      "text/plain": [
       "[[0, 1, 2, 2, 3, 3, 11, 18],\n",
       " [0, 0, 0, 11],\n",
       " [0, 2, 3, 4, 5, 14, 15, 15, 16, 19],\n",
       " [2, 2, 14, 17],\n",
       " [1, 2, 2, 8, 9, 15, 16, 17, 18, 20],\n",
       " [6, 7, 8, 14, 16, 20],\n",
       " [16],\n",
       " [0, 10],\n",
       " [5, 12, 15],\n",
       " [2]]"
      ]
     },
     "execution_count": 18,
     "metadata": {},
     "output_type": "execute_result"
    }
   ],
   "source": [
    "a = [[random.randint(0,20) for i in range(random.randint(1,10))] for j in range(10)]\n",
    "for i in range(len(a)):\n",
    "    a[i].sort()\n",
    "a\n"
   ]
  },
  {
   "cell_type": "code",
   "execution_count": 19,
   "metadata": {},
   "outputs": [
    {
     "data": {
      "text/plain": [
       "[[0, 2, 3, 4, 5, 6, 11, 15, 17],\n",
       " [1, 1, 4, 5, 8, 9, 13, 14],\n",
       " [4, 4, 9, 14],\n",
       " [],\n",
       " [1, 10, 11, 12, 14, 15, 15, 15, 18],\n",
       " [3, 5, 5, 8, 9, 13, 14, 14, 16],\n",
       " [3, 3, 8, 12, 15, 16],\n",
       " [2, 3, 4, 5, 6, 8, 10, 11, 14, 18],\n",
       " [12],\n",
       " [1, 1, 9]]"
      ]
     },
     "execution_count": 19,
     "metadata": {},
     "output_type": "execute_result"
    }
   ],
   "source": [
    "a1 = []\n",
    "for j in range(10):\n",
    "    a1.append([])\n",
    "    for i in range(random.randint(0,10)):\n",
    "        a1[j].append(random.randint(0,20))\n",
    "    a1[j].sort()\n",
    "\n",
    "a1\n"
   ]
  },
  {
   "cell_type": "code",
   "execution_count": 20,
   "metadata": {},
   "outputs": [
    {
     "name": "stdout",
     "output_type": "stream",
     "text": [
      "[0, 0, 0, 1, 0, 1, 2, 4, 2, 3, 0, 2, 2, 2, 3, 15, 5, 6, 7, 14, 16, 0, 2, 2, 14, 17, 3, 11, 2, 8, 9, 18, 16, 17, 18, 20, 14, 15, 8, 15, 16, 20, 16, 19, 10, 5, 12, 15, 11]\n",
      "[0, 0, 0, 0, 0, 0, 1, 1, 2, 2, 2, 2, 2, 2, 2, 2, 3, 3, 3, 4, 5, 5, 6, 7, 8, 8, 9, 10, 11, 11, 12, 14, 14, 14, 15, 15, 15, 15, 16, 16, 16, 16, 17, 17, 18, 18, 19, 20, 20]\n"
     ]
    }
   ],
   "source": [
    "l1 = []\n",
    "heapq.heapify(l1)\n",
    "for i in range(len(a)):\n",
    "    for j in range(len(a[i])):\n",
    "        heapq.heappush(l1,a[i][j])\n",
    "\n",
    "print(l1)\n",
    "\n",
    "l2 = [heapq.heappop(l1) for i in range(len(l1))] \n",
    "\n",
    "print(l2)"
   ]
  },
  {
   "cell_type": "code",
   "execution_count": 21,
   "metadata": {},
   "outputs": [
    {
     "data": {
      "text/plain": [
       "[0,\n",
       " 1,\n",
       " 2,\n",
       " 2,\n",
       " 3,\n",
       " 3,\n",
       " 11,\n",
       " 18,\n",
       " 0,\n",
       " 0,\n",
       " 0,\n",
       " 11,\n",
       " 0,\n",
       " 2,\n",
       " 3,\n",
       " 4,\n",
       " 5,\n",
       " 14,\n",
       " 15,\n",
       " 15,\n",
       " 16,\n",
       " 19,\n",
       " 2,\n",
       " 2,\n",
       " 14,\n",
       " 17,\n",
       " 1,\n",
       " 2,\n",
       " 2,\n",
       " 8,\n",
       " 9,\n",
       " 15,\n",
       " 16,\n",
       " 17,\n",
       " 18,\n",
       " 20,\n",
       " 6,\n",
       " 7,\n",
       " 8,\n",
       " 14,\n",
       " 16,\n",
       " 20,\n",
       " 16,\n",
       " 0,\n",
       " 10,\n",
       " 5,\n",
       " 12,\n",
       " 15,\n",
       " 2]"
      ]
     },
     "execution_count": 21,
     "metadata": {},
     "output_type": "execute_result"
    }
   ],
   "source": [
    "l1 = [a[i][j] for i in range(len(a)) for j in range(len(a[i]))]\n",
    "l1.sort()\n",
    "\n",
    "l2 = [x for ai in a for x in ai]\n",
    "l2\n"
   ]
  },
  {
   "cell_type": "code",
   "execution_count": 22,
   "metadata": {},
   "outputs": [
    {
     "data": {
      "text/plain": [
       "[0, 0, 0, 2, 1, 6, 16, 0, 5, 2]"
      ]
     },
     "execution_count": 22,
     "metadata": {},
     "output_type": "execute_result"
    }
   ],
   "source": [
    "l1 = [a[i][0] for i in range(len(a))]\n",
    "l1"
   ]
  },
  {
   "cell_type": "code",
   "execution_count": 23,
   "metadata": {},
   "outputs": [
    {
     "data": {
      "text/plain": [
       "[[0, 1, 2, 2, 3, 3, 11, 18],\n",
       " [0, 0, 0, 11],\n",
       " [0, 2, 3, 4, 5, 14, 15, 15, 16, 19],\n",
       " [2, 2, 14, 17],\n",
       " [1, 2, 2, 8, 9, 15, 16, 17, 18, 20],\n",
       " [6, 7, 8, 14, 16, 20],\n",
       " [16],\n",
       " [0, 10],\n",
       " [5, 12, 15],\n",
       " [2]]"
      ]
     },
     "execution_count": 23,
     "metadata": {},
     "output_type": "execute_result"
    }
   ],
   "source": [
    "index = [0 for i in range(len(a))]\n",
    "index\n",
    "a"
   ]
  },
  {
   "cell_type": "code",
   "execution_count": 24,
   "metadata": {},
   "outputs": [
    {
     "name": "stdout",
     "output_type": "stream",
     "text": [
      "0\n",
      "1\n",
      "1\n",
      "1\n",
      "2\n",
      "2\n",
      "2\n",
      "2\n",
      "2\n",
      "3\n",
      "4\n",
      "4\n",
      "4\n",
      "4\n",
      "5\n",
      "5\n",
      "5\n",
      "6\n",
      "6\n",
      "6\n",
      "7\n",
      "8\n",
      "8\n",
      "9\n",
      "9\n",
      "9\n",
      "10\n",
      "10\n",
      "10\n",
      "11\n",
      "11\n",
      "12\n",
      "12\n",
      "13\n",
      "13\n",
      "13\n"
     ]
    }
   ],
   "source": [
    "import random\n",
    "a = [[random.randint(0,20) for i in range(random.randint(1,10))] for j in range(10)]\n",
    "for i in range(len(a)):\n",
    "    a[i].sort()\n",
    "    \n",
    "highest = 999999\n",
    "l1 = [a[i][0] for i in range(len(a))]\n",
    "\n",
    "index = [0 for i in range(len(a))]\n",
    "\n",
    "while all(val is not highest for val in l1):\n",
    "    small_index = l1.index(min(l1))\n",
    "    min_value = min(l1)\n",
    "    index[small_index] += 1\n",
    "    if index[small_index] < len(a[small_index]):\n",
    "        l1[small_index] = a[small_index][index[small_index]]\n",
    "    elif index[small_index] >= len(a[small_index]):\n",
    "        l1[small_index] = highest\n",
    "    print(min_value)\n",
    "    #print(small_index)\n",
    "    #print(l1)\n",
    "    \n"
   ]
  },
  {
   "cell_type": "code",
   "execution_count": 25,
   "metadata": {},
   "outputs": [
    {
     "data": {
      "text/plain": [
       "[6, 5, 4, 3, 2, 1, 0]"
      ]
     },
     "execution_count": 25,
     "metadata": {},
     "output_type": "execute_result"
    }
   ],
   "source": [
    "k = [i for i in range(10)]\n",
    "k[6::-1]"
   ]
  },
  {
   "cell_type": "code",
   "execution_count": 26,
   "metadata": {},
   "outputs": [
    {
     "name": "stdout",
     "output_type": "stream",
     "text": [
      "[0, 1, 2, 3, 4, 5, 6, 7, 8, 9]\n",
      "yes\n"
     ]
    }
   ],
   "source": [
    "print(k)\n",
    "if all(i<10 for i in k):\n",
    "    print('yes')"
   ]
  },
  {
   "cell_type": "code",
   "execution_count": 27,
   "metadata": {},
   "outputs": [
    {
     "data": {
      "text/plain": [
       "[0, 1, 2, 3, 5, 6, 7, 8, 9]"
      ]
     },
     "execution_count": 27,
     "metadata": {},
     "output_type": "execute_result"
    }
   ],
   "source": [
    "k = [i for i in range(10)]\n",
    "k.remove(4)\n",
    "k"
   ]
  },
  {
   "cell_type": "code",
   "execution_count": 28,
   "metadata": {},
   "outputs": [
    {
     "data": {
      "text/plain": [
       "[9, 8, 7, 6, 5, 3, 2, 1, 0]"
      ]
     },
     "execution_count": 28,
     "metadata": {},
     "output_type": "execute_result"
    }
   ],
   "source": [
    "k.reverse()\n",
    "k"
   ]
  },
  {
   "cell_type": "code",
   "execution_count": 29,
   "metadata": {},
   "outputs": [
    {
     "data": {
      "text/plain": [
       "[0, 1, 2, 3, 5, 6, 7, 8, 9]"
      ]
     },
     "execution_count": 29,
     "metadata": {},
     "output_type": "execute_result"
    }
   ],
   "source": [
    "f = []\n",
    "for i in reversed(k):\n",
    "    f.append(i)\n",
    "    \n",
    "f"
   ]
  },
  {
   "cell_type": "code",
   "execution_count": 30,
   "metadata": {},
   "outputs": [
    {
     "data": {
      "text/plain": [
       "{1: 0, 2: 1, 3: 4, 4: 9, 5: 16, 6: 25, 7: 36, 8: 49, 9: 64, 10: 81}"
      ]
     },
     "execution_count": 30,
     "metadata": {},
     "output_type": "execute_result"
    }
   ],
   "source": [
    "k = {i+1:i**2 for i in range(10)}\n",
    "k"
   ]
  },
  {
   "cell_type": "code",
   "execution_count": 31,
   "metadata": {},
   "outputs": [],
   "source": [
    "k[1] = 10"
   ]
  },
  {
   "cell_type": "code",
   "execution_count": 32,
   "metadata": {},
   "outputs": [
    {
     "data": {
      "text/plain": [
       "{1: 10, 2: 1, 3: 4, 4: 9, 5: 16, 6: 25, 7: 36, 8: 49, 9: 64, 10: 81}"
      ]
     },
     "execution_count": 32,
     "metadata": {},
     "output_type": "execute_result"
    }
   ],
   "source": [
    "k"
   ]
  },
  {
   "cell_type": "code",
   "execution_count": 33,
   "metadata": {},
   "outputs": [
    {
     "ename": "AttributeError",
     "evalue": "'dict' object has no attribute 'sort'",
     "output_type": "error",
     "traceback": [
      "\u001b[0;31m---------------------------------------------------------------------------\u001b[0m",
      "\u001b[0;31mAttributeError\u001b[0m                            Traceback (most recent call last)",
      "\u001b[0;32m<ipython-input-33-51df8baee3a8>\u001b[0m in \u001b[0;36m<module>\u001b[0;34m()\u001b[0m\n\u001b[0;32m----> 1\u001b[0;31m \u001b[0mk\u001b[0m\u001b[0;34m.\u001b[0m\u001b[0msort\u001b[0m\u001b[0;34m(\u001b[0m\u001b[0;34m)\u001b[0m\u001b[0;34m\u001b[0m\u001b[0m\n\u001b[0m",
      "\u001b[0;31mAttributeError\u001b[0m: 'dict' object has no attribute 'sort'"
     ]
    }
   ],
   "source": [
    "k.sort()"
   ]
  },
  {
   "cell_type": "code",
   "execution_count": 34,
   "metadata": {},
   "outputs": [
    {
     "data": {
      "text/plain": [
       "[0, 1, 2, 3, 5, 6, 7, 8, 9]"
      ]
     },
     "execution_count": 34,
     "metadata": {},
     "output_type": "execute_result"
    }
   ],
   "source": [
    "f[:]"
   ]
  },
  {
   "cell_type": "code",
   "execution_count": 35,
   "metadata": {},
   "outputs": [],
   "source": [
    "squares = list(map(lambda x: x**2, range(10)))"
   ]
  },
  {
   "cell_type": "code",
   "execution_count": 36,
   "metadata": {},
   "outputs": [
    {
     "data": {
      "text/plain": [
       "[0, 1, 4, 9, 16, 25, 36, 49, 64, 81]"
      ]
     },
     "execution_count": 36,
     "metadata": {},
     "output_type": "execute_result"
    }
   ],
   "source": [
    "squares"
   ]
  },
  {
   "cell_type": "code",
   "execution_count": 37,
   "metadata": {},
   "outputs": [
    {
     "data": {
      "text/plain": [
       "[]"
      ]
     },
     "execution_count": 37,
     "metadata": {},
     "output_type": "execute_result"
    }
   ],
   "source": [
    "k = list()\n",
    "k"
   ]
  },
  {
   "cell_type": "code",
   "execution_count": 38,
   "metadata": {},
   "outputs": [
    {
     "name": "stdout",
     "output_type": "stream",
     "text": [
      "[2, 3, 1, 5, 2, 5, 9, 0, 11, 2]\n"
     ]
    },
    {
     "data": {
      "text/plain": [
       "[[2, 4, 8, 8, 10, 17, 18],\n",
       " [3, 8, 8, 12, 12, 16, 18],\n",
       " [1, 9, 12, 18],\n",
       " [5, 7, 9, 12, 14, 15],\n",
       " [2],\n",
       " [5, 9, 12, 12, 13, 15, 15, 20],\n",
       " [9, 11, 18],\n",
       " [0, 3, 5, 6, 11, 14, 14, 15, 16, 18],\n",
       " [11],\n",
       " [2, 4, 9, 9, 10, 11, 18, 18]]"
      ]
     },
     "execution_count": 38,
     "metadata": {},
     "output_type": "execute_result"
    }
   ],
   "source": [
    "import random\n",
    "a = [[random.randint(0,20) for i in range(random.randint(1,10))] for j in range(10)]\n",
    "for i in range(len(a)):\n",
    "    a[i].sort()\n",
    "    \n",
    "\n",
    "highest = 999999\n",
    "l1 = [a[i][0] for i in range(len(a))]\n",
    "print(l1)\n",
    "\n",
    "a"
   ]
  },
  {
   "cell_type": "code",
   "execution_count": 39,
   "metadata": {},
   "outputs": [
    {
     "name": "stdout",
     "output_type": "stream",
     "text": [
      "[[2, 2, 0, 1, 0, 4, 2, 1, 1, 0], [6, 6, 1, 2, 2, 5, 4, 2, 2, 1], [8, 8, 3, 4, 7, 7, 4, 11, 6, 2], [9, 10, 4, 6, 8, 10, 5, 11, 7, 9], [10, 10, 7, 9, 11, 15, 7, 14, 10, 12], [16, 10, 8, 10, 15, 15, 10, 17, 11, 13], [17, 14, 11, 11, 16, 17, 12, 17, 13, 14], [18, 16, 12, 13, 18, 18, 16, 18, 19, 15], [18, 16, 17, 16, 18, 19, 16, 19, 19, 16], [19, 18, 18, 16, 20, 19, 17, 19, 19, 18]]\n"
     ]
    },
    {
     "data": {
      "text/plain": [
       "[[2, 6, 8, 9, 10, 16, 17, 18, 18, 19],\n",
       " [2, 6, 8, 10, 10, 10, 14, 16, 16, 18],\n",
       " [0, 1, 3, 4, 7, 8, 11, 12, 17, 18],\n",
       " [1, 2, 4, 6, 9, 10, 11, 13, 16, 16],\n",
       " [0, 2, 7, 8, 11, 15, 16, 18, 18, 20],\n",
       " [4, 5, 7, 10, 15, 15, 17, 18, 19, 19],\n",
       " [2, 4, 4, 5, 7, 10, 12, 16, 16, 17],\n",
       " [1, 2, 11, 11, 14, 17, 17, 18, 19, 19],\n",
       " [1, 2, 6, 7, 10, 11, 13, 19, 19, 19],\n",
       " [0, 1, 2, 9, 12, 13, 14, 15, 16, 18]]"
      ]
     },
     "execution_count": 39,
     "metadata": {},
     "output_type": "execute_result"
    }
   ],
   "source": [
    "import random\n",
    "a = [[random.randint(0,20) for i in range(10)] for j in range(10)]\n",
    "for i in range(len(a)):\n",
    "    a[i].sort()\n",
    "    \n",
    "\n",
    "highest = 999999\n",
    "\n",
    "#transpose\n",
    "at = [[i[j] for i in a] for j in range(10)]\n",
    "print(at)\n",
    "\n",
    "a"
   ]
  },
  {
   "cell_type": "code",
   "execution_count": 40,
   "metadata": {},
   "outputs": [
    {
     "data": {
      "text/plain": [
       "{'d', 'r'}"
      ]
     },
     "execution_count": 40,
     "metadata": {},
     "output_type": "execute_result"
    }
   ],
   "source": [
    "a = set('abracadabra')\n",
    "b = set('abc')\n",
    "a-b"
   ]
  },
  {
   "cell_type": "code",
   "execution_count": 41,
   "metadata": {},
   "outputs": [
    {
     "data": {
      "text/plain": [
       "{0}"
      ]
     },
     "execution_count": 41,
     "metadata": {},
     "output_type": "execute_result"
    }
   ],
   "source": [
    "a = [[0 for i in range(10)] for j in range(10)]\n",
    "s = set(a[0])\n",
    "s"
   ]
  },
  {
   "cell_type": "code",
   "execution_count": 42,
   "metadata": {},
   "outputs": [
    {
     "data": {
      "text/plain": [
       "[0, 1, 2, 3, 5, 6, 7, 8, 9]"
      ]
     },
     "execution_count": 42,
     "metadata": {},
     "output_type": "execute_result"
    }
   ],
   "source": [
    "f\n"
   ]
  },
  {
   "cell_type": "code",
   "execution_count": 43,
   "metadata": {},
   "outputs": [
    {
     "name": "stdout",
     "output_type": "stream",
     "text": [
      "true\n"
     ]
    }
   ],
   "source": [
    "if 7 in f:\n",
    "    print('true')"
   ]
  },
  {
   "cell_type": "code",
   "execution_count": 44,
   "metadata": {},
   "outputs": [
    {
     "data": {
      "text/plain": [
       "[56.2, 51.7, 55.3, 52.5, 47.8]"
      ]
     },
     "execution_count": 44,
     "metadata": {},
     "output_type": "execute_result"
    }
   ],
   "source": [
    "import math\n",
    "raw_data = [56.2, float('NaN'), 51.7, 55.3, 52.5, float('NaN'), 47.8]\n",
    "filtered_data = [value for value in raw_data if not math.isnan(value)]\n",
    "filtered_data"
   ]
  },
  {
   "cell_type": "code",
   "execution_count": 45,
   "metadata": {},
   "outputs": [
    {
     "data": {
      "text/plain": [
       "['adcd', 'adcd', 'adcd']"
      ]
     },
     "execution_count": 45,
     "metadata": {},
     "output_type": "execute_result"
    }
   ],
   "source": [
    "abc = []\n",
    "ans = \"adcd\"\n",
    "ans1 = \"adcd\"\n",
    "ans2 = \"adcd\"\n",
    "abc.append(''.join(ans))\n",
    "abc.append(ans1)\n",
    "abc.append(''.join(ans2))\n",
    "abc"
   ]
  },
  {
   "cell_type": "code",
   "execution_count": 46,
   "metadata": {},
   "outputs": [],
   "source": [
    "class Solution(object):\n",
    "    def generateParenthesis(self, N):\n",
    "        ans = []\n",
    "        def backtrack(S = '', left = 0, right = 0):\n",
    "            if len(S) == 2 * N:\n",
    "                ans.append(S)\n",
    "                return\n",
    "            if left < N:\n",
    "                backtrack(S+'(', left+1, right)\n",
    "            if right < left:\n",
    "                backtrack(S+')', left, right+1)\n",
    "\n",
    "        backtrack()\n",
    "        return ans"
   ]
  },
  {
   "cell_type": "code",
   "execution_count": 47,
   "metadata": {},
   "outputs": [
    {
     "data": {
      "text/plain": [
       "['((()))', '(()())', '(())()', '()(())', '()()()']"
      ]
     },
     "execution_count": 47,
     "metadata": {},
     "output_type": "execute_result"
    }
   ],
   "source": [
    "sol = Solution()\n",
    "sol.generateParenthesis(3)"
   ]
  },
  {
   "cell_type": "code",
   "execution_count": 48,
   "metadata": {},
   "outputs": [
    {
     "data": {
      "text/plain": [
       "')'"
      ]
     },
     "execution_count": 48,
     "metadata": {},
     "output_type": "execute_result"
    }
   ],
   "source": [
    "l = []\n",
    "l.append('(')\n",
    "l.append(')')\n",
    "l.append(')')\n",
    "k = l.pop()\n",
    "k"
   ]
  },
  {
   "cell_type": "code",
   "execution_count": 49,
   "metadata": {},
   "outputs": [
    {
     "data": {
      "text/plain": [
       "2"
      ]
     },
     "execution_count": 49,
     "metadata": {},
     "output_type": "execute_result"
    }
   ],
   "source": [
    "s = 'k1'\n",
    "len(s)"
   ]
  },
  {
   "cell_type": "code",
   "execution_count": 50,
   "metadata": {},
   "outputs": [
    {
     "ename": "KeyError",
     "evalue": "0",
     "output_type": "error",
     "traceback": [
      "\u001b[0;31m---------------------------------------------------------------------------\u001b[0m",
      "\u001b[0;31mKeyError\u001b[0m                                  Traceback (most recent call last)",
      "\u001b[0;32m<ipython-input-50-5cc76fe97b1a>\u001b[0m in \u001b[0;36m<module>\u001b[0;34m()\u001b[0m\n\u001b[1;32m      1\u001b[0m \u001b[0md\u001b[0m \u001b[0;34m=\u001b[0m \u001b[0;34m{\u001b[0m\u001b[0;36m2\u001b[0m\u001b[0;34m:\u001b[0m \u001b[0;34m'abc'\u001b[0m\u001b[0;34m}\u001b[0m\u001b[0;34m\u001b[0m\u001b[0m\n\u001b[0;32m----> 2\u001b[0;31m \u001b[0md\u001b[0m\u001b[0;34m[\u001b[0m\u001b[0;36m0\u001b[0m\u001b[0;34m]\u001b[0m\u001b[0;34m\u001b[0m\u001b[0m\n\u001b[0m",
      "\u001b[0;31mKeyError\u001b[0m: 0"
     ]
    }
   ],
   "source": [
    "d = {2: 'abc'}\n",
    "d[0]"
   ]
  },
  {
   "cell_type": "code",
   "execution_count": 51,
   "metadata": {},
   "outputs": [
    {
     "name": "stdout",
     "output_type": "stream",
     "text": [
      "0\n",
      "1\n",
      "i 1\n",
      "i 0\n",
      "0\n",
      "i 0\n"
     ]
    },
    {
     "data": {
      "text/plain": [
       "['ag', 'ah', 'bb', 'bc']"
      ]
     },
     "execution_count": 51,
     "metadata": {},
     "output_type": "execute_result"
    }
   ],
   "source": [
    "digits = '24'        \n",
    "d = {2: 'abc', 3:'def', 4:'ghi', 5: 'jkl', 6: 'mno', 7:'pqrs', 8: 'tuv', 9: 'wxyz'}\n",
    "\n",
    "k = len(digits)\n",
    "s = ''\n",
    "sl = []\n",
    "n = 0\n",
    "i = 0\n",
    "def difi(s = '', n = 0, i = 0):\n",
    "    if len(s) is k:\n",
    "        #print(s)\n",
    "        sl.append(s)\n",
    "        return\n",
    "\n",
    "    if n < k:\n",
    "        s1 = d[int(digits[n])]\n",
    "        #print(s1)\n",
    "        print(n)\n",
    "        difi(s+s1[i], n+1, i)\n",
    "    if i < len(d[int(digits[n])]):\n",
    "        print('i', n)\n",
    "        s1 = d[int(digits[n])]\n",
    "        difi(s+s1[i+1], n, i+1)\n",
    "\n",
    "    return sl\n",
    "\n",
    "f = difi()\n",
    "f"
   ]
  },
  {
   "cell_type": "code",
   "execution_count": 52,
   "metadata": {},
   "outputs": [
    {
     "data": {
      "text/plain": [
       "3"
      ]
     },
     "execution_count": 52,
     "metadata": {},
     "output_type": "execute_result"
    }
   ],
   "source": [
    "l = [1,2,3]\n",
    "l[-1]"
   ]
  },
  {
   "cell_type": "code",
   "execution_count": 53,
   "metadata": {},
   "outputs": [
    {
     "data": {
      "text/plain": [
       "[1, 2, 3, inf]"
      ]
     },
     "execution_count": 53,
     "metadata": {},
     "output_type": "execute_result"
    }
   ],
   "source": [
    "l.append(float('inf'))\n",
    "l"
   ]
  },
  {
   "cell_type": "code",
   "execution_count": 54,
   "metadata": {},
   "outputs": [
    {
     "data": {
      "text/plain": [
       "1"
      ]
     },
     "execution_count": 54,
     "metadata": {},
     "output_type": "execute_result"
    }
   ],
   "source": [
    "min(l)"
   ]
  },
  {
   "cell_type": "code",
   "execution_count": 55,
   "metadata": {},
   "outputs": [
    {
     "name": "stdout",
     "output_type": "stream",
     "text": [
      "2.0\n"
     ]
    },
    {
     "ename": "NameError",
     "evalue": "name 'intern' is not defined",
     "output_type": "error",
     "traceback": [
      "\u001b[0;31m---------------------------------------------------------------------------\u001b[0m",
      "\u001b[0;31mNameError\u001b[0m                                 Traceback (most recent call last)",
      "\u001b[0;32m<ipython-input-55-a5646a9dec0b>\u001b[0m in \u001b[0;36m<module>\u001b[0;34m()\u001b[0m\n\u001b[1;32m      2\u001b[0m \u001b[0mk\u001b[0m \u001b[0;34m/=\u001b[0m \u001b[0;36m2.0\u001b[0m\u001b[0;34m\u001b[0m\u001b[0m\n\u001b[1;32m      3\u001b[0m \u001b[0mprint\u001b[0m\u001b[0;34m(\u001b[0m\u001b[0mk\u001b[0m\u001b[0;34m)\u001b[0m\u001b[0;34m\u001b[0m\u001b[0m\n\u001b[0;32m----> 4\u001b[0;31m \u001b[0;32mif\u001b[0m \u001b[0mk\u001b[0m \u001b[0;32mis\u001b[0m \u001b[0mintern\u001b[0m\u001b[0;34m(\u001b[0m\u001b[0;36m2.0\u001b[0m\u001b[0;34m)\u001b[0m\u001b[0;34m:\u001b[0m\u001b[0;34m\u001b[0m\u001b[0m\n\u001b[0m\u001b[1;32m      5\u001b[0m     \u001b[0mprint\u001b[0m\u001b[0;34m(\u001b[0m\u001b[0;34m'yes'\u001b[0m\u001b[0;34m)\u001b[0m\u001b[0;34m\u001b[0m\u001b[0m\n",
      "\u001b[0;31mNameError\u001b[0m: name 'intern' is not defined"
     ]
    }
   ],
   "source": [
    "k = 4\n",
    "k /= 2.0\n",
    "print(k)\n",
    "if k is intern(2.0):\n",
    "    print('yes')"
   ]
  },
  {
   "cell_type": "code",
   "execution_count": 56,
   "metadata": {},
   "outputs": [
    {
     "name": "stdout",
     "output_type": "stream",
     "text": [
      "0b1001\n"
     ]
    }
   ],
   "source": [
    "n = 9\n",
    "a = bin(n)\n",
    "a[2]\n",
    "print(a)"
   ]
  },
  {
   "cell_type": "code",
   "execution_count": 57,
   "metadata": {},
   "outputs": [
    {
     "data": {
      "text/plain": [
       "['anirudh.ani.ani@gmail.com',\n",
       " 'anirudh.ani.ani@gmail.com',\n",
       " 'king.queen@gmail.com',\n",
       " 'anirudh.ani+ani@gmail.com',\n",
       " 'anirudhani.ani@gmail.com',\n",
       " 'anirudhaniani@gmail.com',\n",
       " 'anirudhani+@gmail.com',\n",
       " 'king.queen@gmail.com',\n",
       " 'king.queen@gmail.com',\n",
       " 'dsfsdf']"
      ]
     },
     "execution_count": 57,
     "metadata": {},
     "output_type": "execute_result"
    }
   ],
   "source": [
    "list1 = ['anirudh.ani.ani@gmail.com', 'anirudh.ani.ani@gmail.com',\n",
    "         'king.queen@gmail.com','anirudh.ani+ani@gmail.com', \n",
    "         'anirudhani.ani@gmail.com', 'anirudhaniani@gmail.com',\n",
    "         'anirudhani+@gmail.com', 'king.queen@gmail.com', 'king.queen@gmail.com', 'dsfsdf']\n",
    "list1"
   ]
  },
  {
   "cell_type": "code",
   "execution_count": 58,
   "metadata": {},
   "outputs": [
    {
     "data": {
      "text/plain": [
       "['anirudhaniani@gmail.com',\n",
       " 'anirudhaniani@gmail.com',\n",
       " 'kingqueen@gmail.com',\n",
       " 'anirudhani@gmail.com',\n",
       " 'anirudhaniani@gmail.com',\n",
       " 'anirudhaniani@gmail.com',\n",
       " 'anirudhani@gmail.com',\n",
       " 'kingqueen@gmail.com',\n",
       " 'kingqueen@gmail.com',\n",
       " 'dsfsdf']"
      ]
     },
     "execution_count": 58,
     "metadata": {},
     "output_type": "execute_result"
    }
   ],
   "source": [
    "list2 = []\n",
    "\n",
    "for e in list1:\n",
    "    s = ''\n",
    "    x = 0\n",
    "    for c in e:\n",
    "        if x == 0:\n",
    "            if c is '.':\n",
    "                continue\n",
    "            elif c is '+':\n",
    "                x = 1\n",
    "            else:\n",
    "                s += c\n",
    "                if c is '@':\n",
    "                    x = 2\n",
    "        else:\n",
    "            if x is 1 and c is '@':\n",
    "                x = 2\n",
    "\n",
    "            if x is 2:\n",
    "                s += c\n",
    "            \n",
    "    list2.append(s)\n",
    "        \n",
    "    \n",
    "            \n",
    "                \n",
    "list2   "
   ]
  },
  {
   "cell_type": "code",
   "execution_count": 59,
   "metadata": {},
   "outputs": [
    {
     "name": "stdout",
     "output_type": "stream",
     "text": [
      "4\n",
      "4\n"
     ]
    },
    {
     "data": {
      "text/plain": [
       "{'anirudhani@gmail.com': 2,\n",
       " 'anirudhaniani@gmail.com': 4,\n",
       " 'dsfsdf': 1,\n",
       " 'kingqueen@gmail.com': 3}"
      ]
     },
     "execution_count": 59,
     "metadata": {},
     "output_type": "execute_result"
    }
   ],
   "source": [
    "count = {}\n",
    "unique_l = []\n",
    "for e in list2:\n",
    "    if e in count:\n",
    "        count[e] += 1\n",
    "    else:\n",
    "        count[e] = 1\n",
    "        unique_l.append(e)\n",
    "\n",
    "m = 0\n",
    "for e,i in count.items():\n",
    "    if m < i:\n",
    "        m = i\n",
    "        \n",
    "print(m)\n",
    "\n",
    "print(count[max(count, key=count.get)])\n",
    "count"
   ]
  },
  {
   "cell_type": "code",
   "execution_count": 60,
   "metadata": {},
   "outputs": [
    {
     "name": "stdout",
     "output_type": "stream",
     "text": [
      "['anirudhani@gmail.com', 'anirudhani@gmail.com', 'anirudhaniani@gmail.com', 'anirudhaniani@gmail.com', 'anirudhaniani@gmail.com', 'anirudhaniani@gmail.com', 'dsfsdf', 'kingqueen@gmail.com', 'kingqueen@gmail.com', 'kingqueen@gmail.com']\n",
      "4\n"
     ]
    }
   ],
   "source": [
    "list2.sort()\n",
    "print(list2)\n",
    "\n",
    "co = 1\n",
    "lenf = 0\n",
    "for i in range(len(list2)-1):\n",
    "    if list2[i] == list2[i+1]:\n",
    "        co += 1\n",
    "    else:\n",
    "        if lenf < co:\n",
    "            lenf = co\n",
    "        co = 1\n",
    "    \n",
    "    if (len(list2))-2 == i:\n",
    "        if lenf < co:\n",
    "            lenf = co\n",
    "        \n",
    "\n",
    "print(lenf)"
   ]
  },
  {
   "cell_type": "code",
   "execution_count": 61,
   "metadata": {},
   "outputs": [
    {
     "data": {
      "text/plain": [
       "'avcd'"
      ]
     },
     "execution_count": 61,
     "metadata": {},
     "output_type": "execute_result"
    }
   ],
   "source": [
    "s = 'avacd'\n",
    "s[:2]+s[3:]"
   ]
  },
  {
   "cell_type": "code",
   "execution_count": 62,
   "metadata": {},
   "outputs": [
    {
     "name": "stdout",
     "output_type": "stream",
     "text": [
      "5\n"
     ]
    }
   ],
   "source": [
    "s[2]\n",
    "print(len(s))"
   ]
  },
  {
   "cell_type": "code",
   "execution_count": 63,
   "metadata": {},
   "outputs": [
    {
     "data": {
      "text/plain": [
       "[1, 1, 1, 1]"
      ]
     },
     "execution_count": 63,
     "metadata": {},
     "output_type": "execute_result"
    }
   ],
   "source": [
    "l = [1,1,1]\n",
    "k = [1]\n",
    "l = k+l\n",
    "l"
   ]
  },
  {
   "cell_type": "code",
   "execution_count": 64,
   "metadata": {},
   "outputs": [
    {
     "data": {
      "text/plain": [
       "1"
      ]
     },
     "execution_count": 64,
     "metadata": {},
     "output_type": "execute_result"
    }
   ],
   "source": [
    "\n",
    "grid = [[\"1\",\"1\",\"1\",\"1\",\"0\"],[\"1\",\"1\",\"0\",\"1\",\"0\"],[\"1\",\"1\",\"0\",\"0\",\"0\"],[\"0\",\"0\",\"0\",\"0\",\"0\"]]\n",
    "\n",
    "check = [[0 for i in range(len(grid[0]))] for j in range(len(grid))]\n",
    "islands = 0\n",
    "l = 0\n",
    "r = 0\n",
    "\n",
    "def loop(grid, l = 0, r = 0):\n",
    "    if grid[l][r] == '1':\n",
    "        check[l][r] = 1\n",
    "        loop(grid, l+1, r)\n",
    "        loop(grid, l, r+1)\n",
    "    else:\n",
    "        return\n",
    "    \n",
    "for i in range(len(check)):\n",
    "    for j in range(len(check[0])):\n",
    "        if check[i][j] == 0: \n",
    "            loop(grid, 0, 0)\n",
    "            if check[i][j] == 1:\n",
    "                islands += 1\n",
    "\n",
    "islands\n"
   ]
  },
  {
   "cell_type": "code",
   "execution_count": 65,
   "metadata": {},
   "outputs": [
    {
     "name": "stdout",
     "output_type": "stream",
     "text": [
      "a\n"
     ]
    },
    {
     "ename": "TypeError",
     "evalue": "'str' object does not support item assignment",
     "output_type": "error",
     "traceback": [
      "\u001b[0;31m---------------------------------------------------------------------------\u001b[0m",
      "\u001b[0;31mTypeError\u001b[0m                                 Traceback (most recent call last)",
      "\u001b[0;32m<ipython-input-65-83c1b73d7d2e>\u001b[0m in \u001b[0;36m<module>\u001b[0;34m()\u001b[0m\n\u001b[1;32m      3\u001b[0m \u001b[0mprint\u001b[0m\u001b[0;34m(\u001b[0m\u001b[0ms1\u001b[0m\u001b[0;34m[\u001b[0m\u001b[0;36m0\u001b[0m\u001b[0;34m]\u001b[0m\u001b[0;34m)\u001b[0m\u001b[0;34m\u001b[0m\u001b[0m\n\u001b[1;32m      4\u001b[0m \u001b[0mc\u001b[0m \u001b[0;34m=\u001b[0m \u001b[0ms1\u001b[0m\u001b[0;34m[\u001b[0m\u001b[0;36m0\u001b[0m\u001b[0;34m]\u001b[0m\u001b[0;34m\u001b[0m\u001b[0m\n\u001b[0;32m----> 5\u001b[0;31m \u001b[0ms1\u001b[0m\u001b[0;34m[\u001b[0m\u001b[0;36m0\u001b[0m\u001b[0;34m]\u001b[0m \u001b[0;34m=\u001b[0m \u001b[0mstr\u001b[0m\u001b[0;34m(\u001b[0m\u001b[0;34m'c'\u001b[0m\u001b[0;34m)\u001b[0m\u001b[0;34m\u001b[0m\u001b[0m\n\u001b[0m",
      "\u001b[0;31mTypeError\u001b[0m: 'str' object does not support item assignment"
     ]
    }
   ],
   "source": [
    "s = ['a', 'c', 'd']\n",
    "s1 = 'abc'\n",
    "print(s1[0])\n",
    "c = s1[0]\n",
    "s1[0] = str('c')"
   ]
  },
  {
   "cell_type": "code",
   "execution_count": 66,
   "metadata": {},
   "outputs": [
    {
     "name": "stdout",
     "output_type": "stream",
     "text": [
      "1\n",
      "1\n",
      "1\n",
      "1\n"
     ]
    }
   ],
   "source": [
    "l = [1,2,3,3]\n",
    "\n",
    "for i in range(len(l)):\n",
    "    l.append(4)\n",
    "    l.append(4)\n",
    "    l.append(4)\n",
    "    l.append(4)\n",
    "    print('1')\n",
    "    "
   ]
  },
  {
   "cell_type": "code",
   "execution_count": null,
   "metadata": {},
   "outputs": [],
   "source": [
    "r = 'abc'\n",
    "d = 'def'\n",
    "e = 'ghi'\n",
    "\n",
    "f = [c+c1 for c in r for c1 in d]\n",
    "f\n",
    "\n"
   ]
  },
  {
   "cell_type": "code",
   "execution_count": 24,
   "metadata": {},
   "outputs": [
    {
     "data": {
      "text/plain": [
       "['adgj',\n",
       " 'adgk',\n",
       " 'adgl',\n",
       " 'adhj',\n",
       " 'adhk',\n",
       " 'adhl',\n",
       " 'adij',\n",
       " 'adik',\n",
       " 'adil',\n",
       " 'aegj',\n",
       " 'aegk',\n",
       " 'aegl',\n",
       " 'aehj',\n",
       " 'aehk',\n",
       " 'aehl',\n",
       " 'aeij',\n",
       " 'aeik',\n",
       " 'aeil',\n",
       " 'afgj',\n",
       " 'afgk',\n",
       " 'afgl',\n",
       " 'afhj',\n",
       " 'afhk',\n",
       " 'afhl',\n",
       " 'afij',\n",
       " 'afik',\n",
       " 'afil',\n",
       " 'bdgj',\n",
       " 'bdgk',\n",
       " 'bdgl',\n",
       " 'bdhj',\n",
       " 'bdhk',\n",
       " 'bdhl',\n",
       " 'bdij',\n",
       " 'bdik',\n",
       " 'bdil',\n",
       " 'begj',\n",
       " 'begk',\n",
       " 'begl',\n",
       " 'behj',\n",
       " 'behk',\n",
       " 'behl',\n",
       " 'beij',\n",
       " 'beik',\n",
       " 'beil',\n",
       " 'bfgj',\n",
       " 'bfgk',\n",
       " 'bfgl',\n",
       " 'bfhj',\n",
       " 'bfhk',\n",
       " 'bfhl',\n",
       " 'bfij',\n",
       " 'bfik',\n",
       " 'bfil',\n",
       " 'cdgj',\n",
       " 'cdgk',\n",
       " 'cdgl',\n",
       " 'cdhj',\n",
       " 'cdhk',\n",
       " 'cdhl',\n",
       " 'cdij',\n",
       " 'cdik',\n",
       " 'cdil',\n",
       " 'cegj',\n",
       " 'cegk',\n",
       " 'cegl',\n",
       " 'cehj',\n",
       " 'cehk',\n",
       " 'cehl',\n",
       " 'ceij',\n",
       " 'ceik',\n",
       " 'ceil',\n",
       " 'cfgj',\n",
       " 'cfgk',\n",
       " 'cfgl',\n",
       " 'cfhj',\n",
       " 'cfhk',\n",
       " 'cfhl',\n",
       " 'cfij',\n",
       " 'cfik',\n",
       " 'cfil',\n",
       " 'adgj',\n",
       " 'adgk',\n",
       " 'adgl',\n",
       " 'adhj',\n",
       " 'adhk',\n",
       " 'adhl',\n",
       " 'adij',\n",
       " 'adik',\n",
       " 'adil',\n",
       " 'aegj',\n",
       " 'aegk',\n",
       " 'aegl',\n",
       " 'aehj',\n",
       " 'aehk',\n",
       " 'aehl',\n",
       " 'aeij',\n",
       " 'aeik',\n",
       " 'aeil',\n",
       " 'afgj',\n",
       " 'afgk',\n",
       " 'afgl',\n",
       " 'afhj',\n",
       " 'afhk',\n",
       " 'afhl',\n",
       " 'afij',\n",
       " 'afik',\n",
       " 'afil',\n",
       " 'bdgj',\n",
       " 'bdgk',\n",
       " 'bdgl',\n",
       " 'bdhj',\n",
       " 'bdhk',\n",
       " 'bdhl',\n",
       " 'bdij',\n",
       " 'bdik',\n",
       " 'bdil',\n",
       " 'begj',\n",
       " 'begk',\n",
       " 'begl',\n",
       " 'behj',\n",
       " 'behk',\n",
       " 'behl',\n",
       " 'beij',\n",
       " 'beik',\n",
       " 'beil',\n",
       " 'bfgj',\n",
       " 'bfgk',\n",
       " 'bfgl',\n",
       " 'bfhj',\n",
       " 'bfhk',\n",
       " 'bfhl',\n",
       " 'bfij',\n",
       " 'bfik',\n",
       " 'bfil',\n",
       " 'cdgj',\n",
       " 'cdgk',\n",
       " 'cdgl',\n",
       " 'cdhj',\n",
       " 'cdhk',\n",
       " 'cdhl',\n",
       " 'cdij',\n",
       " 'cdik',\n",
       " 'cdil',\n",
       " 'cegj',\n",
       " 'cegk',\n",
       " 'cegl',\n",
       " 'cehj',\n",
       " 'cehk',\n",
       " 'cehl',\n",
       " 'ceij',\n",
       " 'ceik',\n",
       " 'ceil',\n",
       " 'cfgj',\n",
       " 'cfgk',\n",
       " 'cfgl',\n",
       " 'cfhj',\n",
       " 'cfhk',\n",
       " 'cfhl',\n",
       " 'cfij',\n",
       " 'cfik',\n",
       " 'cfil',\n",
       " 'adgj',\n",
       " 'adgk',\n",
       " 'adgl',\n",
       " 'adhj',\n",
       " 'adhk',\n",
       " 'adhl',\n",
       " 'adij',\n",
       " 'adik',\n",
       " 'adil',\n",
       " 'aegj',\n",
       " 'aegk',\n",
       " 'aegl',\n",
       " 'aehj',\n",
       " 'aehk',\n",
       " 'aehl',\n",
       " 'aeij',\n",
       " 'aeik',\n",
       " 'aeil',\n",
       " 'afgj',\n",
       " 'afgk',\n",
       " 'afgl',\n",
       " 'afhj',\n",
       " 'afhk',\n",
       " 'afhl',\n",
       " 'afij',\n",
       " 'afik',\n",
       " 'afil',\n",
       " 'bdgj',\n",
       " 'bdgk',\n",
       " 'bdgl',\n",
       " 'bdhj',\n",
       " 'bdhk',\n",
       " 'bdhl',\n",
       " 'bdij',\n",
       " 'bdik',\n",
       " 'bdil',\n",
       " 'begj',\n",
       " 'begk',\n",
       " 'begl',\n",
       " 'behj',\n",
       " 'behk',\n",
       " 'behl',\n",
       " 'beij',\n",
       " 'beik',\n",
       " 'beil',\n",
       " 'bfgj',\n",
       " 'bfgk',\n",
       " 'bfgl',\n",
       " 'bfhj',\n",
       " 'bfhk',\n",
       " 'bfhl',\n",
       " 'bfij',\n",
       " 'bfik',\n",
       " 'bfil',\n",
       " 'cdgj',\n",
       " 'cdgk',\n",
       " 'cdgl',\n",
       " 'cdhj',\n",
       " 'cdhk',\n",
       " 'cdhl',\n",
       " 'cdij',\n",
       " 'cdik',\n",
       " 'cdil',\n",
       " 'cegj',\n",
       " 'cegk',\n",
       " 'cegl',\n",
       " 'cehj',\n",
       " 'cehk',\n",
       " 'cehl',\n",
       " 'ceij',\n",
       " 'ceik',\n",
       " 'ceil',\n",
       " 'cfgj',\n",
       " 'cfgk',\n",
       " 'cfgl',\n",
       " 'cfhj',\n",
       " 'cfhk',\n",
       " 'cfhl',\n",
       " 'cfij',\n",
       " 'cfik',\n",
       " 'cfil']"
      ]
     },
     "execution_count": 24,
     "metadata": {},
     "output_type": "execute_result"
    }
   ],
   "source": [
    "digits = '2345'\n",
    "f1 = []\n",
    "dic = {'2': 'abc', '3': 'def', '4': 'ghi', '5': 'jkl', '6': 'mno', '7':'pqrs', '8':'tuv', '9':'wxyz'}\n",
    "\n",
    "r = ['','','']\n",
    "\n",
    "for i in digits:\n",
    "    #length if r will not change when you are inside of this for loop. it updates only on stepping out of the loop\n",
    "    for c in range(len(r)):\n",
    "        for c1 in dic[i]:\n",
    "            r.append(r[0]+c1)\n",
    "        r = r[1:]\n",
    "r"
   ]
  },
  {
   "cell_type": "code",
   "execution_count": 4,
   "metadata": {},
   "outputs": [
    {
     "data": {
      "text/plain": [
       "['adg',\n",
       " 'adh',\n",
       " 'adi',\n",
       " 'aeg',\n",
       " 'aeh',\n",
       " 'aei',\n",
       " 'afg',\n",
       " 'afh',\n",
       " 'afi',\n",
       " 'bdg',\n",
       " 'bdh',\n",
       " 'bdi',\n",
       " 'beg',\n",
       " 'beh',\n",
       " 'bei',\n",
       " 'bfg',\n",
       " 'bfh',\n",
       " 'bfi',\n",
       " 'cdg',\n",
       " 'cdh',\n",
       " 'cdi',\n",
       " 'ceg',\n",
       " 'ceh',\n",
       " 'cei',\n",
       " 'cfg',\n",
       " 'cfh',\n",
       " 'cfi']"
      ]
     },
     "execution_count": 4,
     "metadata": {},
     "output_type": "execute_result"
    }
   ],
   "source": [
    "digits = '234'\n",
    "f1 = []\n",
    "dic = {'2': 'abc', '3': 'def', '4': 'ghi', '5': 'jkl', '6': 'mno', '7':'pqrs', '8':'tuv', '9':'wxyz'}\n",
    "\n",
    "r = ['']\n",
    "\n",
    "for i in digits:\n",
    "    k = len(r)\n",
    "    for c in range(k):\n",
    "        for c1 in dic[i]:\n",
    "            r.append(r[c]+c1)\n",
    "\n",
    "r1 = []\n",
    "for i in r:\n",
    "    if len(i) is len(digits):\n",
    "        r1.append(i)\n",
    "        \n",
    "r1"
   ]
  },
  {
   "cell_type": "code",
   "execution_count": 6,
   "metadata": {},
   "outputs": [
    {
     "name": "stdout",
     "output_type": "stream",
     "text": [
      "['a', 'b', 'c']\n",
      "234\n"
     ]
    },
    {
     "data": {
      "text/plain": [
       "['adg',\n",
       " 'adh',\n",
       " 'adi',\n",
       " 'aeg',\n",
       " 'aeh',\n",
       " 'aei',\n",
       " 'afg',\n",
       " 'afh',\n",
       " 'afi',\n",
       " 'bdg',\n",
       " 'bdh',\n",
       " 'bdi',\n",
       " 'beg',\n",
       " 'beh',\n",
       " 'bei',\n",
       " 'bfg',\n",
       " 'bfh',\n",
       " 'bfi',\n",
       " 'cdg',\n",
       " 'cdh',\n",
       " 'cdi',\n",
       " 'ceg',\n",
       " 'ceh',\n",
       " 'cei',\n",
       " 'cfg',\n",
       " 'cfh',\n",
       " 'cfi']"
      ]
     },
     "execution_count": 6,
     "metadata": {},
     "output_type": "execute_result"
    }
   ],
   "source": [
    "#code typed in leetcode\n",
    "\n",
    "d = {'2': 'abc', '3': 'def', '4': 'ghi', '5': 'jkl', '6': 'mno', '7':'pqrs', '8':'tuv', '9':'wxyz'}\n",
    "\n",
    "\n",
    "l = list(d[digits[0]])\n",
    "\n",
    "print(l)\n",
    "print(digits)\n",
    "\n",
    "ple = 0\n",
    "for i in digits[1:]:\n",
    "    k = len(l)\n",
    "    for j in range(k):\n",
    "        for n in d[i]:\n",
    "            #s = l[0]\n",
    "            #s += n\n",
    "            l.append(l[0]+n)                    \n",
    "        l = l[1:]\n",
    "\n",
    "\n",
    "l"
   ]
  },
  {
   "cell_type": "code",
   "execution_count": 14,
   "metadata": {},
   "outputs": [
    {
     "data": {
      "text/plain": [
       "['adg',\n",
       " 'adh',\n",
       " 'adi',\n",
       " 'aeg',\n",
       " 'aeh',\n",
       " 'aei',\n",
       " 'afg',\n",
       " 'afh',\n",
       " 'afi',\n",
       " 'bdg',\n",
       " 'bdh',\n",
       " 'bdi',\n",
       " 'beg',\n",
       " 'beh',\n",
       " 'bei',\n",
       " 'bfg',\n",
       " 'bfh',\n",
       " 'bfi',\n",
       " 'cdg',\n",
       " 'cdh',\n",
       " 'cdi',\n",
       " 'ceg',\n",
       " 'ceh',\n",
       " 'cei',\n",
       " 'cfg',\n",
       " 'cfh',\n",
       " 'cfi']"
      ]
     },
     "execution_count": 14,
     "metadata": {},
     "output_type": "execute_result"
    }
   ],
   "source": [
    "digits = '234'\n",
    "f1 = []\n",
    "dic = {'2': 'abc', '3': 'def', '4': 'ghi', '5': 'jkl', '6': 'mno', '7':'pqrs', '8':'tuv', '9':'wxyz'}\n",
    "\n",
    "r = ['']\n",
    "\n",
    "for i in digits:\n",
    "    r = [r[c]+c1 for c in range(len(r)) for c1 in dic[i]]\n",
    "    \n",
    "r"
   ]
  },
  {
   "cell_type": "code",
   "execution_count": 1,
   "metadata": {},
   "outputs": [],
   "source": [
    "#leet code \n",
    "\n",
    "class Solution(object):\n",
    "    def letterCombinations(self, digits):\n",
    "        \"\"\"\n",
    "        :type digits: str\n",
    "        :rtype: List[str]\n",
    "        \"\"\"\n",
    "    \n",
    "        if not len(digits):\n",
    "            return []\n",
    "        \n",
    "        dic = {'2': 'abc', '3': 'def', '4': 'ghi', '5': 'jkl', '6': 'mno', '7':'pqrs', '8':'tuv', '9':'wxyz'}\n",
    "\n",
    "        r = ['']\n",
    "        r1 = ['']\n",
    "\n",
    "        for i in digits:\n",
    "            for c in range(len(r)):                  # appending values to r inside but the length of (r) in for loop initializer will not change unless we come out of the for loop.  If you access element wise instead of range() like for i in r: this will go into infinite loop if you append anything to r in for loop.\n",
    "                for c1 in dic[i]: \n",
    "                    r.append(r[c]+c1)                 \n",
    "                    if len(r[c]+c1) == len(digits):   # extracting required combinations by checking the len\n",
    "                        r1.append(r[c]+c1)\n",
    "\n",
    "        r1 = r1[1:]\n",
    "        return r1"
   ]
  },
  {
   "cell_type": "code",
   "execution_count": 30,
   "metadata": {},
   "outputs": [
    {
     "data": {
      "text/plain": [
       "'abc'"
      ]
     },
     "execution_count": 30,
     "metadata": {},
     "output_type": "execute_result"
    }
   ],
   "source": [
    "s = ''\n",
    "for c in dic['2']:\n",
    "    s+=c\n",
    "s"
   ]
  },
  {
   "cell_type": "code",
   "execution_count": 83,
   "metadata": {},
   "outputs": [
    {
     "name": "stdout",
     "output_type": "stream",
     "text": [
      "['((((((', '((((()', '(((()(', '(((())', '((()((', '((()()', '((())(', '((()))', '(()(((', '(()(()', '(()()(', '(()())', '(())((', '(())()', '(()))(', '(())))', '()((((', '()((()', '()(()(', '()(())', '()()((', '()()()', '()())(', '()()))', '())(((', '())(()', '())()(', '())())', '()))((', '()))()', '())))(', '()))))', ')(((((', ')(((()', ')((()(', ')((())', ')(()((', ')(()()', ')(())(', ')(()))', ')()(((', ')()(()', ')()()(', ')()())', ')())((', ')())()', ')()))(', ')())))', '))((((', '))((()', '))(()(', '))(())', '))()((', '))()()', '))())(', '))()))', ')))(((', ')))(()', ')))()(', ')))())', '))))((', '))))()', ')))))(', '))))))']\n"
     ]
    },
    {
     "data": {
      "text/plain": [
       "[64]"
      ]
     },
     "execution_count": 83,
     "metadata": {},
     "output_type": "execute_result"
    }
   ],
   "source": [
    "ans = []\n",
    "A = []\n",
    "n = 3\n",
    "count = [0]\n",
    "def generate(A = []):\n",
    "    if len(A) == 2*n:\n",
    "        ans.append(\"\".join(A))\n",
    "        count[0] += 1\n",
    "    else:\n",
    "        A.append('(')\n",
    "        generate(A)\n",
    "        A.pop()\n",
    "        A.append(')')\n",
    "        generate(A)\n",
    "        A.pop()\n",
    "\n",
    "\n",
    "\n",
    "    \n",
    "generate()\n",
    "print(ans)\n",
    "count"
   ]
  },
  {
   "cell_type": "code",
   "execution_count": 95,
   "metadata": {},
   "outputs": [
    {
     "data": {
      "text/plain": [
       "[]"
      ]
     },
     "execution_count": 95,
     "metadata": {},
     "output_type": "execute_result"
    }
   ],
   "source": [
    "nums = [8]\n",
    "\n",
    "a = []\n",
    "al = []\n",
    "i = 0\n",
    "\n",
    "for i in range(len(nums)):\n",
    "    for j in range(len(nums)):\n",
    "        for k in range(len(nums)):\n",
    "            if i is not j and j is not k:\n",
    "                if nums[i]+nums[j]+nums[k] is 0:\n",
    "                    a.append([nums[i], nums[j], nums[k]])\n",
    "                    \n",
    "                    \n",
    "a"
   ]
  },
  {
   "cell_type": "code",
   "execution_count": 96,
   "metadata": {},
   "outputs": [],
   "source": [
    "nums1 = [-1,2,-1,0,1,9,6,7,8]\n",
    "al = []\n",
    "def sum(a = [], i = 0):\n",
    "    if sum(a) is 0 and len(a) is 3:\n",
    "        al.append(a)\n",
    "        return\n",
    "    \n",
    "    if i >= len(nums1):\n",
    "        return\n",
    "    \n",
    "    a.append(nums1[i])\n",
    "    sum(a, i+1)\n",
    "    a.pop()\n",
    "    "
   ]
  },
  {
   "cell_type": "code",
   "execution_count": 97,
   "metadata": {},
   "outputs": [
    {
     "name": "stdout",
     "output_type": "stream",
     "text": [
      "[]\n"
     ]
    }
   ],
   "source": [
    "n2 = [-1,2,0,0,9,6,7,8]\n",
    "a = []\n",
    "for i in range(len(n2)):\n",
    "    for j in range(i+1, len(n2)):\n",
    "        for k in range(j+1, len(n2)):\n",
    "            if n2[i]+n2[j]+n2[k] is 0:\n",
    "                a.append([n2[i], n2[j], n2[k]])\n",
    "                \n",
    "print(a)"
   ]
  },
  {
   "cell_type": "code",
   "execution_count": 176,
   "metadata": {},
   "outputs": [
    {
     "name": "stdout",
     "output_type": "stream",
     "text": [
      "[2, 2, 2, 4, 5, 4]\n",
      "5\n"
     ]
    }
   ],
   "source": [
    "# you can write to stdout for debugging purposes, e.g.\n",
    "# print(\"this is a debug message\")\n",
    "\n",
    "def solution(A):\n",
    "    # write your code in Python 3.6\n",
    "    dic = {}\n",
    "\n",
    "    sum1 = []\n",
    "    sum = 0\n",
    "    indl = 0\n",
    "    cha = ''\n",
    "    maxa = 0\n",
    "    diff = 0\n",
    "    for ind, i in enumerate(A):\n",
    "        if i in dic:\n",
    "            dic[i] += 1\n",
    "            sum += 1\n",
    "        else:\n",
    "            if len(dic)<2:\n",
    "                dic[i] = 1\n",
    "                sum += 1\n",
    "            elif i not in dic:\n",
    "                sum1.append(sum)\n",
    "                #maxa = max(sum,maxa)\n",
    "                sum = 0\n",
    "                count = 1\n",
    "                count = ind - diff\n",
    "                dic.clear()\n",
    "                dic[A[ind-1]] = count\n",
    "                dic[A[ind]] = 1\n",
    "                sum = count+1\n",
    "                \n",
    "        if ind > 0 and A[ind] is not A[ind-1]:\n",
    "            diff = ind\n",
    "                \n",
    "        if ind == len(A)-1:\n",
    "            #maxa = max(sum, maxa)\n",
    "            sum1.append(sum)\n",
    "            \n",
    "            \n",
    "    print(sum1)\n",
    "    return max(sum1)#maxa\n",
    "                    \n",
    "        \n",
    "\n",
    "A = [1,2,5,1,3,3,3,5,3,1,3,3]\n",
    "k = solution(A)\n",
    "print(k)    "
   ]
  },
  {
   "cell_type": "code",
   "execution_count": 183,
   "metadata": {},
   "outputs": [
    {
     "name": "stdout",
     "output_type": "stream",
     "text": [
      "[5, 4, 3, 2, 1]\n",
      "2\n"
     ]
    }
   ],
   "source": [
    "A = [1,2,2,2,3,4,5]\n",
    "print(A[::-1])\n",
    "a = A[0]\n",
    "b = -1\n",
    "ta = oa = ans = 1\n",
    "\n",
    "for i in range(1,len(A)):\n",
    "    if A[i] == a or A[i] == b:\n",
    "        ta += 1\n",
    "    else:\n",
    "        a = A[i-1]\n",
    "        b = A[i]\n",
    "        ta = oa+1\n",
    "    \n",
    "    if A[i] == A[i-1]:\n",
    "        oa = oa+1\n",
    "    else:\n",
    "        oa = 1\n",
    "\n",
    "    ans = max(ans,ta)\n",
    "    \n",
    "print(ans)\n"
   ]
  },
  {
   "cell_type": "code",
   "execution_count": 185,
   "metadata": {},
   "outputs": [],
   "source": [
    "for i in range(5, 3):\n",
    "    print(i)"
   ]
  },
  {
   "cell_type": "code",
   "execution_count": 53,
   "metadata": {},
   "outputs": [
    {
     "name": "stdout",
     "output_type": "stream",
     "text": [
      "[8, 23, 19, 29, 1, 30, 3, 3, 24, 12, 4, 17, 3, 26, 28, 27, 21, 27, 29, 24, 6, 11, 11, 8, 25, 7, 21, 27, 7, 25, 11, 12, 27, 6, 12, 17, 20, 22, 13, 18, 30, 10, 10, 12, 7, 30, 17, 5, 22, 26, 8, 23, 10, 14, 13, 29, 19, 10, 1, 15, 19, 7, 4, 30, 27, 19, 27, 29, 23, 29, 3, 23, 26, 30, 26, 24, 6, 7, 25, 2, 28, 3, 30, 21, 27, 19, 15, 6, 26, 13, 26, 19, 10, 11, 23, 7, 6, 19, 13, 8]\n"
     ]
    },
    {
     "data": {
      "text/plain": [
       "7382.0"
      ]
     },
     "execution_count": 53,
     "metadata": {},
     "output_type": "execute_result"
    }
   ],
   "source": [
    "import random\n",
    "\n",
    "A = [random.randint(1,30) for i in range(100)]\n",
    "S = 0\n",
    "\n",
    "for i in range(len(A)-2):\n",
    "    s1 = 0\n",
    "    for j in range(i+1, len(A)-1):\n",
    "        if A[j]%A[i] == 0:\n",
    "            s1+=1\n",
    "            \n",
    "    S+=s1*(s1-1)/2\n",
    "    \n",
    "       \n",
    "    \n",
    "\n",
    "print(A)                \n",
    "S"
   ]
  },
  {
   "cell_type": "code",
   "execution_count": 49,
   "metadata": {},
   "outputs": [
    {
     "data": {
      "text/plain": [
       "1275.0"
      ]
     },
     "execution_count": 49,
     "metadata": {},
     "output_type": "execute_result"
    }
   ],
   "source": [
    "i = 51\n",
    "fact(i)/(fact(2)*fact(i-2))"
   ]
  },
  {
   "cell_type": "code",
   "execution_count": 25,
   "metadata": {},
   "outputs": [
    {
     "data": {
      "text/plain": [
       "1"
      ]
     },
     "execution_count": 25,
     "metadata": {},
     "output_type": "execute_result"
    }
   ],
   "source": [
    "abs(-1)"
   ]
  },
  {
   "cell_type": "code",
   "execution_count": 73,
   "metadata": {},
   "outputs": [
    {
     "name": "stdout",
     "output_type": "stream",
     "text": [
      "6\n"
     ]
    },
    {
     "data": {
      "text/plain": [
       "{}"
      ]
     },
     "execution_count": 73,
     "metadata": {},
     "output_type": "execute_result"
    }
   ],
   "source": [
    "A = [5,1,3,3,2,3,4,4,4,3,3,2,1,3,3]\n",
    "\n",
    "dic = {}\n",
    "ans = 0\n",
    "\n",
    "count = 1\n",
    "co = 0\n",
    "d1 = A[0]\n",
    "d2 = -1\n",
    "for i in range(len(A)):\n",
    "    \n",
    "    if A[i] == d1 or A[i] == d2:\n",
    "        co += 1\n",
    "    else:\n",
    "        d1 = A[i-1]\n",
    "        d2 = A[i]\n",
    "        co = count+1\n",
    "       \n",
    "    if i-1>=0 and A[i] != A[i-1]:\n",
    "        count = 1\n",
    "    elif i-1>=0 and A[i] == A[i-1]:\n",
    "        count += 1\n",
    "\n",
    "    ans = max(ans,co)\n",
    "    \n",
    "\n",
    "print(ans)\n",
    "dic\n",
    "\n",
    "        \n",
    "        "
   ]
  },
  {
   "cell_type": "code",
   "execution_count": 127,
   "metadata": {},
   "outputs": [
    {
     "name": "stdout",
     "output_type": "stream",
     "text": [
      "[1, 2, 3, 4, 5, 6, 8, 9, 10, 12, 15, 16, 18, 20, 24, 25, 27, 30, 32, 36, 40, 45, 48, 50, 54, 60, 64, 72, 75, 80, 81, 90, 96, 100, 108, 120, 125, 128, 135, 144, 150, 160, 162, 180, 192, 200, 216, 225, 240, 243, 250, 256, 270, 288, 300, 320, 324, 360, 375, 384, 400, 405, 432, 450, 480, 486, 500, 512, 540, 576, 600, 625, 640, 648, 675, 720, 729, 750, 768, 800, 810, 864, 900, 960, 972, 1000, 1024, 1080, 1125, 1152, 1200, 1215, 1250, 1280, 1296, 1350, 1440, 1458, 1500, 1536, 1600, 1620, 1728, 1800, 1875, 1920, 1944, 2000, 2025, 2048, 2160, 2187, 2250, 2304, 2400, 2430, 2500, 2560, 2592, 2700, 2880, 2916, 3000, 3072, 3125, 3200, 3240, 3375, 3456, 3600, 3645, 3750, 3840, 3888, 4000, 4050, 4096, 4320, 4374, 4500, 4608, 4800, 4860, 5000, 5120, 5184, 5400, 5625, 5760, 5832]\n"
     ]
    },
    {
     "data": {
      "text/plain": [
       "5832"
      ]
     },
     "execution_count": 127,
     "metadata": {},
     "output_type": "execute_result"
    }
   ],
   "source": [
    "import random\n",
    "import heapq\n",
    "\n",
    "a = set()\n",
    "n = 150\n",
    "a.add(1)\n",
    "a1 = [1]\n",
    "count = 1\n",
    "k = 1\n",
    "\n",
    "l = []\n",
    "heapq.heapify(l)\n",
    "\n",
    "while len(a1) < n:\n",
    "    heapq.heappush(l,2*k)\n",
    "    heapq.heappush(l,3*k)\n",
    "    heapq.heappush(l,5*k)\n",
    "\n",
    "    k = heapq.heappop(l)\n",
    "    \n",
    "    while k == l[0]:\n",
    "        k = heapq.heappop(l)\n",
    "\n",
    "    a1.append(k)\n",
    "\n",
    "print(a1)\n",
    "a1[n-1]"
   ]
  },
  {
   "cell_type": "code",
   "execution_count": 105,
   "metadata": {},
   "outputs": [
    {
     "name": "stdout",
     "output_type": "stream",
     "text": [
      "[1, 2, 3, 4, 5, 6, 8, 9, 10, 12, 15, 16, 18, 20, 24, 25, 27, 30, 32, 36, 40, 45, 48, 50, 54, 60, 64, 72, 75, 80, 81, 90, 96, 100, 108, 120, 125, 128, 135, 144, 150, 160, 162, 180, 192, 200, 216, 225, 240, 243, 250, 256, 270, 288, 300, 320, 324, 360, 375, 384, 400, 405, 432, 450, 480, 486, 500, 512, 540, 576, 600, 625, 640, 648, 675, 720, 729, 750, 768, 800, 810, 864, 900, 960, 972, 1000, 1024, 1080, 1125, 1152, 1200, 1215, 1250, 1280, 1296, 1350, 1440, 1458, 1500, 1536, 1600, 1620, 1728, 1800, 1875, 1920, 1944, 2000, 2025, 2048, 2160, 2187, 2250, 2304, 2400, 2430, 2500, 2560, 2592, 2700, 2880, 2916, 3000, 3072, 3125, 3200, 3240, 3375, 3456, 3600, 3645, 3750, 3840, 3888, 4000, 4050, 4096, 4320, 4374, 4500, 4608, 4800, 4860, 5000, 5120, 5184, 5400, 5625, 5760, 5832]\n"
     ]
    }
   ],
   "source": [
    "def getNthUglyNo(n): \n",
    "  \n",
    "    ugly = [0] * n # To store ugly numbers \n",
    "  \n",
    "    # 1 is the first ugly number \n",
    "    ugly[0] = 1\n",
    "  \n",
    "    # i2, i3, i5 will indicate indices for 2,3,5 respectively \n",
    "    i2 = i3 =i5 = 0\n",
    "  \n",
    "    # set initial multiple value \n",
    "    next_multiple_of_2 = 2\n",
    "    next_multiple_of_3 = 3\n",
    "    next_multiple_of_5 = 5\n",
    "  \n",
    "    # start loop to find value from ugly[1] to ugly[n] \n",
    "    for l in range(1, n): \n",
    "  \n",
    "        # choose the min value of all available multiples \n",
    "        ugly[l] = min(next_multiple_of_2, next_multiple_of_3, next_multiple_of_5) \n",
    "  \n",
    "        # increment the value of index accordingly \n",
    "        if ugly[l] == next_multiple_of_2: \n",
    "            i2 += 1\n",
    "            next_multiple_of_2 = ugly[i2] * 2\n",
    "  \n",
    "        if ugly[l] == next_multiple_of_3: \n",
    "            i3 += 1\n",
    "            next_multiple_of_3 = ugly[i3] * 3\n",
    "  \n",
    "        if ugly[l] == next_multiple_of_5:  \n",
    "            i5 += 1\n",
    "            next_multiple_of_5 = ugly[i5] * 5\n",
    "  \n",
    "    # return ugly[n] value \n",
    "    return ugly \n",
    "  \n",
    "def main(): \n",
    "  \n",
    "    n = 150\n",
    "  \n",
    "    print(getNthUglyNo(n))\n",
    "  \n",
    "  \n",
    "if __name__ == '__main__': \n",
    "    main()"
   ]
  },
  {
   "cell_type": "code",
   "execution_count": 2,
   "metadata": {},
   "outputs": [
    {
     "data": {
      "text/plain": [
       "34"
      ]
     },
     "execution_count": 2,
     "metadata": {},
     "output_type": "execute_result"
    }
   ],
   "source": [
    "first = 0\n",
    "second = 1\n",
    "n = 9\n",
    "i = 1\n",
    "while i < n:\n",
    "    temp = first+second\n",
    "    first = second\n",
    "    second = temp\n",
    "    i += 1\n",
    "    \n",
    "second\n",
    "    \n",
    "    "
   ]
  },
  {
   "cell_type": "code",
   "execution_count": 5,
   "metadata": {},
   "outputs": [
    {
     "data": {
      "text/plain": [
       "34"
      ]
     },
     "execution_count": 5,
     "metadata": {},
     "output_type": "execute_result"
    }
   ],
   "source": [
    "def fib(n):\n",
    "    if n <= 1:\n",
    "        return n\n",
    "    return fib(n-1)+fib(n-2)\n",
    "\n",
    "fib(9)"
   ]
  },
  {
   "cell_type": "code",
   "execution_count": 20,
   "metadata": {},
   "outputs": [
    {
     "name": "stdout",
     "output_type": "stream",
     "text": [
      "[(0, 3), (1, 3), (2, 3), (3, 3), (4, 3)]\n",
      "3020\n"
     ]
    },
    {
     "data": {
      "text/plain": [
       "[[0, 0, 0, 1, 1],\n",
       " [0, 0, 0, 1, 2],\n",
       " [0, 0, 0, 1, 3],\n",
       " [0, 0, 0, 1, 4],\n",
       " [0, 0, 0, 2, 1],\n",
       " [0, 0, 0, 2, 2],\n",
       " [0, 0, 0, 2, 3],\n",
       " [0, 0, 0, 2, 4],\n",
       " [0, 0, 0, 3, 1],\n",
       " [0, 0, 0, 3, 2],\n",
       " [0, 0, 0, 3, 3],\n",
       " [0, 0, 0, 3, 4],\n",
       " [0, 0, 0, 4, 1],\n",
       " [0, 0, 0, 4, 2],\n",
       " [0, 0, 0, 4, 3],\n",
       " [0, 0, 0, 4, 4],\n",
       " [0, 0, 1, 0, 1],\n",
       " [0, 0, 1, 0, 2],\n",
       " [0, 0, 1, 0, 3],\n",
       " [0, 0, 1, 0, 4],\n",
       " [0, 0, 1, 1, 0],\n",
       " [0, 0, 1, 1, 1],\n",
       " [0, 0, 1, 1, 2],\n",
       " [0, 0, 1, 1, 3],\n",
       " [0, 0, 1, 1, 4],\n",
       " [0, 0, 1, 2, 0],\n",
       " [0, 0, 1, 2, 1],\n",
       " [0, 0, 1, 2, 2],\n",
       " [0, 0, 1, 2, 3],\n",
       " [0, 0, 1, 2, 4],\n",
       " [0, 0, 1, 3, 0],\n",
       " [0, 0, 1, 3, 1],\n",
       " [0, 0, 1, 3, 2],\n",
       " [0, 0, 1, 3, 3],\n",
       " [0, 0, 1, 3, 4],\n",
       " [0, 0, 1, 4, 0],\n",
       " [0, 0, 1, 4, 1],\n",
       " [0, 0, 1, 4, 2],\n",
       " [0, 0, 1, 4, 3],\n",
       " [0, 0, 1, 4, 4],\n",
       " [0, 0, 2, 0, 1],\n",
       " [0, 0, 2, 0, 2],\n",
       " [0, 0, 2, 0, 3],\n",
       " [0, 0, 2, 0, 4],\n",
       " [0, 0, 2, 1, 0],\n",
       " [0, 0, 2, 1, 1],\n",
       " [0, 0, 2, 1, 2],\n",
       " [0, 0, 2, 1, 3],\n",
       " [0, 0, 2, 1, 4],\n",
       " [0, 0, 2, 2, 0],\n",
       " [0, 0, 2, 2, 1],\n",
       " [0, 0, 2, 2, 2],\n",
       " [0, 0, 2, 2, 3],\n",
       " [0, 0, 2, 2, 4],\n",
       " [0, 0, 2, 3, 0],\n",
       " [0, 0, 2, 3, 1],\n",
       " [0, 0, 2, 3, 2],\n",
       " [0, 0, 2, 3, 3],\n",
       " [0, 0, 2, 3, 4],\n",
       " [0, 0, 2, 4, 0],\n",
       " [0, 0, 2, 4, 1],\n",
       " [0, 0, 2, 4, 2],\n",
       " [0, 0, 2, 4, 3],\n",
       " [0, 0, 2, 4, 4],\n",
       " [0, 0, 3, 0, 1],\n",
       " [0, 0, 3, 0, 2],\n",
       " [0, 0, 3, 0, 3],\n",
       " [0, 0, 3, 0, 4],\n",
       " [0, 0, 3, 1, 0],\n",
       " [0, 0, 3, 1, 1],\n",
       " [0, 0, 3, 1, 2],\n",
       " [0, 0, 3, 1, 3],\n",
       " [0, 0, 3, 1, 4],\n",
       " [0, 0, 3, 2, 0],\n",
       " [0, 0, 3, 2, 1],\n",
       " [0, 0, 3, 2, 2],\n",
       " [0, 0, 3, 2, 3],\n",
       " [0, 0, 3, 2, 4],\n",
       " [0, 0, 3, 3, 0],\n",
       " [0, 0, 3, 3, 1],\n",
       " [0, 0, 3, 3, 2],\n",
       " [0, 0, 3, 3, 3],\n",
       " [0, 0, 3, 3, 4],\n",
       " [0, 0, 3, 4, 0],\n",
       " [0, 0, 3, 4, 1],\n",
       " [0, 0, 3, 4, 2],\n",
       " [0, 0, 3, 4, 3],\n",
       " [0, 0, 3, 4, 4],\n",
       " [0, 0, 4, 0, 1],\n",
       " [0, 0, 4, 0, 2],\n",
       " [0, 0, 4, 0, 3],\n",
       " [0, 0, 4, 0, 4],\n",
       " [0, 0, 4, 1, 0],\n",
       " [0, 0, 4, 1, 1],\n",
       " [0, 0, 4, 1, 2],\n",
       " [0, 0, 4, 1, 3],\n",
       " [0, 0, 4, 1, 4],\n",
       " [0, 0, 4, 2, 0],\n",
       " [0, 0, 4, 2, 1],\n",
       " [0, 0, 4, 2, 2],\n",
       " [0, 0, 4, 2, 3],\n",
       " [0, 0, 4, 2, 4],\n",
       " [0, 0, 4, 3, 0],\n",
       " [0, 0, 4, 3, 1],\n",
       " [0, 0, 4, 3, 2],\n",
       " [0, 0, 4, 3, 3],\n",
       " [0, 0, 4, 3, 4],\n",
       " [0, 0, 4, 4, 0],\n",
       " [0, 0, 4, 4, 1],\n",
       " [0, 0, 4, 4, 2],\n",
       " [0, 0, 4, 4, 3],\n",
       " [0, 0, 4, 4, 4],\n",
       " [0, 1, 0, 0, 1],\n",
       " [0, 1, 0, 0, 2],\n",
       " [0, 1, 0, 0, 3],\n",
       " [0, 1, 0, 0, 4],\n",
       " [0, 1, 0, 1, 0],\n",
       " [0, 1, 0, 1, 1],\n",
       " [0, 1, 0, 1, 2],\n",
       " [0, 1, 0, 1, 3],\n",
       " [0, 1, 0, 1, 4],\n",
       " [0, 1, 0, 2, 0],\n",
       " [0, 1, 0, 2, 1],\n",
       " [0, 1, 0, 2, 2],\n",
       " [0, 1, 0, 2, 3],\n",
       " [0, 1, 0, 2, 4],\n",
       " [0, 1, 0, 3, 0],\n",
       " [0, 1, 0, 3, 1],\n",
       " [0, 1, 0, 3, 2],\n",
       " [0, 1, 0, 3, 3],\n",
       " [0, 1, 0, 3, 4],\n",
       " [0, 1, 0, 4, 0],\n",
       " [0, 1, 0, 4, 1],\n",
       " [0, 1, 0, 4, 2],\n",
       " [0, 1, 0, 4, 3],\n",
       " [0, 1, 0, 4, 4],\n",
       " [0, 1, 1, 0, 0],\n",
       " [0, 1, 1, 0, 1],\n",
       " [0, 1, 1, 0, 2],\n",
       " [0, 1, 1, 0, 3],\n",
       " [0, 1, 1, 0, 4],\n",
       " [0, 1, 1, 1, 0],\n",
       " [0, 1, 1, 1, 2],\n",
       " [0, 1, 1, 1, 3],\n",
       " [0, 1, 1, 1, 4],\n",
       " [0, 1, 1, 2, 0],\n",
       " [0, 1, 1, 2, 1],\n",
       " [0, 1, 1, 2, 2],\n",
       " [0, 1, 1, 2, 3],\n",
       " [0, 1, 1, 2, 4],\n",
       " [0, 1, 1, 3, 0],\n",
       " [0, 1, 1, 3, 1],\n",
       " [0, 1, 1, 3, 2],\n",
       " [0, 1, 1, 3, 3],\n",
       " [0, 1, 1, 3, 4],\n",
       " [0, 1, 1, 4, 0],\n",
       " [0, 1, 1, 4, 1],\n",
       " [0, 1, 1, 4, 2],\n",
       " [0, 1, 1, 4, 3],\n",
       " [0, 1, 1, 4, 4],\n",
       " [0, 1, 2, 0, 0],\n",
       " [0, 1, 2, 0, 1],\n",
       " [0, 1, 2, 0, 2],\n",
       " [0, 1, 2, 0, 3],\n",
       " [0, 1, 2, 0, 4],\n",
       " [0, 1, 2, 1, 0],\n",
       " [0, 1, 2, 1, 1],\n",
       " [0, 1, 2, 1, 2],\n",
       " [0, 1, 2, 1, 3],\n",
       " [0, 1, 2, 1, 4],\n",
       " [0, 1, 2, 2, 0],\n",
       " [0, 1, 2, 2, 1],\n",
       " [0, 1, 2, 2, 2],\n",
       " [0, 1, 2, 2, 3],\n",
       " [0, 1, 2, 2, 4],\n",
       " [0, 1, 2, 3, 0],\n",
       " [0, 1, 2, 3, 1],\n",
       " [0, 1, 2, 3, 2],\n",
       " [0, 1, 2, 3, 3],\n",
       " [0, 1, 2, 3, 4],\n",
       " [0, 1, 2, 4, 0],\n",
       " [0, 1, 2, 4, 1],\n",
       " [0, 1, 2, 4, 2],\n",
       " [0, 1, 2, 4, 3],\n",
       " [0, 1, 2, 4, 4],\n",
       " [0, 1, 3, 0, 0],\n",
       " [0, 1, 3, 0, 1],\n",
       " [0, 1, 3, 0, 2],\n",
       " [0, 1, 3, 0, 3],\n",
       " [0, 1, 3, 0, 4],\n",
       " [0, 1, 3, 1, 0],\n",
       " [0, 1, 3, 1, 1],\n",
       " [0, 1, 3, 1, 2],\n",
       " [0, 1, 3, 1, 3],\n",
       " [0, 1, 3, 1, 4],\n",
       " [0, 1, 3, 2, 0],\n",
       " [0, 1, 3, 2, 1],\n",
       " [0, 1, 3, 2, 2],\n",
       " [0, 1, 3, 2, 3],\n",
       " [0, 1, 3, 2, 4],\n",
       " [0, 1, 3, 3, 0],\n",
       " [0, 1, 3, 3, 1],\n",
       " [0, 1, 3, 3, 2],\n",
       " [0, 1, 3, 3, 3],\n",
       " [0, 1, 3, 3, 4],\n",
       " [0, 1, 3, 4, 0],\n",
       " [0, 1, 3, 4, 1],\n",
       " [0, 1, 3, 4, 2],\n",
       " [0, 1, 3, 4, 3],\n",
       " [0, 1, 3, 4, 4],\n",
       " [0, 1, 4, 0, 0],\n",
       " [0, 1, 4, 0, 1],\n",
       " [0, 1, 4, 0, 2],\n",
       " [0, 1, 4, 0, 3],\n",
       " [0, 1, 4, 0, 4],\n",
       " [0, 1, 4, 1, 0],\n",
       " [0, 1, 4, 1, 1],\n",
       " [0, 1, 4, 1, 2],\n",
       " [0, 1, 4, 1, 3],\n",
       " [0, 1, 4, 1, 4],\n",
       " [0, 1, 4, 2, 0],\n",
       " [0, 1, 4, 2, 1],\n",
       " [0, 1, 4, 2, 2],\n",
       " [0, 1, 4, 2, 3],\n",
       " [0, 1, 4, 2, 4],\n",
       " [0, 1, 4, 3, 0],\n",
       " [0, 1, 4, 3, 1],\n",
       " [0, 1, 4, 3, 2],\n",
       " [0, 1, 4, 3, 3],\n",
       " [0, 1, 4, 3, 4],\n",
       " [0, 1, 4, 4, 0],\n",
       " [0, 1, 4, 4, 1],\n",
       " [0, 1, 4, 4, 2],\n",
       " [0, 1, 4, 4, 3],\n",
       " [0, 1, 4, 4, 4],\n",
       " [0, 2, 0, 0, 1],\n",
       " [0, 2, 0, 0, 2],\n",
       " [0, 2, 0, 0, 3],\n",
       " [0, 2, 0, 0, 4],\n",
       " [0, 2, 0, 1, 0],\n",
       " [0, 2, 0, 1, 1],\n",
       " [0, 2, 0, 1, 2],\n",
       " [0, 2, 0, 1, 3],\n",
       " [0, 2, 0, 1, 4],\n",
       " [0, 2, 0, 2, 0],\n",
       " [0, 2, 0, 2, 1],\n",
       " [0, 2, 0, 2, 2],\n",
       " [0, 2, 0, 2, 3],\n",
       " [0, 2, 0, 2, 4],\n",
       " [0, 2, 0, 3, 0],\n",
       " [0, 2, 0, 3, 1],\n",
       " [0, 2, 0, 3, 2],\n",
       " [0, 2, 0, 3, 3],\n",
       " [0, 2, 0, 3, 4],\n",
       " [0, 2, 0, 4, 0],\n",
       " [0, 2, 0, 4, 1],\n",
       " [0, 2, 0, 4, 2],\n",
       " [0, 2, 0, 4, 3],\n",
       " [0, 2, 0, 4, 4],\n",
       " [0, 2, 1, 0, 0],\n",
       " [0, 2, 1, 0, 1],\n",
       " [0, 2, 1, 0, 2],\n",
       " [0, 2, 1, 0, 3],\n",
       " [0, 2, 1, 0, 4],\n",
       " [0, 2, 1, 1, 0],\n",
       " [0, 2, 1, 1, 1],\n",
       " [0, 2, 1, 1, 2],\n",
       " [0, 2, 1, 1, 3],\n",
       " [0, 2, 1, 1, 4],\n",
       " [0, 2, 1, 2, 0],\n",
       " [0, 2, 1, 2, 1],\n",
       " [0, 2, 1, 2, 2],\n",
       " [0, 2, 1, 2, 3],\n",
       " [0, 2, 1, 2, 4],\n",
       " [0, 2, 1, 3, 0],\n",
       " [0, 2, 1, 3, 1],\n",
       " [0, 2, 1, 3, 2],\n",
       " [0, 2, 1, 3, 3],\n",
       " [0, 2, 1, 3, 4],\n",
       " [0, 2, 1, 4, 0],\n",
       " [0, 2, 1, 4, 1],\n",
       " [0, 2, 1, 4, 2],\n",
       " [0, 2, 1, 4, 3],\n",
       " [0, 2, 1, 4, 4],\n",
       " [0, 2, 2, 0, 0],\n",
       " [0, 2, 2, 0, 1],\n",
       " [0, 2, 2, 0, 2],\n",
       " [0, 2, 2, 0, 3],\n",
       " [0, 2, 2, 0, 4],\n",
       " [0, 2, 2, 1, 0],\n",
       " [0, 2, 2, 1, 1],\n",
       " [0, 2, 2, 1, 2],\n",
       " [0, 2, 2, 1, 3],\n",
       " [0, 2, 2, 1, 4],\n",
       " [0, 2, 2, 2, 0],\n",
       " [0, 2, 2, 2, 1],\n",
       " [0, 2, 2, 2, 3],\n",
       " [0, 2, 2, 2, 4],\n",
       " [0, 2, 2, 3, 0],\n",
       " [0, 2, 2, 3, 1],\n",
       " [0, 2, 2, 3, 2],\n",
       " [0, 2, 2, 3, 3],\n",
       " [0, 2, 2, 3, 4],\n",
       " [0, 2, 2, 4, 0],\n",
       " [0, 2, 2, 4, 1],\n",
       " [0, 2, 2, 4, 2],\n",
       " [0, 2, 2, 4, 3],\n",
       " [0, 2, 2, 4, 4],\n",
       " [0, 2, 3, 0, 0],\n",
       " [0, 2, 3, 0, 1],\n",
       " [0, 2, 3, 0, 2],\n",
       " [0, 2, 3, 0, 3],\n",
       " [0, 2, 3, 0, 4],\n",
       " [0, 2, 3, 1, 0],\n",
       " [0, 2, 3, 1, 1],\n",
       " [0, 2, 3, 1, 2],\n",
       " [0, 2, 3, 1, 3],\n",
       " [0, 2, 3, 1, 4],\n",
       " [0, 2, 3, 2, 0],\n",
       " [0, 2, 3, 2, 1],\n",
       " [0, 2, 3, 2, 2],\n",
       " [0, 2, 3, 2, 3],\n",
       " [0, 2, 3, 2, 4],\n",
       " [0, 2, 3, 3, 0],\n",
       " [0, 2, 3, 3, 1],\n",
       " [0, 2, 3, 3, 2],\n",
       " [0, 2, 3, 3, 3],\n",
       " [0, 2, 3, 3, 4],\n",
       " [0, 2, 3, 4, 0],\n",
       " [0, 2, 3, 4, 1],\n",
       " [0, 2, 3, 4, 2],\n",
       " [0, 2, 3, 4, 3],\n",
       " [0, 2, 3, 4, 4],\n",
       " [0, 2, 4, 0, 0],\n",
       " [0, 2, 4, 0, 1],\n",
       " [0, 2, 4, 0, 2],\n",
       " [0, 2, 4, 0, 3],\n",
       " [0, 2, 4, 0, 4],\n",
       " [0, 2, 4, 1, 0],\n",
       " [0, 2, 4, 1, 1],\n",
       " [0, 2, 4, 1, 2],\n",
       " [0, 2, 4, 1, 3],\n",
       " [0, 2, 4, 1, 4],\n",
       " [0, 2, 4, 2, 0],\n",
       " [0, 2, 4, 2, 1],\n",
       " [0, 2, 4, 2, 2],\n",
       " [0, 2, 4, 2, 3],\n",
       " [0, 2, 4, 2, 4],\n",
       " [0, 2, 4, 3, 0],\n",
       " [0, 2, 4, 3, 1],\n",
       " [0, 2, 4, 3, 2],\n",
       " [0, 2, 4, 3, 3],\n",
       " [0, 2, 4, 3, 4],\n",
       " [0, 2, 4, 4, 0],\n",
       " [0, 2, 4, 4, 1],\n",
       " [0, 2, 4, 4, 2],\n",
       " [0, 2, 4, 4, 3],\n",
       " [0, 2, 4, 4, 4],\n",
       " [0, 3, 0, 0, 1],\n",
       " [0, 3, 0, 0, 2],\n",
       " [0, 3, 0, 0, 3],\n",
       " [0, 3, 0, 0, 4],\n",
       " [0, 3, 0, 1, 0],\n",
       " [0, 3, 0, 1, 1],\n",
       " [0, 3, 0, 1, 2],\n",
       " [0, 3, 0, 1, 3],\n",
       " [0, 3, 0, 1, 4],\n",
       " [0, 3, 0, 2, 0],\n",
       " [0, 3, 0, 2, 1],\n",
       " [0, 3, 0, 2, 2],\n",
       " [0, 3, 0, 2, 3],\n",
       " [0, 3, 0, 2, 4],\n",
       " [0, 3, 0, 3, 0],\n",
       " [0, 3, 0, 3, 1],\n",
       " [0, 3, 0, 3, 2],\n",
       " [0, 3, 0, 3, 3],\n",
       " [0, 3, 0, 3, 4],\n",
       " [0, 3, 0, 4, 0],\n",
       " [0, 3, 0, 4, 1],\n",
       " [0, 3, 0, 4, 2],\n",
       " [0, 3, 0, 4, 3],\n",
       " [0, 3, 0, 4, 4],\n",
       " [0, 3, 1, 0, 0],\n",
       " [0, 3, 1, 0, 1],\n",
       " [0, 3, 1, 0, 2],\n",
       " [0, 3, 1, 0, 3],\n",
       " [0, 3, 1, 0, 4],\n",
       " [0, 3, 1, 1, 0],\n",
       " [0, 3, 1, 1, 1],\n",
       " [0, 3, 1, 1, 2],\n",
       " [0, 3, 1, 1, 3],\n",
       " [0, 3, 1, 1, 4],\n",
       " [0, 3, 1, 2, 0],\n",
       " [0, 3, 1, 2, 1],\n",
       " [0, 3, 1, 2, 2],\n",
       " [0, 3, 1, 2, 3],\n",
       " [0, 3, 1, 2, 4],\n",
       " [0, 3, 1, 3, 0],\n",
       " [0, 3, 1, 3, 1],\n",
       " [0, 3, 1, 3, 2],\n",
       " [0, 3, 1, 3, 3],\n",
       " [0, 3, 1, 3, 4],\n",
       " [0, 3, 1, 4, 0],\n",
       " [0, 3, 1, 4, 1],\n",
       " [0, 3, 1, 4, 2],\n",
       " [0, 3, 1, 4, 3],\n",
       " [0, 3, 1, 4, 4],\n",
       " [0, 3, 2, 0, 0],\n",
       " [0, 3, 2, 0, 1],\n",
       " [0, 3, 2, 0, 2],\n",
       " [0, 3, 2, 0, 3],\n",
       " [0, 3, 2, 0, 4],\n",
       " [0, 3, 2, 1, 0],\n",
       " [0, 3, 2, 1, 1],\n",
       " [0, 3, 2, 1, 2],\n",
       " [0, 3, 2, 1, 3],\n",
       " [0, 3, 2, 1, 4],\n",
       " [0, 3, 2, 2, 0],\n",
       " [0, 3, 2, 2, 1],\n",
       " [0, 3, 2, 2, 2],\n",
       " [0, 3, 2, 2, 3],\n",
       " [0, 3, 2, 2, 4],\n",
       " [0, 3, 2, 3, 0],\n",
       " [0, 3, 2, 3, 1],\n",
       " [0, 3, 2, 3, 2],\n",
       " [0, 3, 2, 3, 3],\n",
       " [0, 3, 2, 3, 4],\n",
       " [0, 3, 2, 4, 0],\n",
       " [0, 3, 2, 4, 1],\n",
       " [0, 3, 2, 4, 2],\n",
       " [0, 3, 2, 4, 3],\n",
       " [0, 3, 2, 4, 4],\n",
       " [0, 3, 3, 0, 0],\n",
       " [0, 3, 3, 0, 1],\n",
       " [0, 3, 3, 0, 2],\n",
       " [0, 3, 3, 0, 3],\n",
       " [0, 3, 3, 0, 4],\n",
       " [0, 3, 3, 1, 0],\n",
       " [0, 3, 3, 1, 1],\n",
       " [0, 3, 3, 1, 2],\n",
       " [0, 3, 3, 1, 3],\n",
       " [0, 3, 3, 1, 4],\n",
       " [0, 3, 3, 2, 0],\n",
       " [0, 3, 3, 2, 1],\n",
       " [0, 3, 3, 2, 2],\n",
       " [0, 3, 3, 2, 3],\n",
       " [0, 3, 3, 2, 4],\n",
       " [0, 3, 3, 3, 0],\n",
       " [0, 3, 3, 3, 1],\n",
       " [0, 3, 3, 3, 2],\n",
       " [0, 3, 3, 3, 4],\n",
       " [0, 3, 3, 4, 0],\n",
       " [0, 3, 3, 4, 1],\n",
       " [0, 3, 3, 4, 2],\n",
       " [0, 3, 3, 4, 3],\n",
       " [0, 3, 3, 4, 4],\n",
       " [0, 3, 4, 0, 0],\n",
       " [0, 3, 4, 0, 1],\n",
       " [0, 3, 4, 0, 2],\n",
       " [0, 3, 4, 0, 3],\n",
       " [0, 3, 4, 0, 4],\n",
       " [0, 3, 4, 1, 0],\n",
       " [0, 3, 4, 1, 1],\n",
       " [0, 3, 4, 1, 2],\n",
       " [0, 3, 4, 1, 3],\n",
       " [0, 3, 4, 1, 4],\n",
       " [0, 3, 4, 2, 0],\n",
       " [0, 3, 4, 2, 1],\n",
       " [0, 3, 4, 2, 2],\n",
       " [0, 3, 4, 2, 3],\n",
       " [0, 3, 4, 2, 4],\n",
       " [0, 3, 4, 3, 0],\n",
       " [0, 3, 4, 3, 1],\n",
       " [0, 3, 4, 3, 2],\n",
       " [0, 3, 4, 3, 3],\n",
       " [0, 3, 4, 3, 4],\n",
       " [0, 3, 4, 4, 0],\n",
       " [0, 3, 4, 4, 1],\n",
       " [0, 3, 4, 4, 2],\n",
       " [0, 3, 4, 4, 3],\n",
       " [0, 3, 4, 4, 4],\n",
       " [0, 4, 0, 0, 1],\n",
       " [0, 4, 0, 0, 2],\n",
       " [0, 4, 0, 0, 3],\n",
       " [0, 4, 0, 0, 4],\n",
       " [0, 4, 0, 1, 0],\n",
       " [0, 4, 0, 1, 1],\n",
       " [0, 4, 0, 1, 2],\n",
       " [0, 4, 0, 1, 3],\n",
       " [0, 4, 0, 1, 4],\n",
       " [0, 4, 0, 2, 0],\n",
       " [0, 4, 0, 2, 1],\n",
       " [0, 4, 0, 2, 2],\n",
       " [0, 4, 0, 2, 3],\n",
       " [0, 4, 0, 2, 4],\n",
       " [0, 4, 0, 3, 0],\n",
       " [0, 4, 0, 3, 1],\n",
       " [0, 4, 0, 3, 2],\n",
       " [0, 4, 0, 3, 3],\n",
       " [0, 4, 0, 3, 4],\n",
       " [0, 4, 0, 4, 0],\n",
       " [0, 4, 0, 4, 1],\n",
       " [0, 4, 0, 4, 2],\n",
       " [0, 4, 0, 4, 3],\n",
       " [0, 4, 0, 4, 4],\n",
       " [0, 4, 1, 0, 0],\n",
       " [0, 4, 1, 0, 1],\n",
       " [0, 4, 1, 0, 2],\n",
       " [0, 4, 1, 0, 3],\n",
       " [0, 4, 1, 0, 4],\n",
       " [0, 4, 1, 1, 0],\n",
       " [0, 4, 1, 1, 1],\n",
       " [0, 4, 1, 1, 2],\n",
       " [0, 4, 1, 1, 3],\n",
       " [0, 4, 1, 1, 4],\n",
       " [0, 4, 1, 2, 0],\n",
       " [0, 4, 1, 2, 1],\n",
       " [0, 4, 1, 2, 2],\n",
       " [0, 4, 1, 2, 3],\n",
       " [0, 4, 1, 2, 4],\n",
       " [0, 4, 1, 3, 0],\n",
       " [0, 4, 1, 3, 1],\n",
       " [0, 4, 1, 3, 2],\n",
       " [0, 4, 1, 3, 3],\n",
       " [0, 4, 1, 3, 4],\n",
       " [0, 4, 1, 4, 0],\n",
       " [0, 4, 1, 4, 1],\n",
       " [0, 4, 1, 4, 2],\n",
       " [0, 4, 1, 4, 3],\n",
       " [0, 4, 1, 4, 4],\n",
       " [0, 4, 2, 0, 0],\n",
       " [0, 4, 2, 0, 1],\n",
       " [0, 4, 2, 0, 2],\n",
       " [0, 4, 2, 0, 3],\n",
       " [0, 4, 2, 0, 4],\n",
       " [0, 4, 2, 1, 0],\n",
       " [0, 4, 2, 1, 1],\n",
       " [0, 4, 2, 1, 2],\n",
       " [0, 4, 2, 1, 3],\n",
       " [0, 4, 2, 1, 4],\n",
       " [0, 4, 2, 2, 0],\n",
       " [0, 4, 2, 2, 1],\n",
       " [0, 4, 2, 2, 2],\n",
       " [0, 4, 2, 2, 3],\n",
       " [0, 4, 2, 2, 4],\n",
       " [0, 4, 2, 3, 0],\n",
       " [0, 4, 2, 3, 1],\n",
       " [0, 4, 2, 3, 2],\n",
       " [0, 4, 2, 3, 3],\n",
       " [0, 4, 2, 3, 4],\n",
       " [0, 4, 2, 4, 0],\n",
       " [0, 4, 2, 4, 1],\n",
       " [0, 4, 2, 4, 2],\n",
       " [0, 4, 2, 4, 3],\n",
       " [0, 4, 2, 4, 4],\n",
       " [0, 4, 3, 0, 0],\n",
       " [0, 4, 3, 0, 1],\n",
       " [0, 4, 3, 0, 2],\n",
       " [0, 4, 3, 0, 3],\n",
       " [0, 4, 3, 0, 4],\n",
       " [0, 4, 3, 1, 0],\n",
       " [0, 4, 3, 1, 1],\n",
       " [0, 4, 3, 1, 2],\n",
       " [0, 4, 3, 1, 3],\n",
       " [0, 4, 3, 1, 4],\n",
       " [0, 4, 3, 2, 0],\n",
       " [0, 4, 3, 2, 1],\n",
       " [0, 4, 3, 2, 2],\n",
       " [0, 4, 3, 2, 3],\n",
       " [0, 4, 3, 2, 4],\n",
       " [0, 4, 3, 3, 0],\n",
       " [0, 4, 3, 3, 1],\n",
       " [0, 4, 3, 3, 2],\n",
       " [0, 4, 3, 3, 3],\n",
       " [0, 4, 3, 3, 4],\n",
       " [0, 4, 3, 4, 0],\n",
       " [0, 4, 3, 4, 1],\n",
       " [0, 4, 3, 4, 2],\n",
       " [0, 4, 3, 4, 3],\n",
       " [0, 4, 3, 4, 4],\n",
       " [0, 4, 4, 0, 0],\n",
       " [0, 4, 4, 0, 1],\n",
       " [0, 4, 4, 0, 2],\n",
       " [0, 4, 4, 0, 3],\n",
       " [0, 4, 4, 0, 4],\n",
       " [0, 4, 4, 1, 0],\n",
       " [0, 4, 4, 1, 1],\n",
       " [0, 4, 4, 1, 2],\n",
       " [0, 4, 4, 1, 3],\n",
       " [0, 4, 4, 1, 4],\n",
       " [0, 4, 4, 2, 0],\n",
       " [0, 4, 4, 2, 1],\n",
       " [0, 4, 4, 2, 2],\n",
       " [0, 4, 4, 2, 3],\n",
       " [0, 4, 4, 2, 4],\n",
       " [0, 4, 4, 3, 0],\n",
       " [0, 4, 4, 3, 1],\n",
       " [0, 4, 4, 3, 2],\n",
       " [0, 4, 4, 3, 3],\n",
       " [0, 4, 4, 3, 4],\n",
       " [0, 4, 4, 4, 0],\n",
       " [0, 4, 4, 4, 1],\n",
       " [0, 4, 4, 4, 2],\n",
       " [0, 4, 4, 4, 3],\n",
       " [1, 0, 0, 0, 1],\n",
       " [1, 0, 0, 0, 2],\n",
       " [1, 0, 0, 0, 3],\n",
       " [1, 0, 0, 0, 4],\n",
       " [1, 0, 0, 1, 0],\n",
       " [1, 0, 0, 1, 1],\n",
       " [1, 0, 0, 1, 2],\n",
       " [1, 0, 0, 1, 3],\n",
       " [1, 0, 0, 1, 4],\n",
       " [1, 0, 0, 2, 0],\n",
       " [1, 0, 0, 2, 1],\n",
       " [1, 0, 0, 2, 2],\n",
       " [1, 0, 0, 2, 3],\n",
       " [1, 0, 0, 2, 4],\n",
       " [1, 0, 0, 3, 0],\n",
       " [1, 0, 0, 3, 1],\n",
       " [1, 0, 0, 3, 2],\n",
       " [1, 0, 0, 3, 3],\n",
       " [1, 0, 0, 3, 4],\n",
       " [1, 0, 0, 4, 0],\n",
       " [1, 0, 0, 4, 1],\n",
       " [1, 0, 0, 4, 2],\n",
       " [1, 0, 0, 4, 3],\n",
       " [1, 0, 0, 4, 4],\n",
       " [1, 0, 1, 0, 0],\n",
       " [1, 0, 1, 0, 1],\n",
       " [1, 0, 1, 0, 2],\n",
       " [1, 0, 1, 0, 3],\n",
       " [1, 0, 1, 0, 4],\n",
       " [1, 0, 1, 1, 0],\n",
       " [1, 0, 1, 1, 2],\n",
       " [1, 0, 1, 1, 3],\n",
       " [1, 0, 1, 1, 4],\n",
       " [1, 0, 1, 2, 0],\n",
       " [1, 0, 1, 2, 1],\n",
       " [1, 0, 1, 2, 2],\n",
       " [1, 0, 1, 2, 3],\n",
       " [1, 0, 1, 2, 4],\n",
       " [1, 0, 1, 3, 0],\n",
       " [1, 0, 1, 3, 1],\n",
       " [1, 0, 1, 3, 2],\n",
       " [1, 0, 1, 3, 3],\n",
       " [1, 0, 1, 3, 4],\n",
       " [1, 0, 1, 4, 0],\n",
       " [1, 0, 1, 4, 1],\n",
       " [1, 0, 1, 4, 2],\n",
       " [1, 0, 1, 4, 3],\n",
       " [1, 0, 1, 4, 4],\n",
       " [1, 0, 2, 0, 0],\n",
       " [1, 0, 2, 0, 1],\n",
       " [1, 0, 2, 0, 2],\n",
       " [1, 0, 2, 0, 3],\n",
       " [1, 0, 2, 0, 4],\n",
       " [1, 0, 2, 1, 0],\n",
       " [1, 0, 2, 1, 1],\n",
       " [1, 0, 2, 1, 2],\n",
       " [1, 0, 2, 1, 3],\n",
       " [1, 0, 2, 1, 4],\n",
       " [1, 0, 2, 2, 0],\n",
       " [1, 0, 2, 2, 1],\n",
       " [1, 0, 2, 2, 2],\n",
       " [1, 0, 2, 2, 3],\n",
       " [1, 0, 2, 2, 4],\n",
       " [1, 0, 2, 3, 0],\n",
       " [1, 0, 2, 3, 1],\n",
       " [1, 0, 2, 3, 2],\n",
       " [1, 0, 2, 3, 3],\n",
       " [1, 0, 2, 3, 4],\n",
       " [1, 0, 2, 4, 0],\n",
       " [1, 0, 2, 4, 1],\n",
       " [1, 0, 2, 4, 2],\n",
       " [1, 0, 2, 4, 3],\n",
       " [1, 0, 2, 4, 4],\n",
       " [1, 0, 3, 0, 0],\n",
       " [1, 0, 3, 0, 1],\n",
       " [1, 0, 3, 0, 2],\n",
       " [1, 0, 3, 0, 3],\n",
       " [1, 0, 3, 0, 4],\n",
       " [1, 0, 3, 1, 0],\n",
       " [1, 0, 3, 1, 1],\n",
       " [1, 0, 3, 1, 2],\n",
       " [1, 0, 3, 1, 3],\n",
       " [1, 0, 3, 1, 4],\n",
       " [1, 0, 3, 2, 0],\n",
       " [1, 0, 3, 2, 1],\n",
       " [1, 0, 3, 2, 2],\n",
       " [1, 0, 3, 2, 3],\n",
       " [1, 0, 3, 2, 4],\n",
       " [1, 0, 3, 3, 0],\n",
       " [1, 0, 3, 3, 1],\n",
       " [1, 0, 3, 3, 2],\n",
       " [1, 0, 3, 3, 3],\n",
       " [1, 0, 3, 3, 4],\n",
       " [1, 0, 3, 4, 0],\n",
       " [1, 0, 3, 4, 1],\n",
       " [1, 0, 3, 4, 2],\n",
       " [1, 0, 3, 4, 3],\n",
       " [1, 0, 3, 4, 4],\n",
       " [1, 0, 4, 0, 0],\n",
       " [1, 0, 4, 0, 1],\n",
       " [1, 0, 4, 0, 2],\n",
       " [1, 0, 4, 0, 3],\n",
       " [1, 0, 4, 0, 4],\n",
       " [1, 0, 4, 1, 0],\n",
       " [1, 0, 4, 1, 1],\n",
       " [1, 0, 4, 1, 2],\n",
       " [1, 0, 4, 1, 3],\n",
       " [1, 0, 4, 1, 4],\n",
       " [1, 0, 4, 2, 0],\n",
       " [1, 0, 4, 2, 1],\n",
       " [1, 0, 4, 2, 2],\n",
       " [1, 0, 4, 2, 3],\n",
       " [1, 0, 4, 2, 4],\n",
       " [1, 0, 4, 3, 0],\n",
       " [1, 0, 4, 3, 1],\n",
       " [1, 0, 4, 3, 2],\n",
       " [1, 0, 4, 3, 3],\n",
       " [1, 0, 4, 3, 4],\n",
       " [1, 0, 4, 4, 0],\n",
       " [1, 0, 4, 4, 1],\n",
       " [1, 0, 4, 4, 2],\n",
       " [1, 0, 4, 4, 3],\n",
       " [1, 0, 4, 4, 4],\n",
       " [1, 1, 0, 0, 0],\n",
       " [1, 1, 0, 0, 1],\n",
       " [1, 1, 0, 0, 2],\n",
       " [1, 1, 0, 0, 3],\n",
       " [1, 1, 0, 0, 4],\n",
       " [1, 1, 0, 1, 0],\n",
       " [1, 1, 0, 1, 2],\n",
       " [1, 1, 0, 1, 3],\n",
       " [1, 1, 0, 1, 4],\n",
       " [1, 1, 0, 2, 0],\n",
       " [1, 1, 0, 2, 1],\n",
       " [1, 1, 0, 2, 2],\n",
       " [1, 1, 0, 2, 3],\n",
       " [1, 1, 0, 2, 4],\n",
       " [1, 1, 0, 3, 0],\n",
       " [1, 1, 0, 3, 1],\n",
       " [1, 1, 0, 3, 2],\n",
       " [1, 1, 0, 3, 3],\n",
       " [1, 1, 0, 3, 4],\n",
       " [1, 1, 0, 4, 0],\n",
       " [1, 1, 0, 4, 1],\n",
       " [1, 1, 0, 4, 2],\n",
       " [1, 1, 0, 4, 3],\n",
       " [1, 1, 0, 4, 4],\n",
       " [1, 1, 1, 0, 0],\n",
       " [1, 1, 1, 0, 2],\n",
       " [1, 1, 1, 0, 3],\n",
       " [1, 1, 1, 0, 4],\n",
       " [1, 1, 1, 2, 0],\n",
       " [1, 1, 1, 2, 2],\n",
       " [1, 1, 1, 2, 3],\n",
       " [1, 1, 1, 2, 4],\n",
       " [1, 1, 1, 3, 0],\n",
       " [1, 1, 1, 3, 2],\n",
       " [1, 1, 1, 3, 3],\n",
       " [1, 1, 1, 3, 4],\n",
       " [1, 1, 1, 4, 0],\n",
       " [1, 1, 1, 4, 2],\n",
       " [1, 1, 1, 4, 3],\n",
       " [1, 1, 1, 4, 4],\n",
       " [1, 1, 2, 0, 0],\n",
       " [1, 1, 2, 0, 1],\n",
       " [1, 1, 2, 0, 2],\n",
       " [1, 1, 2, 0, 3],\n",
       " [1, 1, 2, 0, 4],\n",
       " [1, 1, 2, 1, 0],\n",
       " [1, 1, 2, 1, 2],\n",
       " [1, 1, 2, 1, 3],\n",
       " [1, 1, 2, 1, 4],\n",
       " [1, 1, 2, 2, 0],\n",
       " [1, 1, 2, 2, 1],\n",
       " [1, 1, 2, 2, 2],\n",
       " [1, 1, 2, 2, 3],\n",
       " [1, 1, 2, 2, 4],\n",
       " [1, 1, 2, 3, 0],\n",
       " [1, 1, 2, 3, 1],\n",
       " [1, 1, 2, 3, 2],\n",
       " [1, 1, 2, 3, 3],\n",
       " [1, 1, 2, 3, 4],\n",
       " [1, 1, 2, 4, 0],\n",
       " [1, 1, 2, 4, 1],\n",
       " [1, 1, 2, 4, 2],\n",
       " [1, 1, 2, 4, 3],\n",
       " [1, 1, 2, 4, 4],\n",
       " [1, 1, 3, 0, 0],\n",
       " [1, 1, 3, 0, 1],\n",
       " [1, 1, 3, 0, 2],\n",
       " [1, 1, 3, 0, 3],\n",
       " [1, 1, 3, 0, 4],\n",
       " [1, 1, 3, 1, 0],\n",
       " [1, 1, 3, 1, 2],\n",
       " [1, 1, 3, 1, 3],\n",
       " [1, 1, 3, 1, 4],\n",
       " [1, 1, 3, 2, 0],\n",
       " [1, 1, 3, 2, 1],\n",
       " [1, 1, 3, 2, 2],\n",
       " [1, 1, 3, 2, 3],\n",
       " [1, 1, 3, 2, 4],\n",
       " [1, 1, 3, 3, 0],\n",
       " [1, 1, 3, 3, 1],\n",
       " [1, 1, 3, 3, 2],\n",
       " [1, 1, 3, 3, 3],\n",
       " [1, 1, 3, 3, 4],\n",
       " [1, 1, 3, 4, 0],\n",
       " [1, 1, 3, 4, 1],\n",
       " [1, 1, 3, 4, 2],\n",
       " [1, 1, 3, 4, 3],\n",
       " [1, 1, 3, 4, 4],\n",
       " [1, 1, 4, 0, 0],\n",
       " [1, 1, 4, 0, 1],\n",
       " [1, 1, 4, 0, 2],\n",
       " [1, 1, 4, 0, 3],\n",
       " [1, 1, 4, 0, 4],\n",
       " [1, 1, 4, 1, 0],\n",
       " [1, 1, 4, 1, 2],\n",
       " [1, 1, 4, 1, 3],\n",
       " [1, 1, 4, 1, 4],\n",
       " [1, 1, 4, 2, 0],\n",
       " [1, 1, 4, 2, 1],\n",
       " [1, 1, 4, 2, 2],\n",
       " [1, 1, 4, 2, 3],\n",
       " [1, 1, 4, 2, 4],\n",
       " [1, 1, 4, 3, 0],\n",
       " [1, 1, 4, 3, 1],\n",
       " [1, 1, 4, 3, 2],\n",
       " [1, 1, 4, 3, 3],\n",
       " [1, 1, 4, 3, 4],\n",
       " [1, 1, 4, 4, 0],\n",
       " [1, 1, 4, 4, 1],\n",
       " [1, 1, 4, 4, 2],\n",
       " [1, 1, 4, 4, 3],\n",
       " [1, 1, 4, 4, 4],\n",
       " [1, 2, 0, 0, 0],\n",
       " [1, 2, 0, 0, 1],\n",
       " [1, 2, 0, 0, 2],\n",
       " [1, 2, 0, 0, 3],\n",
       " [1, 2, 0, 0, 4],\n",
       " [1, 2, 0, 1, 0],\n",
       " [1, 2, 0, 1, 1],\n",
       " [1, 2, 0, 1, 2],\n",
       " [1, 2, 0, 1, 3],\n",
       " [1, 2, 0, 1, 4],\n",
       " [1, 2, 0, 2, 0],\n",
       " [1, 2, 0, 2, 1],\n",
       " [1, 2, 0, 2, 2],\n",
       " [1, 2, 0, 2, 3],\n",
       " [1, 2, 0, 2, 4],\n",
       " [1, 2, 0, 3, 0],\n",
       " [1, 2, 0, 3, 1],\n",
       " [1, 2, 0, 3, 2],\n",
       " [1, 2, 0, 3, 3],\n",
       " [1, 2, 0, 3, 4],\n",
       " [1, 2, 0, 4, 0],\n",
       " [1, 2, 0, 4, 1],\n",
       " [1, 2, 0, 4, 2],\n",
       " [1, 2, 0, 4, 3],\n",
       " [1, 2, 0, 4, 4],\n",
       " [1, 2, 1, 0, 0],\n",
       " [1, 2, 1, 0, 1],\n",
       " [1, 2, 1, 0, 2],\n",
       " [1, 2, 1, 0, 3],\n",
       " [1, 2, 1, 0, 4],\n",
       " [1, 2, 1, 1, 0],\n",
       " [1, 2, 1, 1, 2],\n",
       " [1, 2, 1, 1, 3],\n",
       " [1, 2, 1, 1, 4],\n",
       " [1, 2, 1, 2, 0],\n",
       " [1, 2, 1, 2, 1],\n",
       " [1, 2, 1, 2, 2],\n",
       " [1, 2, 1, 2, 3],\n",
       " [1, 2, 1, 2, 4],\n",
       " [1, 2, 1, 3, 0],\n",
       " [1, 2, 1, 3, 1],\n",
       " [1, 2, 1, 3, 2],\n",
       " [1, 2, 1, 3, 3],\n",
       " [1, 2, 1, 3, 4],\n",
       " [1, 2, 1, 4, 0],\n",
       " [1, 2, 1, 4, 1],\n",
       " [1, 2, 1, 4, 2],\n",
       " [1, 2, 1, 4, 3],\n",
       " [1, 2, 1, 4, 4],\n",
       " [1, 2, 2, 0, 0],\n",
       " [1, 2, 2, 0, 1],\n",
       " [1, 2, 2, 0, 2],\n",
       " [1, 2, 2, 0, 3],\n",
       " [1, 2, 2, 0, 4],\n",
       " [1, 2, 2, 1, 0],\n",
       " [1, 2, 2, 1, 1],\n",
       " [1, 2, 2, 1, 2],\n",
       " [1, 2, 2, 1, 3],\n",
       " [1, 2, 2, 1, 4],\n",
       " [1, 2, 2, 2, 0],\n",
       " [1, 2, 2, 2, 1],\n",
       " [1, 2, 2, 2, 3],\n",
       " [1, 2, 2, 2, 4],\n",
       " [1, 2, 2, 3, 0],\n",
       " [1, 2, 2, 3, 1],\n",
       " [1, 2, 2, 3, 2],\n",
       " [1, 2, 2, 3, 3],\n",
       " [1, 2, 2, 3, 4],\n",
       " [1, 2, 2, 4, 0],\n",
       " [1, 2, 2, 4, 1],\n",
       " [1, 2, 2, 4, 2],\n",
       " [1, 2, 2, 4, 3],\n",
       " [1, 2, 2, 4, 4],\n",
       " [1, 2, 3, 0, 0],\n",
       " [1, 2, 3, 0, 1],\n",
       " [1, 2, 3, 0, 2],\n",
       " [1, 2, 3, 0, 3],\n",
       " [1, 2, 3, 0, 4],\n",
       " [1, 2, 3, 1, 0],\n",
       " [1, 2, 3, 1, 1],\n",
       " [1, 2, 3, 1, 2],\n",
       " [1, 2, 3, 1, 3],\n",
       " [1, 2, 3, 1, 4],\n",
       " [1, 2, 3, 2, 0],\n",
       " [1, 2, 3, 2, 1],\n",
       " [1, 2, 3, 2, 2],\n",
       " [1, 2, 3, 2, 3],\n",
       " [1, 2, 3, 2, 4],\n",
       " [1, 2, 3, 3, 0],\n",
       " [1, 2, 3, 3, 1],\n",
       " [1, 2, 3, 3, 2],\n",
       " [1, 2, 3, 3, 3],\n",
       " [1, 2, 3, 3, 4],\n",
       " [1, 2, 3, 4, 0],\n",
       " [1, 2, 3, 4, 1],\n",
       " [1, 2, 3, 4, 2],\n",
       " [1, 2, 3, 4, 3],\n",
       " [1, 2, 3, 4, 4],\n",
       " [1, 2, 4, 0, 0],\n",
       " [1, 2, 4, 0, 1],\n",
       " [1, 2, 4, 0, 2],\n",
       " [1, 2, 4, 0, 3],\n",
       " [1, 2, 4, 0, 4],\n",
       " [1, 2, 4, 1, 0],\n",
       " [1, 2, 4, 1, 1],\n",
       " [1, 2, 4, 1, 2],\n",
       " [1, 2, 4, 1, 3],\n",
       " [1, 2, 4, 1, 4],\n",
       " [1, 2, 4, 2, 0],\n",
       " [1, 2, 4, 2, 1],\n",
       " [1, 2, 4, 2, 2],\n",
       " [1, 2, 4, 2, 3],\n",
       " [1, 2, 4, 2, 4],\n",
       " [1, 2, 4, 3, 0],\n",
       " [1, 2, 4, 3, 1],\n",
       " [1, 2, 4, 3, 2],\n",
       " [1, 2, 4, 3, 3],\n",
       " [1, 2, 4, 3, 4],\n",
       " [1, 2, 4, 4, 0],\n",
       " [1, 2, 4, 4, 1],\n",
       " [1, 2, 4, 4, 2],\n",
       " [1, 2, 4, 4, 3],\n",
       " [1, 2, 4, 4, 4],\n",
       " [1, 3, 0, 0, 0],\n",
       " [1, 3, 0, 0, 1],\n",
       " [1, 3, 0, 0, 2],\n",
       " [1, 3, 0, 0, 3],\n",
       " [1, 3, 0, 0, 4],\n",
       " [1, 3, 0, 1, 0],\n",
       " [1, 3, 0, 1, 1],\n",
       " [1, 3, 0, 1, 2],\n",
       " [1, 3, 0, 1, 3],\n",
       " [1, 3, 0, 1, 4],\n",
       " [1, 3, 0, 2, 0],\n",
       " [1, 3, 0, 2, 1],\n",
       " [1, 3, 0, 2, 2],\n",
       " [1, 3, 0, 2, 3],\n",
       " [1, 3, 0, 2, 4],\n",
       " [1, 3, 0, 3, 0],\n",
       " [1, 3, 0, 3, 1],\n",
       " [1, 3, 0, 3, 2],\n",
       " [1, 3, 0, 3, 3],\n",
       " [1, 3, 0, 3, 4],\n",
       " [1, 3, 0, 4, 0],\n",
       " [1, 3, 0, 4, 1],\n",
       " [1, 3, 0, 4, 2],\n",
       " [1, 3, 0, 4, 3],\n",
       " [1, 3, 0, 4, 4],\n",
       " [1, 3, 1, 0, 0],\n",
       " [1, 3, 1, 0, 1],\n",
       " [1, 3, 1, 0, 2],\n",
       " [1, 3, 1, 0, 3],\n",
       " [1, 3, 1, 0, 4],\n",
       " [1, 3, 1, 1, 0],\n",
       " [1, 3, 1, 1, 2],\n",
       " [1, 3, 1, 1, 3],\n",
       " [1, 3, 1, 1, 4],\n",
       " [1, 3, 1, 2, 0],\n",
       " [1, 3, 1, 2, 1],\n",
       " [1, 3, 1, 2, 2],\n",
       " [1, 3, 1, 2, 3],\n",
       " ...]"
      ]
     },
     "execution_count": 20,
     "metadata": {},
     "output_type": "execute_result"
    }
   ],
   "source": [
    "a = [(i,3) for i in range(5)]\n",
    "\n",
    "res = []\n",
    "def recur(res, a, i = 0, k = [], d = {}):\n",
    "    \n",
    "    if i >= len(a):\n",
    "        res.append(k)\n",
    "        return\n",
    "    \n",
    "    for c in a:\n",
    "        if c not in d:\n",
    "            d[c] = 1\n",
    "        else:\n",
    "            d[c] += 1\n",
    "            \n",
    "        if d[c] <= c[1]:\n",
    "            recur(res, a, i+1, k+[c[0]], d)\n",
    "        \n",
    "        d[c]-=1\n",
    "            \n",
    "            \n",
    "print(a)\n",
    "recur(res,a)\n",
    "print(len(res))\n",
    "res\n",
    "\n",
    "\n"
   ]
  },
  {
   "cell_type": "code",
   "execution_count": 18,
   "metadata": {},
   "outputs": [
    {
     "name": "stdout",
     "output_type": "stream",
     "text": [
      "[0, 1, 2, 3, 4]\n",
      "625\n"
     ]
    },
    {
     "data": {
      "text/plain": [
       "[[0, 0, 0, 0],\n",
       " [0, 0, 0, 1],\n",
       " [0, 0, 0, 2],\n",
       " [0, 0, 0, 3],\n",
       " [0, 0, 0, 4],\n",
       " [0, 0, 1, 0],\n",
       " [0, 0, 1, 1],\n",
       " [0, 0, 1, 2],\n",
       " [0, 0, 1, 3],\n",
       " [0, 0, 1, 4],\n",
       " [0, 0, 2, 0],\n",
       " [0, 0, 2, 1],\n",
       " [0, 0, 2, 2],\n",
       " [0, 0, 2, 3],\n",
       " [0, 0, 2, 4],\n",
       " [0, 0, 3, 0],\n",
       " [0, 0, 3, 1],\n",
       " [0, 0, 3, 2],\n",
       " [0, 0, 3, 3],\n",
       " [0, 0, 3, 4],\n",
       " [0, 0, 4, 0],\n",
       " [0, 0, 4, 1],\n",
       " [0, 0, 4, 2],\n",
       " [0, 0, 4, 3],\n",
       " [0, 0, 4, 4],\n",
       " [0, 1, 0, 0],\n",
       " [0, 1, 0, 1],\n",
       " [0, 1, 0, 2],\n",
       " [0, 1, 0, 3],\n",
       " [0, 1, 0, 4],\n",
       " [0, 1, 1, 0],\n",
       " [0, 1, 1, 1],\n",
       " [0, 1, 1, 2],\n",
       " [0, 1, 1, 3],\n",
       " [0, 1, 1, 4],\n",
       " [0, 1, 2, 0],\n",
       " [0, 1, 2, 1],\n",
       " [0, 1, 2, 2],\n",
       " [0, 1, 2, 3],\n",
       " [0, 1, 2, 4],\n",
       " [0, 1, 3, 0],\n",
       " [0, 1, 3, 1],\n",
       " [0, 1, 3, 2],\n",
       " [0, 1, 3, 3],\n",
       " [0, 1, 3, 4],\n",
       " [0, 1, 4, 0],\n",
       " [0, 1, 4, 1],\n",
       " [0, 1, 4, 2],\n",
       " [0, 1, 4, 3],\n",
       " [0, 1, 4, 4],\n",
       " [0, 2, 0, 0],\n",
       " [0, 2, 0, 1],\n",
       " [0, 2, 0, 2],\n",
       " [0, 2, 0, 3],\n",
       " [0, 2, 0, 4],\n",
       " [0, 2, 1, 0],\n",
       " [0, 2, 1, 1],\n",
       " [0, 2, 1, 2],\n",
       " [0, 2, 1, 3],\n",
       " [0, 2, 1, 4],\n",
       " [0, 2, 2, 0],\n",
       " [0, 2, 2, 1],\n",
       " [0, 2, 2, 2],\n",
       " [0, 2, 2, 3],\n",
       " [0, 2, 2, 4],\n",
       " [0, 2, 3, 0],\n",
       " [0, 2, 3, 1],\n",
       " [0, 2, 3, 2],\n",
       " [0, 2, 3, 3],\n",
       " [0, 2, 3, 4],\n",
       " [0, 2, 4, 0],\n",
       " [0, 2, 4, 1],\n",
       " [0, 2, 4, 2],\n",
       " [0, 2, 4, 3],\n",
       " [0, 2, 4, 4],\n",
       " [0, 3, 0, 0],\n",
       " [0, 3, 0, 1],\n",
       " [0, 3, 0, 2],\n",
       " [0, 3, 0, 3],\n",
       " [0, 3, 0, 4],\n",
       " [0, 3, 1, 0],\n",
       " [0, 3, 1, 1],\n",
       " [0, 3, 1, 2],\n",
       " [0, 3, 1, 3],\n",
       " [0, 3, 1, 4],\n",
       " [0, 3, 2, 0],\n",
       " [0, 3, 2, 1],\n",
       " [0, 3, 2, 2],\n",
       " [0, 3, 2, 3],\n",
       " [0, 3, 2, 4],\n",
       " [0, 3, 3, 0],\n",
       " [0, 3, 3, 1],\n",
       " [0, 3, 3, 2],\n",
       " [0, 3, 3, 3],\n",
       " [0, 3, 3, 4],\n",
       " [0, 3, 4, 0],\n",
       " [0, 3, 4, 1],\n",
       " [0, 3, 4, 2],\n",
       " [0, 3, 4, 3],\n",
       " [0, 3, 4, 4],\n",
       " [0, 4, 0, 0],\n",
       " [0, 4, 0, 1],\n",
       " [0, 4, 0, 2],\n",
       " [0, 4, 0, 3],\n",
       " [0, 4, 0, 4],\n",
       " [0, 4, 1, 0],\n",
       " [0, 4, 1, 1],\n",
       " [0, 4, 1, 2],\n",
       " [0, 4, 1, 3],\n",
       " [0, 4, 1, 4],\n",
       " [0, 4, 2, 0],\n",
       " [0, 4, 2, 1],\n",
       " [0, 4, 2, 2],\n",
       " [0, 4, 2, 3],\n",
       " [0, 4, 2, 4],\n",
       " [0, 4, 3, 0],\n",
       " [0, 4, 3, 1],\n",
       " [0, 4, 3, 2],\n",
       " [0, 4, 3, 3],\n",
       " [0, 4, 3, 4],\n",
       " [0, 4, 4, 0],\n",
       " [0, 4, 4, 1],\n",
       " [0, 4, 4, 2],\n",
       " [0, 4, 4, 3],\n",
       " [0, 4, 4, 4],\n",
       " [1, 0, 0, 0],\n",
       " [1, 0, 0, 1],\n",
       " [1, 0, 0, 2],\n",
       " [1, 0, 0, 3],\n",
       " [1, 0, 0, 4],\n",
       " [1, 0, 1, 0],\n",
       " [1, 0, 1, 1],\n",
       " [1, 0, 1, 2],\n",
       " [1, 0, 1, 3],\n",
       " [1, 0, 1, 4],\n",
       " [1, 0, 2, 0],\n",
       " [1, 0, 2, 1],\n",
       " [1, 0, 2, 2],\n",
       " [1, 0, 2, 3],\n",
       " [1, 0, 2, 4],\n",
       " [1, 0, 3, 0],\n",
       " [1, 0, 3, 1],\n",
       " [1, 0, 3, 2],\n",
       " [1, 0, 3, 3],\n",
       " [1, 0, 3, 4],\n",
       " [1, 0, 4, 0],\n",
       " [1, 0, 4, 1],\n",
       " [1, 0, 4, 2],\n",
       " [1, 0, 4, 3],\n",
       " [1, 0, 4, 4],\n",
       " [1, 1, 0, 0],\n",
       " [1, 1, 0, 1],\n",
       " [1, 1, 0, 2],\n",
       " [1, 1, 0, 3],\n",
       " [1, 1, 0, 4],\n",
       " [1, 1, 1, 0],\n",
       " [1, 1, 1, 1],\n",
       " [1, 1, 1, 2],\n",
       " [1, 1, 1, 3],\n",
       " [1, 1, 1, 4],\n",
       " [1, 1, 2, 0],\n",
       " [1, 1, 2, 1],\n",
       " [1, 1, 2, 2],\n",
       " [1, 1, 2, 3],\n",
       " [1, 1, 2, 4],\n",
       " [1, 1, 3, 0],\n",
       " [1, 1, 3, 1],\n",
       " [1, 1, 3, 2],\n",
       " [1, 1, 3, 3],\n",
       " [1, 1, 3, 4],\n",
       " [1, 1, 4, 0],\n",
       " [1, 1, 4, 1],\n",
       " [1, 1, 4, 2],\n",
       " [1, 1, 4, 3],\n",
       " [1, 1, 4, 4],\n",
       " [1, 2, 0, 0],\n",
       " [1, 2, 0, 1],\n",
       " [1, 2, 0, 2],\n",
       " [1, 2, 0, 3],\n",
       " [1, 2, 0, 4],\n",
       " [1, 2, 1, 0],\n",
       " [1, 2, 1, 1],\n",
       " [1, 2, 1, 2],\n",
       " [1, 2, 1, 3],\n",
       " [1, 2, 1, 4],\n",
       " [1, 2, 2, 0],\n",
       " [1, 2, 2, 1],\n",
       " [1, 2, 2, 2],\n",
       " [1, 2, 2, 3],\n",
       " [1, 2, 2, 4],\n",
       " [1, 2, 3, 0],\n",
       " [1, 2, 3, 1],\n",
       " [1, 2, 3, 2],\n",
       " [1, 2, 3, 3],\n",
       " [1, 2, 3, 4],\n",
       " [1, 2, 4, 0],\n",
       " [1, 2, 4, 1],\n",
       " [1, 2, 4, 2],\n",
       " [1, 2, 4, 3],\n",
       " [1, 2, 4, 4],\n",
       " [1, 3, 0, 0],\n",
       " [1, 3, 0, 1],\n",
       " [1, 3, 0, 2],\n",
       " [1, 3, 0, 3],\n",
       " [1, 3, 0, 4],\n",
       " [1, 3, 1, 0],\n",
       " [1, 3, 1, 1],\n",
       " [1, 3, 1, 2],\n",
       " [1, 3, 1, 3],\n",
       " [1, 3, 1, 4],\n",
       " [1, 3, 2, 0],\n",
       " [1, 3, 2, 1],\n",
       " [1, 3, 2, 2],\n",
       " [1, 3, 2, 3],\n",
       " [1, 3, 2, 4],\n",
       " [1, 3, 3, 0],\n",
       " [1, 3, 3, 1],\n",
       " [1, 3, 3, 2],\n",
       " [1, 3, 3, 3],\n",
       " [1, 3, 3, 4],\n",
       " [1, 3, 4, 0],\n",
       " [1, 3, 4, 1],\n",
       " [1, 3, 4, 2],\n",
       " [1, 3, 4, 3],\n",
       " [1, 3, 4, 4],\n",
       " [1, 4, 0, 0],\n",
       " [1, 4, 0, 1],\n",
       " [1, 4, 0, 2],\n",
       " [1, 4, 0, 3],\n",
       " [1, 4, 0, 4],\n",
       " [1, 4, 1, 0],\n",
       " [1, 4, 1, 1],\n",
       " [1, 4, 1, 2],\n",
       " [1, 4, 1, 3],\n",
       " [1, 4, 1, 4],\n",
       " [1, 4, 2, 0],\n",
       " [1, 4, 2, 1],\n",
       " [1, 4, 2, 2],\n",
       " [1, 4, 2, 3],\n",
       " [1, 4, 2, 4],\n",
       " [1, 4, 3, 0],\n",
       " [1, 4, 3, 1],\n",
       " [1, 4, 3, 2],\n",
       " [1, 4, 3, 3],\n",
       " [1, 4, 3, 4],\n",
       " [1, 4, 4, 0],\n",
       " [1, 4, 4, 1],\n",
       " [1, 4, 4, 2],\n",
       " [1, 4, 4, 3],\n",
       " [1, 4, 4, 4],\n",
       " [2, 0, 0, 0],\n",
       " [2, 0, 0, 1],\n",
       " [2, 0, 0, 2],\n",
       " [2, 0, 0, 3],\n",
       " [2, 0, 0, 4],\n",
       " [2, 0, 1, 0],\n",
       " [2, 0, 1, 1],\n",
       " [2, 0, 1, 2],\n",
       " [2, 0, 1, 3],\n",
       " [2, 0, 1, 4],\n",
       " [2, 0, 2, 0],\n",
       " [2, 0, 2, 1],\n",
       " [2, 0, 2, 2],\n",
       " [2, 0, 2, 3],\n",
       " [2, 0, 2, 4],\n",
       " [2, 0, 3, 0],\n",
       " [2, 0, 3, 1],\n",
       " [2, 0, 3, 2],\n",
       " [2, 0, 3, 3],\n",
       " [2, 0, 3, 4],\n",
       " [2, 0, 4, 0],\n",
       " [2, 0, 4, 1],\n",
       " [2, 0, 4, 2],\n",
       " [2, 0, 4, 3],\n",
       " [2, 0, 4, 4],\n",
       " [2, 1, 0, 0],\n",
       " [2, 1, 0, 1],\n",
       " [2, 1, 0, 2],\n",
       " [2, 1, 0, 3],\n",
       " [2, 1, 0, 4],\n",
       " [2, 1, 1, 0],\n",
       " [2, 1, 1, 1],\n",
       " [2, 1, 1, 2],\n",
       " [2, 1, 1, 3],\n",
       " [2, 1, 1, 4],\n",
       " [2, 1, 2, 0],\n",
       " [2, 1, 2, 1],\n",
       " [2, 1, 2, 2],\n",
       " [2, 1, 2, 3],\n",
       " [2, 1, 2, 4],\n",
       " [2, 1, 3, 0],\n",
       " [2, 1, 3, 1],\n",
       " [2, 1, 3, 2],\n",
       " [2, 1, 3, 3],\n",
       " [2, 1, 3, 4],\n",
       " [2, 1, 4, 0],\n",
       " [2, 1, 4, 1],\n",
       " [2, 1, 4, 2],\n",
       " [2, 1, 4, 3],\n",
       " [2, 1, 4, 4],\n",
       " [2, 2, 0, 0],\n",
       " [2, 2, 0, 1],\n",
       " [2, 2, 0, 2],\n",
       " [2, 2, 0, 3],\n",
       " [2, 2, 0, 4],\n",
       " [2, 2, 1, 0],\n",
       " [2, 2, 1, 1],\n",
       " [2, 2, 1, 2],\n",
       " [2, 2, 1, 3],\n",
       " [2, 2, 1, 4],\n",
       " [2, 2, 2, 0],\n",
       " [2, 2, 2, 1],\n",
       " [2, 2, 2, 2],\n",
       " [2, 2, 2, 3],\n",
       " [2, 2, 2, 4],\n",
       " [2, 2, 3, 0],\n",
       " [2, 2, 3, 1],\n",
       " [2, 2, 3, 2],\n",
       " [2, 2, 3, 3],\n",
       " [2, 2, 3, 4],\n",
       " [2, 2, 4, 0],\n",
       " [2, 2, 4, 1],\n",
       " [2, 2, 4, 2],\n",
       " [2, 2, 4, 3],\n",
       " [2, 2, 4, 4],\n",
       " [2, 3, 0, 0],\n",
       " [2, 3, 0, 1],\n",
       " [2, 3, 0, 2],\n",
       " [2, 3, 0, 3],\n",
       " [2, 3, 0, 4],\n",
       " [2, 3, 1, 0],\n",
       " [2, 3, 1, 1],\n",
       " [2, 3, 1, 2],\n",
       " [2, 3, 1, 3],\n",
       " [2, 3, 1, 4],\n",
       " [2, 3, 2, 0],\n",
       " [2, 3, 2, 1],\n",
       " [2, 3, 2, 2],\n",
       " [2, 3, 2, 3],\n",
       " [2, 3, 2, 4],\n",
       " [2, 3, 3, 0],\n",
       " [2, 3, 3, 1],\n",
       " [2, 3, 3, 2],\n",
       " [2, 3, 3, 3],\n",
       " [2, 3, 3, 4],\n",
       " [2, 3, 4, 0],\n",
       " [2, 3, 4, 1],\n",
       " [2, 3, 4, 2],\n",
       " [2, 3, 4, 3],\n",
       " [2, 3, 4, 4],\n",
       " [2, 4, 0, 0],\n",
       " [2, 4, 0, 1],\n",
       " [2, 4, 0, 2],\n",
       " [2, 4, 0, 3],\n",
       " [2, 4, 0, 4],\n",
       " [2, 4, 1, 0],\n",
       " [2, 4, 1, 1],\n",
       " [2, 4, 1, 2],\n",
       " [2, 4, 1, 3],\n",
       " [2, 4, 1, 4],\n",
       " [2, 4, 2, 0],\n",
       " [2, 4, 2, 1],\n",
       " [2, 4, 2, 2],\n",
       " [2, 4, 2, 3],\n",
       " [2, 4, 2, 4],\n",
       " [2, 4, 3, 0],\n",
       " [2, 4, 3, 1],\n",
       " [2, 4, 3, 2],\n",
       " [2, 4, 3, 3],\n",
       " [2, 4, 3, 4],\n",
       " [2, 4, 4, 0],\n",
       " [2, 4, 4, 1],\n",
       " [2, 4, 4, 2],\n",
       " [2, 4, 4, 3],\n",
       " [2, 4, 4, 4],\n",
       " [3, 0, 0, 0],\n",
       " [3, 0, 0, 1],\n",
       " [3, 0, 0, 2],\n",
       " [3, 0, 0, 3],\n",
       " [3, 0, 0, 4],\n",
       " [3, 0, 1, 0],\n",
       " [3, 0, 1, 1],\n",
       " [3, 0, 1, 2],\n",
       " [3, 0, 1, 3],\n",
       " [3, 0, 1, 4],\n",
       " [3, 0, 2, 0],\n",
       " [3, 0, 2, 1],\n",
       " [3, 0, 2, 2],\n",
       " [3, 0, 2, 3],\n",
       " [3, 0, 2, 4],\n",
       " [3, 0, 3, 0],\n",
       " [3, 0, 3, 1],\n",
       " [3, 0, 3, 2],\n",
       " [3, 0, 3, 3],\n",
       " [3, 0, 3, 4],\n",
       " [3, 0, 4, 0],\n",
       " [3, 0, 4, 1],\n",
       " [3, 0, 4, 2],\n",
       " [3, 0, 4, 3],\n",
       " [3, 0, 4, 4],\n",
       " [3, 1, 0, 0],\n",
       " [3, 1, 0, 1],\n",
       " [3, 1, 0, 2],\n",
       " [3, 1, 0, 3],\n",
       " [3, 1, 0, 4],\n",
       " [3, 1, 1, 0],\n",
       " [3, 1, 1, 1],\n",
       " [3, 1, 1, 2],\n",
       " [3, 1, 1, 3],\n",
       " [3, 1, 1, 4],\n",
       " [3, 1, 2, 0],\n",
       " [3, 1, 2, 1],\n",
       " [3, 1, 2, 2],\n",
       " [3, 1, 2, 3],\n",
       " [3, 1, 2, 4],\n",
       " [3, 1, 3, 0],\n",
       " [3, 1, 3, 1],\n",
       " [3, 1, 3, 2],\n",
       " [3, 1, 3, 3],\n",
       " [3, 1, 3, 4],\n",
       " [3, 1, 4, 0],\n",
       " [3, 1, 4, 1],\n",
       " [3, 1, 4, 2],\n",
       " [3, 1, 4, 3],\n",
       " [3, 1, 4, 4],\n",
       " [3, 2, 0, 0],\n",
       " [3, 2, 0, 1],\n",
       " [3, 2, 0, 2],\n",
       " [3, 2, 0, 3],\n",
       " [3, 2, 0, 4],\n",
       " [3, 2, 1, 0],\n",
       " [3, 2, 1, 1],\n",
       " [3, 2, 1, 2],\n",
       " [3, 2, 1, 3],\n",
       " [3, 2, 1, 4],\n",
       " [3, 2, 2, 0],\n",
       " [3, 2, 2, 1],\n",
       " [3, 2, 2, 2],\n",
       " [3, 2, 2, 3],\n",
       " [3, 2, 2, 4],\n",
       " [3, 2, 3, 0],\n",
       " [3, 2, 3, 1],\n",
       " [3, 2, 3, 2],\n",
       " [3, 2, 3, 3],\n",
       " [3, 2, 3, 4],\n",
       " [3, 2, 4, 0],\n",
       " [3, 2, 4, 1],\n",
       " [3, 2, 4, 2],\n",
       " [3, 2, 4, 3],\n",
       " [3, 2, 4, 4],\n",
       " [3, 3, 0, 0],\n",
       " [3, 3, 0, 1],\n",
       " [3, 3, 0, 2],\n",
       " [3, 3, 0, 3],\n",
       " [3, 3, 0, 4],\n",
       " [3, 3, 1, 0],\n",
       " [3, 3, 1, 1],\n",
       " [3, 3, 1, 2],\n",
       " [3, 3, 1, 3],\n",
       " [3, 3, 1, 4],\n",
       " [3, 3, 2, 0],\n",
       " [3, 3, 2, 1],\n",
       " [3, 3, 2, 2],\n",
       " [3, 3, 2, 3],\n",
       " [3, 3, 2, 4],\n",
       " [3, 3, 3, 0],\n",
       " [3, 3, 3, 1],\n",
       " [3, 3, 3, 2],\n",
       " [3, 3, 3, 3],\n",
       " [3, 3, 3, 4],\n",
       " [3, 3, 4, 0],\n",
       " [3, 3, 4, 1],\n",
       " [3, 3, 4, 2],\n",
       " [3, 3, 4, 3],\n",
       " [3, 3, 4, 4],\n",
       " [3, 4, 0, 0],\n",
       " [3, 4, 0, 1],\n",
       " [3, 4, 0, 2],\n",
       " [3, 4, 0, 3],\n",
       " [3, 4, 0, 4],\n",
       " [3, 4, 1, 0],\n",
       " [3, 4, 1, 1],\n",
       " [3, 4, 1, 2],\n",
       " [3, 4, 1, 3],\n",
       " [3, 4, 1, 4],\n",
       " [3, 4, 2, 0],\n",
       " [3, 4, 2, 1],\n",
       " [3, 4, 2, 2],\n",
       " [3, 4, 2, 3],\n",
       " [3, 4, 2, 4],\n",
       " [3, 4, 3, 0],\n",
       " [3, 4, 3, 1],\n",
       " [3, 4, 3, 2],\n",
       " [3, 4, 3, 3],\n",
       " [3, 4, 3, 4],\n",
       " [3, 4, 4, 0],\n",
       " [3, 4, 4, 1],\n",
       " [3, 4, 4, 2],\n",
       " [3, 4, 4, 3],\n",
       " [3, 4, 4, 4],\n",
       " [4, 0, 0, 0],\n",
       " [4, 0, 0, 1],\n",
       " [4, 0, 0, 2],\n",
       " [4, 0, 0, 3],\n",
       " [4, 0, 0, 4],\n",
       " [4, 0, 1, 0],\n",
       " [4, 0, 1, 1],\n",
       " [4, 0, 1, 2],\n",
       " [4, 0, 1, 3],\n",
       " [4, 0, 1, 4],\n",
       " [4, 0, 2, 0],\n",
       " [4, 0, 2, 1],\n",
       " [4, 0, 2, 2],\n",
       " [4, 0, 2, 3],\n",
       " [4, 0, 2, 4],\n",
       " [4, 0, 3, 0],\n",
       " [4, 0, 3, 1],\n",
       " [4, 0, 3, 2],\n",
       " [4, 0, 3, 3],\n",
       " [4, 0, 3, 4],\n",
       " [4, 0, 4, 0],\n",
       " [4, 0, 4, 1],\n",
       " [4, 0, 4, 2],\n",
       " [4, 0, 4, 3],\n",
       " [4, 0, 4, 4],\n",
       " [4, 1, 0, 0],\n",
       " [4, 1, 0, 1],\n",
       " [4, 1, 0, 2],\n",
       " [4, 1, 0, 3],\n",
       " [4, 1, 0, 4],\n",
       " [4, 1, 1, 0],\n",
       " [4, 1, 1, 1],\n",
       " [4, 1, 1, 2],\n",
       " [4, 1, 1, 3],\n",
       " [4, 1, 1, 4],\n",
       " [4, 1, 2, 0],\n",
       " [4, 1, 2, 1],\n",
       " [4, 1, 2, 2],\n",
       " [4, 1, 2, 3],\n",
       " [4, 1, 2, 4],\n",
       " [4, 1, 3, 0],\n",
       " [4, 1, 3, 1],\n",
       " [4, 1, 3, 2],\n",
       " [4, 1, 3, 3],\n",
       " [4, 1, 3, 4],\n",
       " [4, 1, 4, 0],\n",
       " [4, 1, 4, 1],\n",
       " [4, 1, 4, 2],\n",
       " [4, 1, 4, 3],\n",
       " [4, 1, 4, 4],\n",
       " [4, 2, 0, 0],\n",
       " [4, 2, 0, 1],\n",
       " [4, 2, 0, 2],\n",
       " [4, 2, 0, 3],\n",
       " [4, 2, 0, 4],\n",
       " [4, 2, 1, 0],\n",
       " [4, 2, 1, 1],\n",
       " [4, 2, 1, 2],\n",
       " [4, 2, 1, 3],\n",
       " [4, 2, 1, 4],\n",
       " [4, 2, 2, 0],\n",
       " [4, 2, 2, 1],\n",
       " [4, 2, 2, 2],\n",
       " [4, 2, 2, 3],\n",
       " [4, 2, 2, 4],\n",
       " [4, 2, 3, 0],\n",
       " [4, 2, 3, 1],\n",
       " [4, 2, 3, 2],\n",
       " [4, 2, 3, 3],\n",
       " [4, 2, 3, 4],\n",
       " [4, 2, 4, 0],\n",
       " [4, 2, 4, 1],\n",
       " [4, 2, 4, 2],\n",
       " [4, 2, 4, 3],\n",
       " [4, 2, 4, 4],\n",
       " [4, 3, 0, 0],\n",
       " [4, 3, 0, 1],\n",
       " [4, 3, 0, 2],\n",
       " [4, 3, 0, 3],\n",
       " [4, 3, 0, 4],\n",
       " [4, 3, 1, 0],\n",
       " [4, 3, 1, 1],\n",
       " [4, 3, 1, 2],\n",
       " [4, 3, 1, 3],\n",
       " [4, 3, 1, 4],\n",
       " [4, 3, 2, 0],\n",
       " [4, 3, 2, 1],\n",
       " [4, 3, 2, 2],\n",
       " [4, 3, 2, 3],\n",
       " [4, 3, 2, 4],\n",
       " [4, 3, 3, 0],\n",
       " [4, 3, 3, 1],\n",
       " [4, 3, 3, 2],\n",
       " [4, 3, 3, 3],\n",
       " [4, 3, 3, 4],\n",
       " [4, 3, 4, 0],\n",
       " [4, 3, 4, 1],\n",
       " [4, 3, 4, 2],\n",
       " [4, 3, 4, 3],\n",
       " [4, 3, 4, 4],\n",
       " [4, 4, 0, 0],\n",
       " [4, 4, 0, 1],\n",
       " [4, 4, 0, 2],\n",
       " [4, 4, 0, 3],\n",
       " [4, 4, 0, 4],\n",
       " [4, 4, 1, 0],\n",
       " [4, 4, 1, 1],\n",
       " [4, 4, 1, 2],\n",
       " [4, 4, 1, 3],\n",
       " [4, 4, 1, 4],\n",
       " [4, 4, 2, 0],\n",
       " [4, 4, 2, 1],\n",
       " [4, 4, 2, 2],\n",
       " [4, 4, 2, 3],\n",
       " [4, 4, 2, 4],\n",
       " [4, 4, 3, 0],\n",
       " [4, 4, 3, 1],\n",
       " [4, 4, 3, 2],\n",
       " [4, 4, 3, 3],\n",
       " [4, 4, 3, 4],\n",
       " [4, 4, 4, 0],\n",
       " [4, 4, 4, 1],\n",
       " [4, 4, 4, 2],\n",
       " [4, 4, 4, 3],\n",
       " [4, 4, 4, 4]]"
      ]
     },
     "execution_count": 18,
     "metadata": {},
     "output_type": "execute_result"
    }
   ],
   "source": [
    "a = [i for i in range(5)]\n",
    "\n",
    "res = []\n",
    "def recur(res, a, i = 0, k = []):\n",
    "    \n",
    "    for c in a:\n",
    "        if i < len(a)-1:\n",
    "            recur(res, a, i+1, k+[c])\n",
    "        else: \n",
    "            if k not in res:\n",
    "                res.append(k)\n",
    "            \n",
    "            \n",
    "print(a)\n",
    "recur(res,a)\n",
    "print(len(res))\n",
    "res\n",
    "\n",
    "\n"
   ]
  },
  {
   "cell_type": "code",
   "execution_count": 67,
   "metadata": {},
   "outputs": [
    {
     "name": "stdout",
     "output_type": "stream",
     "text": [
      "[0] [5, 3, 7, 4, 2, 9, 6, 8]\n",
      "[0] [5, 3, 7, 4, 9, 6, 8]\n",
      "[0, 5, 3, 4] [7, 9, 8]\n",
      "[0] [7, 9, 8, 5, 4]\n",
      "[0, 4] [7, 9, 8]\n",
      "[0] [7, 9, 8]\n",
      "[0, 7, 8] []\n",
      "[0] [8]\n",
      "[0] []\n",
      "[] []\n"
     ]
    },
    {
     "data": {
      "text/plain": [
       "[[1, 1],\n",
       " [2, 2],\n",
       " [6, 6],\n",
       " [3, 3],\n",
       " [5, 5],\n",
       " [4, 4],\n",
       " [9, 9],\n",
       " [7, 7],\n",
       " [8, 8],\n",
       " [0, 0]]"
      ]
     },
     "execution_count": 67,
     "metadata": {},
     "output_type": "execute_result"
    }
   ],
   "source": [
    "a = [1,2,6,3,5,4,9,7,8,0]\n",
    "b = [5,3,7,4,1,0,2,9,6,8]\n",
    "\n",
    "l = []\n",
    "g = []\n",
    "prev_b = -1\n",
    "\n",
    "k = []\n",
    "\n",
    "for c in a:\n",
    "    if prev_b is not -1:\n",
    "        if c < prev_b:\n",
    "            for i in l:\n",
    "                if i == c:\n",
    "                    prev_b = i \n",
    "            g1 = [i for i in l if i > c]\n",
    "            l = [i for i in l if i < c]\n",
    "            g += g1\n",
    "        elif c > prev_b:\n",
    "            for i in g:\n",
    "                if i == c:\n",
    "                    prev_b = i \n",
    "            l1 = [i for i in g if i < c]\n",
    "            g = [i for i in g if i > c]\n",
    "            l += l1\n",
    "    else:\n",
    "        for i in b:\n",
    "            if i == c:\n",
    "                prev_b = i\n",
    "        l = [i for i in b if i < c]\n",
    "        g = [i for i in b if i > c]\n",
    "    print(l, g)\n",
    "        \n",
    "    k.append([prev_b, c])\n",
    "    \n",
    "k"
   ]
  },
  {
   "cell_type": "code",
   "execution_count": 94,
   "metadata": {},
   "outputs": [
    {
     "name": "stdout",
     "output_type": "stream",
     "text": [
      "[0, 8, 1, 3, 2, 4, 5, 7, 9, 6]\n"
     ]
    }
   ],
   "source": [
    "a = [1,2,6,3,5,4,9,7,8,0]\n",
    "b = [5,3,7,4,1,0,2,9,6,8]\n",
    "#k = []\n",
    "pivot_i = 0\n",
    "def quick(a, b,left,right,i=0):\n",
    "    if left <= right and i < len(a)-1:\n",
    "        pivot = a[i]#b[right]\n",
    "        #b[left], b[right] = b[right], b[left]\n",
    "        p_index = partition(pivot, b, left, right)\n",
    "        \n",
    "        if a[i+1] < b[p_index]:\n",
    "            quick(a, b, left, p_index-1,i+1)\n",
    "        elif a[i+1] > b[p_index]:\n",
    "            quick(a, b, p_index+1, right,i+1)\n",
    "        \n",
    "            \n",
    "    \n",
    "def partition(pivot, b, left, right):\n",
    "    i = left\n",
    "    j = right\n",
    "    while i < j:\n",
    "        while i <= j and b[i] < pivot:\n",
    "            i += 1\n",
    "\n",
    "        while j >= i and b[j] > pivot:\n",
    "            j -= 1\n",
    "            \n",
    "        if i < j and b[i] :\n",
    "            b[i], b[j] = b[j], b[i]\n",
    "        \n",
    "    #b[i], b[right] = b[right], b[i]\n",
    "    \n",
    "    return i\n",
    "    \n",
    "\n",
    "quick(b, 0, len(b)-1)\n",
    "print(b)"
   ]
  },
  {
   "cell_type": "code",
   "execution_count": 12,
   "metadata": {},
   "outputs": [
    {
     "name": "stdout",
     "output_type": "stream",
     "text": [
      "a\n"
     ]
    }
   ],
   "source": [
    "print(\"a\")"
   ]
  },
  {
   "cell_type": "code",
   "execution_count": 1,
   "metadata": {},
   "outputs": [
    {
     "name": "stdout",
     "output_type": "stream",
     "text": [
      "[0, 1, 2, 3, 4, 5, 6, 7, 8, 9]\n"
     ]
    },
    {
     "data": {
      "text/plain": [
       "[[1, [1]],\n",
       " [2, [2]],\n",
       " [6, [6]],\n",
       " [3, [3]],\n",
       " [5, [5]],\n",
       " [3, []],\n",
       " [5, []],\n",
       " [4, []],\n",
       " [9, [9]],\n",
       " [7, [7]]]"
      ]
     },
     "execution_count": 1,
     "metadata": {},
     "output_type": "execute_result"
    }
   ],
   "source": [
    "a = [1,2,6,3,5,4,9,7,8,0]\n",
    "b = [5,3,7,4,1,0,2,9,6,8]\n",
    "i = 0\n",
    "k = []\n",
    "def quicksort(arr, i):\n",
    "    if len(arr) <= 1:\n",
    "        return arr\n",
    "    pivot = a[i]\n",
    "    i += 1\n",
    "    left = [x for x in arr if x < pivot]\n",
    "    middle = [x for x in arr if x == pivot]\n",
    "    k.append([pivot, middle])\n",
    "    right = [x for x in arr if x > pivot]\n",
    "    return quicksort(left, i) + middle + quicksort(right, i)\n",
    "\n",
    "print(quicksort(b, i))\n",
    "k"
   ]
  },
  {
   "cell_type": "code",
   "execution_count": 36,
   "metadata": {},
   "outputs": [
    {
     "name": "stdout",
     "output_type": "stream",
     "text": [
      "sorted\n",
      "sorted\n",
      "sorted\n",
      "sorted\n",
      "sorted\n",
      "sorted\n",
      "sorted\n",
      "sorted\n",
      "sorted\n",
      "sorted\n"
     ]
    }
   ],
   "source": [
    "import random\n",
    "\n",
    "def quickSort(alist):\n",
    "    quickSortHelper(alist,0,len(alist)-1)\n",
    "\n",
    "def quickSortHelper(alist,l,r):\n",
    "    if l<r:\n",
    "        \n",
    "        pivotvalue = alist[l]\n",
    "        splitpoint = partition(alist,l,r, pivotvalue)\n",
    "        quickSortHelper(alist,l,splitpoint-1)\n",
    "        quickSortHelper(alist,splitpoint+1,r)\n",
    "\n",
    "\n",
    "def partition(alist,l,r,pivotvalue):\n",
    "\n",
    "    i = l\n",
    "    j = r\n",
    "\n",
    "    while i < j:\n",
    "\n",
    "        while i < r and alist[i] <= pivotvalue:\n",
    "            i = i + 1\n",
    "\n",
    "        while j > l and alist[j] >= pivotvalue:\n",
    "            j = j-1\n",
    "\n",
    "        if i < j:\n",
    "            alist[i], alist[j] = alist[j], alist[i]\n",
    "\n",
    "    alist[l], alist[j] = alist[j], alist[l]\n",
    "\n",
    "\n",
    "    return j\n",
    "\n",
    "for k in range(10):\n",
    "    alist = [random.randint(0,10) for i in range(1000)]\n",
    "    #print(alist)\n",
    "    quickSort(alist)\n",
    "    #print(alist)\n",
    "\n",
    "    x = 0\n",
    "    for i in range(len(alist)-1):\n",
    "        if alist[i] > alist[i+1]:\n",
    "            print(\"not sorted\")\n",
    "            x = 1\n",
    "            break\n",
    "\n",
    "    if x == 0:\n",
    "        print(\"sorted\")"
   ]
  },
  {
   "cell_type": "code",
   "execution_count": 37,
   "metadata": {},
   "outputs": [
    {
     "name": "stdout",
     "output_type": "stream",
     "text": [
      "sorted\n",
      "sorted\n",
      "sorted\n",
      "sorted\n",
      "sorted\n",
      "sorted\n",
      "sorted\n",
      "sorted\n",
      "sorted\n",
      "sorted\n"
     ]
    }
   ],
   "source": [
    "import random\n",
    "\n",
    "def quickSort(alist):\n",
    "    quickSortHelper(alist,0,len(alist)-1)\n",
    "\n",
    "def quickSortHelper(alist,l,r):\n",
    "    if l<r:\n",
    "        pivotvalue = alist[r]\n",
    "        splitpoint = partition(alist,l,r, pivotvalue)\n",
    "        quickSortHelper(alist,l,splitpoint-1)\n",
    "        quickSortHelper(alist,splitpoint+1,r)\n",
    "\n",
    "\n",
    "def partition(alist,l,r,pivotvalue):\n",
    "\n",
    "    i = l\n",
    "    j = r\n",
    "\n",
    "    while i < j:\n",
    "\n",
    "        while i < r and alist[i] <= pivotvalue:\n",
    "            i = i + 1\n",
    "\n",
    "        while j > l and alist[j] >= pivotvalue:\n",
    "            j = j-1\n",
    "\n",
    "        if i < j:\n",
    "            alist[i], alist[j] = alist[j], alist[i]\n",
    "\n",
    "    alist[r], alist[i] = alist[i], alist[r]\n",
    "\n",
    "    return i\n",
    "\n",
    "for k in range(10):\n",
    "    alist = [random.randint(0,10) for i in range(1000)]\n",
    "    #print(alist)\n",
    "    quickSort(alist)\n",
    "    #print(alist)\n",
    "\n",
    "    x = 0\n",
    "    for i in range(len(alist)-1):\n",
    "        if alist[i] > alist[i+1]:\n",
    "            print(\"not sorted\")\n",
    "            x = 1\n",
    "            break\n",
    "\n",
    "    if x == 0:\n",
    "        print(\"sorted\")"
   ]
  },
  {
   "cell_type": "code",
   "execution_count": null,
   "metadata": {},
   "outputs": [],
   "source": []
  },
  {
   "cell_type": "code",
   "execution_count": 30,
   "metadata": {},
   "outputs": [
    {
     "name": "stdout",
     "output_type": "stream",
     "text": [
      "[1, 2, 0, 3, 4, 5, 6, 7, 8, 9]\n"
     ]
    }
   ],
   "source": [
    "import random\n",
    "\n",
    "def quickSort(alist):\n",
    "    i = 0\n",
    "    quickSortHelper(alist,0,len(alist)-1, i)\n",
    "\n",
    "def quickSortHelper(alist,first,last, i):\n",
    "    if first<last:\n",
    "        if i < len(blist):\n",
    "            pivotvalue = blist[i]#alist[last]\n",
    "            i += 1\n",
    "        splitpoint = partition(alist,first,last, pivotvalue)\n",
    "        \n",
    "        if pivotvalue <= blist[i-1]:\n",
    "            quickSortHelper(alist,first,splitpoint-1, i)\n",
    "        else:\n",
    "            quickSortHelper(alist,splitpoint+1,last, i)\n",
    "\n",
    "\n",
    "def partition(alist,first,last, pivotvalue):\n",
    "\n",
    "    leftmark = first\n",
    "    rightmark = last\n",
    "\n",
    "    while leftmark < rightmark:\n",
    "\n",
    "        while leftmark < rightmark and alist[leftmark] <= pivotvalue:\n",
    "            leftmark = leftmark + 1\n",
    "\n",
    "        while rightmark > leftmark and alist[rightmark] >= pivotvalue:\n",
    "            rightmark = rightmark -1\n",
    "\n",
    "        if leftmark < rightmark:\n",
    "            alist[leftmark], alist[rightmark] = alist[rightmark], alist[leftmark]\n",
    "\n",
    "    alist[last], alist[leftmark] = alist[leftmark], alist[last]\n",
    "\n",
    "\n",
    "    return leftmark\n",
    "\n",
    "i = 0\n",
    "alist = [1,2,6,3,5,4,9,7,8,0]\n",
    "blist = [5,3,7,4,1,0,2,9,6,8]\n",
    "#print(alist)\n",
    "quickSort(alist)\n",
    "print(alist)\n"
   ]
  },
  {
   "cell_type": "code",
   "execution_count": 40,
   "metadata": {},
   "outputs": [
    {
     "name": "stdout",
     "output_type": "stream",
     "text": [
      "[[0, 1, 2, 3, 4, 5, 6, 7, 8, 9], [1, 2, 3, 4, 5, 6, 7, 8, 9, 10], [2, 3, 4, 5, 6, 7, 8, 9, 10, 11], [3, 4, 5, 6, 7, 8, 9, 10, 11, 12], [4, 5, 6, 7, 8, 9, 10, 11, 12, 13], [5, 6, 7, 8, 9, 10, 11, 12, 13, 14], [6, 7, 8, 9, 10, 11, 12, 13, 14, 15], [7, 8, 9, 10, 11, 12, 13, 14, 15, 16], [8, 9, 10, 11, 12, 13, 14, 15, 16, 17], [9, 10, 11, 12, 13, 14, 15, 16, 17, 18]]\n"
     ]
    },
    {
     "data": {
      "text/plain": [
       "True"
      ]
     },
     "execution_count": 40,
     "metadata": {},
     "output_type": "execute_result"
    }
   ],
   "source": [
    "a = [[i+j for i in range(10)] for j in range(10)]\n",
    "a\n",
    "print(a)\n",
    "def ascend(a):\n",
    "    for j in range(len(a)):\n",
    "        for i in range(1,len(a[0])):\n",
    "            if a[0][i-1] > a[0][i]:\n",
    "                return False\n",
    "    return True\n",
    "        \n",
    "ascend(a)"
   ]
  },
  {
   "cell_type": "code",
   "execution_count": 45,
   "metadata": {},
   "outputs": [
    {
     "data": {
      "text/plain": [
       "True"
      ]
     },
     "execution_count": 45,
     "metadata": {},
     "output_type": "execute_result"
    }
   ],
   "source": [
    "def ascend(a, i=0):\n",
    "    if i == len(a)-1:\n",
    "        return True\n",
    "    \n",
    "    return a[i] <= a[i+1] and ascend(a, i+1)\n",
    "       \n",
    "ascend([0, 1, 2, 3, 4, 5, 6, 7, 8, 9])"
   ]
  },
  {
   "cell_type": "code",
   "execution_count": 60,
   "metadata": {
    "scrolled": true
   },
   "outputs": [
    {
     "name": "stdout",
     "output_type": "stream",
     "text": [
      "[9, 4]\n"
     ]
    },
    {
     "data": {
      "text/plain": [
       "[[0, 1, 2, 3, 4, 5, 6, 7, 8, 9],\n",
       " [1, 2, 3, 4, 5, 6, 7, 8, 9, 10],\n",
       " [2, 3, 4, 5, 6, 7, 8, 9, 10, 11],\n",
       " [3, 4, 5, 6, 7, 8, 9, 10, 11, 12],\n",
       " [4, 5, 6, 7, 8, 9, 10, 11, 12, 13],\n",
       " [5, 6, 7, 8, 9, 10, 11, 12, 13, 14],\n",
       " [6, 7, 8, 9, 10, 11, 12, 13, 14, 15],\n",
       " [7, 8, 9, 10, 11, 12, 13, 14, 15, 16],\n",
       " [8, 9, 10, 11, 12, 13, 14, 15, 16, 17],\n",
       " [15, 16, 17, 18, 19, 20, 21, 22, 23, 24]]"
      ]
     },
     "execution_count": 60,
     "metadata": {},
     "output_type": "execute_result"
    }
   ],
   "source": [
    "\n",
    "def search(a, k):\n",
    "    i = 0\n",
    "    j = len(a[0])-1\n",
    "    while i < len(a) and j >= 0:\n",
    "        if k < a[i][j]:\n",
    "            j -= 1\n",
    "        elif k > a[i][j]:\n",
    "            i += 1\n",
    "        else:\n",
    "            return [i,j]\n",
    "        \n",
    "    return [-1,-1]\n",
    "    \n",
    "a = [[i+j for i in range(10)] for j in range(10)]\n",
    "a[-1] = [i+6 for i in a[-1]]\n",
    "k = 19\n",
    "print(search(a, k))\n",
    "a"
   ]
  },
  {
   "cell_type": "code",
   "execution_count": 41,
   "metadata": {},
   "outputs": [
    {
     "name": "stdout",
     "output_type": "stream",
     "text": [
      "0\n",
      "1\n",
      "2\n",
      "3\n",
      "4\n",
      "5\n",
      "6\n",
      "7\n",
      "8\n",
      "9\n"
     ]
    }
   ],
   "source": [
    "def search(a, x, i = 0, j = 0):\n",
    "    if i >= len(a) or j >= len(a[0]):\n",
    "        x = 1\n",
    "        return\n",
    "    \n",
    "    print(a[i][j])\n",
    "    if x == 0:\n",
    "        search(a, x, i+1, j)\n",
    "    \n",
    "    if x == 1:\n",
    "        search(a, x, i, j+1)\n",
    "\n",
    "x = 0\n",
    "search(a, x)"
   ]
  },
  {
   "cell_type": "code",
   "execution_count": 47,
   "metadata": {},
   "outputs": [
    {
     "name": "stdout",
     "output_type": "stream",
     "text": [
      "[0, 1, 2, 3, 4, 5, 6, 7, 8, 9, 10]\n"
     ]
    }
   ],
   "source": [
    "def mergesort(l):\n",
    "    if len(l) <= 1:\n",
    "        return\n",
    "    \n",
    "    mid = len(l)//2\n",
    "    l1 = l[:mid]\n",
    "    l2 = l[mid:]\n",
    "    mergesort(l1)\n",
    "    mergesort(l2)\n",
    "    merge(l,l1,l2)\n",
    "        \n",
    "def merge(l,l1,l2):\n",
    "    i = 0\n",
    "    j = 0\n",
    "    k = 0\n",
    "    while i < len(l1) and j < len(l2):\n",
    "        if l1[i] < l2[j]:\n",
    "            l[k] = l1[i]\n",
    "            i += 1\n",
    "        else:\n",
    "            l[k] = l2[j]\n",
    "            j += 1\n",
    "        k += 1\n",
    "\n",
    "\n",
    "    while i < len(l1):\n",
    "        l[k] = l1[i]\n",
    "        i += 1\n",
    "        k += 1\n",
    "\n",
    "    while j < len(l2):\n",
    "        l[k] = l2[j]\n",
    "        j += 1\n",
    "        k += 1\n",
    "    \n",
    "    \n",
    "l = [7,3,4,6,1,0,5,2,8,10,9]\n",
    "mergesort(l)\n",
    "print(l)"
   ]
  },
  {
   "cell_type": "code",
   "execution_count": 76,
   "metadata": {},
   "outputs": [
    {
     "data": {
      "text/plain": [
       "[3, 4, 6, 1, 0, 5, 2, 8, 10, 9]"
      ]
     },
     "execution_count": 76,
     "metadata": {},
     "output_type": "execute_result"
    }
   ],
   "source": [
    "l = [7,3,4,6,1,0,5,2,8,10,9]\n",
    "l[1:]"
   ]
  },
  {
   "cell_type": "code",
   "execution_count": 97,
   "metadata": {},
   "outputs": [
    {
     "name": "stdout",
     "output_type": "stream",
     "text": [
      "[0, 1, 2, 3, 4, 5, 6, 7, 8, 9, 10]\n"
     ]
    }
   ],
   "source": [
    "def mergeSort(alist):\n",
    "    #print(\"Splitting \",alist)\n",
    "    if len(alist)<=1:\n",
    "        return\n",
    "    \n",
    "    mid = len(alist)//2\n",
    "    lefthalf = alist[:mid]\n",
    "    righthalf = alist[mid:]\n",
    "\n",
    "    mergeSort(lefthalf)\n",
    "    mergeSort(righthalf)\n",
    "\n",
    "    i=0\n",
    "    j=0\n",
    "    k=0\n",
    "    while i < len(lefthalf) and j < len(righthalf):\n",
    "        if lefthalf[i] < righthalf[j]:\n",
    "            alist[k]=lefthalf[i]\n",
    "            i=i+1\n",
    "        else:\n",
    "            alist[k]=righthalf[j]\n",
    "            j=j+1\n",
    "        k=k+1\n",
    "\n",
    "    while i < len(lefthalf):\n",
    "        alist[k]=lefthalf[i]\n",
    "        i=i+1\n",
    "        k=k+1\n",
    "\n",
    "    while j < len(righthalf):\n",
    "        alist[k]=righthalf[j]\n",
    "        j=j+1\n",
    "        k=k+1\n",
    "    #print(\"Merging \",alist)\n",
    "\n",
    "alist = [7,3,4,6,1,0,5,2,8,10,9]\n",
    "mergeSort(alist)\n",
    "print(alist)"
   ]
  },
  {
   "cell_type": "code",
   "execution_count": 84,
   "metadata": {},
   "outputs": [
    {
     "name": "stdout",
     "output_type": "stream",
     "text": [
      "[7, 3, 4, 6, 1, 0, 5, 2, 8, 10, 9]\n",
      "[0, 1, 2, 3, 4, 5, 6, 7, 8, 9, 10]\n"
     ]
    }
   ],
   "source": [
    "def mergesort(le):\n",
    "    \n",
    "    if len(le) > 1:\n",
    "        mid = len(le)//2\n",
    "        l1 = le[:mid]\n",
    "        l2 = le[mid:]\n",
    "        \n",
    "        mergesort(l1)\n",
    "        mergesort(l2)\n",
    "        \n",
    "        #merge(l,l1,l2)\n",
    "        i = 0\n",
    "        j = 0\n",
    "        k = 0\n",
    "        while i < len(l1) and j < len(l2):\n",
    "            if l1[i] < l2[j]:\n",
    "                le[k] = l1[i]\n",
    "                i= i+1\n",
    "            else:\n",
    "                le[k] = l2[j]\n",
    "                j= j+1\n",
    "            k += 1\n",
    "\n",
    "\n",
    "        while i < len(l1):\n",
    "            le[k] = l1[i]\n",
    "            i = i+1\n",
    "            k = k+1\n",
    "            \n",
    "        while j < len(l2):\n",
    "            le[k] = l2[j]\n",
    "            j= j+1\n",
    "            k= k+1\n",
    "    \n",
    "    \n",
    "l = [7,3,4,6,1,0,5,2,8,10,9]\n",
    "print(l)\n",
    "mergesort(l)\n",
    "print(l)"
   ]
  },
  {
   "cell_type": "code",
   "execution_count": 116,
   "metadata": {},
   "outputs": [],
   "source": [
    "l1 = [1,2,3,5,3,2,1]\n",
    "\n",
    "for i in range(len(l1)//2):\n",
    "    if l1[i] != l1[len(l1)-1-i]:\n",
    "        print(\"no\")\n",
    "        break"
   ]
  },
  {
   "cell_type": "code",
   "execution_count": 29,
   "metadata": {},
   "outputs": [
    {
     "name": "stdout",
     "output_type": "stream",
     "text": [
      "[8, 9, 7, 0, 0, 4, 6, 10, 5, 0]\n",
      "[0, 0, 4, 0, 5, 6, 7, 8, 10, 9]\n",
      "7\n"
     ]
    }
   ],
   "source": [
    "import random\n",
    "from random import shuffle\n",
    "\n",
    "def quickSort(alist, k):\n",
    "    return quickSortHelper(alist,0,len(alist)-1, k)\n",
    "\n",
    "def quickSortHelper(alist,first,last, k):\n",
    "    if k >= len(alist) and k < 0:\n",
    "        return -1\n",
    "    \n",
    "    if first<=last:\n",
    "        pivotvalue = alist[first]\n",
    "        splitpoint = partition(alist,first,last, pivotvalue)\n",
    "\n",
    "        if splitpoint > k-1:\n",
    "            return quickSortHelper(alist,first,splitpoint-1, k)\n",
    "        elif splitpoint < k-1:\n",
    "            return quickSortHelper(alist,splitpoint+1,last, k)\n",
    "        else:\n",
    "            return pivotvalue\n",
    "    else:\n",
    "        return -1\n",
    "\n",
    "\n",
    "def partition(alist,first,last, pivotvalue):\n",
    "\n",
    "    leftmark = first\n",
    "    rightmark = last\n",
    "\n",
    "    done = False\n",
    "    while leftmark < rightmark:\n",
    "\n",
    "        while leftmark <= rightmark and alist[leftmark] <= pivotvalue:\n",
    "            leftmark = leftmark + 1\n",
    "\n",
    "        while rightmark >= leftmark and alist[rightmark] >= pivotvalue:\n",
    "            rightmark = rightmark -1\n",
    "\n",
    "        if leftmark < rightmark:\n",
    "            alist[leftmark], alist[rightmark] = alist[rightmark], alist[leftmark]\n",
    "\n",
    "    alist[first], alist[rightmark] = alist[rightmark], alist[first]\n",
    "\n",
    "\n",
    "    return rightmark\n",
    "\n",
    "\n",
    "a = [random.randint(0,10) for i in range(10)]\n",
    "shuffle(a)\n",
    "print(a)\n",
    "k = 4\n",
    "f = quickSort(a,len(a)+1-k)\n",
    "print(a)\n",
    "print(f)"
   ]
  },
  {
   "cell_type": "code",
   "execution_count": 35,
   "metadata": {},
   "outputs": [
    {
     "name": "stdout",
     "output_type": "stream",
     "text": [
      "[0, 1, 2, 3, 4, 5, 6, 7, 8, 9]\n"
     ]
    },
    {
     "data": {
      "text/plain": [
       "-1"
      ]
     },
     "execution_count": 35,
     "metadata": {},
     "output_type": "execute_result"
    }
   ],
   "source": [
    "#binary search\n",
    "bi = [i for i in range(10)]\n",
    "def binary_search(a, bi, l=0, r=len(bi)-1):\n",
    "    while l <= r:\n",
    "        mid = (l+r)//2\n",
    "        if bi[mid] > a:\n",
    "            r = mid-1\n",
    "        elif bi[mid] < a:\n",
    "            l = mid+1\n",
    "        else:\n",
    "            return mid\n",
    "        \n",
    "    return -1\n",
    "\n",
    "\n",
    "bi = [i for i in range(10)]\n",
    "l = 0\n",
    "r = len(bi)-1\n",
    "a = 9\n",
    "print(bi)\n",
    "binary_search(a, bi, l, r)"
   ]
  },
  {
   "cell_type": "code",
   "execution_count": 46,
   "metadata": {},
   "outputs": [
    {
     "name": "stdout",
     "output_type": "stream",
     "text": [
      "[0, 1, 2, 3, 4, 5, 6, 7, 8, 9]\n",
      "-1\n"
     ]
    }
   ],
   "source": [
    "bi = [i for i in range(10)]\n",
    "\n",
    "def bSear(a, bi, l=0, r=len(bi)-1):\n",
    "    if l <= r:      \n",
    "        mid = (l+r)//2\n",
    "        if bi[mid] < a:\n",
    "            return bSear(a, bi, mid+1, r)\n",
    "        elif bi[mid] > a:\n",
    "            return bSear(a, bi, l, mid-1)\n",
    "        else:\n",
    "            return mid\n",
    "    else:   \n",
    "        return -1\n",
    "    \n",
    "bi = [i for i in range(10)]\n",
    "l = 0\n",
    "r = len(bi)-1\n",
    "b = 0\n",
    "print(bi)\n",
    "f = bSear(b, bi, l, r)\n",
    "print(f)"
   ]
  },
  {
   "cell_type": "code",
   "execution_count": 226,
   "metadata": {},
   "outputs": [
    {
     "name": "stdout",
     "output_type": "stream",
     "text": [
      "{'ccc': ['ddd', 'eee', 'fff', 'aaa'], 'eee': ['ccc', 'ggg'], 'hhh': [], 'bbb': ['ddd', 'aaa'], 'aaa': ['bbb', 'ccc'], 'fff': ['ccc', 'hhh'], 'ggg': [], 'ddd': ['ccc', 'bbb']}\n",
      "ccc 0\n",
      "ddd 3\n",
      "eee 4\n",
      "fff 4\n",
      "aaa 4\n",
      "ccc 3\n",
      "bbb 2\n",
      "ggg 1\n",
      "hhh 0\n",
      "ddd -1\n",
      "ccc -1\n",
      "eee -1\n",
      "fff -1\n",
      "hhh -1\n",
      "ddd -1\n",
      "bbb -1\n",
      "eee -1\n",
      "ggg -1\n",
      "fff -1\n",
      "hhh -1\n"
     ]
    },
    {
     "data": {
      "text/plain": [
       "[['aaa', 'bbb', 'ddd', 'ccc', 'eee'],\n",
       " ['aaa', 'bbb', 'ddd', 'fff', 'hhh'],\n",
       " ['aaa', 'ccc', 'ddd', 'eee', 'ggg'],\n",
       " ['aaa', 'ccc', 'ddd', 'fff', 'hhh']]"
      ]
     },
     "execution_count": 226,
     "metadata": {},
     "output_type": "execute_result"
    }
   ],
   "source": [
    "nodes = ['aaa', 'bbb', 'ccc', 'ddd', 'eee', 'fff', 'ggg', 'hhh']\n",
    "inp = ['aaa', 'bbx', 'ddd', 'ccc', 'eee']\n",
    "\n",
    "graph = {}\n",
    "\n",
    "for node in nodes:\n",
    "    graph[node] = []\n",
    "    \n",
    "graph['aaa'].append('bbb')\n",
    "graph['aaa'].append('ccc')\n",
    "graph['bbb'].append('ddd')\n",
    "graph['ccc'].append('ddd')\n",
    "graph['ccc'].append('eee')\n",
    "graph['ccc'].append('fff')\n",
    "\n",
    "graph['ddd'].append('ccc')\n",
    "graph['ddd'].append('bbb')\n",
    "graph['bbb'].append('aaa')\n",
    "graph['ccc'].append('aaa')\n",
    "graph['eee'].append('ccc')\n",
    "graph['eee'].append('ggg')\n",
    "graph['fff'].append('ccc')\n",
    "graph['fff'].append('hhh')\n",
    "\n",
    "print(graph)\n",
    "\n",
    "l = []\n",
    "l.append(list(graph.keys())[0])\n",
    "index = -1\n",
    "visited = [False for i in range(len(nodes))]\n",
    "\n",
    "def dfs(graph, node, length, inp_len, visited, lis1, lis2):\n",
    "\n",
    "        \n",
    "    lis1.append(node)\n",
    "    visited[nodes.index(node)] = True\n",
    "    \n",
    "    if len(lis1) >= inp_len:\n",
    "        l = list(lis1)\n",
    "        lis2.append(l)\n",
    "        lis1.pop()\n",
    "        return\n",
    "    \n",
    "    for city in graph[node]:\n",
    "        if visited[nodes.index(city)] is False:\n",
    "            print(city, -1)\n",
    "            dfs(graph, city, length+1, inp_len, visited, lis1, lis2)\n",
    "            \n",
    "            if graph[node].index(city) < len(graph[node])-1:\n",
    "                lis1.pop()\n",
    "            \n",
    "        \n",
    "#bfs\n",
    "while len(l):\n",
    "    city = l.pop(0)\n",
    "    \n",
    "    print(city, len(l))\n",
    "\n",
    "    for neighbour in graph[city]:\n",
    "        k1 = nodes.index(neighbour)\n",
    "        if not visited[k1]:\n",
    "            l.append(neighbour)\n",
    "            visited[k1] = True\n",
    "            \n",
    "\n",
    "node = inp[0]\n",
    "visited = [False for i in range(len(nodes))]\n",
    "lis3 = []\n",
    "lis2 = []\n",
    "for node in graph[inp[0]]:\n",
    "    visited = [False for i in range(len(nodes))]\n",
    "    lis1 = []\n",
    "    lis1.append(inp[0])\n",
    "    length = 1\n",
    "    visited[nodes.index(inp[0])] = True\n",
    "    dfs(graph, node, length, len(inp), visited, lis1, lis2)\n",
    "    \n",
    "lis2"
   ]
  },
  {
   "cell_type": "code",
   "execution_count": 119,
   "metadata": {},
   "outputs": [
    {
     "data": {
      "text/plain": [
       "{'aaa': ['bbb', 'ccc'],\n",
       " 'bbb': ['ddd', 'aaa'],\n",
       " 'ccc': ['ddd', 'eee', 'fff', 'aaa'],\n",
       " 'ddd': ['ccc', 'bbb'],\n",
       " 'eee': ['ccc'],\n",
       " 'fff': ['ccc']}"
      ]
     },
     "execution_count": 119,
     "metadata": {},
     "output_type": "execute_result"
    }
   ],
   "source": [
    "graph"
   ]
  },
  {
   "cell_type": "code",
   "execution_count": 178,
   "metadata": {},
   "outputs": [
    {
     "data": {
      "text/plain": [
       "{'aaa': False,\n",
       " 'bbb': False,\n",
       " 'ccc': False,\n",
       " 'ddd': False,\n",
       " 'eee': False,\n",
       " 'fff': False}"
      ]
     },
     "execution_count": 178,
     "metadata": {},
     "output_type": "execute_result"
    }
   ],
   "source": [
    "visited = {i:False for i in nodes}\n",
    "visited"
   ]
  },
  {
   "cell_type": "code",
   "execution_count": 17,
   "metadata": {},
   "outputs": [
    {
     "data": {
      "text/plain": [
       "{'aaa': ['bbb', 'ccc'],\n",
       " 'bbb': ['ddd', 'aaa'],\n",
       " 'ccc': ['ddd', 'eee', 'fff', 'aaa'],\n",
       " 'ddd': ['ccc', 'bbb'],\n",
       " 'eee': ['ccc'],\n",
       " 'fff': ['ccc']}"
      ]
     },
     "execution_count": 17,
     "metadata": {},
     "output_type": "execute_result"
    }
   ],
   "source": [
    "nodes = ['aaa', 'bbb', 'ccc', 'ddd', 'eee', 'fff']\n",
    "inp = ['aaa', 'bbx', 'ddd', 'ccc']\n",
    "\n",
    "graph = {}\n",
    "\n",
    "for node in nodes:\n",
    "    graph[node] = []\n",
    "    \n",
    "graph['aaa'].append('bbb')\n",
    "graph['aaa'].append('ccc')\n",
    "graph['bbb'].append('ddd')\n",
    "graph['ccc'].append('ddd')\n",
    "graph['ccc'].append('eee')\n",
    "graph['ccc'].append('fff')\n",
    "\n",
    "graph['ddd'].append('ccc')\n",
    "graph['ddd'].append('bbb')\n",
    "graph['bbb'].append('aaa')\n",
    "graph['ccc'].append('aaa')\n",
    "graph['eee'].append('ccc')\n",
    "graph['fff'].append('ccc')\n",
    "\n",
    "graph"
   ]
  },
  {
   "cell_type": "code",
   "execution_count": 18,
   "metadata": {},
   "outputs": [
    {
     "name": "stdout",
     "output_type": "stream",
     "text": [
      "aaa\n",
      "bbb\n",
      "ddd\n",
      "ccc\n",
      "eee\n",
      "fff\n"
     ]
    },
    {
     "data": {
      "text/plain": [
       "[['aaa', 'bbb', 'ddd', 'ccc'],\n",
       " ['aaa', 'bbb', 'ddd', 'eee'],\n",
       " ['aaa', 'bbb', 'ddd'],\n",
       " ['aaa', 'bbb', 'fff'],\n",
       " ['aaa', 'bbb'],\n",
       " ['aaa'],\n",
       " [],\n",
       " [],\n",
       " [],\n",
       " [],\n",
       " [],\n",
       " []]"
      ]
     },
     "execution_count": 18,
     "metadata": {},
     "output_type": "execute_result"
    }
   ],
   "source": [
    "\n",
    "def dfs(graph, node, visited, lis1, lis2):\n",
    "    print(node)\n",
    "    lis1.append(node)\n",
    "    visited[node] = True\n",
    "    \n",
    "    for nnode in graph[node]:\n",
    "        if visited[nnode] == False:\n",
    "            dfs(graph, nnode, visited, lis1, lis2)\n",
    "       \n",
    "        l = list(lis1)\n",
    "        lis2.append(l)\n",
    "        if lis1:\n",
    "            lis1.pop()\n",
    "    \n",
    "lis1 = []\n",
    "lis2 = []\n",
    "visited = {i:False for i in nodes}\n",
    "dfs(graph, 'aaa', visited, lis1, lis2)\n",
    "lis2"
   ]
  },
  {
   "cell_type": "code",
   "execution_count": 18,
   "metadata": {},
   "outputs": [
    {
     "name": "stdout",
     "output_type": "stream",
     "text": [
      "[['bbb', 'ddd', 'ccc', 'eee'], ['bbb', 'ddd', 'ccc', 'fff'], ['bbb', 'ddd', 'ccc', 'aaa'], ['bbb', 'aaa', 'ccc', 'ddd'], ['bbb', 'aaa', 'ccc', 'eee'], ['bbb', 'aaa', 'ccc', 'fff']]\n"
     ]
    }
   ],
   "source": [
    "nodes = ['aaa', 'bbb', 'ccc', 'ddd', 'eee', 'fff']\n",
    "inp = ['bbb', 'ddd', 'ccc']\n",
    "\n",
    "graph = {}\n",
    "\n",
    "for node in nodes:\n",
    "    graph[node] = []\n",
    "    \n",
    "graph['aaa'].append('bbb')\n",
    "graph['aaa'].append('ccc')\n",
    "graph['bbb'].append('ddd')\n",
    "graph['ccc'].append('ddd')\n",
    "graph['ccc'].append('eee')\n",
    "graph['ccc'].append('fff')\n",
    "\n",
    "graph['ddd'].append('ccc')\n",
    "graph['ddd'].append('bbb')\n",
    "graph['bbb'].append('aaa')\n",
    "graph['ccc'].append('aaa')\n",
    "graph['eee'].append('ccc')\n",
    "graph['fff'].append('ccc')\n",
    "\n",
    "\n",
    "def find_all_paths(graph, start, length, path =[], count = 0): \n",
    "    count1 = count + 1\n",
    "    path1 = path + [start]\n",
    "    \n",
    "    if count1 == length: \n",
    "        return [path1] \n",
    "     \n",
    "    paths = [] \n",
    "    for node in graph[start]: \n",
    "        if node not in path: \n",
    "            newpaths = find_all_paths(graph, node, length, path1, count1) \n",
    "            for newpath in newpaths: \n",
    "                paths.append(newpath) \n",
    "    return paths\n",
    "\n",
    "\n",
    "def search_and_find_paths(graph, start, end, inp):\n",
    "    \n",
    "    if start == end:\n",
    "        return find_all_paths(graph, end, len(inp))\n",
    "    \n",
    "    for node in graph[start]:\n",
    "        return search_and_find_paths(graph, node, end, inp)\n",
    "    \n",
    "    return []\n",
    "        \n",
    "#k = find_all_paths(graph, 'aaa', len(inp))\n",
    "k = search_and_find_paths(graph, 'aaa', 'bbb', inp)\n",
    "print(k)"
   ]
  },
  {
   "cell_type": "code",
   "execution_count": 9,
   "metadata": {},
   "outputs": [
    {
     "name": "stdout",
     "output_type": "stream",
     "text": [
      "3\n"
     ]
    },
    {
     "data": {
      "text/plain": [
       "['aaa', 'bbb', 'ddd', 'ccc']"
      ]
     },
     "execution_count": 9,
     "metadata": {},
     "output_type": "execute_result"
    }
   ],
   "source": [
    "count = 99999\n",
    "path = []\n",
    "for p in k:\n",
    "    co = 0\n",
    "    \n",
    "    for i in range(len(inp)):\n",
    "        if inp[i] != p[i]:\n",
    "            ld = abs(len(inp[i])-len(p[i]))\n",
    "            co += ld\n",
    "            \n",
    "            for j in range(min(len(inp[i]),len(p[i]))):\n",
    "                if inp[i][j] != p[i][j]:\n",
    "                    co += 1\n",
    "            \n",
    "    if count > co:\n",
    "        count = co\n",
    "        path = p\n",
    "    \n",
    "print(count)\n",
    "path\n",
    "    "
   ]
  },
  {
   "cell_type": "code",
   "execution_count": 21,
   "metadata": {},
   "outputs": [
    {
     "data": {
      "text/plain": [
       "'abcd'"
      ]
     },
     "execution_count": 21,
     "metadata": {},
     "output_type": "execute_result"
    }
   ],
   "source": [
    "s = 'abcd'\n",
    "s[:2]+s[2:]"
   ]
  },
  {
   "cell_type": "code",
   "execution_count": 25,
   "metadata": {},
   "outputs": [
    {
     "data": {
      "text/plain": [
       "set()"
      ]
     },
     "execution_count": 25,
     "metadata": {},
     "output_type": "execute_result"
    }
   ],
   "source": [
    "animals = set()\n",
    "while 'cat' in  animals:\n",
    "    print('yes')\n",
    "    \n",
    "animals"
   ]
  },
  {
   "cell_type": "code",
   "execution_count": null,
   "metadata": {},
   "outputs": [],
   "source": [
    "    dic = set()\n",
    "    sum = 0\n",
    "    \n",
    "    for i in arr:\n",
    "        while i in dic:\n",
    "            i = i+1\n",
    "        dic.add(i)\n",
    "        sum += i\n",
    "        \n",
    "    print(dic)\n",
    "    return sum\n",
    "        "
   ]
  },
  {
   "cell_type": "code",
   "execution_count": null,
   "metadata": {},
   "outputs": [],
   "source": []
  },
  {
   "cell_type": "code",
   "execution_count": 28,
   "metadata": {},
   "outputs": [
    {
     "data": {
      "text/plain": [
       "3"
      ]
     },
     "execution_count": 28,
     "metadata": {},
     "output_type": "execute_result"
    }
   ],
   "source": [
    "mx = max(2, 3)"
   ]
  },
  {
   "cell_type": "code",
   "execution_count": 35,
   "metadata": {},
   "outputs": [
    {
     "data": {
      "text/plain": [
       "4950"
      ]
     },
     "execution_count": 35,
     "metadata": {},
     "output_type": "execute_result"
    }
   ],
   "source": [
    "arr = [i for i in range(100)]\n",
    "\n",
    "lis = [0]*5001\n",
    "mx = -1\n",
    "\n",
    "for x in arr:\n",
    "    lis[x] += 1\n",
    "    mx = max(mx, x)\n",
    "\n",
    "i = 0\n",
    "sum = 0\n",
    "count = 0\n",
    "\n",
    "while i <= mx or count != 0:\n",
    "    count += lis[i]\n",
    "    if count > 0:\n",
    "        sum += i\n",
    "        count -= 1  \n",
    "\n",
    "    i+=1 \n",
    "\n",
    "sum"
   ]
  },
  {
   "cell_type": "code",
   "execution_count": 40,
   "metadata": {},
   "outputs": [
    {
     "data": {
      "text/plain": [
       "(3, 4, 2)"
      ]
     },
     "execution_count": 40,
     "metadata": {},
     "output_type": "execute_result"
    }
   ],
   "source": [
    "import numpy as np\n",
    "import random\n",
    "\n",
    "a = np.random.randn(3,4,1)\n",
    "b = np.random.randn(3,1,2)\n",
    "c = np.random.randn(3,1,1)\n",
    "d = c+a*b\n",
    "d.shape"
   ]
  },
  {
   "cell_type": "code",
   "execution_count": 42,
   "metadata": {},
   "outputs": [
    {
     "data": {
      "text/plain": [
       "1.0"
      ]
     },
     "execution_count": 42,
     "metadata": {},
     "output_type": "execute_result"
    }
   ],
   "source": [
    "k = np.ceil(100/128)\n",
    "k"
   ]
  },
  {
   "cell_type": "code",
   "execution_count": 43,
   "metadata": {},
   "outputs": [
    {
     "data": {
      "text/plain": [
       "1"
      ]
     },
     "execution_count": 43,
     "metadata": {},
     "output_type": "execute_result"
    }
   ],
   "source": [
    "316%3"
   ]
  },
  {
   "cell_type": "code",
   "execution_count": 44,
   "metadata": {},
   "outputs": [
    {
     "data": {
      "text/plain": [
       "[1, 33, 4, 4]"
      ]
     },
     "execution_count": 44,
     "metadata": {},
     "output_type": "execute_result"
    }
   ],
   "source": [
    "l1 = [1,2,33,4,4]\n",
    "l2 = [3,4,1,1,33]\n",
    "\n",
    "out = [i for i in l1 if i in l2]\n",
    "out"
   ]
  },
  {
   "cell_type": "code",
   "execution_count": 45,
   "metadata": {},
   "outputs": [
    {
     "data": {
      "text/plain": [
       "[33, 1, 1, 4, 3]"
      ]
     },
     "execution_count": 45,
     "metadata": {},
     "output_type": "execute_result"
    }
   ],
   "source": [
    "l2 = [3,4,1,1,33]\n",
    "l2[::-1]"
   ]
  },
  {
   "cell_type": "code",
   "execution_count": 46,
   "metadata": {},
   "outputs": [],
   "source": [
    "k = [i for i in range(4)]"
   ]
  },
  {
   "cell_type": "code",
   "execution_count": 47,
   "metadata": {},
   "outputs": [
    {
     "data": {
      "text/plain": [
       "[0, 1, 2, 3]"
      ]
     },
     "execution_count": 47,
     "metadata": {},
     "output_type": "execute_result"
    }
   ],
   "source": [
    "k"
   ]
  },
  {
   "cell_type": "code",
   "execution_count": 88,
   "metadata": {},
   "outputs": [
    {
     "data": {
      "text/plain": [
       "[[1, 0], [1, 3], [3, 4]]"
      ]
     },
     "execution_count": 88,
     "metadata": {},
     "output_type": "execute_result"
    }
   ],
   "source": [
    "n = 3\n",
    "al = [[1,0], [3,4], [1,3], [4,5], [3,6]]\n",
    "lis_min = []\n",
    "n = 3\n",
    "for i in range(n):\n",
    "    mn = 9999\n",
    "    min_c = []\n",
    "    \n",
    "    for c in al:\n",
    "        k = c[0]**2 + c[1]**2\n",
    "        \n",
    "        if mn > k and c not in lis_min:\n",
    "            mn = k\n",
    "            min_c = c\n",
    "            \n",
    "    lis_min.append(min_c)\n",
    "    \n",
    "lis_min"
   ]
  },
  {
   "cell_type": "code",
   "execution_count": 56,
   "metadata": {},
   "outputs": [
    {
     "name": "stdout",
     "output_type": "stream",
     "text": [
      "<class 'tuple'>\n"
     ]
    }
   ],
   "source": [
    "t = (5, 6)        # Create a tuple\n",
    "print(type(t))"
   ]
  },
  {
   "cell_type": "code",
   "execution_count": 78,
   "metadata": {},
   "outputs": [
    {
     "data": {
      "text/plain": [
       "[[1, 3], [1, 3], [1, 3]]"
      ]
     },
     "execution_count": 78,
     "metadata": {},
     "output_type": "execute_result"
    }
   ],
   "source": [
    "al = [[1,3], [2,3], [3,4], [3,4]]\n",
    "n = 3\n",
    "lis_min = []\n",
    "for i in range(n):\n",
    "    mn = 9999\n",
    "    min_c = []\n",
    "    \n",
    "    for c in al:\n",
    "        \n",
    "        k = c[0]**2 + c[1]**2\n",
    "        \n",
    "        if mn > k:\n",
    "            mn = k\n",
    "            min_c = c\n",
    "            \n",
    "    lis_min.append(min_c)\n",
    "    \n",
    "lis_min"
   ]
  },
  {
   "cell_type": "code",
   "execution_count": null,
   "metadata": {},
   "outputs": [],
   "source": []
  },
  {
   "cell_type": "code",
   "execution_count": 82,
   "metadata": {},
   "outputs": [
    {
     "data": {
      "text/plain": [
       "[[1, 3], [2, 3], [3, 4]]"
      ]
     },
     "execution_count": 82,
     "metadata": {},
     "output_type": "execute_result"
    }
   ],
   "source": [
    "al = [[1,3], [2,3], [3,4], [3,4]]\n",
    "n = 3\n",
    "lis_min = []\n",
    "for i in range(n):\n",
    "    mn = 9999\n",
    "    min_c = []\n",
    "    \n",
    "    for c in al:\n",
    "        \n",
    "        k = c[0]**2 + c[1]**2\n",
    "        \n",
    "        if mn > k and c not in lis_min:\n",
    "            mn = k\n",
    "            min_c = c\n",
    "            \n",
    "    lis_min.append(min_c)\n",
    "    \n",
    "lis_min"
   ]
  },
  {
   "cell_type": "code",
   "execution_count": 89,
   "metadata": {},
   "outputs": [
    {
     "data": {
      "text/plain": [
       "5"
      ]
     },
     "execution_count": 89,
     "metadata": {},
     "output_type": "execute_result"
    }
   ],
   "source": [
    "t = (5, 6) \n",
    "t[0]"
   ]
  },
  {
   "cell_type": "code",
   "execution_count": 5,
   "metadata": {},
   "outputs": [
    {
     "data": {
      "text/plain": [
       "[5, 2, 7, 3, 1, 0, 4]"
      ]
     },
     "execution_count": 5,
     "metadata": {},
     "output_type": "execute_result"
    }
   ],
   "source": [
    "lis1 = [5,2,7,3,1,0,4]\n",
    "lis2 = [2,3,1,0,4,5,7]\n",
    "\n",
    "out = []\n",
    "for i in lis1:\n",
    "    for j in lis2:\n",
    "        if i == j:\n",
    "            out.append(j)\n",
    "            \n",
    "out"
   ]
  },
  {
   "cell_type": "code",
   "execution_count": 13,
   "metadata": {},
   "outputs": [
    {
     "name": "stdout",
     "output_type": "stream",
     "text": [
      "[1, 5, 5, 6, 7, 7, 8, 9, 10, 10] None\n"
     ]
    }
   ],
   "source": [
    "\n",
    "def quick(lis1, l, r, k):\n",
    "    if k < 0 or k >= len(lis1):\n",
    "        return None\n",
    "    \n",
    "    if l < r:\n",
    "        pivot = lis1[r]\n",
    "        index = partition(lis1, pivot, l, r)\n",
    "\n",
    "        if index > k:\n",
    "            return quick(lis1, l, index-1, k)\n",
    "        elif index < k:\n",
    "            return quick(lis1, index+1, r, k)\n",
    "        else:\n",
    "            return lis1[index]\n",
    "    \n",
    "    return None\n",
    "\n",
    "def partition(lis1, pivot, l, r):\n",
    "    i = l\n",
    "    j = r\n",
    "    \n",
    "    while i<j:\n",
    "        \n",
    "        while i < r and lis1[i] <= pivot:\n",
    "            i+=1\n",
    "        while j > l and lis1[j] >= pivot:\n",
    "            j-=1\n",
    "\n",
    "        if i<j:\n",
    "            lis1[i], lis1[j] = lis1[j], lis1[i]\n",
    "     \n",
    "    \n",
    "    lis1[i],lis1[r] = lis1[r], lis1[i]\n",
    "    \n",
    "    return i\n",
    "        \n",
    "k = 5\n",
    "lis1 = [random.randint(0,10) for i in range(10)]\n",
    "kv = quick(lis1, 0, len(lis1)-1, len(lis1)-k)\n",
    "print(lis1, kv)"
   ]
  },
  {
   "cell_type": "markdown",
   "metadata": {},
   "source": [
    " "
   ]
  },
  {
   "cell_type": "code",
   "execution_count": 20,
   "metadata": {},
   "outputs": [
    {
     "name": "stdout",
     "output_type": "stream",
     "text": [
      "5 6 4 7\n",
      "1 3 1 4\n",
      "4 3 7 3\n",
      "3 2 7 2\n",
      "[1, 2, 7, 3, 5, 0, 4] [0, 4, 1, 2, 3, 7, 5]\n"
     ]
    }
   ],
   "source": []
  },
  {
   "cell_type": "code",
   "execution_count": null,
   "metadata": {},
   "outputs": [],
   "source": []
  },
  {
   "cell_type": "code",
   "execution_count": 34,
   "metadata": {},
   "outputs": [
    {
     "ename": "ImportError",
     "evalue": "No module named 'uniform'",
     "output_type": "error",
     "traceback": [
      "\u001b[0;31m---------------------------------------------------------------------------\u001b[0m",
      "\u001b[0;31mImportError\u001b[0m                               Traceback (most recent call last)",
      "\u001b[0;32m<ipython-input-34-abbb35f986cf>\u001b[0m in \u001b[0;36m<module>\u001b[0;34m()\u001b[0m\n\u001b[0;32m----> 1\u001b[0;31m \u001b[0;32mimport\u001b[0m \u001b[0muniform\u001b[0m\u001b[0;34m\u001b[0m\u001b[0m\n\u001b[0m\u001b[1;32m      2\u001b[0m \u001b[0muniform\u001b[0m\u001b[0;34m(\u001b[0m\u001b[0;34m-\u001b[0m\u001b[0;36m5\u001b[0m\u001b[0;34m,\u001b[0m\u001b[0;36m5\u001b[0m\u001b[0;34m)\u001b[0m\u001b[0;34m\u001b[0m\u001b[0m\n",
      "\u001b[0;31mImportError\u001b[0m: No module named 'uniform'"
     ]
    }
   ],
   "source": [
    "import uniform\n",
    "uniform(-5,5)"
   ]
  },
  {
   "cell_type": "code",
   "execution_count": 35,
   "metadata": {},
   "outputs": [
    {
     "data": {
      "text/plain": [
       "1"
      ]
     },
     "execution_count": 35,
     "metadata": {},
     "output_type": "execute_result"
    }
   ],
   "source": [
    "k = [[]]\n",
    "len(k)"
   ]
  },
  {
   "cell_type": "code",
   "execution_count": 38,
   "metadata": {},
   "outputs": [
    {
     "name": "stdout",
     "output_type": "stream",
     "text": [
      "0 0\n",
      "<class 'int'>\n",
      "1 0\n",
      "<class 'int'>\n"
     ]
    },
    {
     "ename": "TypeError",
     "evalue": "'int' object is not subscriptable",
     "output_type": "error",
     "traceback": [
      "\u001b[0;31m---------------------------------------------------------------------------\u001b[0m",
      "\u001b[0;31mTypeError\u001b[0m                                 Traceback (most recent call last)",
      "\u001b[0;32m<ipython-input-38-07c35306adb2>\u001b[0m in \u001b[0;36m<module>\u001b[0;34m()\u001b[0m\n\u001b[1;32m     35\u001b[0m \u001b[0ml\u001b[0m \u001b[0;34m=\u001b[0m \u001b[0;36m0\u001b[0m\u001b[0;34m\u001b[0m\u001b[0m\n\u001b[1;32m     36\u001b[0m \u001b[0mr\u001b[0m \u001b[0;34m=\u001b[0m \u001b[0;36m0\u001b[0m\u001b[0;34m\u001b[0m\u001b[0m\n\u001b[0;32m---> 37\u001b[0;31m \u001b[0mspath\u001b[0m\u001b[0;34m(\u001b[0m\u001b[0marea\u001b[0m\u001b[0;34m,\u001b[0m\u001b[0ml\u001b[0m\u001b[0;34m,\u001b[0m\u001b[0mr\u001b[0m\u001b[0;34m,\u001b[0m \u001b[0mmdis\u001b[0m\u001b[0;34m,\u001b[0m \u001b[0mcheck1\u001b[0m\u001b[0;34m)\u001b[0m\u001b[0;34m\u001b[0m\u001b[0m\n\u001b[0m\u001b[1;32m     38\u001b[0m \u001b[0mprint\u001b[0m\u001b[0;34m(\u001b[0m\u001b[0mk\u001b[0m\u001b[0;34m)\u001b[0m\u001b[0;34m\u001b[0m\u001b[0m\n\u001b[1;32m     39\u001b[0m \u001b[0mprint\u001b[0m\u001b[0;34m(\u001b[0m\u001b[0mmdis\u001b[0m\u001b[0;34m)\u001b[0m\u001b[0;34m\u001b[0m\u001b[0m\n",
      "\u001b[0;32m<ipython-input-38-07c35306adb2>\u001b[0m in \u001b[0;36mspath\u001b[0;34m(area, l, r, mdis, check, dist)\u001b[0m\n\u001b[1;32m     21\u001b[0m         \u001b[0ml1\u001b[0m \u001b[0;34m=\u001b[0m \u001b[0ml\u001b[0m\u001b[0;34m+\u001b[0m\u001b[0;36m1\u001b[0m\u001b[0;34m\u001b[0m\u001b[0m\n\u001b[1;32m     22\u001b[0m         \u001b[0mr1\u001b[0m \u001b[0;34m=\u001b[0m \u001b[0mr\u001b[0m\u001b[0;34m\u001b[0m\u001b[0m\n\u001b[0;32m---> 23\u001b[0;31m         \u001b[0mspath\u001b[0m\u001b[0;34m(\u001b[0m\u001b[0marea\u001b[0m\u001b[0;34m,\u001b[0m \u001b[0ml1\u001b[0m\u001b[0;34m,\u001b[0m \u001b[0mr1\u001b[0m\u001b[0;34m,\u001b[0m \u001b[0mmdis\u001b[0m\u001b[0;34m,\u001b[0m \u001b[0mdist\u001b[0m\u001b[0;34m+\u001b[0m\u001b[0;36m1\u001b[0m\u001b[0;34m,\u001b[0m \u001b[0mcheck\u001b[0m\u001b[0;34m)\u001b[0m\u001b[0;34m\u001b[0m\u001b[0m\n\u001b[0m\u001b[1;32m     24\u001b[0m     \u001b[0;32mif\u001b[0m \u001b[0mr\u001b[0m\u001b[0;34m+\u001b[0m\u001b[0;36m1\u001b[0m \u001b[0;34m<\u001b[0m \u001b[0mlen\u001b[0m\u001b[0;34m(\u001b[0m\u001b[0marea\u001b[0m\u001b[0;34m[\u001b[0m\u001b[0;36m0\u001b[0m\u001b[0;34m]\u001b[0m\u001b[0;34m)\u001b[0m \u001b[0;32mand\u001b[0m \u001b[0mcheck\u001b[0m\u001b[0;34m[\u001b[0m\u001b[0ml\u001b[0m\u001b[0;34m]\u001b[0m\u001b[0;34m[\u001b[0m\u001b[0mr\u001b[0m\u001b[0;34m+\u001b[0m\u001b[0;36m1\u001b[0m\u001b[0;34m]\u001b[0m \u001b[0;32mis\u001b[0m \u001b[0;32mFalse\u001b[0m \u001b[0;32mand\u001b[0m \u001b[0;34m(\u001b[0m\u001b[0marea\u001b[0m\u001b[0;34m[\u001b[0m\u001b[0ml\u001b[0m\u001b[0;34m]\u001b[0m\u001b[0;34m[\u001b[0m\u001b[0mr\u001b[0m\u001b[0;34m+\u001b[0m\u001b[0;36m1\u001b[0m\u001b[0;34m]\u001b[0m \u001b[0;34m==\u001b[0m \u001b[0;36m1\u001b[0m \u001b[0;32mor\u001b[0m \u001b[0marea\u001b[0m\u001b[0;34m[\u001b[0m\u001b[0ml\u001b[0m\u001b[0;34m]\u001b[0m\u001b[0;34m[\u001b[0m\u001b[0mr\u001b[0m\u001b[0;34m+\u001b[0m\u001b[0;36m1\u001b[0m\u001b[0;34m]\u001b[0m \u001b[0;34m==\u001b[0m \u001b[0;36m9\u001b[0m\u001b[0;34m)\u001b[0m\u001b[0;34m:\u001b[0m\u001b[0;34m\u001b[0m\u001b[0m\n\u001b[1;32m     25\u001b[0m         \u001b[0mspath\u001b[0m\u001b[0;34m(\u001b[0m\u001b[0marea\u001b[0m\u001b[0;34m,\u001b[0m \u001b[0ml\u001b[0m\u001b[0;34m,\u001b[0m \u001b[0mr\u001b[0m\u001b[0;34m+\u001b[0m\u001b[0;36m1\u001b[0m\u001b[0;34m,\u001b[0m \u001b[0mmdis\u001b[0m\u001b[0;34m,\u001b[0m \u001b[0mdist\u001b[0m\u001b[0;34m+\u001b[0m\u001b[0;36m1\u001b[0m\u001b[0;34m,\u001b[0m \u001b[0mcheck\u001b[0m\u001b[0;34m)\u001b[0m\u001b[0;34m\u001b[0m\u001b[0m\n",
      "\u001b[0;32m<ipython-input-38-07c35306adb2>\u001b[0m in \u001b[0;36mspath\u001b[0;34m(area, l, r, mdis, check, dist)\u001b[0m\n\u001b[1;32m      6\u001b[0m     \u001b[0mprint\u001b[0m\u001b[0;34m(\u001b[0m\u001b[0ml\u001b[0m\u001b[0;34m,\u001b[0m \u001b[0mr\u001b[0m\u001b[0;34m)\u001b[0m\u001b[0;34m\u001b[0m\u001b[0m\n\u001b[1;32m      7\u001b[0m     \u001b[0mprint\u001b[0m\u001b[0;34m(\u001b[0m\u001b[0mtype\u001b[0m\u001b[0;34m(\u001b[0m\u001b[0ml\u001b[0m\u001b[0;34m)\u001b[0m\u001b[0;34m)\u001b[0m\u001b[0;34m\u001b[0m\u001b[0m\n\u001b[0;32m----> 8\u001b[0;31m     \u001b[0mcheck\u001b[0m\u001b[0;34m[\u001b[0m\u001b[0ml\u001b[0m\u001b[0;34m]\u001b[0m\u001b[0;34m[\u001b[0m\u001b[0mr\u001b[0m\u001b[0;34m]\u001b[0m \u001b[0;34m=\u001b[0m \u001b[0;32mTrue\u001b[0m\u001b[0;34m\u001b[0m\u001b[0m\n\u001b[0m\u001b[1;32m      9\u001b[0m     \u001b[0;31m#path = path + [l,r]\u001b[0m\u001b[0;34m\u001b[0m\u001b[0;34m\u001b[0m\u001b[0m\n\u001b[1;32m     10\u001b[0m     \u001b[0;32mif\u001b[0m \u001b[0marea\u001b[0m\u001b[0;34m[\u001b[0m\u001b[0ml\u001b[0m\u001b[0;34m]\u001b[0m\u001b[0;34m[\u001b[0m\u001b[0mr\u001b[0m\u001b[0;34m]\u001b[0m \u001b[0;34m==\u001b[0m \u001b[0;36m9\u001b[0m\u001b[0;34m:\u001b[0m\u001b[0;34m\u001b[0m\u001b[0m\n",
      "\u001b[0;31mTypeError\u001b[0m: 'int' object is not subscriptable"
     ]
    }
   ],
   "source": [
    "area = [[1,1,1,1,0], [1,1,0,1,1], [0,1,1,1,1], [0,1,9,1,0]]\n",
    "nr = 4\n",
    "nc = 5\n",
    "#find shortest path from leftmost node to 9 in matrix. You can travel on the 1's of matrix but not on 0's.\n",
    "def spath(area, l, r, mdis, check, dist=0):\n",
    "    print(l, r)\n",
    "    print(type(l))\n",
    "    check[l][r] = True\n",
    "    #path = path + [l,r]\n",
    "    if area[l][r] == 9:\n",
    "        if mdis > dist:\n",
    "            print('yes')\n",
    "            mdis = dist  \n",
    "        print('y')\n",
    "        return\n",
    "        #return [path]\n",
    "    \n",
    "#   paths = []\n",
    "\n",
    "    if l+1 < len(area) and check[l+1][r] is False and (area[l+1][r] == 1 or area[l+1][r] == 9):\n",
    "        l1 = l+1\n",
    "        r1 = r\n",
    "        spath(area, l1, r1, mdis, dist+1, check)\n",
    "    if r+1 < len(area[0]) and check[l][r+1] is False and (area[l][r+1] == 1 or area[l][r+1] == 9):\n",
    "        spath(area, l, r+1, mdis, dist+1, check)\n",
    "    if r-1 >= 0 and check[l][r-1] is False and (area[l][r-1] == 1 or area[l][r-1] == 9):\n",
    "        spath(area, l, r-1, mdis, dist+1, check)\n",
    "    if l-1 >= 0 and check[l-1][r] is False and (area[l-1][r] == 1 or area[l-1][r] == 9):\n",
    "        spath(area, l-1, r, mdis, dist+1, check)\n",
    "    \n",
    "    dist -= 1\n",
    "    check[l][r] \n",
    "    return\n",
    "\n",
    "mdis = 9999\n",
    "check1 = [[False for i in range(len(area[0]))] for j in range(len(area))]\n",
    "l = 0\n",
    "r = 0\n",
    "spath(area,l,r, mdis, check1)\n",
    "print(k)\n",
    "print(mdis)"
   ]
  },
  {
   "cell_type": "code",
   "execution_count": 45,
   "metadata": {},
   "outputs": [
    {
     "name": "stdout",
     "output_type": "stream",
     "text": [
      "{10, 3, 4, 20, -1}\n"
     ]
    },
    {
     "ename": "AttributeError",
     "evalue": "'set' object has no attribute 'popright'",
     "output_type": "error",
     "traceback": [
      "\u001b[0;31m---------------------------------------------------------------------------\u001b[0m",
      "\u001b[0;31mAttributeError\u001b[0m                            Traceback (most recent call last)",
      "\u001b[0;32m<ipython-input-45-783b9768cad8>\u001b[0m in \u001b[0;36m<module>\u001b[0;34m()\u001b[0m\n\u001b[1;32m      7\u001b[0m \u001b[0mk\u001b[0m\u001b[0;34m.\u001b[0m\u001b[0madd\u001b[0m\u001b[0;34m(\u001b[0m\u001b[0;36m20\u001b[0m\u001b[0;34m)\u001b[0m\u001b[0;34m\u001b[0m\u001b[0m\n\u001b[1;32m      8\u001b[0m \u001b[0mprint\u001b[0m\u001b[0;34m(\u001b[0m\u001b[0mk\u001b[0m\u001b[0;34m)\u001b[0m\u001b[0;34m\u001b[0m\u001b[0m\n\u001b[0;32m----> 9\u001b[0;31m \u001b[0mk\u001b[0m\u001b[0;34m.\u001b[0m\u001b[0mpopright\u001b[0m\u001b[0;34m(\u001b[0m\u001b[0;34m)\u001b[0m\u001b[0;34m\u001b[0m\u001b[0m\n\u001b[0m",
      "\u001b[0;31mAttributeError\u001b[0m: 'set' object has no attribute 'popright'"
     ]
    }
   ],
   "source": [
    "k = set()\n",
    "k.add(4)\n",
    "k.add(3)\n",
    "k.add(10)\n",
    "k.add(-1)\n",
    "k.add(20)\n",
    "k.add(20)\n",
    "print(k)\n",
    "k.popright()"
   ]
  },
  {
   "cell_type": "code",
   "execution_count": null,
   "metadata": {},
   "outputs": [],
   "source": [
    "S = list(S)\n",
    "i = 0\n",
    "while i < len(S)-1:\n",
    "    if S[i]+S[i+1] == 'AB' or S[i]+S[i+1] == 'BA' or S[i]+S[i+1] == 'AA':\n",
    "        S[i] = 'A'\n",
    "        del S[i+1]\n",
    "        i-=1\n",
    "        if i >= 0:\n",
    "            i -= 1\n",
    "    elif S[i]+S[i+1] == 'CB' or S[i]+S[i+1] == 'BC' or S[i]+S[i+1] == 'CC':\n",
    "        S[i] = 'C'\n",
    "        del S[i+1]\n",
    "        i-=1\n",
    "        if i >= 0:\n",
    "            i-=1\n",
    "    i+=1\n",
    "\n",
    "S1 = ''.join(S)\n",
    "return S1"
   ]
  },
  {
   "cell_type": "code",
   "execution_count": null,
   "metadata": {},
   "outputs": [],
   "source": [
    "# you can write to stdout for debugging purposes, e.g.\n",
    "# print(\"this is a debug message\")\n",
    "\n",
    "def solution(S):\n",
    "    # write your code in Python 3.6\n",
    "    \n",
    "    S = list(S)\n",
    "    i = 0\n",
    "    S1 = []\n",
    "    while i < len(S):\n",
    "        if len(S1) == 0:\n",
    "            if S[i] == 'A'or S[i] == 'C':\n",
    "                S1.append(S[i])\n",
    "        else:\n",
    "            if S1[-1] == 'C' and S[i] == 'A':\n",
    "                S1.append('A')\n",
    "            elif S1[-1] == 'A' and S[i] == 'C':\n",
    "                S1.append('C')\n",
    "        i+=1\n",
    "         \n",
    "    S1 = ''.join(S1)\n",
    "    return S1"
   ]
  },
  {
   "cell_type": "code",
   "execution_count": 46,
   "metadata": {},
   "outputs": [
    {
     "data": {
      "text/plain": [
       "10"
      ]
     },
     "execution_count": 46,
     "metadata": {},
     "output_type": "execute_result"
    }
   ],
   "source": [
    "S = '10101'\n",
    "hr = int(S[0]+S[1])\n",
    "hr"
   ]
  },
  {
   "cell_type": "code",
   "execution_count": null,
   "metadata": {},
   "outputs": [],
   "source": []
  }
 ],
 "metadata": {
  "kernelspec": {
   "display_name": "Python 3",
   "language": "python",
   "name": "python3"
  },
  "language_info": {
   "codemirror_mode": {
    "name": "ipython",
    "version": 3
   },
   "file_extension": ".py",
   "mimetype": "text/x-python",
   "name": "python",
   "nbconvert_exporter": "python",
   "pygments_lexer": "ipython3",
   "version": "3.5.5"
  }
 },
 "nbformat": 4,
 "nbformat_minor": 2
}
