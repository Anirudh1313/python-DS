{
 "cells": [
  {
   "cell_type": "code",
   "execution_count": 27,
   "metadata": {},
   "outputs": [
    {
     "data": {
      "text/plain": [
       "[0, 0, 1, 1]"
      ]
     },
     "execution_count": 27,
     "metadata": {},
     "output_type": "execute_result"
    }
   ],
   "source": [
    "#stairs sum min 2 should be in ascending order\n",
    "\n",
    "n = 4\n",
    "di = [0]*(n)\n",
    "for i in range(1,  n+1):\n",
    "    for j in range(i-1, (i-1)//2, -1):\n",
    "        if i-j<j:\n",
    "            di[i-1]+=di[i-j-1]+1\n",
    "        elif i-j==j:\n",
    "            di[i-1]+=di[i-j-1]\n",
    "            \n",
    "di"
   ]
  },
  {
   "cell_type": "code",
   "execution_count": null,
   "metadata": {},
   "outputs": [],
   "source": []
  },
  {
   "cell_type": "code",
   "execution_count": 55,
   "metadata": {},
   "outputs": [
    {
     "name": "stdout",
     "output_type": "stream",
     "text": [
      "layer 1\n",
      "   [0, 1, 2]\n",
      "\n",
      "layer 2\n",
      "   [0, 1, 2, 10, 11, 12, 20, 21, 22]\n",
      "\n",
      "layer 3\n",
      "   [0, 1, 2, 10, 11, 12, 20, 21, 22, 100, 101, 102, 110, 111, 112, 120, 121, 122, 200, 201, 202, 210, 211, 212, 220, 221, 222]\n",
      "\n"
     ]
    },
    {
     "data": {
      "text/plain": [
       "27"
      ]
     },
     "execution_count": 55,
     "metadata": {},
     "output_type": "execute_result"
    }
   ],
   "source": [
    "#iteratitive way of finding all the possible connection in a fully connected neural network\n",
    "\n",
    "0  0  0\n",
    "1  1  1\n",
    "2  2  2 \n",
    "\n",
    "#each neuron is connected all the neurons in its next layer\n",
    "\n",
    "N = 3\n",
    "K = 3\n",
    "\n",
    "def attach_single_digit_to_first_val(l):\n",
    "    sum = 0\n",
    "    for i in range(len(l)):\n",
    "        sum = sum*10**1 + l[i]\n",
    "        \n",
    "    return sum\n",
    "\n",
    "l = [0]\n",
    "\n",
    "for i in range(N):\n",
    "    print(\"layer\", i+1)\n",
    "    for k in range(len(l)):\n",
    "        for j in range(K):\n",
    "            l.append(attach_single_digit_to_first_val([l[0], j]))\n",
    "        l.pop(0)\n",
    "    \n",
    "    print(\"  \", l)\n",
    "    print(\"\")\n",
    "        \n",
    "\n",
    "len(l)  \n",
    "            \n"
   ]
  },
  {
   "cell_type": "code",
   "execution_count": 78,
   "metadata": {},
   "outputs": [
    {
     "name": "stdout",
     "output_type": "stream",
     "text": [
      "[3, 2, 2, 4, 4]\n",
      "[3, 2, 4, 2, 4]\n",
      "[3, 2, 4, 4, 2]\n",
      "[3, 4, 2, 2, 4]\n",
      "[3, 4, 2, 4, 2]\n",
      "[3, 4, 4, 2, 2]\n",
      "[2, 3, 2, 4, 4]\n",
      "[2, 3, 4, 2, 4]\n",
      "[2, 3, 4, 4, 2]\n",
      "[2, 2, 3, 4, 4]\n",
      "[2, 2, 4, 3, 4]\n",
      "[2, 2, 4, 4, 3]\n",
      "[2, 4, 3, 2, 4]\n",
      "[2, 4, 3, 4, 2]\n",
      "[2, 4, 2, 3, 4]\n",
      "[2, 4, 2, 4, 3]\n",
      "[2, 4, 4, 3, 2]\n",
      "[2, 4, 4, 2, 3]\n",
      "[4, 3, 2, 2, 4]\n",
      "[4, 3, 2, 4, 2]\n",
      "[4, 3, 4, 2, 2]\n",
      "[4, 2, 3, 2, 4]\n",
      "[4, 2, 3, 4, 2]\n",
      "[4, 2, 2, 3, 4]\n",
      "[4, 2, 2, 4, 3]\n",
      "[4, 2, 4, 3, 2]\n",
      "[4, 2, 4, 2, 3]\n",
      "[4, 4, 3, 2, 2]\n",
      "[4, 4, 2, 3, 2]\n",
      "[4, 4, 2, 2, 3]\n"
     ]
    },
    {
     "data": {
      "text/plain": [
       "[30]"
      ]
     },
     "execution_count": 78,
     "metadata": {},
     "output_type": "execute_result"
    }
   ],
   "source": [
    "l = [3,2,2,4,4]\n",
    "\n",
    "#permutations( no repetition )\n",
    "\n",
    "def isin(temp,prev_temp):\n",
    "    for l in prev_temp:\n",
    "        if temp == l:\n",
    "            return True\n",
    "    return False\n",
    "\n",
    "\n",
    "def per_nr(l,j,k,prev_temp,temp=[],ind=[]):\n",
    "    if j == len(l):\n",
    "        if not isin(temp,prev_temp):\n",
    "            prev_temp.append(list(temp))\n",
    "            k[0]+=1\n",
    "            print(temp)\n",
    "        return\n",
    "    \n",
    "    for i in range(len(l)):\n",
    "        if i not in ind:\n",
    "            temp.append(l[i])\n",
    "            ind.append(i)\n",
    "            per_nr(l, j+1,k,prev_temp, temp, ind)\n",
    "            \n",
    "            temp.pop()\n",
    "            ind.pop()\n",
    "            \n",
    "k = [0]\n",
    "prev_temp = []\n",
    "per_nr(l,0,k,prev_temp)\n",
    "k"
   ]
  },
  {
   "cell_type": "code",
   "execution_count": 63,
   "metadata": {},
   "outputs": [],
   "source": [
    "if [2,3,3,3] == [3,2,3,3]:\n",
    "    print(\"yes\")"
   ]
  },
  {
   "cell_type": "code",
   "execution_count": 82,
   "metadata": {},
   "outputs": [
    {
     "name": "stdout",
     "output_type": "stream",
     "text": [
      "[[0, 1, 7]]\n"
     ]
    }
   ],
   "source": [
    "graph = {}\n",
    "    \n",
    "#undirected_graph\n",
    "def add_edge(graph, parent, child):\n",
    "    if child in graph and parent in graph:\n",
    "        graph[parent].append(child)\n",
    "        graph[child].append(parent)\n",
    "    elif child in graph:\n",
    "        graph[child].append(parent)\n",
    "        graph[parent] = [child]\n",
    "    elif parent in graph:\n",
    "        graph[parent].append(child)\n",
    "        graph[child] = [parent]\n",
    "    else:\n",
    "        graph[child] = [parent]\n",
    "        graph[parent] = [child]\n",
    "        \n",
    "\n",
    "#directed_graph\n",
    "def add_edge_directed(graph, parent, child):\n",
    "    if child in graph and parent in graph:\n",
    "        graph[parent].append(child)\n",
    "    elif child in graph:\n",
    "        graph[parent] = [child]\n",
    "    elif parent in graph:\n",
    "        graph[parent].append(child)\n",
    "        graph[child] = []\n",
    "    else:\n",
    "        graph[child] = []\n",
    "        graph[parent] = [child]\n",
    "\n",
    "add_edge(graph, 0, 1)\n",
    "add_edge(graph, 0, 2)\n",
    "add_edge(graph, 0, 3)\n",
    "add_edge(graph, 2, 5)\n",
    "add_edge(graph, 3, 4)\n",
    "add_edge(graph, 4, 6)\n",
    "add_edge(graph, 6, 7)\n",
    "add_edge(graph, 1, 7)\n",
    "\n",
    "#returning the shortest path using dfs\n",
    "def shortest_path_using_minvar(graph, start, end, path_final, path = []):\n",
    "    path = path + [start]\n",
    "    \n",
    "    if start == end:\n",
    "        if path_final[0] == None or len(path_final) > len(path):\n",
    "            path_final.append(path)\n",
    "            path_final.pop(0)\n",
    "        return\n",
    "\n",
    "    for node in graph[start]:\n",
    "        if node not in path:\n",
    "            shortest_path_using_minvar(graph, node, end, path_final, path)\n",
    "            \n",
    "            \n",
    "path_final = [None]\n",
    "shortest_path_using_minvar(graph, 0, 7, path_final)\n",
    "print(path_final)\n",
    "\n"
   ]
  },
  {
   "cell_type": "code",
   "execution_count": 25,
   "metadata": {},
   "outputs": [
    {
     "data": {
      "text/plain": [
       "1.0"
      ]
     },
     "execution_count": 25,
     "metadata": {},
     "output_type": "execute_result"
    }
   ],
   "source": [
    "import math\n",
    "\n",
    "k = 1/(1+math.exp(-60))\n",
    "k"
   ]
  },
  {
   "cell_type": "code",
   "execution_count": null,
   "metadata": {},
   "outputs": [],
   "source": []
  }
 ],
 "metadata": {
  "kernelspec": {
   "display_name": "Python 3",
   "language": "python",
   "name": "python3"
  },
  "language_info": {
   "codemirror_mode": {
    "name": "ipython",
    "version": 3
   },
   "file_extension": ".py",
   "mimetype": "text/x-python",
   "name": "python",
   "nbconvert_exporter": "python",
   "pygments_lexer": "ipython3",
   "version": "3.5.5"
  }
 },
 "nbformat": 4,
 "nbformat_minor": 2
}
