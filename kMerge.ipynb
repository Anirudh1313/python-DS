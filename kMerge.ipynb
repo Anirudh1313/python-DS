{
 "cells": [
  {
   "cell_type": "code",
   "execution_count": null,
   "metadata": {},
   "outputs": [],
   "source": [
    "# Definition for singly-linked list.\n",
    "# class ListNode(object):\n",
    "#     def __init__(self, x):\n",
    "#         self.val = x\n",
    "#         self.next = None\n",
    "\n",
    "class Solution(object):\n",
    "    def mergeKLists(self, lists):\n",
    "        \"\"\"\n",
    "        :type lists: List[ListNode]\n",
    "        :rtype: ListNode\n",
    "        \"\"\"\n",
    "        temp_ptr = list(lists)\n",
    "   \n",
    "        if not len(lists):\n",
    "            return []\n",
    "        \n",
    "        k = ListNode(None)\n",
    "        k1 = k\n",
    "        \n",
    "        while len(temp_ptr):\n",
    "            mn = 9999\n",
    "            index = -1\n",
    "\n",
    "            i = 0\n",
    "            while i < len(temp_ptr):\n",
    "                if temp_ptr[i] != None:\n",
    "                    if mn > temp_ptr[i].val:\n",
    "                        mn = temp_ptr[i].val\n",
    "                        index = i\n",
    "                else:\n",
    "                    del temp_ptr[i]\n",
    "                    i -=1\n",
    "                i+=1\n",
    "\n",
    "            if index != -1:\n",
    "                if k.val == None:\n",
    "                    k.val = mn\n",
    "                else:\n",
    "                    k.next = ListNode(mn)\n",
    "                    k = k.next\n",
    "\n",
    "                if temp_ptr[index].next != None:\n",
    "                    temp_ptr[index] = temp_ptr[index].next\n",
    "                else:\n",
    "                    del temp_ptr[index]\n",
    "            else:\n",
    "                break\n",
    "                \n",
    "        if k1.val != None:\n",
    "            return k1\n",
    "        else:\n",
    "            return []\n",
    "\n",
    "                "
   ]
  }
 ],
 "metadata": {
  "kernelspec": {
   "display_name": "Python 3",
   "language": "python",
   "name": "python3"
  },
  "language_info": {
   "codemirror_mode": {
    "name": "ipython",
    "version": 3
   },
   "file_extension": ".py",
   "mimetype": "text/x-python",
   "name": "python",
   "nbconvert_exporter": "python",
   "pygments_lexer": "ipython3",
   "version": "3.5.5"
  }
 },
 "nbformat": 4,
 "nbformat_minor": 2
}
