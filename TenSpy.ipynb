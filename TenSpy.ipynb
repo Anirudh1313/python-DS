{
 "cells": [
  {
   "cell_type": "code",
   "execution_count": null,
   "metadata": {},
   "outputs": [],
   "source": [
    "\n"
   ]
  },
  {
   "cell_type": "code",
   "execution_count": null,
   "metadata": {},
   "outputs": [],
   "source": []
  },
  {
   "cell_type": "code",
   "execution_count": null,
   "metadata": {},
   "outputs": [],
   "source": []
  },
  {
   "cell_type": "code",
   "execution_count": null,
   "metadata": {},
   "outputs": [],
   "source": [
    "def ones(t):\n",
    "    l = len(t)\n",
    "    inp = 1\n",
    "    return build_ones(inp,l-1,t)\n",
    "    \n",
    "def build_ones(inp, j, t):\n",
    "    if j < 0:\n",
    "        return inp\n",
    "    \n",
    "    out = []\n",
    "    for i in range(t[j]):\n",
    "        out.append(inp)\n",
    "        \n",
    "    return build_ones(out,j-1,t)\n",
    "\n",
    "\n",
    "ones((1,1,1,1,1,1))"
   ]
  },
  {
   "cell_type": "code",
   "execution_count": null,
   "metadata": {},
   "outputs": [],
   "source": [
    "def reshape(inp, t):\n",
    "    \n",
    "    out_list, out_reshaped = [], []\n",
    "    build_list(inp, out_list)\n",
    "    \n",
    "    #print('list', out_list)\n",
    "    order = 1\n",
    "    for t1 in t:\n",
    "        order*=t1\n",
    "    assert len(out_list) == order, 'reshaping not possible due to tensor size mismatch'\n",
    "    \n",
    "    out_mat = reshape_tensor_from_list(out_list, t)\n",
    "    \n",
    "    return out_mat\n",
    "    \n",
    "def build_list(inp, out):\n",
    "    for j in inp:\n",
    "        if type(j) is list:\n",
    "            build_list(j, out)\n",
    "        else:\n",
    "            out.append(j)\n",
    "            \n",
    "def reshape_tensor_from_list(inp, t, j=0, ci=[0]):\n",
    "    out = []\n",
    "    for i in range(t[j]):\n",
    "        if j < len(t)-1:\n",
    "            out.append(reshape_tensor_from_list(inp, t, j+1, ci))\n",
    "        else:\n",
    "            out.append(inp[ci[0]])\n",
    "            ci[0]+=1\n",
    "            \n",
    "    return out\n",
    "\n",
    "on = ones((2,4,4))\n",
    "print(on)\n",
    "reshape(on, (2,2,8))"
   ]
  }
 ],
 "metadata": {
  "kernelspec": {
   "display_name": "Python 3",
   "language": "python",
   "name": "python3"
  },
  "language_info": {
   "codemirror_mode": {
    "name": "ipython",
    "version": 3
   },
   "file_extension": ".py",
   "mimetype": "text/x-python",
   "name": "python",
   "nbconvert_exporter": "python",
   "pygments_lexer": "ipython3",
   "version": "3.5.5"
  }
 },
 "nbformat": 4,
 "nbformat_minor": 2
}
